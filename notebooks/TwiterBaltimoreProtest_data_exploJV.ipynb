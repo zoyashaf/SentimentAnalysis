{
  "nbformat": 4,
  "nbformat_minor": 0,
  "metadata": {
    "colab": {
      "provenance": []
    },
    "kernelspec": {
      "name": "python3",
      "display_name": "Python 3"
    },
    "language_info": {
      "name": "python"
    },
    "accelerator": "TPU",
    "gpuClass": "standard"
  },
  "cells": [
    {
      "cell_type": "code",
      "source": [
        "import pandas as pd\n",
        "import seaborn as sns\n",
        "import matplotlib.pyplot as plt\n",
        "import numpy as np"
      ],
      "metadata": {
        "id": "HgzIfwBWhh5p"
      },
      "execution_count": 2,
      "outputs": []
    },
    {
      "cell_type": "code",
      "source": [
        "# data source https://osf.io/4qduj, https://osf.io/wqzmj/files/osfstorage"
      ],
      "metadata": {
        "id": "rjAqK-KZmn-C"
      },
      "execution_count": null,
      "outputs": []
    },
    {
      "cell_type": "markdown",
      "source": [
        "We propose that the risk of violence at protests can be estimated as a function of individual moralization and perceived moral convergence. Using data from the 2015 Baltimore protests, we find that not only did the rate of moral rhetoric on social media increase on days with violent protests, but also that the hourly frequency of morally relevant tweets predicted the future rates of arrest during protests, suggesting an association between moralization and protest violence. To understand the structure of this association, we ran a series of controlled behavioral experiments demonstrating that people are more likely to endorse violent protest for a given issue when they moralize the issue; however, this effect is moderated by the degree people believe others share their values. We discuss how online social networks may contribute to inflations of protest violence."
      ],
      "metadata": {
        "id": "MoP0prnfn4su"
      }
    },
    {
      "cell_type": "code",
      "execution_count": 3,
      "metadata": {
        "colab": {
          "base_uri": "https://localhost:8080/"
        },
        "id": "QogdOs1NZ3BM",
        "outputId": "ec05f26d-79b6-4f88-88f6-744bcc3d384d"
      },
      "outputs": [
        {
          "output_type": "stream",
          "name": "stdout",
          "text": [
            "Mounted at /content/gdrive/\n"
          ]
        }
      ],
      "source": [
        "import json\n",
        "\n",
        "# read file\n",
        "from google.colab import drive\n",
        "\n",
        "drive.mount('/content/gdrive/', force_remount=True)\n"
      ]
    },
    {
      "cell_type": "code",
      "source": [
        "!gdown --id \"1lYgpEtZGK9mKDlO_P5Edk6ejUwvjEJDL\" -O tweet_data.zip"
      ],
      "metadata": {
        "colab": {
          "base_uri": "https://localhost:8080/"
        },
        "id": "5kim7oyzebjz",
        "outputId": "7c2960d8-2832-4043-f66c-8aa6464145a6"
      },
      "execution_count": 4,
      "outputs": [
        {
          "output_type": "stream",
          "name": "stdout",
          "text": [
            "/usr/local/lib/python3.10/dist-packages/gdown/cli.py:121: FutureWarning: Option `--id` was deprecated in version 4.3.1 and will be removed in 5.0. You don't need to pass it anymore to use a file ID.\n",
            "  warnings.warn(\n",
            "Downloading...\n",
            "From: https://drive.google.com/uc?id=1lYgpEtZGK9mKDlO_P5Edk6ejUwvjEJDL\n",
            "To: /content/tweet_data.zip\n",
            "100% 982M/982M [00:09<00:00, 109MB/s]\n"
          ]
        }
      ]
    },
    {
      "cell_type": "code",
      "source": [
        "import zipfile\n",
        "#from StringIO import StringIO\n",
        "\n",
        "#zipdata = StringIO()\n",
        "#zipdata.write(tweet_data.zip)\n",
        "myzipfile = zipfile.ZipFile(\"tweet_data.zip\")\n",
        "print(myzipfile)\n"
      ],
      "metadata": {
        "colab": {
          "base_uri": "https://localhost:8080/"
        },
        "id": "aum-LeoDidB1",
        "outputId": "f232e2cd-7e38-4929-d2ed-cf309f422937"
      },
      "execution_count": 5,
      "outputs": [
        {
          "output_type": "stream",
          "name": "stdout",
          "text": [
            "<zipfile.ZipFile filename='tweet_data.zip' mode='r'>\n"
          ]
        }
      ]
    },
    {
      "cell_type": "code",
      "source": [
        "files = [myzipfile.open(file_name) for file_name in myzipfile.namelist()]\n",
        "files"
      ],
      "metadata": {
        "colab": {
          "base_uri": "https://localhost:8080/"
        },
        "id": "oFVAYIeDjLu4",
        "outputId": "89a7ff9d-2404-4a36-84eb-824fe930edee"
      },
      "execution_count": 6,
      "outputs": [
        {
          "output_type": "execute_result",
          "data": {
            "text/plain": [
              "[<zipfile.ZipExtFile name='data/' mode='r'>,\n",
              " <zipfile.ZipExtFile name='data/hour_level_data_for_protest_days.csv' mode='r' compress_type=deflate>,\n",
              " <zipfile.ZipExtFile name='data/complete_hour_level_data.csv' mode='r' compress_type=deflate>,\n",
              " <zipfile.ZipExtFile name='data/complete_tidy_tweet_data.csv' mode='r' compress_type=deflate>,\n",
              " <zipfile.ZipExtFile name='data/complete_day_level_data.csv' mode='r' compress_type=deflate>,\n",
              " <zipfile.ZipExtFile name='data/complete_raw_twitter_data.tsv' mode='r' compress_type=deflate>]"
            ]
          },
          "metadata": {},
          "execution_count": 6
        }
      ]
    },
    {
      "cell_type": "code",
      "source": [
        "foofile = myzipfile.open('data/complete_tidy_tweet_data.csv')\n"
      ],
      "metadata": {
        "id": "5USz5BVli6fx"
      },
      "execution_count": 7,
      "outputs": []
    },
    {
      "cell_type": "code",
      "source": [
        "type(foofile)"
      ],
      "metadata": {
        "colab": {
          "base_uri": "https://localhost:8080/"
        },
        "id": "KM2hQ6uXjKRs",
        "outputId": "aba235a1-698a-412e-f119-8f927b8a2360"
      },
      "execution_count": 8,
      "outputs": [
        {
          "output_type": "execute_result",
          "data": {
            "text/plain": [
              "zipfile.ZipExtFile"
            ]
          },
          "metadata": {},
          "execution_count": 8
        }
      ]
    },
    {
      "cell_type": "code",
      "source": [
        "#"
      ],
      "metadata": {
        "id": "dbe1jdjc3tnX"
      },
      "execution_count": null,
      "outputs": []
    },
    {
      "cell_type": "code",
      "source": [
        "#complete_tidy_tweet_data.csv\n",
        "df = pd.read_csv(myzipfile.open('data/complete_tidy_tweet_data.csv'))\n",
        "df.head()"
      ],
      "metadata": {
        "colab": {
          "base_uri": "https://localhost:8080/",
          "height": 290
        },
        "id": "CVCPJGNjfkCV",
        "outputId": "e3a43762-b1fe-49c8-ab30-33515a18f228"
      },
      "execution_count": 10,
      "outputs": [
        {
          "output_type": "execute_result",
          "data": {
            "text/plain": [
              "   Unnamed: 0                                             tId  \\\n",
              "0           1  tag:search.twitter.com,2005:592840219033993218   \n",
              "1           2  tag:search.twitter.com,2005:592839491280338945   \n",
              "2           3  tag:search.twitter.com,2005:592838251506962436   \n",
              "3           4  tag:search.twitter.com,2005:592840172498194433   \n",
              "4           5  tag:search.twitter.com,2005:592838924243959809   \n",
              "\n",
              "                         uId             unixTime  \\\n",
              "0  id:twitter.com:1469563057  2015-04-27 20:58:17   \n",
              "1   id:twitter.com:634755231  2015-04-27 20:55:23   \n",
              "2    id:twitter.com:36815939  2015-04-27 20:50:28   \n",
              "3   id:twitter.com:388659041  2015-04-27 20:58:06   \n",
              "4  id:twitter.com:2345458375  2015-04-27 20:53:08   \n",
              "\n",
              "                 hashtags_list       unixTimeHourly      unixTimeHourly2  \\\n",
              "0                          NaN  2015-04-27 20:58:17  2015-04-27 21:00:00   \n",
              "1                          NaN  2015-04-27 20:55:23  2015-04-27 21:00:00   \n",
              "2                          NaN  2015-04-27 20:50:28  2015-04-27 21:00:00   \n",
              "3  AllCrimeMatters FreddieGray  2015-04-27 20:58:06  2015-04-27 21:00:00   \n",
              "4                          NaN  2015-04-27 20:53:08  2015-04-27 21:00:00   \n",
              "\n",
              "          day  AS  CH  FC  LB  NM  PD  \n",
              "0  2015-04-27   0   0   0   0   0   0  \n",
              "1  2015-04-27   0   0   0   0   0   0  \n",
              "2  2015-04-27   1   0   0   1   0   0  \n",
              "3  2015-04-27   0   0   1   1   0   0  \n",
              "4  2015-04-27   0   0   0   0   0   0  "
            ],
            "text/html": [
              "\n",
              "  <div id=\"df-815f3ae0-adf6-4ac3-a1af-596d3ada55b1\">\n",
              "    <div class=\"colab-df-container\">\n",
              "      <div>\n",
              "<style scoped>\n",
              "    .dataframe tbody tr th:only-of-type {\n",
              "        vertical-align: middle;\n",
              "    }\n",
              "\n",
              "    .dataframe tbody tr th {\n",
              "        vertical-align: top;\n",
              "    }\n",
              "\n",
              "    .dataframe thead th {\n",
              "        text-align: right;\n",
              "    }\n",
              "</style>\n",
              "<table border=\"1\" class=\"dataframe\">\n",
              "  <thead>\n",
              "    <tr style=\"text-align: right;\">\n",
              "      <th></th>\n",
              "      <th>Unnamed: 0</th>\n",
              "      <th>tId</th>\n",
              "      <th>uId</th>\n",
              "      <th>unixTime</th>\n",
              "      <th>hashtags_list</th>\n",
              "      <th>unixTimeHourly</th>\n",
              "      <th>unixTimeHourly2</th>\n",
              "      <th>day</th>\n",
              "      <th>AS</th>\n",
              "      <th>CH</th>\n",
              "      <th>FC</th>\n",
              "      <th>LB</th>\n",
              "      <th>NM</th>\n",
              "      <th>PD</th>\n",
              "    </tr>\n",
              "  </thead>\n",
              "  <tbody>\n",
              "    <tr>\n",
              "      <th>0</th>\n",
              "      <td>1</td>\n",
              "      <td>tag:search.twitter.com,2005:592840219033993218</td>\n",
              "      <td>id:twitter.com:1469563057</td>\n",
              "      <td>2015-04-27 20:58:17</td>\n",
              "      <td>NaN</td>\n",
              "      <td>2015-04-27 20:58:17</td>\n",
              "      <td>2015-04-27 21:00:00</td>\n",
              "      <td>2015-04-27</td>\n",
              "      <td>0</td>\n",
              "      <td>0</td>\n",
              "      <td>0</td>\n",
              "      <td>0</td>\n",
              "      <td>0</td>\n",
              "      <td>0</td>\n",
              "    </tr>\n",
              "    <tr>\n",
              "      <th>1</th>\n",
              "      <td>2</td>\n",
              "      <td>tag:search.twitter.com,2005:592839491280338945</td>\n",
              "      <td>id:twitter.com:634755231</td>\n",
              "      <td>2015-04-27 20:55:23</td>\n",
              "      <td>NaN</td>\n",
              "      <td>2015-04-27 20:55:23</td>\n",
              "      <td>2015-04-27 21:00:00</td>\n",
              "      <td>2015-04-27</td>\n",
              "      <td>0</td>\n",
              "      <td>0</td>\n",
              "      <td>0</td>\n",
              "      <td>0</td>\n",
              "      <td>0</td>\n",
              "      <td>0</td>\n",
              "    </tr>\n",
              "    <tr>\n",
              "      <th>2</th>\n",
              "      <td>3</td>\n",
              "      <td>tag:search.twitter.com,2005:592838251506962436</td>\n",
              "      <td>id:twitter.com:36815939</td>\n",
              "      <td>2015-04-27 20:50:28</td>\n",
              "      <td>NaN</td>\n",
              "      <td>2015-04-27 20:50:28</td>\n",
              "      <td>2015-04-27 21:00:00</td>\n",
              "      <td>2015-04-27</td>\n",
              "      <td>1</td>\n",
              "      <td>0</td>\n",
              "      <td>0</td>\n",
              "      <td>1</td>\n",
              "      <td>0</td>\n",
              "      <td>0</td>\n",
              "    </tr>\n",
              "    <tr>\n",
              "      <th>3</th>\n",
              "      <td>4</td>\n",
              "      <td>tag:search.twitter.com,2005:592840172498194433</td>\n",
              "      <td>id:twitter.com:388659041</td>\n",
              "      <td>2015-04-27 20:58:06</td>\n",
              "      <td>AllCrimeMatters FreddieGray</td>\n",
              "      <td>2015-04-27 20:58:06</td>\n",
              "      <td>2015-04-27 21:00:00</td>\n",
              "      <td>2015-04-27</td>\n",
              "      <td>0</td>\n",
              "      <td>0</td>\n",
              "      <td>1</td>\n",
              "      <td>1</td>\n",
              "      <td>0</td>\n",
              "      <td>0</td>\n",
              "    </tr>\n",
              "    <tr>\n",
              "      <th>4</th>\n",
              "      <td>5</td>\n",
              "      <td>tag:search.twitter.com,2005:592838924243959809</td>\n",
              "      <td>id:twitter.com:2345458375</td>\n",
              "      <td>2015-04-27 20:53:08</td>\n",
              "      <td>NaN</td>\n",
              "      <td>2015-04-27 20:53:08</td>\n",
              "      <td>2015-04-27 21:00:00</td>\n",
              "      <td>2015-04-27</td>\n",
              "      <td>0</td>\n",
              "      <td>0</td>\n",
              "      <td>0</td>\n",
              "      <td>0</td>\n",
              "      <td>0</td>\n",
              "      <td>0</td>\n",
              "    </tr>\n",
              "  </tbody>\n",
              "</table>\n",
              "</div>\n",
              "      <button class=\"colab-df-convert\" onclick=\"convertToInteractive('df-815f3ae0-adf6-4ac3-a1af-596d3ada55b1')\"\n",
              "              title=\"Convert this dataframe to an interactive table.\"\n",
              "              style=\"display:none;\">\n",
              "        \n",
              "  <svg xmlns=\"http://www.w3.org/2000/svg\" height=\"24px\"viewBox=\"0 0 24 24\"\n",
              "       width=\"24px\">\n",
              "    <path d=\"M0 0h24v24H0V0z\" fill=\"none\"/>\n",
              "    <path d=\"M18.56 5.44l.94 2.06.94-2.06 2.06-.94-2.06-.94-.94-2.06-.94 2.06-2.06.94zm-11 1L8.5 8.5l.94-2.06 2.06-.94-2.06-.94L8.5 2.5l-.94 2.06-2.06.94zm10 10l.94 2.06.94-2.06 2.06-.94-2.06-.94-.94-2.06-.94 2.06-2.06.94z\"/><path d=\"M17.41 7.96l-1.37-1.37c-.4-.4-.92-.59-1.43-.59-.52 0-1.04.2-1.43.59L10.3 9.45l-7.72 7.72c-.78.78-.78 2.05 0 2.83L4 21.41c.39.39.9.59 1.41.59.51 0 1.02-.2 1.41-.59l7.78-7.78 2.81-2.81c.8-.78.8-2.07 0-2.86zM5.41 20L4 18.59l7.72-7.72 1.47 1.35L5.41 20z\"/>\n",
              "  </svg>\n",
              "      </button>\n",
              "      \n",
              "  <style>\n",
              "    .colab-df-container {\n",
              "      display:flex;\n",
              "      flex-wrap:wrap;\n",
              "      gap: 12px;\n",
              "    }\n",
              "\n",
              "    .colab-df-convert {\n",
              "      background-color: #E8F0FE;\n",
              "      border: none;\n",
              "      border-radius: 50%;\n",
              "      cursor: pointer;\n",
              "      display: none;\n",
              "      fill: #1967D2;\n",
              "      height: 32px;\n",
              "      padding: 0 0 0 0;\n",
              "      width: 32px;\n",
              "    }\n",
              "\n",
              "    .colab-df-convert:hover {\n",
              "      background-color: #E2EBFA;\n",
              "      box-shadow: 0px 1px 2px rgba(60, 64, 67, 0.3), 0px 1px 3px 1px rgba(60, 64, 67, 0.15);\n",
              "      fill: #174EA6;\n",
              "    }\n",
              "\n",
              "    [theme=dark] .colab-df-convert {\n",
              "      background-color: #3B4455;\n",
              "      fill: #D2E3FC;\n",
              "    }\n",
              "\n",
              "    [theme=dark] .colab-df-convert:hover {\n",
              "      background-color: #434B5C;\n",
              "      box-shadow: 0px 1px 3px 1px rgba(0, 0, 0, 0.15);\n",
              "      filter: drop-shadow(0px 1px 2px rgba(0, 0, 0, 0.3));\n",
              "      fill: #FFFFFF;\n",
              "    }\n",
              "  </style>\n",
              "\n",
              "      <script>\n",
              "        const buttonEl =\n",
              "          document.querySelector('#df-815f3ae0-adf6-4ac3-a1af-596d3ada55b1 button.colab-df-convert');\n",
              "        buttonEl.style.display =\n",
              "          google.colab.kernel.accessAllowed ? 'block' : 'none';\n",
              "\n",
              "        async function convertToInteractive(key) {\n",
              "          const element = document.querySelector('#df-815f3ae0-adf6-4ac3-a1af-596d3ada55b1');\n",
              "          const dataTable =\n",
              "            await google.colab.kernel.invokeFunction('convertToInteractive',\n",
              "                                                     [key], {});\n",
              "          if (!dataTable) return;\n",
              "\n",
              "          const docLinkHtml = 'Like what you see? Visit the ' +\n",
              "            '<a target=\"_blank\" href=https://colab.research.google.com/notebooks/data_table.ipynb>data table notebook</a>'\n",
              "            + ' to learn more about interactive tables.';\n",
              "          element.innerHTML = '';\n",
              "          dataTable['output_type'] = 'display_data';\n",
              "          await google.colab.output.renderOutput(dataTable, element);\n",
              "          const docLink = document.createElement('div');\n",
              "          docLink.innerHTML = docLinkHtml;\n",
              "          element.appendChild(docLink);\n",
              "        }\n",
              "      </script>\n",
              "    </div>\n",
              "  </div>\n",
              "  "
            ]
          },
          "metadata": {},
          "execution_count": 10
        }
      ]
    },
    {
      "cell_type": "code",
      "source": [
        "df.hashtags_list.value_counts()"
      ],
      "metadata": {
        "colab": {
          "base_uri": "https://localhost:8080/"
        },
        "id": "6Am6nGNEc3zB",
        "outputId": "ded33ba1-189f-4504-aebe-a375d6512433"
      },
      "execution_count": 11,
      "outputs": [
        {
          "output_type": "execute_result",
          "data": {
            "text/plain": [
              "nowplaying                                             30893\n",
              "FreddieGray                                            21403\n",
              "Baltimore                                              18932\n",
              "NowPlaying                                             18915\n",
              "BaltimoreRiots                                         16383\n",
              "                                                       ...  \n",
              "Priorities Monday                                          1\n",
              "THoseWereThedays                                           1\n",
              "ensighten2015 collecteverything RevolutionAnalytics        1\n",
              "Blessed SAS15 IHSJanes                                     1\n",
              "WhiteMenCANJump                                            1\n",
              "Name: hashtags_list, Length: 1604286, dtype: int64"
            ]
          },
          "metadata": {},
          "execution_count": 11
        }
      ]
    },
    {
      "cell_type": "code",
      "source": [
        "idx = np.where(df.hashtags_list != \"Baltimore\")"
      ],
      "metadata": {
        "id": "Q-QqCBhSqSq6"
      },
      "execution_count": 18,
      "outputs": []
    },
    {
      "cell_type": "code",
      "source": [
        "idx"
      ],
      "metadata": {
        "colab": {
          "base_uri": "https://localhost:8080/"
        },
        "id": "v6LBhOjJqWEn",
        "outputId": "5ade9a7d-8c80-493f-cc5b-b2856a2956d2"
      },
      "execution_count": 19,
      "outputs": [
        {
          "output_type": "execute_result",
          "data": {
            "text/plain": [
              "(array([       0,        1,        2, ..., 18694600, 18694601, 18694602]),)"
            ]
          },
          "metadata": {},
          "execution_count": 19
        }
      ]
    },
    {
      "cell_type": "code",
      "source": [
        "print(len(df), len(idx[0]))"
      ],
      "metadata": {
        "colab": {
          "base_uri": "https://localhost:8080/"
        },
        "id": "_l6V3wUkqYVX",
        "outputId": "76dd02a7-f7a3-432a-97f8-df18e4acc368"
      },
      "execution_count": 21,
      "outputs": [
        {
          "output_type": "stream",
          "name": "stdout",
          "text": [
            "18694603 18675671\n"
          ]
        }
      ]
    },
    {
      "cell_type": "code",
      "source": [
        "print(len(df) - len(idx[0]))"
      ],
      "metadata": {
        "colab": {
          "base_uri": "https://localhost:8080/"
        },
        "id": "tEkj8v9oqfaT",
        "outputId": "384b44fe-c248-4ceb-a659-d3aa00507a96"
      },
      "execution_count": 22,
      "outputs": [
        {
          "output_type": "stream",
          "name": "stdout",
          "text": [
            "18932\n"
          ]
        }
      ]
    },
    {
      "cell_type": "code",
      "source": [
        "df.drop(index = np.where(df.hashtags_list != \"Baltimore\")[0], axis = 0, inplace = True)\n",
        "df.hashtags_list.value_counts()"
      ],
      "metadata": {
        "colab": {
          "base_uri": "https://localhost:8080/"
        },
        "id": "awbHi0ejnxoJ",
        "outputId": "3ba8ec2a-b04b-4bca-e159-613e29b40815"
      },
      "execution_count": 23,
      "outputs": [
        {
          "output_type": "execute_result",
          "data": {
            "text/plain": [
              "Baltimore    18932\n",
              "Name: hashtags_list, dtype: int64"
            ]
          },
          "metadata": {},
          "execution_count": 23
        }
      ]
    },
    {
      "cell_type": "code",
      "source": [
        "df.head()"
      ],
      "metadata": {
        "colab": {
          "base_uri": "https://localhost:8080/",
          "height": 455
        },
        "id": "oKyz1WxAoTpv",
        "outputId": "c7f342f7-47b6-4710-b490-804ab8ddc8c0"
      },
      "execution_count": 24,
      "outputs": [
        {
          "output_type": "execute_result",
          "data": {
            "text/plain": [
              "      Unnamed: 0                                             tId  \\\n",
              "172          173  tag:search.twitter.com,2005:592839706515222529   \n",
              "351          352  tag:search.twitter.com,2005:592838738826387457   \n",
              "580          581  tag:search.twitter.com,2005:592839138140942336   \n",
              "632          633  tag:search.twitter.com,2005:592840396465659904   \n",
              "1223        1224  tag:search.twitter.com,2005:592838291705176064   \n",
              "\n",
              "                            uId             unixTime hashtags_list  \\\n",
              "172     id:twitter.com:23717054  2015-04-27 20:56:15     Baltimore   \n",
              "351   id:twitter.com:1520371868  2015-04-27 20:52:24     Baltimore   \n",
              "580     id:twitter.com:20269240  2015-04-27 20:53:59     Baltimore   \n",
              "632    id:twitter.com:127094739  2015-04-27 20:58:59     Baltimore   \n",
              "1223    id:twitter.com:26333173  2015-04-27 20:50:37     Baltimore   \n",
              "\n",
              "           unixTimeHourly      unixTimeHourly2         day  AS  CH  FC  LB  \\\n",
              "172   2015-04-27 20:56:15  2015-04-27 21:00:00  2015-04-27   0   0   0   0   \n",
              "351   2015-04-27 20:52:24  2015-04-27 21:00:00  2015-04-27   1   0   1   1   \n",
              "580   2015-04-27 20:53:59  2015-04-27 21:00:00  2015-04-27   0   0   0   0   \n",
              "632   2015-04-27 20:58:59  2015-04-27 21:00:00  2015-04-27   0   0   0   0   \n",
              "1223  2015-04-27 20:50:37  2015-04-27 21:00:00  2015-04-27   0   0   1   1   \n",
              "\n",
              "      NM  PD  \n",
              "172    0   0  \n",
              "351    0   0  \n",
              "580    0   0  \n",
              "632    0   0  \n",
              "1223   0   1  "
            ],
            "text/html": [
              "\n",
              "  <div id=\"df-ec4cd5cf-b139-40a8-8c2c-6c749fca6ecf\">\n",
              "    <div class=\"colab-df-container\">\n",
              "      <div>\n",
              "<style scoped>\n",
              "    .dataframe tbody tr th:only-of-type {\n",
              "        vertical-align: middle;\n",
              "    }\n",
              "\n",
              "    .dataframe tbody tr th {\n",
              "        vertical-align: top;\n",
              "    }\n",
              "\n",
              "    .dataframe thead th {\n",
              "        text-align: right;\n",
              "    }\n",
              "</style>\n",
              "<table border=\"1\" class=\"dataframe\">\n",
              "  <thead>\n",
              "    <tr style=\"text-align: right;\">\n",
              "      <th></th>\n",
              "      <th>Unnamed: 0</th>\n",
              "      <th>tId</th>\n",
              "      <th>uId</th>\n",
              "      <th>unixTime</th>\n",
              "      <th>hashtags_list</th>\n",
              "      <th>unixTimeHourly</th>\n",
              "      <th>unixTimeHourly2</th>\n",
              "      <th>day</th>\n",
              "      <th>AS</th>\n",
              "      <th>CH</th>\n",
              "      <th>FC</th>\n",
              "      <th>LB</th>\n",
              "      <th>NM</th>\n",
              "      <th>PD</th>\n",
              "    </tr>\n",
              "  </thead>\n",
              "  <tbody>\n",
              "    <tr>\n",
              "      <th>172</th>\n",
              "      <td>173</td>\n",
              "      <td>tag:search.twitter.com,2005:592839706515222529</td>\n",
              "      <td>id:twitter.com:23717054</td>\n",
              "      <td>2015-04-27 20:56:15</td>\n",
              "      <td>Baltimore</td>\n",
              "      <td>2015-04-27 20:56:15</td>\n",
              "      <td>2015-04-27 21:00:00</td>\n",
              "      <td>2015-04-27</td>\n",
              "      <td>0</td>\n",
              "      <td>0</td>\n",
              "      <td>0</td>\n",
              "      <td>0</td>\n",
              "      <td>0</td>\n",
              "      <td>0</td>\n",
              "    </tr>\n",
              "    <tr>\n",
              "      <th>351</th>\n",
              "      <td>352</td>\n",
              "      <td>tag:search.twitter.com,2005:592838738826387457</td>\n",
              "      <td>id:twitter.com:1520371868</td>\n",
              "      <td>2015-04-27 20:52:24</td>\n",
              "      <td>Baltimore</td>\n",
              "      <td>2015-04-27 20:52:24</td>\n",
              "      <td>2015-04-27 21:00:00</td>\n",
              "      <td>2015-04-27</td>\n",
              "      <td>1</td>\n",
              "      <td>0</td>\n",
              "      <td>1</td>\n",
              "      <td>1</td>\n",
              "      <td>0</td>\n",
              "      <td>0</td>\n",
              "    </tr>\n",
              "    <tr>\n",
              "      <th>580</th>\n",
              "      <td>581</td>\n",
              "      <td>tag:search.twitter.com,2005:592839138140942336</td>\n",
              "      <td>id:twitter.com:20269240</td>\n",
              "      <td>2015-04-27 20:53:59</td>\n",
              "      <td>Baltimore</td>\n",
              "      <td>2015-04-27 20:53:59</td>\n",
              "      <td>2015-04-27 21:00:00</td>\n",
              "      <td>2015-04-27</td>\n",
              "      <td>0</td>\n",
              "      <td>0</td>\n",
              "      <td>0</td>\n",
              "      <td>0</td>\n",
              "      <td>0</td>\n",
              "      <td>0</td>\n",
              "    </tr>\n",
              "    <tr>\n",
              "      <th>632</th>\n",
              "      <td>633</td>\n",
              "      <td>tag:search.twitter.com,2005:592840396465659904</td>\n",
              "      <td>id:twitter.com:127094739</td>\n",
              "      <td>2015-04-27 20:58:59</td>\n",
              "      <td>Baltimore</td>\n",
              "      <td>2015-04-27 20:58:59</td>\n",
              "      <td>2015-04-27 21:00:00</td>\n",
              "      <td>2015-04-27</td>\n",
              "      <td>0</td>\n",
              "      <td>0</td>\n",
              "      <td>0</td>\n",
              "      <td>0</td>\n",
              "      <td>0</td>\n",
              "      <td>0</td>\n",
              "    </tr>\n",
              "    <tr>\n",
              "      <th>1223</th>\n",
              "      <td>1224</td>\n",
              "      <td>tag:search.twitter.com,2005:592838291705176064</td>\n",
              "      <td>id:twitter.com:26333173</td>\n",
              "      <td>2015-04-27 20:50:37</td>\n",
              "      <td>Baltimore</td>\n",
              "      <td>2015-04-27 20:50:37</td>\n",
              "      <td>2015-04-27 21:00:00</td>\n",
              "      <td>2015-04-27</td>\n",
              "      <td>0</td>\n",
              "      <td>0</td>\n",
              "      <td>1</td>\n",
              "      <td>1</td>\n",
              "      <td>0</td>\n",
              "      <td>1</td>\n",
              "    </tr>\n",
              "  </tbody>\n",
              "</table>\n",
              "</div>\n",
              "      <button class=\"colab-df-convert\" onclick=\"convertToInteractive('df-ec4cd5cf-b139-40a8-8c2c-6c749fca6ecf')\"\n",
              "              title=\"Convert this dataframe to an interactive table.\"\n",
              "              style=\"display:none;\">\n",
              "        \n",
              "  <svg xmlns=\"http://www.w3.org/2000/svg\" height=\"24px\"viewBox=\"0 0 24 24\"\n",
              "       width=\"24px\">\n",
              "    <path d=\"M0 0h24v24H0V0z\" fill=\"none\"/>\n",
              "    <path d=\"M18.56 5.44l.94 2.06.94-2.06 2.06-.94-2.06-.94-.94-2.06-.94 2.06-2.06.94zm-11 1L8.5 8.5l.94-2.06 2.06-.94-2.06-.94L8.5 2.5l-.94 2.06-2.06.94zm10 10l.94 2.06.94-2.06 2.06-.94-2.06-.94-.94-2.06-.94 2.06-2.06.94z\"/><path d=\"M17.41 7.96l-1.37-1.37c-.4-.4-.92-.59-1.43-.59-.52 0-1.04.2-1.43.59L10.3 9.45l-7.72 7.72c-.78.78-.78 2.05 0 2.83L4 21.41c.39.39.9.59 1.41.59.51 0 1.02-.2 1.41-.59l7.78-7.78 2.81-2.81c.8-.78.8-2.07 0-2.86zM5.41 20L4 18.59l7.72-7.72 1.47 1.35L5.41 20z\"/>\n",
              "  </svg>\n",
              "      </button>\n",
              "      \n",
              "  <style>\n",
              "    .colab-df-container {\n",
              "      display:flex;\n",
              "      flex-wrap:wrap;\n",
              "      gap: 12px;\n",
              "    }\n",
              "\n",
              "    .colab-df-convert {\n",
              "      background-color: #E8F0FE;\n",
              "      border: none;\n",
              "      border-radius: 50%;\n",
              "      cursor: pointer;\n",
              "      display: none;\n",
              "      fill: #1967D2;\n",
              "      height: 32px;\n",
              "      padding: 0 0 0 0;\n",
              "      width: 32px;\n",
              "    }\n",
              "\n",
              "    .colab-df-convert:hover {\n",
              "      background-color: #E2EBFA;\n",
              "      box-shadow: 0px 1px 2px rgba(60, 64, 67, 0.3), 0px 1px 3px 1px rgba(60, 64, 67, 0.15);\n",
              "      fill: #174EA6;\n",
              "    }\n",
              "\n",
              "    [theme=dark] .colab-df-convert {\n",
              "      background-color: #3B4455;\n",
              "      fill: #D2E3FC;\n",
              "    }\n",
              "\n",
              "    [theme=dark] .colab-df-convert:hover {\n",
              "      background-color: #434B5C;\n",
              "      box-shadow: 0px 1px 3px 1px rgba(0, 0, 0, 0.15);\n",
              "      filter: drop-shadow(0px 1px 2px rgba(0, 0, 0, 0.3));\n",
              "      fill: #FFFFFF;\n",
              "    }\n",
              "  </style>\n",
              "\n",
              "      <script>\n",
              "        const buttonEl =\n",
              "          document.querySelector('#df-ec4cd5cf-b139-40a8-8c2c-6c749fca6ecf button.colab-df-convert');\n",
              "        buttonEl.style.display =\n",
              "          google.colab.kernel.accessAllowed ? 'block' : 'none';\n",
              "\n",
              "        async function convertToInteractive(key) {\n",
              "          const element = document.querySelector('#df-ec4cd5cf-b139-40a8-8c2c-6c749fca6ecf');\n",
              "          const dataTable =\n",
              "            await google.colab.kernel.invokeFunction('convertToInteractive',\n",
              "                                                     [key], {});\n",
              "          if (!dataTable) return;\n",
              "\n",
              "          const docLinkHtml = 'Like what you see? Visit the ' +\n",
              "            '<a target=\"_blank\" href=https://colab.research.google.com/notebooks/data_table.ipynb>data table notebook</a>'\n",
              "            + ' to learn more about interactive tables.';\n",
              "          element.innerHTML = '';\n",
              "          dataTable['output_type'] = 'display_data';\n",
              "          await google.colab.output.renderOutput(dataTable, element);\n",
              "          const docLink = document.createElement('div');\n",
              "          docLink.innerHTML = docLinkHtml;\n",
              "          element.appendChild(docLink);\n",
              "        }\n",
              "      </script>\n",
              "    </div>\n",
              "  </div>\n",
              "  "
            ]
          },
          "metadata": {},
          "execution_count": 24
        }
      ]
    },
    {
      "cell_type": "code",
      "source": [
        "#data/complete_day_level_data.csv'\n",
        "df1 = pd.read_csv(myzipfile.open('data/complete_raw_twitter_data.tsv'), sep=\"\\t\")\n",
        "df1.head()"
      ],
      "metadata": {
        "id": "41PYgwqo3wxZ"
      },
      "execution_count": null,
      "outputs": []
    },
    {
      "cell_type": "code",
      "source": [
        "#https://drive.google.com/file/d/1MtL3oP9-Lm00i229Dw9lWaAlGVc6FLsg/view?usp=sharing"
      ],
      "metadata": {
        "id": "wxxc-rWsm-G9"
      },
      "execution_count": null,
      "outputs": []
    },
    {
      "cell_type": "code",
      "source": [
        "!gdown --id \"1MtL3oP9-Lm00i229Dw9lWaAlGVc6FLsg\" -O tweet_data_annotated.zip\n",
        "myzipfile_ = zipfile.ZipFile(\"tweet_data_annotated.zip\")\n",
        "files = [myzipfile_.open(file_name) for file_name in myzipfile_.namelist()]\n",
        "files"
      ],
      "metadata": {
        "colab": {
          "base_uri": "https://localhost:8080/"
        },
        "id": "ZghDwO6Dm_sx",
        "outputId": "01e4eb30-d67f-456e-f5f4-5a02c04404ee"
      },
      "execution_count": 12,
      "outputs": [
        {
          "output_type": "stream",
          "name": "stdout",
          "text": [
            "/usr/local/lib/python3.10/dist-packages/gdown/cli.py:121: FutureWarning: Option `--id` was deprecated in version 4.3.1 and will be removed in 5.0. You don't need to pass it anymore to use a file ID.\n",
            "  warnings.warn(\n",
            "Downloading...\n",
            "From: https://drive.google.com/uc?id=1MtL3oP9-Lm00i229Dw9lWaAlGVc6FLsg\n",
            "To: /content/tweet_data_annotated.zip\n",
            "100% 305k/305k [00:00<00:00, 133MB/s]\n"
          ]
        },
        {
          "output_type": "execute_result",
          "data": {
            "text/plain": [
              "[<zipfile.ZipExtFile name='Annotated Tweets/' mode='r'>,\n",
              " <zipfile.ZipExtFile name='Annotated Tweets/.DS_Store' mode='r' compress_type=deflate>,\n",
              " <zipfile.ZipExtFile name='__MACOSX/' mode='r'>,\n",
              " <zipfile.ZipExtFile name='__MACOSX/Annotated Tweets/' mode='r'>,\n",
              " <zipfile.ZipExtFile name='__MACOSX/Annotated Tweets/._.DS_Store' mode='r' compress_type=deflate>,\n",
              " <zipfile.ZipExtFile name='Annotated Tweets/Annotation Intersection.txt' mode='r' compress_type=deflate>,\n",
              " <zipfile.ZipExtFile name='__MACOSX/Annotated Tweets/._Annotation Intersection.txt' mode='r' compress_type=deflate>,\n",
              " <zipfile.ZipExtFile name='Annotated Tweets/Annotator 1.txt' mode='r' compress_type=deflate>,\n",
              " <zipfile.ZipExtFile name='__MACOSX/Annotated Tweets/._Annotator 1.txt' mode='r' compress_type=deflate>,\n",
              " <zipfile.ZipExtFile name='Annotated Tweets/Annotator 2.txt' mode='r' compress_type=deflate>,\n",
              " <zipfile.ZipExtFile name='__MACOSX/Annotated Tweets/._Annotator 2.txt' mode='r' compress_type=deflate>,\n",
              " <zipfile.ZipExtFile name='Annotated Tweets/Annotator 3.txt' mode='r' compress_type=deflate>,\n",
              " <zipfile.ZipExtFile name='__MACOSX/Annotated Tweets/._Annotator 3.txt' mode='r' compress_type=deflate>,\n",
              " <zipfile.ZipExtFile name='__MACOSX/._Annotated Tweets' mode='r' compress_type=deflate>]"
            ]
          },
          "metadata": {},
          "execution_count": 12
        }
      ]
    },
    {
      "cell_type": "code",
      "source": [
        "f = open(\"demofile.txt\", \"r\")\n",
        "print(f.read())"
      ],
      "metadata": {
        "id": "TJ7ZObR33JS3"
      },
      "execution_count": null,
      "outputs": []
    },
    {
      "cell_type": "code",
      "source": [
        "#'Annotated Tweets/'\n",
        "ann = myzipfile_.open('__MACOSX/Annotated Tweets/._Annotator 3.txt')\n",
        "print(ann.read())"
      ],
      "metadata": {
        "colab": {
          "base_uri": "https://localhost:8080/"
        },
        "id": "63UPxW6QnWZN",
        "outputId": "c0196037-3e1e-47b0-d4ac-4dd333414bb9"
      },
      "execution_count": 26,
      "outputs": [
        {
          "output_type": "stream",
          "name": "stdout",
          "text": [
            "b'\\x00\\x05\\x16\\x07\\x00\\x02\\x00\\x00Mac OS X        \\x00\\x02\\x00\\x00\\x00\\t\\x00\\x00\\x002\\x00\\x00\\x00\\xac\\x00\\x00\\x00\\x02\\x00\\x00\\x00\\xde\\x00\\x00\\x00\\x00\\x00\\x00\\x00\\x00\\x00\\x00\\x00\\x00\\x00\\x00\\x00\\x00\\x00\\x00\\x00\\x00\\x00\\x00\\x00\\x00\\x00\\x00\\x00\\x00\\x00\\x00\\x00\\x00\\x00\\x00\\x00\\x00\\x00\\x00ATTR\\x00\\x00\\x00\\x00\\x00\\x00\\x00\\xde\\x00\\x00\\x00\\x98\\x00\\x00\\x00F\\x00\\x00\\x00\\x00\\x00\\x00\\x00\\x00\\x00\\x00\\x00\\x00\\x00\\x00\\x00\\x01\\x00\\x00\\x00\\x98\\x00\\x00\\x00F\\x00\\x00\\x15com.apple.quarantine\\x00q/0001;5ab7b7e0;Google\\\\x20Chrome;0EDC830D-46B6-4D0B-963D-9E1FC24386E6\\x00'\n"
          ]
        }
      ]
    },
    {
      "cell_type": "code",
      "source": [],
      "metadata": {
        "id": "j37Q6Yu93YKH"
      },
      "execution_count": null,
      "outputs": []
    }
  ]
}