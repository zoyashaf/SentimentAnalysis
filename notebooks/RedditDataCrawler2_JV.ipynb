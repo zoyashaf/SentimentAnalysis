{
  "cells": [
    {
      "cell_type": "code",
      "execution_count": 1,
      "metadata": {
        "colab": {
          "base_uri": "https://localhost:8080/"
        },
        "id": "MMS8NI4MuvOS",
        "outputId": "a9f2ad2b-b9f8-4468-a9ce-1c58cdfcc706"
      },
      "outputs": [
        {
          "output_type": "stream",
          "name": "stdout",
          "text": [
            "Looking in indexes: https://pypi.org/simple, https://us-python.pkg.dev/colab-wheels/public/simple/\n",
            "Collecting praw\n",
            "  Downloading praw-7.7.0-py3-none-any.whl (189 kB)\n",
            "\u001b[2K     \u001b[90m━━━━━━━━━━━━━━━━━━━━━━━━━━━━━━━━━━━━━━━\u001b[0m \u001b[32m189.4/189.4 kB\u001b[0m \u001b[31m3.0 MB/s\u001b[0m eta \u001b[36m0:00:00\u001b[0m\n",
            "\u001b[?25hCollecting prawcore<3,>=2.1 (from praw)\n",
            "  Downloading prawcore-2.3.0-py3-none-any.whl (16 kB)\n",
            "Collecting update-checker>=0.18 (from praw)\n",
            "  Downloading update_checker-0.18.0-py3-none-any.whl (7.0 kB)\n",
            "Requirement already satisfied: websocket-client>=0.54.0 in /usr/local/lib/python3.10/dist-packages (from praw) (1.5.1)\n",
            "Requirement already satisfied: requests<3.0,>=2.6.0 in /usr/local/lib/python3.10/dist-packages (from prawcore<3,>=2.1->praw) (2.27.1)\n",
            "Requirement already satisfied: urllib3<1.27,>=1.21.1 in /usr/local/lib/python3.10/dist-packages (from requests<3.0,>=2.6.0->prawcore<3,>=2.1->praw) (1.26.15)\n",
            "Requirement already satisfied: certifi>=2017.4.17 in /usr/local/lib/python3.10/dist-packages (from requests<3.0,>=2.6.0->prawcore<3,>=2.1->praw) (2022.12.7)\n",
            "Requirement already satisfied: charset-normalizer~=2.0.0 in /usr/local/lib/python3.10/dist-packages (from requests<3.0,>=2.6.0->prawcore<3,>=2.1->praw) (2.0.12)\n",
            "Requirement already satisfied: idna<4,>=2.5 in /usr/local/lib/python3.10/dist-packages (from requests<3.0,>=2.6.0->prawcore<3,>=2.1->praw) (3.4)\n",
            "Installing collected packages: update-checker, prawcore, praw\n",
            "Successfully installed praw-7.7.0 prawcore-2.3.0 update-checker-0.18.0\n"
          ]
        }
      ],
      "source": [
        "pip install praw"
      ]
    },
    {
      "cell_type": "code",
      "execution_count": 2,
      "metadata": {
        "colab": {
          "base_uri": "https://localhost:8080/"
        },
        "id": "07DGml8zz6nn",
        "outputId": "83a0570f-598a-415c-ca45-fb4d77b3ae7d"
      },
      "outputs": [
        {
          "output_type": "stream",
          "name": "stdout",
          "text": [
            "Looking in indexes: https://pypi.org/simple, https://us-python.pkg.dev/colab-wheels/public/simple/\n",
            "Collecting spacy_langdetect\n",
            "  Downloading spacy_langdetect-0.1.2-py3-none-any.whl (5.0 kB)\n",
            "Requirement already satisfied: pytest in /usr/local/lib/python3.10/dist-packages (from spacy_langdetect) (7.2.2)\n",
            "Collecting langdetect==1.0.7 (from spacy_langdetect)\n",
            "  Downloading langdetect-1.0.7.zip (998 kB)\n",
            "\u001b[2K     \u001b[90m━━━━━━━━━━━━━━━━━━━━━━━━━━━━━━━━━━━━━━\u001b[0m \u001b[32m998.1/998.1 kB\u001b[0m \u001b[31m11.0 MB/s\u001b[0m eta \u001b[36m0:00:00\u001b[0m\n",
            "\u001b[?25h  Preparing metadata (setup.py) ... \u001b[?25l\u001b[?25hdone\n",
            "Requirement already satisfied: six in /usr/local/lib/python3.10/dist-packages (from langdetect==1.0.7->spacy_langdetect) (1.16.0)\n",
            "Requirement already satisfied: attrs>=19.2.0 in /usr/local/lib/python3.10/dist-packages (from pytest->spacy_langdetect) (23.1.0)\n",
            "Requirement already satisfied: iniconfig in /usr/local/lib/python3.10/dist-packages (from pytest->spacy_langdetect) (2.0.0)\n",
            "Requirement already satisfied: packaging in /usr/local/lib/python3.10/dist-packages (from pytest->spacy_langdetect) (23.1)\n",
            "Requirement already satisfied: pluggy<2.0,>=0.12 in /usr/local/lib/python3.10/dist-packages (from pytest->spacy_langdetect) (1.0.0)\n",
            "Requirement already satisfied: exceptiongroup>=1.0.0rc8 in /usr/local/lib/python3.10/dist-packages (from pytest->spacy_langdetect) (1.1.1)\n",
            "Requirement already satisfied: tomli>=1.0.0 in /usr/local/lib/python3.10/dist-packages (from pytest->spacy_langdetect) (2.0.1)\n",
            "Building wheels for collected packages: langdetect\n",
            "  Building wheel for langdetect (setup.py) ... \u001b[?25l\u001b[?25hdone\n",
            "  Created wheel for langdetect: filename=langdetect-1.0.7-py3-none-any.whl size=993416 sha256=0cfde08b8d42bf907f1dc35d885ff615d4af6248cb0812b1d5aa052e60226d19\n",
            "  Stored in directory: /root/.cache/pip/wheels/97/f1/e4/8b73f7a0421b132755956892d29b1e764d3e0857a6e92e32fe\n",
            "Successfully built langdetect\n",
            "Installing collected packages: langdetect, spacy_langdetect\n",
            "Successfully installed langdetect-1.0.7 spacy_langdetect-0.1.2\n"
          ]
        }
      ],
      "source": [
        "pip install spacy_langdetect"
      ]
    },
    {
      "cell_type": "code",
      "execution_count": 3,
      "metadata": {
        "id": "qMNbtkHC7Ibw"
      },
      "outputs": [],
      "source": [
        "import praw\n",
        "import pandas as pd\n",
        "import seaborn as sns\n",
        "import numpy as np"
      ]
    },
    {
      "cell_type": "code",
      "execution_count": 4,
      "metadata": {
        "colab": {
          "base_uri": "https://localhost:8080/"
        },
        "id": "owwEzqCbADvr",
        "outputId": "c4910a27-cf15-4725-e6c7-1b9fb560eb93"
      },
      "outputs": [
        {
          "output_type": "stream",
          "name": "stderr",
          "text": [
            "[nltk_data] Downloading package stopwords to /root/nltk_data...\n",
            "[nltk_data]   Unzipping corpora/stopwords.zip.\n"
          ]
        }
      ],
      "source": [
        "import re    # RegEx for removing non-letter characters\n",
        "import nltk  #natural language processing\n",
        "nltk.download(\"stopwords\")\n",
        "from nltk.corpus import stopwords\n",
        "from nltk.stem.porter import *"
      ]
    },
    {
      "cell_type": "code",
      "execution_count": 5,
      "metadata": {
        "colab": {
          "base_uri": "https://localhost:8080/"
        },
        "id": "7ZgT4z00WalU",
        "outputId": "002bc6b4-38d0-4920-875d-7dd76df56353"
      },
      "outputs": [
        {
          "output_type": "stream",
          "name": "stdout",
          "text": [
            "Drive already mounted at /content/drive; to attempt to forcibly remount, call drive.mount(\"/content/drive\", force_remount=True).\n"
          ]
        }
      ],
      "source": [
        "from google.colab import drive\n",
        "drive.mount('/content/drive')"
      ]
    },
    {
      "cell_type": "code",
      "execution_count": 10,
      "metadata": {
        "colab": {
          "base_uri": "https://localhost:8080/"
        },
        "id": "l4zdVRk8zzk3",
        "outputId": "f2e9dbf0-f496-43f8-ba06-c6e5a3ad1171"
      },
      "outputs": [
        {
          "output_type": "stream",
          "name": "stdout",
          "text": [
            "{'language': 'es', 'score': 0.9999936494944687}\n"
          ]
        }
      ],
      "source": [
        "import spacy\n",
        "from spacy.language import Language\n",
        "from spacy_langdetect import LanguageDetector\n",
        "\n",
        "def get_lang_detector(nlp, name):\n",
        "    return LanguageDetector()\n",
        "\n",
        "nlp = spacy.load(\"en_core_web_sm\")\n",
        "Language.factory(\"language_detector\", func=get_lang_detector)\n",
        "nlp.add_pipe('language_detector', last=True)\n",
        "text = 'Hola que tal, como estas'\n",
        "doc = nlp(text)\n",
        "print(doc._.language)"
      ]
    },
    {
      "cell_type": "code",
      "execution_count": null,
      "metadata": {
        "colab": {
          "base_uri": "https://localhost:8080/"
        },
        "id": "bW6bP00F0IfZ",
        "outputId": "e0d3508e-5841-4d6f-ea2f-dae2c28997db"
      },
      "outputs": [
        {
          "name": "stdout",
          "output_type": "stream",
          "text": [
            "es <class 'str'>\n"
          ]
        }
      ],
      "source": [
        "r = doc._.language[\"language\"]\n",
        "print(r, type(r))"
      ]
    },
    {
      "cell_type": "code",
      "execution_count": 7,
      "metadata": {
        "id": "cjFD9AD97iPg"
      },
      "outputs": [],
      "source": [
        "reddit = praw.Reddit(client_id='TlPT-9dolaABWzzGIxim8Q', client_secret='KcSNwe14od5UfnHs-Ps5mBfdPYm6RA', \\\n",
        "                     user_agent='Jenifer Vivar', check_for_async=False)\n"
      ]
    },
    {
      "cell_type": "code",
      "execution_count": 8,
      "metadata": {
        "id": "O4UwGYt6_uee"
      },
      "outputs": [],
      "source": [
        "def tweet_to_words(tweet):\n",
        "    ''' Convert tweet text into a sequence of words '''\n",
        "    \n",
        "    # convert to lowercase\n",
        "    text = tweet.lower()\n",
        "    # remove non letters\n",
        "    text = re.sub(r\"[^a-zA-Z0-9]\", \" \", text)\n",
        "    # tokenize\n",
        "    words = text.split()\n",
        "    # remove stopwords\n",
        "    words = [w for w in words if w not in stopwords.words(\"english\")]\n",
        "    # apply stemming\n",
        "    words = [PorterStemmer().stem(w) for w in words]\n",
        "    # return list\n",
        "    return words"
      ]
    },
    {
      "cell_type": "code",
      "execution_count": 9,
      "metadata": {
        "id": "aWx09lb_3d3I",
        "colab": {
          "base_uri": "https://localhost:8080/",
          "height": 198
        },
        "outputId": "b20a6f9e-e741-4cfb-f17b-5b564e37e549"
      },
      "outputs": [
        {
          "output_type": "error",
          "ename": "NameError",
          "evalue": "ignored",
          "traceback": [
            "\u001b[0;31m---------------------------------------------------------------------------\u001b[0m",
            "\u001b[0;31mNameError\u001b[0m                                 Traceback (most recent call last)",
            "\u001b[0;32m<ipython-input-9-305027f0ee91>\u001b[0m in \u001b[0;36m<cell line: 1>\u001b[0;34m()\u001b[0m\n\u001b[0;32m----> 1\u001b[0;31m \u001b[0mnlp\u001b[0m \u001b[0;34m=\u001b[0m \u001b[0mspacy\u001b[0m\u001b[0;34m.\u001b[0m\u001b[0mload\u001b[0m\u001b[0;34m(\u001b[0m\u001b[0;34m\"en_core_web_sm\"\u001b[0m\u001b[0;34m)\u001b[0m\u001b[0;34m\u001b[0m\u001b[0;34m\u001b[0m\u001b[0m\n\u001b[0m\u001b[1;32m      2\u001b[0m \u001b[0mLanguage\u001b[0m\u001b[0;34m.\u001b[0m\u001b[0mfactory\u001b[0m\u001b[0;34m(\u001b[0m\u001b[0;34m\"language_detector\"\u001b[0m\u001b[0;34m,\u001b[0m \u001b[0mfunc\u001b[0m\u001b[0;34m=\u001b[0m\u001b[0mget_lang_detector\u001b[0m\u001b[0;34m)\u001b[0m\u001b[0;34m\u001b[0m\u001b[0;34m\u001b[0m\u001b[0m\n\u001b[1;32m      3\u001b[0m \u001b[0mnlp\u001b[0m\u001b[0;34m.\u001b[0m\u001b[0madd_pipe\u001b[0m\u001b[0;34m(\u001b[0m\u001b[0;34m'language_detector'\u001b[0m\u001b[0;34m,\u001b[0m \u001b[0mlast\u001b[0m\u001b[0;34m=\u001b[0m\u001b[0;32mTrue\u001b[0m\u001b[0;34m)\u001b[0m\u001b[0;34m\u001b[0m\u001b[0;34m\u001b[0m\u001b[0m\n",
            "\u001b[0;31mNameError\u001b[0m: name 'spacy' is not defined"
          ]
        }
      ],
      "source": [
        "nlp = spacy.load(\"en_core_web_sm\")\n",
        "Language.factory(\"language_detector\", func=get_lang_detector)\n",
        "nlp.add_pipe('language_detector', last=True)"
      ]
    },
    {
      "cell_type": "code",
      "execution_count": 14,
      "metadata": {
        "id": "Joc5daA9xIPP"
      },
      "outputs": [],
      "source": [
        "\n",
        "posts = []\n",
        "ml_subreddit = reddit.subreddit('moral')\n",
        "for post in ml_subreddit.hot(limit=50):\n",
        "\n",
        "  doc = nlp(post.selftext)\n",
        "  language_ = doc._.language['language']\n",
        "  \n",
        "  if language_ == \"en\":\n",
        "    text_words = tweet_to_words(post.selftext)\n",
        "    posts.append([post.title, post.id, post.subreddit, post.url, post.num_comments, post.selftext, text_words])\n",
        "  else:\n",
        "    pass\n",
        "\n",
        "posts = pd.DataFrame(posts,columns=['title', 'id', 'subreddit', 'url', 'num_comments', 'body', \"lemmatized_text\"])\n"
      ]
    },
    {
      "cell_type": "code",
      "execution_count": 15,
      "metadata": {
        "colab": {
          "base_uri": "https://localhost:8080/",
          "height": 333
        },
        "id": "xZ_KWGg52GM-",
        "outputId": "a473b103-5597-4eb4-e960-0b87f1892fb5"
      },
      "outputs": [
        {
          "output_type": "execute_result",
          "data": {
            "text/plain": [
              "                                           title       id subreddit  \\\n",
              "0                           Staring at the beach  13a21mf     moral   \n",
              "1                     Is it ok to kill a rapist?  12i476q     moral   \n",
              "2                           Age gap relationship  12fcsmj     moral   \n",
              "3    Is stealing from a store morally incorrect?  126bznn     moral   \n",
              "4  Morality of designing/making weapons as a job  11taxxb     moral   \n",
              "\n",
              "                                                 url  num_comments  \\\n",
              "0  https://www.reddit.com/r/moral/comments/13a21m...             2   \n",
              "1  https://www.reddit.com/r/moral/comments/12i476...             5   \n",
              "2  https://www.reddit.com/r/moral/comments/12fcsm...             1   \n",
              "3  https://www.reddit.com/r/moral/comments/126bzn...             9   \n",
              "4  https://www.reddit.com/r/moral/comments/11taxx...             0   \n",
              "\n",
              "                                                body  \\\n",
              "0  Is it wrong that while on the beach,i can't he...   \n",
              "1  I really wanna kill this asshole dude who does...   \n",
              "2  I had trouble posting this in the relationship...   \n",
              "3  I feel like stealing some crap from a gas stat...   \n",
              "4  Would you consider the many kinds of engineers...   \n",
              "\n",
              "                                     lemmatized_text  \n",
              "0  [wrong, beach, help, notic, lust, ladi, show, ...  \n",
              "1  [realli, wanna, kill, asshol, dude, care, girl...  \n",
              "2  [troubl, post, relationship, one, go, realli, ...  \n",
              "3  [feel, like, steal, crap, ga, station, someth,...  \n",
              "4  [would, consid, mani, kind, engin, moral, choo...  "
            ],
            "text/html": [
              "\n",
              "  <div id=\"df-5da11b92-9d33-48fd-8428-0d33b60da04e\">\n",
              "    <div class=\"colab-df-container\">\n",
              "      <div>\n",
              "<style scoped>\n",
              "    .dataframe tbody tr th:only-of-type {\n",
              "        vertical-align: middle;\n",
              "    }\n",
              "\n",
              "    .dataframe tbody tr th {\n",
              "        vertical-align: top;\n",
              "    }\n",
              "\n",
              "    .dataframe thead th {\n",
              "        text-align: right;\n",
              "    }\n",
              "</style>\n",
              "<table border=\"1\" class=\"dataframe\">\n",
              "  <thead>\n",
              "    <tr style=\"text-align: right;\">\n",
              "      <th></th>\n",
              "      <th>title</th>\n",
              "      <th>id</th>\n",
              "      <th>subreddit</th>\n",
              "      <th>url</th>\n",
              "      <th>num_comments</th>\n",
              "      <th>body</th>\n",
              "      <th>lemmatized_text</th>\n",
              "    </tr>\n",
              "  </thead>\n",
              "  <tbody>\n",
              "    <tr>\n",
              "      <th>0</th>\n",
              "      <td>Staring at the beach</td>\n",
              "      <td>13a21mf</td>\n",
              "      <td>moral</td>\n",
              "      <td>https://www.reddit.com/r/moral/comments/13a21m...</td>\n",
              "      <td>2</td>\n",
              "      <td>Is it wrong that while on the beach,i can't he...</td>\n",
              "      <td>[wrong, beach, help, notic, lust, ladi, show, ...</td>\n",
              "    </tr>\n",
              "    <tr>\n",
              "      <th>1</th>\n",
              "      <td>Is it ok to kill a rapist?</td>\n",
              "      <td>12i476q</td>\n",
              "      <td>moral</td>\n",
              "      <td>https://www.reddit.com/r/moral/comments/12i476...</td>\n",
              "      <td>5</td>\n",
              "      <td>I really wanna kill this asshole dude who does...</td>\n",
              "      <td>[realli, wanna, kill, asshol, dude, care, girl...</td>\n",
              "    </tr>\n",
              "    <tr>\n",
              "      <th>2</th>\n",
              "      <td>Age gap relationship</td>\n",
              "      <td>12fcsmj</td>\n",
              "      <td>moral</td>\n",
              "      <td>https://www.reddit.com/r/moral/comments/12fcsm...</td>\n",
              "      <td>1</td>\n",
              "      <td>I had trouble posting this in the relationship...</td>\n",
              "      <td>[troubl, post, relationship, one, go, realli, ...</td>\n",
              "    </tr>\n",
              "    <tr>\n",
              "      <th>3</th>\n",
              "      <td>Is stealing from a store morally incorrect?</td>\n",
              "      <td>126bznn</td>\n",
              "      <td>moral</td>\n",
              "      <td>https://www.reddit.com/r/moral/comments/126bzn...</td>\n",
              "      <td>9</td>\n",
              "      <td>I feel like stealing some crap from a gas stat...</td>\n",
              "      <td>[feel, like, steal, crap, ga, station, someth,...</td>\n",
              "    </tr>\n",
              "    <tr>\n",
              "      <th>4</th>\n",
              "      <td>Morality of designing/making weapons as a job</td>\n",
              "      <td>11taxxb</td>\n",
              "      <td>moral</td>\n",
              "      <td>https://www.reddit.com/r/moral/comments/11taxx...</td>\n",
              "      <td>0</td>\n",
              "      <td>Would you consider the many kinds of engineers...</td>\n",
              "      <td>[would, consid, mani, kind, engin, moral, choo...</td>\n",
              "    </tr>\n",
              "  </tbody>\n",
              "</table>\n",
              "</div>\n",
              "      <button class=\"colab-df-convert\" onclick=\"convertToInteractive('df-5da11b92-9d33-48fd-8428-0d33b60da04e')\"\n",
              "              title=\"Convert this dataframe to an interactive table.\"\n",
              "              style=\"display:none;\">\n",
              "        \n",
              "  <svg xmlns=\"http://www.w3.org/2000/svg\" height=\"24px\"viewBox=\"0 0 24 24\"\n",
              "       width=\"24px\">\n",
              "    <path d=\"M0 0h24v24H0V0z\" fill=\"none\"/>\n",
              "    <path d=\"M18.56 5.44l.94 2.06.94-2.06 2.06-.94-2.06-.94-.94-2.06-.94 2.06-2.06.94zm-11 1L8.5 8.5l.94-2.06 2.06-.94-2.06-.94L8.5 2.5l-.94 2.06-2.06.94zm10 10l.94 2.06.94-2.06 2.06-.94-2.06-.94-.94-2.06-.94 2.06-2.06.94z\"/><path d=\"M17.41 7.96l-1.37-1.37c-.4-.4-.92-.59-1.43-.59-.52 0-1.04.2-1.43.59L10.3 9.45l-7.72 7.72c-.78.78-.78 2.05 0 2.83L4 21.41c.39.39.9.59 1.41.59.51 0 1.02-.2 1.41-.59l7.78-7.78 2.81-2.81c.8-.78.8-2.07 0-2.86zM5.41 20L4 18.59l7.72-7.72 1.47 1.35L5.41 20z\"/>\n",
              "  </svg>\n",
              "      </button>\n",
              "      \n",
              "  <style>\n",
              "    .colab-df-container {\n",
              "      display:flex;\n",
              "      flex-wrap:wrap;\n",
              "      gap: 12px;\n",
              "    }\n",
              "\n",
              "    .colab-df-convert {\n",
              "      background-color: #E8F0FE;\n",
              "      border: none;\n",
              "      border-radius: 50%;\n",
              "      cursor: pointer;\n",
              "      display: none;\n",
              "      fill: #1967D2;\n",
              "      height: 32px;\n",
              "      padding: 0 0 0 0;\n",
              "      width: 32px;\n",
              "    }\n",
              "\n",
              "    .colab-df-convert:hover {\n",
              "      background-color: #E2EBFA;\n",
              "      box-shadow: 0px 1px 2px rgba(60, 64, 67, 0.3), 0px 1px 3px 1px rgba(60, 64, 67, 0.15);\n",
              "      fill: #174EA6;\n",
              "    }\n",
              "\n",
              "    [theme=dark] .colab-df-convert {\n",
              "      background-color: #3B4455;\n",
              "      fill: #D2E3FC;\n",
              "    }\n",
              "\n",
              "    [theme=dark] .colab-df-convert:hover {\n",
              "      background-color: #434B5C;\n",
              "      box-shadow: 0px 1px 3px 1px rgba(0, 0, 0, 0.15);\n",
              "      filter: drop-shadow(0px 1px 2px rgba(0, 0, 0, 0.3));\n",
              "      fill: #FFFFFF;\n",
              "    }\n",
              "  </style>\n",
              "\n",
              "      <script>\n",
              "        const buttonEl =\n",
              "          document.querySelector('#df-5da11b92-9d33-48fd-8428-0d33b60da04e button.colab-df-convert');\n",
              "        buttonEl.style.display =\n",
              "          google.colab.kernel.accessAllowed ? 'block' : 'none';\n",
              "\n",
              "        async function convertToInteractive(key) {\n",
              "          const element = document.querySelector('#df-5da11b92-9d33-48fd-8428-0d33b60da04e');\n",
              "          const dataTable =\n",
              "            await google.colab.kernel.invokeFunction('convertToInteractive',\n",
              "                                                     [key], {});\n",
              "          if (!dataTable) return;\n",
              "\n",
              "          const docLinkHtml = 'Like what you see? Visit the ' +\n",
              "            '<a target=\"_blank\" href=https://colab.research.google.com/notebooks/data_table.ipynb>data table notebook</a>'\n",
              "            + ' to learn more about interactive tables.';\n",
              "          element.innerHTML = '';\n",
              "          dataTable['output_type'] = 'display_data';\n",
              "          await google.colab.output.renderOutput(dataTable, element);\n",
              "          const docLink = document.createElement('div');\n",
              "          docLink.innerHTML = docLinkHtml;\n",
              "          element.appendChild(docLink);\n",
              "        }\n",
              "      </script>\n",
              "    </div>\n",
              "  </div>\n",
              "  "
            ]
          },
          "metadata": {},
          "execution_count": 15
        }
      ],
      "source": [
        "posts.head()"
      ]
    },
    {
      "cell_type": "code",
      "source": [
        "len(posts)"
      ],
      "metadata": {
        "colab": {
          "base_uri": "https://localhost:8080/"
        },
        "id": "3xYFntqwOTx7",
        "outputId": "38e8acf6-c96d-4f45-d426-51849a25245f"
      },
      "execution_count": 16,
      "outputs": [
        {
          "output_type": "execute_result",
          "data": {
            "text/plain": [
              "30"
            ]
          },
          "metadata": {},
          "execution_count": 16
        }
      ]
    },
    {
      "cell_type": "code",
      "source": [
        "30*300"
      ],
      "metadata": {
        "colab": {
          "base_uri": "https://localhost:8080/"
        },
        "id": "Phfv9qqwPNld",
        "outputId": "424fdde3-d319-4606-d29b-d14fd389d325"
      },
      "execution_count": 21,
      "outputs": [
        {
          "output_type": "execute_result",
          "data": {
            "text/plain": [
              "9000"
            ]
          },
          "metadata": {},
          "execution_count": 21
        }
      ]
    },
    {
      "cell_type": "code",
      "execution_count": 31,
      "metadata": {
        "id": "qBlwEhnW21vx"
      },
      "outputs": [],
      "source": [
        "comments_dict = {\n",
        "  \"comment_body\" : [],\n",
        "  \"comment_link_id\" : [],\n",
        "  \"comment_id\" : [],  \n",
        "      \n",
        "  }\n",
        "  \n",
        "for url_ in posts[\"url\"]:\n",
        "\n",
        "\n",
        "  submission = reddit.submission(url=url_)\n",
        "  #submission.comments.replace_more(limit = 300)\n",
        "  i =0\n",
        "  for comment in submission.comments.list():\n",
        "    if i <=300:\n",
        "      comments_dict[\"comment_body\"].append(comment.body)\n",
        "      comments_dict[\"comment_link_id\"].append(comment.link_id)\n",
        "      comments_dict[\"comment_id\"].append(comment.id)\n",
        "      i+=1\n",
        "    \n",
        "\n",
        "    \n",
        "  \n"
      ]
    },
    {
      "cell_type": "code",
      "execution_count": 32,
      "metadata": {
        "id": "jFOqmItKBXUg",
        "colab": {
          "base_uri": "https://localhost:8080/",
          "height": 204
        },
        "outputId": "ccdb8a3f-a327-4169-9c86-a9c366cc6ba8"
      },
      "outputs": [
        {
          "output_type": "execute_result",
          "data": {
            "text/plain": [
              "                                        comment_body comment_link_id  \\\n",
              "0  I mean yeah, you shouldn’t stare at people’s b...      t3_13a21mf   \n",
              "1  I guess in mind I was trying to rationalize it...      t3_13a21mf   \n",
              "2                                               Yes.      t3_12i476q   \n",
              "3  Okay then how about you kill yourself first th...      t3_12i476q   \n",
              "4  Yes killing a rapist is ok killing that guy wh...      t3_12i476q   \n",
              "\n",
              "  comment_id  \n",
              "0    jj8yroq  \n",
              "1    jjaq7p2  \n",
              "2    jfsxoh9  \n",
              "3    jfxwk0y  \n",
              "4    jh44p4h  "
            ],
            "text/html": [
              "\n",
              "  <div id=\"df-37590799-9ed0-4a58-af84-e62b2d14bfa5\">\n",
              "    <div class=\"colab-df-container\">\n",
              "      <div>\n",
              "<style scoped>\n",
              "    .dataframe tbody tr th:only-of-type {\n",
              "        vertical-align: middle;\n",
              "    }\n",
              "\n",
              "    .dataframe tbody tr th {\n",
              "        vertical-align: top;\n",
              "    }\n",
              "\n",
              "    .dataframe thead th {\n",
              "        text-align: right;\n",
              "    }\n",
              "</style>\n",
              "<table border=\"1\" class=\"dataframe\">\n",
              "  <thead>\n",
              "    <tr style=\"text-align: right;\">\n",
              "      <th></th>\n",
              "      <th>comment_body</th>\n",
              "      <th>comment_link_id</th>\n",
              "      <th>comment_id</th>\n",
              "    </tr>\n",
              "  </thead>\n",
              "  <tbody>\n",
              "    <tr>\n",
              "      <th>0</th>\n",
              "      <td>I mean yeah, you shouldn’t stare at people’s b...</td>\n",
              "      <td>t3_13a21mf</td>\n",
              "      <td>jj8yroq</td>\n",
              "    </tr>\n",
              "    <tr>\n",
              "      <th>1</th>\n",
              "      <td>I guess in mind I was trying to rationalize it...</td>\n",
              "      <td>t3_13a21mf</td>\n",
              "      <td>jjaq7p2</td>\n",
              "    </tr>\n",
              "    <tr>\n",
              "      <th>2</th>\n",
              "      <td>Yes.</td>\n",
              "      <td>t3_12i476q</td>\n",
              "      <td>jfsxoh9</td>\n",
              "    </tr>\n",
              "    <tr>\n",
              "      <th>3</th>\n",
              "      <td>Okay then how about you kill yourself first th...</td>\n",
              "      <td>t3_12i476q</td>\n",
              "      <td>jfxwk0y</td>\n",
              "    </tr>\n",
              "    <tr>\n",
              "      <th>4</th>\n",
              "      <td>Yes killing a rapist is ok killing that guy wh...</td>\n",
              "      <td>t3_12i476q</td>\n",
              "      <td>jh44p4h</td>\n",
              "    </tr>\n",
              "  </tbody>\n",
              "</table>\n",
              "</div>\n",
              "      <button class=\"colab-df-convert\" onclick=\"convertToInteractive('df-37590799-9ed0-4a58-af84-e62b2d14bfa5')\"\n",
              "              title=\"Convert this dataframe to an interactive table.\"\n",
              "              style=\"display:none;\">\n",
              "        \n",
              "  <svg xmlns=\"http://www.w3.org/2000/svg\" height=\"24px\"viewBox=\"0 0 24 24\"\n",
              "       width=\"24px\">\n",
              "    <path d=\"M0 0h24v24H0V0z\" fill=\"none\"/>\n",
              "    <path d=\"M18.56 5.44l.94 2.06.94-2.06 2.06-.94-2.06-.94-.94-2.06-.94 2.06-2.06.94zm-11 1L8.5 8.5l.94-2.06 2.06-.94-2.06-.94L8.5 2.5l-.94 2.06-2.06.94zm10 10l.94 2.06.94-2.06 2.06-.94-2.06-.94-.94-2.06-.94 2.06-2.06.94z\"/><path d=\"M17.41 7.96l-1.37-1.37c-.4-.4-.92-.59-1.43-.59-.52 0-1.04.2-1.43.59L10.3 9.45l-7.72 7.72c-.78.78-.78 2.05 0 2.83L4 21.41c.39.39.9.59 1.41.59.51 0 1.02-.2 1.41-.59l7.78-7.78 2.81-2.81c.8-.78.8-2.07 0-2.86zM5.41 20L4 18.59l7.72-7.72 1.47 1.35L5.41 20z\"/>\n",
              "  </svg>\n",
              "      </button>\n",
              "      \n",
              "  <style>\n",
              "    .colab-df-container {\n",
              "      display:flex;\n",
              "      flex-wrap:wrap;\n",
              "      gap: 12px;\n",
              "    }\n",
              "\n",
              "    .colab-df-convert {\n",
              "      background-color: #E8F0FE;\n",
              "      border: none;\n",
              "      border-radius: 50%;\n",
              "      cursor: pointer;\n",
              "      display: none;\n",
              "      fill: #1967D2;\n",
              "      height: 32px;\n",
              "      padding: 0 0 0 0;\n",
              "      width: 32px;\n",
              "    }\n",
              "\n",
              "    .colab-df-convert:hover {\n",
              "      background-color: #E2EBFA;\n",
              "      box-shadow: 0px 1px 2px rgba(60, 64, 67, 0.3), 0px 1px 3px 1px rgba(60, 64, 67, 0.15);\n",
              "      fill: #174EA6;\n",
              "    }\n",
              "\n",
              "    [theme=dark] .colab-df-convert {\n",
              "      background-color: #3B4455;\n",
              "      fill: #D2E3FC;\n",
              "    }\n",
              "\n",
              "    [theme=dark] .colab-df-convert:hover {\n",
              "      background-color: #434B5C;\n",
              "      box-shadow: 0px 1px 3px 1px rgba(0, 0, 0, 0.15);\n",
              "      filter: drop-shadow(0px 1px 2px rgba(0, 0, 0, 0.3));\n",
              "      fill: #FFFFFF;\n",
              "    }\n",
              "  </style>\n",
              "\n",
              "      <script>\n",
              "        const buttonEl =\n",
              "          document.querySelector('#df-37590799-9ed0-4a58-af84-e62b2d14bfa5 button.colab-df-convert');\n",
              "        buttonEl.style.display =\n",
              "          google.colab.kernel.accessAllowed ? 'block' : 'none';\n",
              "\n",
              "        async function convertToInteractive(key) {\n",
              "          const element = document.querySelector('#df-37590799-9ed0-4a58-af84-e62b2d14bfa5');\n",
              "          const dataTable =\n",
              "            await google.colab.kernel.invokeFunction('convertToInteractive',\n",
              "                                                     [key], {});\n",
              "          if (!dataTable) return;\n",
              "\n",
              "          const docLinkHtml = 'Like what you see? Visit the ' +\n",
              "            '<a target=\"_blank\" href=https://colab.research.google.com/notebooks/data_table.ipynb>data table notebook</a>'\n",
              "            + ' to learn more about interactive tables.';\n",
              "          element.innerHTML = '';\n",
              "          dataTable['output_type'] = 'display_data';\n",
              "          await google.colab.output.renderOutput(dataTable, element);\n",
              "          const docLink = document.createElement('div');\n",
              "          docLink.innerHTML = docLinkHtml;\n",
              "          element.appendChild(docLink);\n",
              "        }\n",
              "      </script>\n",
              "    </div>\n",
              "  </div>\n",
              "  "
            ]
          },
          "metadata": {},
          "execution_count": 32
        }
      ],
      "source": [
        "post_comments_ = pd.DataFrame(comments_dict)\n",
        "post_comments_.head()"
      ]
    },
    {
      "cell_type": "code",
      "source": [
        "len(post_comments_)"
      ],
      "metadata": {
        "colab": {
          "base_uri": "https://localhost:8080/"
        },
        "id": "TqoU3OlVQI7m",
        "outputId": "0ec7995d-1b00-4905-80fb-a3c5ca53f962"
      },
      "execution_count": 33,
      "outputs": [
        {
          "output_type": "execute_result",
          "data": {
            "text/plain": [
              "43"
            ]
          },
          "metadata": {},
          "execution_count": 33
        }
      ]
    },
    {
      "cell_type": "code",
      "execution_count": null,
      "metadata": {
        "id": "d29mYtVD9iuO"
      },
      "outputs": [],
      "source": [
        "\n",
        "post_comments_.to_csv(\"/content/drive/MyDrive/den_yelp_notebooks/commentsHot_subreddit.csv\")"
      ]
    },
    {
      "cell_type": "code",
      "execution_count": 35,
      "metadata": {
        "id": "1gobRkpc7oBf"
      },
      "outputs": [],
      "source": [
        "sub = [\"NoStupidQuestions\"]  # make a list of subreddits you want to scrape the data from\n",
        "\n",
        "for s in sub:\n",
        "    subreddit = reddit.subreddit(s)\n",
        "    "
      ]
    },
    {
      "cell_type": "code",
      "execution_count": 39,
      "metadata": {
        "id": "O5oxt8WgGSu2"
      },
      "outputs": [],
      "source": [
        "\n",
        "query = ['moral' 'ethics', 'values']\n",
        "dfs_comments = []\n",
        "dfs_data = []\n",
        "for item in query:\n",
        "\n",
        "  post_dict = {\n",
        "      \"title\" : [],   #title of the post\n",
        "      \"score\" : [],   # score of the post\n",
        "      \"id\" : [],      # unique id of the post\n",
        "      \"url\" : [],     #url of the post\n",
        "      \"comms_num\": [],   #the number of comments on the post\n",
        "      \"created\" : [],  #timestamp of the post\n",
        "      \"body\" : []         # the descriptionof post\n",
        "  }\n",
        "  comments_dict = {\n",
        "      \"comment_id\" : [],      #unique comm id\n",
        "      \"comment_parent_id\" : [],   # comment parent id\n",
        "      \"comment_body\" : [],   # text in comment\n",
        "      \"comment_link_id\" : [],\n",
        "      \"comment_important_words\":[] #link to the comment\n",
        "       \n",
        "  }\n",
        "  \n",
        "  for submission in subreddit.search(query, sort = \"top\",limit = 10):\n",
        "      post_dict[\"title\"].append(submission.title)\n",
        "      post_dict[\"score\"].append(submission.score)\n",
        "      post_dict[\"id\"].append(submission.id)\n",
        "      post_dict[\"url\"].append(submission.url)\n",
        "      post_dict[\"comms_num\"].append(submission.num_comments)\n",
        "      post_dict[\"created\"].append(submission.created)\n",
        "      post_dict[\"body\"].append(submission.selftext)\n",
        "      \n",
        "      ##### Acessing comments on the post\n",
        "      submission.comments.replace_more(limit = 1)\n",
        "      for comment in submission.comments.list():\n",
        "        comment_ = tweet_to_words(comment.body)\n",
        "        comments_dict[\"comment_id\"].append(comment.id)\n",
        "        comments_dict[\"comment_parent_id\"].append(comment.parent_id)\n",
        "        comments_dict[\"comment_body\"].append(comment.body)\n",
        "        comments_dict[\"comment_important_words\"].append(comment_)\n",
        "        comments_dict[\"comment_link_id\"].append(comment.link_id)\n",
        "        \n",
        "\n",
        "  post_comments = pd.DataFrame(comments_dict)\n",
        "  dfs_comments.append(post_comments)\n",
        "  #post_comments.to_csv(s+\"_comments_\"+ item +\"subreddit.csv\")\n",
        "  post_data = pd.DataFrame(post_dict)\n",
        "  dfs_data.append(post_data)\n",
        "  #post_data.to_csv(s+\"_\"+ item +\"subreddit.csv\")\n",
        "\n"
      ]
    },
    {
      "cell_type": "code",
      "execution_count": 42,
      "metadata": {
        "id": "iK4_UPmEKYc8"
      },
      "outputs": [],
      "source": [
        "df_concat_comments = pd.concat(dfs_comments, axis=0)\n",
        "df_concat_comments.head()\n",
        "df_concat_comments.to_csv(\"/content/drive/MyDrive/den_yelp_notebooks/comments_subreddit2.csv\")"
      ]
    },
    {
      "cell_type": "code",
      "source": [
        "len(df_concat_comments)"
      ],
      "metadata": {
        "colab": {
          "base_uri": "https://localhost:8080/"
        },
        "id": "ohN27-YwVFjN",
        "outputId": "cf6d7f0f-9073-438b-8493-fb74cafa0f9d"
      },
      "execution_count": 43,
      "outputs": [
        {
          "output_type": "execute_result",
          "data": {
            "text/plain": [
              "8790"
            ]
          },
          "metadata": {},
          "execution_count": 43
        }
      ]
    },
    {
      "cell_type": "code",
      "execution_count": 44,
      "metadata": {
        "colab": {
          "base_uri": "https://localhost:8080/",
          "height": 52
        },
        "id": "iH-nHAg3Kkez",
        "outputId": "5eb42395-70b9-48a4-d230-5184ac5c37e3"
      },
      "outputs": [
        {
          "output_type": "execute_result",
          "data": {
            "text/plain": [
              "'I don’t get it. If you were supposed to get $12, but recieved a single bill wouldn’t you logically unfold the bill to see how much change you’d need to give back? I mean whatever amount that bill was it was not going to be the correct amount, no?'"
            ],
            "application/vnd.google.colaboratory.intrinsic+json": {
              "type": "string"
            }
          },
          "metadata": {},
          "execution_count": 44
        }
      ],
      "source": [
        "df_concat_comments[\"comment_body\"].iloc[7]"
      ]
    },
    {
      "cell_type": "code",
      "execution_count": 45,
      "metadata": {
        "colab": {
          "base_uri": "https://localhost:8080/"
        },
        "id": "ItSA1G53Eeng",
        "outputId": "affd6cff-c77d-4817-d50e-65994874ecc4"
      },
      "outputs": [
        {
          "output_type": "execute_result",
          "data": {
            "text/plain": [
              "8790"
            ]
          },
          "metadata": {},
          "execution_count": 45
        }
      ],
      "source": [
        "len(df_concat_comments)"
      ]
    },
    {
      "cell_type": "code",
      "execution_count": 46,
      "metadata": {
        "colab": {
          "base_uri": "https://localhost:8080/",
          "height": 248
        },
        "id": "c3kOdPrzHVJt",
        "outputId": "af7078b5-d952-4f97-f4d9-7104ce62c6e7"
      },
      "outputs": [
        {
          "output_type": "execute_result",
          "data": {
            "text/plain": [
              "                                               title  score       id  \\\n",
              "0  Delivered $12 food order to a person with Down...  20062   l2d2ba   \n",
              "1  Are NFTs like beanie babies where it's somethi...  15610   qonpbp   \n",
              "2  Is it insensitive of me for not to want religi...  11124   wx43fo   \n",
              "3  If an astronaut dies while in space, do they e...  10216   gsffgv   \n",
              "4  If its illegal to sell a house to your buddy f...   4007  13j0bcr   \n",
              "\n",
              "                                                 url  comms_num       created  \\\n",
              "0  https://www.reddit.com/r/NoStupidQuestions/com...       1306  1.611280e+09   \n",
              "1  https://www.reddit.com/r/NoStupidQuestions/com...       2035  1.636289e+09   \n",
              "2  https://www.reddit.com/r/NoStupidQuestions/com...       1285  1.661400e+09   \n",
              "3  https://www.reddit.com/r/NoStupidQuestions/com...        498  1.590702e+09   \n",
              "4  https://www.reddit.com/r/NoStupidQuestions/com...        641  1.684230e+09   \n",
              "\n",
              "                                                body  \n",
              "0  I have a job delivering for a local sandwich s...  \n",
              "1                                                     \n",
              "2  I'm 19 and I'm struggling with my mental healt...  \n",
              "3  I'm asking because I know some cultures really...  \n",
              "4                                                     "
            ],
            "text/html": [
              "\n",
              "  <div id=\"df-865fe64a-ea73-495b-a264-efa61d8f4dda\">\n",
              "    <div class=\"colab-df-container\">\n",
              "      <div>\n",
              "<style scoped>\n",
              "    .dataframe tbody tr th:only-of-type {\n",
              "        vertical-align: middle;\n",
              "    }\n",
              "\n",
              "    .dataframe tbody tr th {\n",
              "        vertical-align: top;\n",
              "    }\n",
              "\n",
              "    .dataframe thead th {\n",
              "        text-align: right;\n",
              "    }\n",
              "</style>\n",
              "<table border=\"1\" class=\"dataframe\">\n",
              "  <thead>\n",
              "    <tr style=\"text-align: right;\">\n",
              "      <th></th>\n",
              "      <th>title</th>\n",
              "      <th>score</th>\n",
              "      <th>id</th>\n",
              "      <th>url</th>\n",
              "      <th>comms_num</th>\n",
              "      <th>created</th>\n",
              "      <th>body</th>\n",
              "    </tr>\n",
              "  </thead>\n",
              "  <tbody>\n",
              "    <tr>\n",
              "      <th>0</th>\n",
              "      <td>Delivered $12 food order to a person with Down...</td>\n",
              "      <td>20062</td>\n",
              "      <td>l2d2ba</td>\n",
              "      <td>https://www.reddit.com/r/NoStupidQuestions/com...</td>\n",
              "      <td>1306</td>\n",
              "      <td>1.611280e+09</td>\n",
              "      <td>I have a job delivering for a local sandwich s...</td>\n",
              "    </tr>\n",
              "    <tr>\n",
              "      <th>1</th>\n",
              "      <td>Are NFTs like beanie babies where it's somethi...</td>\n",
              "      <td>15610</td>\n",
              "      <td>qonpbp</td>\n",
              "      <td>https://www.reddit.com/r/NoStupidQuestions/com...</td>\n",
              "      <td>2035</td>\n",
              "      <td>1.636289e+09</td>\n",
              "      <td></td>\n",
              "    </tr>\n",
              "    <tr>\n",
              "      <th>2</th>\n",
              "      <td>Is it insensitive of me for not to want religi...</td>\n",
              "      <td>11124</td>\n",
              "      <td>wx43fo</td>\n",
              "      <td>https://www.reddit.com/r/NoStupidQuestions/com...</td>\n",
              "      <td>1285</td>\n",
              "      <td>1.661400e+09</td>\n",
              "      <td>I'm 19 and I'm struggling with my mental healt...</td>\n",
              "    </tr>\n",
              "    <tr>\n",
              "      <th>3</th>\n",
              "      <td>If an astronaut dies while in space, do they e...</td>\n",
              "      <td>10216</td>\n",
              "      <td>gsffgv</td>\n",
              "      <td>https://www.reddit.com/r/NoStupidQuestions/com...</td>\n",
              "      <td>498</td>\n",
              "      <td>1.590702e+09</td>\n",
              "      <td>I'm asking because I know some cultures really...</td>\n",
              "    </tr>\n",
              "    <tr>\n",
              "      <th>4</th>\n",
              "      <td>If its illegal to sell a house to your buddy f...</td>\n",
              "      <td>4007</td>\n",
              "      <td>13j0bcr</td>\n",
              "      <td>https://www.reddit.com/r/NoStupidQuestions/com...</td>\n",
              "      <td>641</td>\n",
              "      <td>1.684230e+09</td>\n",
              "      <td></td>\n",
              "    </tr>\n",
              "  </tbody>\n",
              "</table>\n",
              "</div>\n",
              "      <button class=\"colab-df-convert\" onclick=\"convertToInteractive('df-865fe64a-ea73-495b-a264-efa61d8f4dda')\"\n",
              "              title=\"Convert this dataframe to an interactive table.\"\n",
              "              style=\"display:none;\">\n",
              "        \n",
              "  <svg xmlns=\"http://www.w3.org/2000/svg\" height=\"24px\"viewBox=\"0 0 24 24\"\n",
              "       width=\"24px\">\n",
              "    <path d=\"M0 0h24v24H0V0z\" fill=\"none\"/>\n",
              "    <path d=\"M18.56 5.44l.94 2.06.94-2.06 2.06-.94-2.06-.94-.94-2.06-.94 2.06-2.06.94zm-11 1L8.5 8.5l.94-2.06 2.06-.94-2.06-.94L8.5 2.5l-.94 2.06-2.06.94zm10 10l.94 2.06.94-2.06 2.06-.94-2.06-.94-.94-2.06-.94 2.06-2.06.94z\"/><path d=\"M17.41 7.96l-1.37-1.37c-.4-.4-.92-.59-1.43-.59-.52 0-1.04.2-1.43.59L10.3 9.45l-7.72 7.72c-.78.78-.78 2.05 0 2.83L4 21.41c.39.39.9.59 1.41.59.51 0 1.02-.2 1.41-.59l7.78-7.78 2.81-2.81c.8-.78.8-2.07 0-2.86zM5.41 20L4 18.59l7.72-7.72 1.47 1.35L5.41 20z\"/>\n",
              "  </svg>\n",
              "      </button>\n",
              "      \n",
              "  <style>\n",
              "    .colab-df-container {\n",
              "      display:flex;\n",
              "      flex-wrap:wrap;\n",
              "      gap: 12px;\n",
              "    }\n",
              "\n",
              "    .colab-df-convert {\n",
              "      background-color: #E8F0FE;\n",
              "      border: none;\n",
              "      border-radius: 50%;\n",
              "      cursor: pointer;\n",
              "      display: none;\n",
              "      fill: #1967D2;\n",
              "      height: 32px;\n",
              "      padding: 0 0 0 0;\n",
              "      width: 32px;\n",
              "    }\n",
              "\n",
              "    .colab-df-convert:hover {\n",
              "      background-color: #E2EBFA;\n",
              "      box-shadow: 0px 1px 2px rgba(60, 64, 67, 0.3), 0px 1px 3px 1px rgba(60, 64, 67, 0.15);\n",
              "      fill: #174EA6;\n",
              "    }\n",
              "\n",
              "    [theme=dark] .colab-df-convert {\n",
              "      background-color: #3B4455;\n",
              "      fill: #D2E3FC;\n",
              "    }\n",
              "\n",
              "    [theme=dark] .colab-df-convert:hover {\n",
              "      background-color: #434B5C;\n",
              "      box-shadow: 0px 1px 3px 1px rgba(0, 0, 0, 0.15);\n",
              "      filter: drop-shadow(0px 1px 2px rgba(0, 0, 0, 0.3));\n",
              "      fill: #FFFFFF;\n",
              "    }\n",
              "  </style>\n",
              "\n",
              "      <script>\n",
              "        const buttonEl =\n",
              "          document.querySelector('#df-865fe64a-ea73-495b-a264-efa61d8f4dda button.colab-df-convert');\n",
              "        buttonEl.style.display =\n",
              "          google.colab.kernel.accessAllowed ? 'block' : 'none';\n",
              "\n",
              "        async function convertToInteractive(key) {\n",
              "          const element = document.querySelector('#df-865fe64a-ea73-495b-a264-efa61d8f4dda');\n",
              "          const dataTable =\n",
              "            await google.colab.kernel.invokeFunction('convertToInteractive',\n",
              "                                                     [key], {});\n",
              "          if (!dataTable) return;\n",
              "\n",
              "          const docLinkHtml = 'Like what you see? Visit the ' +\n",
              "            '<a target=\"_blank\" href=https://colab.research.google.com/notebooks/data_table.ipynb>data table notebook</a>'\n",
              "            + ' to learn more about interactive tables.';\n",
              "          element.innerHTML = '';\n",
              "          dataTable['output_type'] = 'display_data';\n",
              "          await google.colab.output.renderOutput(dataTable, element);\n",
              "          const docLink = document.createElement('div');\n",
              "          docLink.innerHTML = docLinkHtml;\n",
              "          element.appendChild(docLink);\n",
              "        }\n",
              "      </script>\n",
              "    </div>\n",
              "  </div>\n",
              "  "
            ]
          },
          "metadata": {},
          "execution_count": 46
        }
      ],
      "source": [
        "df_metadata = pd.concat(dfs_data, axis=0)\n",
        "df_metadata.head()\n"
      ]
    },
    {
      "cell_type": "code",
      "source": [
        "len(df_metadata)"
      ],
      "metadata": {
        "colab": {
          "base_uri": "https://localhost:8080/"
        },
        "id": "rhbnftpAXo7S",
        "outputId": "89d497eb-6403-4fb7-9a4e-abd07fe97b09"
      },
      "execution_count": 47,
      "outputs": [
        {
          "output_type": "execute_result",
          "data": {
            "text/plain": [
              "20"
            ]
          },
          "metadata": {},
          "execution_count": 47
        }
      ]
    },
    {
      "cell_type": "code",
      "source": [
        "df_metadata.to_csv(\"/content/drive/MyDrive/den_yelp_notebooks/metadata_subreddit2.csv\")"
      ],
      "metadata": {
        "id": "MS6O-_hGXtgY"
      },
      "execution_count": 48,
      "outputs": []
    },
    {
      "cell_type": "code",
      "execution_count": null,
      "metadata": {
        "colab": {
          "base_uri": "https://localhost:8080/"
        },
        "id": "DpuwcF2Xj5mN",
        "outputId": "2e03863f-0674-4a9a-cc78-5b16cdcab158"
      },
      "outputs": [
        {
          "data": {
            "text/plain": [
              "I can’t breathe. Black lives matter.                                                                                                                          5\n",
              "How do you feel about ’how would you feel?’ posts being banned?                                                                                               5\n",
              "Where can you find fair, honest and reasonably unbiased opinions on world news and politics?                                                                  5\n",
              "Reddit, Can we have a reddit job fair?                                                                                                                        5\n",
              "Mother-In-Laws of Reddit, in the interest of fairness, what are your crazy daughter-in-law stories?                                                           5\n",
              "You die. Death himself however says if you can beat him at a fair game of your choice, you get a second chance at life. What game do you challenge him to?    5\n",
              "Who is the best example of someone that you're not sure if they are a complete idiot or a genius?                                                             5\n",
              "[UPDATE] I was requested to compile all of the real-life cheats into an easy to read list.                                                                    5\n",
              "Reddit, what's a fairly unknown yet super interesting subreddit that will pass the time?                                                                      5\n",
              "Reddit, what is the most fucked up way you got back at someone that wronged you. *Throwaways encouraged*                                                      5\n",
              "Name: title, dtype: int64"
            ]
          },
          "execution_count": 49,
          "metadata": {},
          "output_type": "execute_result"
        }
      ],
      "source": [
        "df_metadata[\"title\"].value_counts()"
      ]
    },
    {
      "cell_type": "markdown",
      "metadata": {
        "id": "qMJkITAWjUv2"
      },
      "source": []
    },
    {
      "cell_type": "code",
      "execution_count": null,
      "metadata": {
        "colab": {
          "base_uri": "https://localhost:8080/"
        },
        "id": "oLB2avW_CaMH",
        "outputId": "52202001-5a20-485c-b644-5e4552adb679"
      },
      "outputs": [
        {
          "name": "stdout",
          "output_type": "stream",
          "text": [
            "I can’t breathe. Black lives matter.\n",
            "How do you feel about ’how would you feel?’ posts being banned?\n",
            "Where can you find fair, honest and reasonably unbiased opinions on world news and politics?\n",
            "Reddit, Can we have a reddit job fair?\n",
            "Mother-In-Laws of Reddit, in the interest of fairness, what are your crazy daughter-in-law stories?\n",
            "You die. Death himself however says if you can beat him at a fair game of your choice, you get a second chance at life. What game do you challenge him to?\n",
            "Who is the best example of someone that you're not sure if they are a complete idiot or a genius?\n",
            "[UPDATE] I was requested to compile all of the real-life cheats into an easy to read list.\n",
            "Reddit, what's a fairly unknown yet super interesting subreddit that will pass the time?\n",
            "Reddit, what is the most fucked up way you got back at someone that wronged you. *Throwaways encouraged*\n",
            "I can’t breathe. Black lives matter.\n",
            "How do you feel about ’how would you feel?’ posts being banned?\n",
            "Where can you find fair, honest and reasonably unbiased opinions on world news and politics?\n",
            "Reddit, Can we have a reddit job fair?\n",
            "Mother-In-Laws of Reddit, in the interest of fairness, what are your crazy daughter-in-law stories?\n",
            "You die. Death himself however says if you can beat him at a fair game of your choice, you get a second chance at life. What game do you challenge him to?\n",
            "Who is the best example of someone that you're not sure if they are a complete idiot or a genius?\n",
            "[UPDATE] I was requested to compile all of the real-life cheats into an easy to read list.\n",
            "Reddit, what's a fairly unknown yet super interesting subreddit that will pass the time?\n",
            "Reddit, what is the most fucked up way you got back at someone that wronged you. *Throwaways encouraged*\n",
            "I can’t breathe. Black lives matter.\n",
            "How do you feel about ’how would you feel?’ posts being banned?\n",
            "Where can you find fair, honest and reasonably unbiased opinions on world news and politics?\n",
            "Reddit, Can we have a reddit job fair?\n",
            "Mother-In-Laws of Reddit, in the interest of fairness, what are your crazy daughter-in-law stories?\n",
            "You die. Death himself however says if you can beat him at a fair game of your choice, you get a second chance at life. What game do you challenge him to?\n",
            "Who is the best example of someone that you're not sure if they are a complete idiot or a genius?\n",
            "[UPDATE] I was requested to compile all of the real-life cheats into an easy to read list.\n",
            "Reddit, what's a fairly unknown yet super interesting subreddit that will pass the time?\n",
            "Reddit, what is the most fucked up way you got back at someone that wronged you. *Throwaways encouraged*\n",
            "I can’t breathe. Black lives matter.\n",
            "How do you feel about ’how would you feel?’ posts being banned?\n",
            "Where can you find fair, honest and reasonably unbiased opinions on world news and politics?\n",
            "Reddit, Can we have a reddit job fair?\n",
            "Mother-In-Laws of Reddit, in the interest of fairness, what are your crazy daughter-in-law stories?\n",
            "You die. Death himself however says if you can beat him at a fair game of your choice, you get a second chance at life. What game do you challenge him to?\n",
            "Who is the best example of someone that you're not sure if they are a complete idiot or a genius?\n",
            "[UPDATE] I was requested to compile all of the real-life cheats into an easy to read list.\n",
            "Reddit, what's a fairly unknown yet super interesting subreddit that will pass the time?\n",
            "Reddit, what is the most fucked up way you got back at someone that wronged you. *Throwaways encouraged*\n",
            "I can’t breathe. Black lives matter.\n",
            "How do you feel about ’how would you feel?’ posts being banned?\n",
            "Where can you find fair, honest and reasonably unbiased opinions on world news and politics?\n",
            "Reddit, Can we have a reddit job fair?\n",
            "Mother-In-Laws of Reddit, in the interest of fairness, what are your crazy daughter-in-law stories?\n",
            "You die. Death himself however says if you can beat him at a fair game of your choice, you get a second chance at life. What game do you challenge him to?\n",
            "Who is the best example of someone that you're not sure if they are a complete idiot or a genius?\n",
            "[UPDATE] I was requested to compile all of the real-life cheats into an easy to read list.\n",
            "Reddit, what's a fairly unknown yet super interesting subreddit that will pass the time?\n",
            "Reddit, what is the most fucked up way you got back at someone that wronged you. *Throwaways encouraged*\n"
          ]
        }
      ],
      "source": [
        "for title in df_metadata[\"title\"]:\n",
        "  print(title)"
      ]
    },
    {
      "cell_type": "code",
      "execution_count": null,
      "metadata": {
        "colab": {
          "base_uri": "https://localhost:8080/"
        },
        "id": "mhNxrYLGGi86",
        "outputId": "52c35067-a7db-45f2-df4e-b241f6ebf44c"
      },
      "outputs": [
        {
          "data": {
            "text/plain": [
              "593"
            ]
          },
          "execution_count": 36,
          "metadata": {},
          "output_type": "execute_result"
        }
      ],
      "source": [
        "len(post_comments)"
      ]
    },
    {
      "cell_type": "code",
      "execution_count": null,
      "metadata": {
        "colab": {
          "base_uri": "https://localhost:8080/",
          "height": 80
        },
        "id": "CLracm2cDvjp",
        "outputId": "091be545-0d1d-4b9e-a1aa-fa145b92c331"
      },
      "outputs": [
        {
          "data": {
            "text/html": [
              "\n",
              "  <div id=\"df-2bba6a7e-ffd4-44ce-a81e-fa4b038a8a76\">\n",
              "    <div class=\"colab-df-container\">\n",
              "      <div>\n",
              "<style scoped>\n",
              "    .dataframe tbody tr th:only-of-type {\n",
              "        vertical-align: middle;\n",
              "    }\n",
              "\n",
              "    .dataframe tbody tr th {\n",
              "        vertical-align: top;\n",
              "    }\n",
              "\n",
              "    .dataframe thead th {\n",
              "        text-align: right;\n",
              "    }\n",
              "</style>\n",
              "<table border=\"1\" class=\"dataframe\">\n",
              "  <thead>\n",
              "    <tr style=\"text-align: right;\">\n",
              "      <th></th>\n",
              "      <th>title</th>\n",
              "      <th>score</th>\n",
              "      <th>id</th>\n",
              "      <th>url</th>\n",
              "      <th>comms_num</th>\n",
              "      <th>created</th>\n",
              "      <th>body</th>\n",
              "    </tr>\n",
              "  </thead>\n",
              "  <tbody>\n",
              "    <tr>\n",
              "      <th>0</th>\n",
              "      <td>what scientific experiment would you run if mo...</td>\n",
              "      <td>73956</td>\n",
              "      <td>e31v9o</td>\n",
              "      <td>https://www.reddit.com/r/AskReddit/comments/e3...</td>\n",
              "      <td>19529</td>\n",
              "      <td>1.574965e+09</td>\n",
              "      <td></td>\n",
              "    </tr>\n",
              "  </tbody>\n",
              "</table>\n",
              "</div>\n",
              "      <button class=\"colab-df-convert\" onclick=\"convertToInteractive('df-2bba6a7e-ffd4-44ce-a81e-fa4b038a8a76')\"\n",
              "              title=\"Convert this dataframe to an interactive table.\"\n",
              "              style=\"display:none;\">\n",
              "        \n",
              "  <svg xmlns=\"http://www.w3.org/2000/svg\" height=\"24px\"viewBox=\"0 0 24 24\"\n",
              "       width=\"24px\">\n",
              "    <path d=\"M0 0h24v24H0V0z\" fill=\"none\"/>\n",
              "    <path d=\"M18.56 5.44l.94 2.06.94-2.06 2.06-.94-2.06-.94-.94-2.06-.94 2.06-2.06.94zm-11 1L8.5 8.5l.94-2.06 2.06-.94-2.06-.94L8.5 2.5l-.94 2.06-2.06.94zm10 10l.94 2.06.94-2.06 2.06-.94-2.06-.94-.94-2.06-.94 2.06-2.06.94z\"/><path d=\"M17.41 7.96l-1.37-1.37c-.4-.4-.92-.59-1.43-.59-.52 0-1.04.2-1.43.59L10.3 9.45l-7.72 7.72c-.78.78-.78 2.05 0 2.83L4 21.41c.39.39.9.59 1.41.59.51 0 1.02-.2 1.41-.59l7.78-7.78 2.81-2.81c.8-.78.8-2.07 0-2.86zM5.41 20L4 18.59l7.72-7.72 1.47 1.35L5.41 20z\"/>\n",
              "  </svg>\n",
              "      </button>\n",
              "      \n",
              "  <style>\n",
              "    .colab-df-container {\n",
              "      display:flex;\n",
              "      flex-wrap:wrap;\n",
              "      gap: 12px;\n",
              "    }\n",
              "\n",
              "    .colab-df-convert {\n",
              "      background-color: #E8F0FE;\n",
              "      border: none;\n",
              "      border-radius: 50%;\n",
              "      cursor: pointer;\n",
              "      display: none;\n",
              "      fill: #1967D2;\n",
              "      height: 32px;\n",
              "      padding: 0 0 0 0;\n",
              "      width: 32px;\n",
              "    }\n",
              "\n",
              "    .colab-df-convert:hover {\n",
              "      background-color: #E2EBFA;\n",
              "      box-shadow: 0px 1px 2px rgba(60, 64, 67, 0.3), 0px 1px 3px 1px rgba(60, 64, 67, 0.15);\n",
              "      fill: #174EA6;\n",
              "    }\n",
              "\n",
              "    [theme=dark] .colab-df-convert {\n",
              "      background-color: #3B4455;\n",
              "      fill: #D2E3FC;\n",
              "    }\n",
              "\n",
              "    [theme=dark] .colab-df-convert:hover {\n",
              "      background-color: #434B5C;\n",
              "      box-shadow: 0px 1px 3px 1px rgba(0, 0, 0, 0.15);\n",
              "      filter: drop-shadow(0px 1px 2px rgba(0, 0, 0, 0.3));\n",
              "      fill: #FFFFFF;\n",
              "    }\n",
              "  </style>\n",
              "\n",
              "      <script>\n",
              "        const buttonEl =\n",
              "          document.querySelector('#df-2bba6a7e-ffd4-44ce-a81e-fa4b038a8a76 button.colab-df-convert');\n",
              "        buttonEl.style.display =\n",
              "          google.colab.kernel.accessAllowed ? 'block' : 'none';\n",
              "\n",
              "        async function convertToInteractive(key) {\n",
              "          const element = document.querySelector('#df-2bba6a7e-ffd4-44ce-a81e-fa4b038a8a76');\n",
              "          const dataTable =\n",
              "            await google.colab.kernel.invokeFunction('convertToInteractive',\n",
              "                                                     [key], {});\n",
              "          if (!dataTable) return;\n",
              "\n",
              "          const docLinkHtml = 'Like what you see? Visit the ' +\n",
              "            '<a target=\"_blank\" href=https://colab.research.google.com/notebooks/data_table.ipynb>data table notebook</a>'\n",
              "            + ' to learn more about interactive tables.';\n",
              "          element.innerHTML = '';\n",
              "          dataTable['output_type'] = 'display_data';\n",
              "          await google.colab.output.renderOutput(dataTable, element);\n",
              "          const docLink = document.createElement('div');\n",
              "          docLink.innerHTML = docLinkHtml;\n",
              "          element.appendChild(docLink);\n",
              "        }\n",
              "      </script>\n",
              "    </div>\n",
              "  </div>\n",
              "  "
            ],
            "text/plain": [
              "                                               title  score      id  \\\n",
              "0  what scientific experiment would you run if mo...  73956  e31v9o   \n",
              "\n",
              "                                                 url  comms_num       created  \\\n",
              "0  https://www.reddit.com/r/AskReddit/comments/e3...      19529  1.574965e+09   \n",
              "\n",
              "  body  \n",
              "0       "
            ]
          },
          "execution_count": 45,
          "metadata": {},
          "output_type": "execute_result"
        }
      ],
      "source": [
        "post_data"
      ]
    },
    {
      "cell_type": "code",
      "execution_count": null,
      "metadata": {
        "colab": {
          "base_uri": "https://localhost:8080/",
          "height": 80
        },
        "id": "Xly9BeGNDvmZ",
        "outputId": "6657dcd6-0414-43b4-ea29-352754ece7ee"
      },
      "outputs": [
        {
          "data": {
            "text/html": [
              "\n",
              "  <div id=\"df-92400483-1964-4aab-b13e-473688ca78ee\">\n",
              "    <div class=\"colab-df-container\">\n",
              "      <div>\n",
              "<style scoped>\n",
              "    .dataframe tbody tr th:only-of-type {\n",
              "        vertical-align: middle;\n",
              "    }\n",
              "\n",
              "    .dataframe tbody tr th {\n",
              "        vertical-align: top;\n",
              "    }\n",
              "\n",
              "    .dataframe thead th {\n",
              "        text-align: right;\n",
              "    }\n",
              "</style>\n",
              "<table border=\"1\" class=\"dataframe\">\n",
              "  <thead>\n",
              "    <tr style=\"text-align: right;\">\n",
              "      <th></th>\n",
              "      <th>title</th>\n",
              "      <th>score</th>\n",
              "      <th>id</th>\n",
              "      <th>url</th>\n",
              "      <th>comms_num</th>\n",
              "      <th>created</th>\n",
              "      <th>body</th>\n",
              "    </tr>\n",
              "  </thead>\n",
              "  <tbody>\n",
              "    <tr>\n",
              "      <th>0</th>\n",
              "      <td>what scientific experiment would you run if mo...</td>\n",
              "      <td>73954</td>\n",
              "      <td>e31v9o</td>\n",
              "      <td>https://www.reddit.com/r/AskReddit/comments/e3...</td>\n",
              "      <td>19529</td>\n",
              "      <td>1.574965e+09</td>\n",
              "      <td></td>\n",
              "    </tr>\n",
              "  </tbody>\n",
              "</table>\n",
              "</div>\n",
              "      <button class=\"colab-df-convert\" onclick=\"convertToInteractive('df-92400483-1964-4aab-b13e-473688ca78ee')\"\n",
              "              title=\"Convert this dataframe to an interactive table.\"\n",
              "              style=\"display:none;\">\n",
              "        \n",
              "  <svg xmlns=\"http://www.w3.org/2000/svg\" height=\"24px\"viewBox=\"0 0 24 24\"\n",
              "       width=\"24px\">\n",
              "    <path d=\"M0 0h24v24H0V0z\" fill=\"none\"/>\n",
              "    <path d=\"M18.56 5.44l.94 2.06.94-2.06 2.06-.94-2.06-.94-.94-2.06-.94 2.06-2.06.94zm-11 1L8.5 8.5l.94-2.06 2.06-.94-2.06-.94L8.5 2.5l-.94 2.06-2.06.94zm10 10l.94 2.06.94-2.06 2.06-.94-2.06-.94-.94-2.06-.94 2.06-2.06.94z\"/><path d=\"M17.41 7.96l-1.37-1.37c-.4-.4-.92-.59-1.43-.59-.52 0-1.04.2-1.43.59L10.3 9.45l-7.72 7.72c-.78.78-.78 2.05 0 2.83L4 21.41c.39.39.9.59 1.41.59.51 0 1.02-.2 1.41-.59l7.78-7.78 2.81-2.81c.8-.78.8-2.07 0-2.86zM5.41 20L4 18.59l7.72-7.72 1.47 1.35L5.41 20z\"/>\n",
              "  </svg>\n",
              "      </button>\n",
              "      \n",
              "  <style>\n",
              "    .colab-df-container {\n",
              "      display:flex;\n",
              "      flex-wrap:wrap;\n",
              "      gap: 12px;\n",
              "    }\n",
              "\n",
              "    .colab-df-convert {\n",
              "      background-color: #E8F0FE;\n",
              "      border: none;\n",
              "      border-radius: 50%;\n",
              "      cursor: pointer;\n",
              "      display: none;\n",
              "      fill: #1967D2;\n",
              "      height: 32px;\n",
              "      padding: 0 0 0 0;\n",
              "      width: 32px;\n",
              "    }\n",
              "\n",
              "    .colab-df-convert:hover {\n",
              "      background-color: #E2EBFA;\n",
              "      box-shadow: 0px 1px 2px rgba(60, 64, 67, 0.3), 0px 1px 3px 1px rgba(60, 64, 67, 0.15);\n",
              "      fill: #174EA6;\n",
              "    }\n",
              "\n",
              "    [theme=dark] .colab-df-convert {\n",
              "      background-color: #3B4455;\n",
              "      fill: #D2E3FC;\n",
              "    }\n",
              "\n",
              "    [theme=dark] .colab-df-convert:hover {\n",
              "      background-color: #434B5C;\n",
              "      box-shadow: 0px 1px 3px 1px rgba(0, 0, 0, 0.15);\n",
              "      filter: drop-shadow(0px 1px 2px rgba(0, 0, 0, 0.3));\n",
              "      fill: #FFFFFF;\n",
              "    }\n",
              "  </style>\n",
              "\n",
              "      <script>\n",
              "        const buttonEl =\n",
              "          document.querySelector('#df-92400483-1964-4aab-b13e-473688ca78ee button.colab-df-convert');\n",
              "        buttonEl.style.display =\n",
              "          google.colab.kernel.accessAllowed ? 'block' : 'none';\n",
              "\n",
              "        async function convertToInteractive(key) {\n",
              "          const element = document.querySelector('#df-92400483-1964-4aab-b13e-473688ca78ee');\n",
              "          const dataTable =\n",
              "            await google.colab.kernel.invokeFunction('convertToInteractive',\n",
              "                                                     [key], {});\n",
              "          if (!dataTable) return;\n",
              "\n",
              "          const docLinkHtml = 'Like what you see? Visit the ' +\n",
              "            '<a target=\"_blank\" href=https://colab.research.google.com/notebooks/data_table.ipynb>data table notebook</a>'\n",
              "            + ' to learn more about interactive tables.';\n",
              "          element.innerHTML = '';\n",
              "          dataTable['output_type'] = 'display_data';\n",
              "          await google.colab.output.renderOutput(dataTable, element);\n",
              "          const docLink = document.createElement('div');\n",
              "          docLink.innerHTML = docLinkHtml;\n",
              "          element.appendChild(docLink);\n",
              "        }\n",
              "      </script>\n",
              "    </div>\n",
              "  </div>\n",
              "  "
            ],
            "text/plain": [
              "                                               title  score      id  \\\n",
              "0  what scientific experiment would you run if mo...  73954  e31v9o   \n",
              "\n",
              "                                                 url  comms_num       created  \\\n",
              "0  https://www.reddit.com/r/AskReddit/comments/e3...      19529  1.574965e+09   \n",
              "\n",
              "  body  \n",
              "0       "
            ]
          },
          "execution_count": 49,
          "metadata": {},
          "output_type": "execute_result"
        }
      ],
      "source": [
        "dfs_data[1]"
      ]
    },
    {
      "cell_type": "code",
      "execution_count": null,
      "metadata": {
        "id": "yY0nE-yeDvpA"
      },
      "outputs": [],
      "source": []
    },
    {
      "cell_type": "code",
      "execution_count": null,
      "metadata": {
        "id": "NiCR7e8BDvro"
      },
      "outputs": [],
      "source": []
    },
    {
      "cell_type": "code",
      "execution_count": null,
      "metadata": {
        "id": "Hgh3rPs2DvuP"
      },
      "outputs": [],
      "source": []
    },
    {
      "cell_type": "code",
      "execution_count": null,
      "metadata": {
        "id": "t3RPUODdDvw0"
      },
      "outputs": [],
      "source": []
    },
    {
      "cell_type": "code",
      "execution_count": null,
      "metadata": {
        "id": "6i7eGCSmDv2b"
      },
      "outputs": [],
      "source": [
        "\n",
        "query = ['moral',\"Morality\", \"ethical\"]\n",
        "dfs_comments = []\n",
        "dfs_data = []\n",
        "for item in query:\n",
        "\n",
        "  post_dict = {\n",
        "      \"title\" : [],   #title of the post\n",
        "      \"score\" : [],   # score of the post\n",
        "      \"id\" : [],      # unique id of the post\n",
        "      \"url\" : [],     #url of the post\n",
        "      \"comms_num\": [],   #the number of comments on the post\n",
        "      \"created\" : [],  #timestamp of the post\n",
        "      \"body\" : []         # the descriptionof post\n",
        "  }\n",
        "  comments_dict = {\n",
        "      \"comment_id\" : [],      #unique comm id\n",
        "      \"comment_parent_id\" : [],   # comment parent id\n",
        "      \"comment_body\" : [],   # text in comment\n",
        "      \"comment_link_id\" : [],\n",
        "      \"comment_important_words\":[]  #link to the comment\n",
        "  }\n",
        "  result \n",
        "  for submission in subreddit.search(query,sort = \"top\",limit = 3000):\n",
        "      post_dict[\"title\"].append(submission.title)\n",
        "      post_dict[\"score\"].append(submission.score)\n",
        "      post_dict[\"id\"].append(submission.id)\n",
        "      post_dict[\"url\"].append(submission.url)\n",
        "      post_dict[\"comms_num\"].append(submission.num_comments)\n",
        "      post_dict[\"created\"].append(submission.created)\n",
        "      post_dict[\"body\"].append(submission.selftext)\n",
        "      \n",
        "      ##### Acessing comments on the post\n",
        "      submission.comments.replace_more(limit = 1)\n",
        "      for comment in submission.comments.list():\n",
        "        comment_ = tweet_to_words(comment.body)\n",
        "        comments_dict[\"comment_id\"].append(comment.id)\n",
        "        comments_dict[\"comment_parent_id\"].append(comment.parent_id)\n",
        "        comments_dict[\"comment_body\"].append(comment.body)\n",
        "        comments_dict[\"comment_important_words\"].append(comment_)\n",
        "        comments_dict[\"comment_link_id\"].append(comment.link_id)\n",
        "  \n",
        "  post_comments = pd.DataFrame(comments_dict)\n",
        "  dfs_comments.append(post_comments)\n",
        "  #post_comments.to_csv(s+\"_comments_\"+ item +\"subreddit.csv\")\n",
        "  post_data = pd.DataFrame(post_dict)\n",
        "  dfs_data.append(post_data)\n",
        "  #post_data.to_csv(s+\"_\"+ item +\"subreddit.csv\")\n",
        "\n"
      ]
    }
  ],
  "metadata": {
    "colab": {
      "provenance": []
    },
    "kernelspec": {
      "display_name": "Python 3",
      "name": "python3"
    },
    "language_info": {
      "name": "python"
    }
  },
  "nbformat": 4,
  "nbformat_minor": 0
}