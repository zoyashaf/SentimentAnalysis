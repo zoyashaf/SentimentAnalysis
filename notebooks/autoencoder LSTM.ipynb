{
 "cells": [
  {
   "cell_type": "code",
   "execution_count": 1,
   "id": "550fa271",
   "metadata": {},
   "outputs": [],
   "source": [
    "import numpy as np\n",
    "import pandas as pd\n",
    "from keras.layers import Input, LSTM, RepeatVector\n",
    "from keras.models import Model\n",
    "\n",
    "# Load Yelp dataset\n",
    "df = pd.read_csv('./Yelp_Reviews.csv', usecols=[3])\n",
    "data = df.values.tolist()\n",
    "\n",
    "# Cluster the encoded data using KMeans or other clustering algorithm\n",
    "\n",
    "# Use the clusters as input to a supervised learning model for sentiment classification\n"
   ]
  },
  {
   "cell_type": "code",
   "execution_count": 2,
   "id": "88d33b08",
   "metadata": {},
   "outputs": [],
   "source": [
    "# Preprocess data\n",
    "max_len = 200\n",
    "num_samples = len(data)\n",
    "\n",
    "input_texts = []\n",
    "target_texts = []\n",
    "input_chars = set()\n",
    "\n",
    "for i in range(num_samples):\n",
    "    input_text = data[i][0][:max_len]\n",
    "    target_text = data[i][0][:max_len]\n",
    "    input_texts.append(input_text)\n",
    "    target_texts.append(target_text)\n",
    "    for char in input_text:\n",
    "        if char not in input_chars:\n",
    "            input_chars.add(char)\n",
    "\n",
    "input_chars = sorted(list(input_chars))\n",
    "num_encoder_tokens = len(input_chars)\n",
    "max_encoder_seq_length = max_len\n",
    "\n",
    "input_token_index = dict((c, i) for i, c in enumerate(input_chars))\n",
    "encoder_input_data = np.zeros((num_samples, max_encoder_seq_length, num_encoder_tokens), dtype='float32')\n",
    "\n",
    "for i, input_text in enumerate(input_texts):\n",
    "    for t, char in enumerate(input_text):\n",
    "        encoder_input_data[i, t, input_token_index[char]] = 1."
   ]
  },
  {
   "cell_type": "code",
   "execution_count": 3,
   "id": "d5644932",
   "metadata": {},
   "outputs": [],
   "source": [
    "# Define the autoencoder LSTM architecture\n",
    "latent_dim = 256\n",
    "\n",
    "encoder_inputs = Input(shape=(None, num_encoder_tokens))\n",
    "encoder = LSTM(latent_dim)(encoder_inputs)\n",
    "\n",
    "decoder_inputs = RepeatVector(max_encoder_seq_length)(encoder)\n",
    "decoder = LSTM(num_encoder_tokens, return_sequences=True)(decoder_inputs)\n",
    "\n",
    "autoencoder = Model(encoder_inputs, decoder)\n",
    "autoencoder.compile(optimizer='adam', loss='binary_crossentropy')"
   ]
  },
  {
   "cell_type": "code",
   "execution_count": 4,
   "id": "18a0fe8d",
   "metadata": {},
   "outputs": [
    {
     "name": "stdout",
     "output_type": "stream",
     "text": [
      "Epoch 1/50\n",
      "41/41 [==============================] - 20s 429ms/step - loss: 0.0701\n",
      "Epoch 2/50\n",
      "41/41 [==============================] - 18s 438ms/step - loss: 0.0701\n",
      "Epoch 3/50\n",
      "41/41 [==============================] - 18s 449ms/step - loss: 0.0701\n",
      "Epoch 4/50\n",
      "41/41 [==============================] - 18s 442ms/step - loss: 0.0701\n",
      "Epoch 5/50\n",
      "41/41 [==============================] - 18s 442ms/step - loss: 0.0701\n",
      "Epoch 6/50\n",
      "41/41 [==============================] - 18s 447ms/step - loss: 0.0701\n",
      "Epoch 7/50\n",
      "41/41 [==============================] - 18s 448ms/step - loss: 0.0701\n",
      "Epoch 8/50\n",
      "41/41 [==============================] - 18s 450ms/step - loss: 0.0701\n",
      "Epoch 9/50\n",
      "41/41 [==============================] - 19s 452ms/step - loss: 0.0701\n",
      "Epoch 10/50\n",
      "41/41 [==============================] - 19s 470ms/step - loss: 0.0701\n",
      "Epoch 11/50\n",
      "41/41 [==============================] - 19s 460ms/step - loss: 0.0701\n",
      "Epoch 12/50\n",
      "41/41 [==============================] - 19s 453ms/step - loss: 0.0701\n",
      "Epoch 13/50\n",
      "41/41 [==============================] - 19s 453ms/step - loss: 0.0701\n",
      "Epoch 14/50\n",
      "41/41 [==============================] - 19s 452ms/step - loss: 0.0701\n",
      "Epoch 15/50\n",
      "41/41 [==============================] - 19s 451ms/step - loss: 0.0701\n",
      "Epoch 16/50\n",
      "41/41 [==============================] - 19s 453ms/step - loss: 0.0701\n",
      "Epoch 17/50\n",
      "41/41 [==============================] - 19s 455ms/step - loss: 0.0701\n",
      "Epoch 18/50\n",
      "41/41 [==============================] - 19s 455ms/step - loss: 0.0701\n",
      "Epoch 19/50\n",
      "41/41 [==============================] - 19s 458ms/step - loss: 0.0701\n",
      "Epoch 20/50\n",
      "41/41 [==============================] - 19s 456ms/step - loss: 0.0701\n",
      "Epoch 21/50\n",
      "41/41 [==============================] - 19s 459ms/step - loss: 0.0701\n",
      "Epoch 22/50\n",
      "41/41 [==============================] - 19s 453ms/step - loss: 0.0701\n",
      "Epoch 23/50\n",
      "41/41 [==============================] - 19s 458ms/step - loss: 0.0701\n",
      "Epoch 24/50\n",
      "41/41 [==============================] - 19s 458ms/step - loss: 0.0701\n",
      "Epoch 25/50\n",
      "41/41 [==============================] - 19s 455ms/step - loss: 0.0701\n",
      "Epoch 26/50\n",
      "41/41 [==============================] - 19s 452ms/step - loss: 0.0701\n",
      "Epoch 27/50\n",
      "41/41 [==============================] - 19s 453ms/step - loss: 0.0701\n",
      "Epoch 28/50\n",
      "41/41 [==============================] - 19s 454ms/step - loss: 0.0701\n",
      "Epoch 29/50\n",
      "41/41 [==============================] - 18s 451ms/step - loss: 0.0701\n",
      "Epoch 30/50\n",
      "41/41 [==============================] - 19s 454ms/step - loss: 0.0701\n",
      "Epoch 31/50\n",
      "41/41 [==============================] - 19s 453ms/step - loss: 0.0701\n",
      "Epoch 32/50\n",
      "41/41 [==============================] - 18s 451ms/step - loss: 0.0701\n",
      "Epoch 33/50\n",
      "41/41 [==============================] - 19s 452ms/step - loss: 0.0701\n",
      "Epoch 34/50\n",
      "41/41 [==============================] - 19s 452ms/step - loss: 0.0701\n",
      "Epoch 35/50\n",
      "41/41 [==============================] - 18s 450ms/step - loss: 0.0701\n",
      "Epoch 36/50\n",
      "41/41 [==============================] - 18s 445ms/step - loss: 0.0701\n",
      "Epoch 37/50\n",
      "41/41 [==============================] - 18s 450ms/step - loss: 0.0701\n",
      "Epoch 38/50\n",
      "41/41 [==============================] - 18s 448ms/step - loss: 0.0701\n",
      "Epoch 39/50\n",
      "41/41 [==============================] - 18s 447ms/step - loss: 0.0701\n",
      "Epoch 40/50\n",
      "41/41 [==============================] - 18s 447ms/step - loss: 0.0701\n",
      "Epoch 41/50\n",
      "41/41 [==============================] - 18s 449ms/step - loss: 0.0701\n",
      "Epoch 42/50\n",
      "41/41 [==============================] - 19s 451ms/step - loss: 0.0701\n",
      "Epoch 43/50\n",
      "41/41 [==============================] - 18s 448ms/step - loss: 0.0701\n",
      "Epoch 44/50\n",
      "41/41 [==============================] - 18s 446ms/step - loss: 0.0701\n",
      "Epoch 45/50\n",
      "41/41 [==============================] - 18s 443ms/step - loss: 0.0701\n",
      "Epoch 46/50\n",
      "41/41 [==============================] - 18s 445ms/step - loss: 0.0701\n",
      "Epoch 47/50\n",
      "41/41 [==============================] - 18s 447ms/step - loss: 0.0701\n",
      "Epoch 48/50\n",
      "41/41 [==============================] - 18s 442ms/step - loss: 0.0701\n",
      "Epoch 49/50\n",
      "41/41 [==============================] - 18s 445ms/step - loss: 0.0701\n",
      "Epoch 50/50\n",
      "41/41 [==============================] - 18s 442ms/step - loss: 0.0701\n"
     ]
    },
    {
     "data": {
      "text/plain": [
       "<keras.callbacks.History at 0x210d6b16fa0>"
      ]
     },
     "execution_count": 4,
     "metadata": {},
     "output_type": "execute_result"
    }
   ],
   "source": [
    "# Train the autoencoder on Yelp dataset\n",
    "epochs = 50\n",
    "batch_size = 64\n",
    "\n",
    "autoencoder.fit(encoder_input_data, encoder_input_data, batch_size=batch_size, epochs=epochs)"
   ]
  },
  {
   "cell_type": "code",
   "execution_count": 5,
   "id": "72c5d662",
   "metadata": {},
   "outputs": [],
   "source": [
    "# Use the trained autoencoder for sentiment analysis\n",
    "encoder_model = Model(encoder_inputs, encoder)\n",
    "encoder_model.compile(optimizer='adam', loss='binary_crossentropy')"
   ]
  },
  {
   "cell_type": "code",
   "execution_count": 6,
   "id": "177b3e47",
   "metadata": {},
   "outputs": [
    {
     "name": "stdout",
     "output_type": "stream",
     "text": [
      "82/82 [==============================] - 9s 101ms/step\n"
     ]
    }
   ],
   "source": [
    "# Encode Yelp reviews\n",
    "encoded_data = encoder_model.predict(encoder_input_data)"
   ]
  },
  {
   "cell_type": "code",
   "execution_count": null,
   "id": "e1778125",
   "metadata": {},
   "outputs": [],
   "source": []
  }
 ],
 "metadata": {
  "kernelspec": {
   "display_name": "Python 3 (ipykernel)",
   "language": "python",
   "name": "python3"
  },
  "language_info": {
   "codemirror_mode": {
    "name": "ipython",
    "version": 3
   },
   "file_extension": ".py",
   "mimetype": "text/x-python",
   "name": "python",
   "nbconvert_exporter": "python",
   "pygments_lexer": "ipython3",
   "version": "3.9.12"
  }
 },
 "nbformat": 4,
 "nbformat_minor": 5
}
