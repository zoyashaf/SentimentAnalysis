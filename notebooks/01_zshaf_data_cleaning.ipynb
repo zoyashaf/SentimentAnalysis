{
  "cells": [
    {
      "cell_type": "code",
      "execution_count": 1,
      "metadata": {
        "id": "e14-fbFkvh47"
      },
      "outputs": [],
      "source": [
        "import pandas as pd\n",
        "import re  # For preprocessing\n",
        "import pandas as pd  # For data handling\n",
        "import spacy  # For preprocessing\n",
        "import numpy as np\n",
        "from langdetect import detect\n",
        "import swifter "
      ]
    },
    {
      "cell_type": "code",
      "execution_count": 2,
      "metadata": {},
      "outputs": [
        {
          "data": {
            "text/html": [
              "<div>\n",
              "<style scoped>\n",
              "    .dataframe tbody tr th:only-of-type {\n",
              "        vertical-align: middle;\n",
              "    }\n",
              "\n",
              "    .dataframe tbody tr th {\n",
              "        vertical-align: top;\n",
              "    }\n",
              "\n",
              "    .dataframe thead th {\n",
              "        text-align: right;\n",
              "    }\n",
              "</style>\n",
              "<table border=\"1\" class=\"dataframe\">\n",
              "  <thead>\n",
              "    <tr style=\"text-align: right;\">\n",
              "      <th></th>\n",
              "      <th>review_id</th>\n",
              "      <th>user_id</th>\n",
              "      <th>business_id</th>\n",
              "      <th>stars</th>\n",
              "      <th>useful</th>\n",
              "      <th>funny</th>\n",
              "      <th>cool</th>\n",
              "      <th>text</th>\n",
              "      <th>date</th>\n",
              "    </tr>\n",
              "  </thead>\n",
              "  <tbody>\n",
              "    <tr>\n",
              "      <th>0</th>\n",
              "      <td>KU_O5udG6zpxOg-VcAEodg</td>\n",
              "      <td>mh_-eMZ6K5RLWhZyISBhwA</td>\n",
              "      <td>XQfwVwDr-v0ZS3_CbbE5Xw</td>\n",
              "      <td>3</td>\n",
              "      <td>0</td>\n",
              "      <td>0</td>\n",
              "      <td>0</td>\n",
              "      <td>If you decide to eat here, just be aware it is...</td>\n",
              "      <td>2018-07-07 22:09:11</td>\n",
              "    </tr>\n",
              "    <tr>\n",
              "      <th>1</th>\n",
              "      <td>BiTunyQ73aT9WBnpR9DZGw</td>\n",
              "      <td>OyoGAe7OKpv6SyGZT5g77Q</td>\n",
              "      <td>7ATYjTIgM3jUlt4UM3IypQ</td>\n",
              "      <td>5</td>\n",
              "      <td>1</td>\n",
              "      <td>0</td>\n",
              "      <td>1</td>\n",
              "      <td>I've taken a lot of spin classes over the year...</td>\n",
              "      <td>2012-01-03 15:28:18</td>\n",
              "    </tr>\n",
              "    <tr>\n",
              "      <th>2</th>\n",
              "      <td>saUsX_uimxRlCVr67Z4Jig</td>\n",
              "      <td>8g_iMtfSiwikVnbP2etR0A</td>\n",
              "      <td>YjUWPpI6HXG530lwP-fb2A</td>\n",
              "      <td>3</td>\n",
              "      <td>0</td>\n",
              "      <td>0</td>\n",
              "      <td>0</td>\n",
              "      <td>Family diner. Had the buffet. Eclectic assortm...</td>\n",
              "      <td>2014-02-05 20:30:30</td>\n",
              "    </tr>\n",
              "    <tr>\n",
              "      <th>3</th>\n",
              "      <td>AqPFMleE6RsU23_auESxiA</td>\n",
              "      <td>_7bHUi9Uuf5__HHc_Q8guQ</td>\n",
              "      <td>kxX2SOes4o-D3ZQBkiMRfA</td>\n",
              "      <td>5</td>\n",
              "      <td>1</td>\n",
              "      <td>0</td>\n",
              "      <td>1</td>\n",
              "      <td>Wow!  Yummy, different,  delicious.   Our favo...</td>\n",
              "      <td>2015-01-04 00:01:03</td>\n",
              "    </tr>\n",
              "    <tr>\n",
              "      <th>4</th>\n",
              "      <td>Sx8TMOWLNuJBWer-0pcmoA</td>\n",
              "      <td>bcjbaE6dDog4jkNY91ncLQ</td>\n",
              "      <td>e4Vwtrqf-wpJfwesgvdgxQ</td>\n",
              "      <td>4</td>\n",
              "      <td>1</td>\n",
              "      <td>0</td>\n",
              "      <td>1</td>\n",
              "      <td>Cute interior and owner (?) gave us tour of up...</td>\n",
              "      <td>2017-01-14 20:54:15</td>\n",
              "    </tr>\n",
              "  </tbody>\n",
              "</table>\n",
              "</div>"
            ],
            "text/plain": [
              "                review_id                 user_id             business_id  \\\n",
              "0  KU_O5udG6zpxOg-VcAEodg  mh_-eMZ6K5RLWhZyISBhwA  XQfwVwDr-v0ZS3_CbbE5Xw   \n",
              "1  BiTunyQ73aT9WBnpR9DZGw  OyoGAe7OKpv6SyGZT5g77Q  7ATYjTIgM3jUlt4UM3IypQ   \n",
              "2  saUsX_uimxRlCVr67Z4Jig  8g_iMtfSiwikVnbP2etR0A  YjUWPpI6HXG530lwP-fb2A   \n",
              "3  AqPFMleE6RsU23_auESxiA  _7bHUi9Uuf5__HHc_Q8guQ  kxX2SOes4o-D3ZQBkiMRfA   \n",
              "4  Sx8TMOWLNuJBWer-0pcmoA  bcjbaE6dDog4jkNY91ncLQ  e4Vwtrqf-wpJfwesgvdgxQ   \n",
              "\n",
              "   stars  useful  funny  cool  \\\n",
              "0      3       0      0     0   \n",
              "1      5       1      0     1   \n",
              "2      3       0      0     0   \n",
              "3      5       1      0     1   \n",
              "4      4       1      0     1   \n",
              "\n",
              "                                                text                 date  \n",
              "0  If you decide to eat here, just be aware it is...  2018-07-07 22:09:11  \n",
              "1  I've taken a lot of spin classes over the year...  2012-01-03 15:28:18  \n",
              "2  Family diner. Had the buffet. Eclectic assortm...  2014-02-05 20:30:30  \n",
              "3  Wow!  Yummy, different,  delicious.   Our favo...  2015-01-04 00:01:03  \n",
              "4  Cute interior and owner (?) gave us tour of up...  2017-01-14 20:54:15  "
            ]
          },
          "execution_count": 2,
          "metadata": {},
          "output_type": "execute_result"
        }
      ],
      "source": [
        "path = '/Users/shafz/OneDrive/Documents/deep-learning-final-project-yelp_reviews_classification/data/raw/'\n",
        "reviews = pd.read_csv(path+'raw_reviews.csv')\n",
        "reviews.drop('Unnamed: 0', axis =1, inplace = True)\n",
        "reviews.head(5)"
      ]
    },
    {
      "cell_type": "code",
      "execution_count": 3,
      "metadata": {},
      "outputs": [],
      "source": [
        "path = '/Users/shafz/OneDrive/Documents/deep-learning-final-project-yelp_reviews_classification/data/raw/'\n",
        "business = pd.read_csv(path+'raw_business.csv')\n",
        "\n",
        "restaurants_ids = business[business.categories.fillna('-').str.lower().str.contains('restaurant')]\n",
        "restaurants = reviews[reviews['business_id'].isin(restaurants_ids['business_id'].tolist())]"
      ]
    },
    {
      "cell_type": "code",
      "execution_count": 4,
      "metadata": {
        "colab": {
          "base_uri": "https://localhost:8080/",
          "height": 337
        },
        "id": "4u9cjc_yxfdA",
        "outputId": "4f951b02-ae2f-4905-cd33-e84664d4b3b0"
      },
      "outputs": [
        {
          "data": {
            "text/html": [
              "<div>\n",
              "<style scoped>\n",
              "    .dataframe tbody tr th:only-of-type {\n",
              "        vertical-align: middle;\n",
              "    }\n",
              "\n",
              "    .dataframe tbody tr th {\n",
              "        vertical-align: top;\n",
              "    }\n",
              "\n",
              "    .dataframe thead th {\n",
              "        text-align: right;\n",
              "    }\n",
              "</style>\n",
              "<table border=\"1\" class=\"dataframe\">\n",
              "  <thead>\n",
              "    <tr style=\"text-align: right;\">\n",
              "      <th></th>\n",
              "      <th>review_id</th>\n",
              "      <th>user_id</th>\n",
              "      <th>business_id</th>\n",
              "      <th>stars</th>\n",
              "      <th>useful</th>\n",
              "      <th>funny</th>\n",
              "      <th>cool</th>\n",
              "      <th>text</th>\n",
              "      <th>date</th>\n",
              "    </tr>\n",
              "  </thead>\n",
              "  <tbody>\n",
              "    <tr>\n",
              "      <th>0</th>\n",
              "      <td>KU_O5udG6zpxOg-VcAEodg</td>\n",
              "      <td>mh_-eMZ6K5RLWhZyISBhwA</td>\n",
              "      <td>XQfwVwDr-v0ZS3_CbbE5Xw</td>\n",
              "      <td>3</td>\n",
              "      <td>0</td>\n",
              "      <td>0</td>\n",
              "      <td>0</td>\n",
              "      <td>If you decide to eat here, just be aware it is...</td>\n",
              "      <td>2018-07-07 22:09:11</td>\n",
              "    </tr>\n",
              "    <tr>\n",
              "      <th>2</th>\n",
              "      <td>saUsX_uimxRlCVr67Z4Jig</td>\n",
              "      <td>8g_iMtfSiwikVnbP2etR0A</td>\n",
              "      <td>YjUWPpI6HXG530lwP-fb2A</td>\n",
              "      <td>3</td>\n",
              "      <td>0</td>\n",
              "      <td>0</td>\n",
              "      <td>0</td>\n",
              "      <td>Family diner. Had the buffet. Eclectic assortm...</td>\n",
              "      <td>2014-02-05 20:30:30</td>\n",
              "    </tr>\n",
              "    <tr>\n",
              "      <th>3</th>\n",
              "      <td>AqPFMleE6RsU23_auESxiA</td>\n",
              "      <td>_7bHUi9Uuf5__HHc_Q8guQ</td>\n",
              "      <td>kxX2SOes4o-D3ZQBkiMRfA</td>\n",
              "      <td>5</td>\n",
              "      <td>1</td>\n",
              "      <td>0</td>\n",
              "      <td>1</td>\n",
              "      <td>Wow!  Yummy, different,  delicious.   Our favo...</td>\n",
              "      <td>2015-01-04 00:01:03</td>\n",
              "    </tr>\n",
              "    <tr>\n",
              "      <th>4</th>\n",
              "      <td>Sx8TMOWLNuJBWer-0pcmoA</td>\n",
              "      <td>bcjbaE6dDog4jkNY91ncLQ</td>\n",
              "      <td>e4Vwtrqf-wpJfwesgvdgxQ</td>\n",
              "      <td>4</td>\n",
              "      <td>1</td>\n",
              "      <td>0</td>\n",
              "      <td>1</td>\n",
              "      <td>Cute interior and owner (?) gave us tour of up...</td>\n",
              "      <td>2017-01-14 20:54:15</td>\n",
              "    </tr>\n",
              "    <tr>\n",
              "      <th>5</th>\n",
              "      <td>JrIxlS1TzJ-iCu79ul40cQ</td>\n",
              "      <td>eUta8W_HdHMXPzLBBZhL1A</td>\n",
              "      <td>04UD14gamNjLY0IDYVhHJg</td>\n",
              "      <td>1</td>\n",
              "      <td>1</td>\n",
              "      <td>2</td>\n",
              "      <td>1</td>\n",
              "      <td>I am a long term frequent customer of this est...</td>\n",
              "      <td>2015-09-23 23:10:31</td>\n",
              "    </tr>\n",
              "  </tbody>\n",
              "</table>\n",
              "</div>"
            ],
            "text/plain": [
              "                review_id                 user_id             business_id  \\\n",
              "0  KU_O5udG6zpxOg-VcAEodg  mh_-eMZ6K5RLWhZyISBhwA  XQfwVwDr-v0ZS3_CbbE5Xw   \n",
              "2  saUsX_uimxRlCVr67Z4Jig  8g_iMtfSiwikVnbP2etR0A  YjUWPpI6HXG530lwP-fb2A   \n",
              "3  AqPFMleE6RsU23_auESxiA  _7bHUi9Uuf5__HHc_Q8guQ  kxX2SOes4o-D3ZQBkiMRfA   \n",
              "4  Sx8TMOWLNuJBWer-0pcmoA  bcjbaE6dDog4jkNY91ncLQ  e4Vwtrqf-wpJfwesgvdgxQ   \n",
              "5  JrIxlS1TzJ-iCu79ul40cQ  eUta8W_HdHMXPzLBBZhL1A  04UD14gamNjLY0IDYVhHJg   \n",
              "\n",
              "   stars  useful  funny  cool  \\\n",
              "0      3       0      0     0   \n",
              "2      3       0      0     0   \n",
              "3      5       1      0     1   \n",
              "4      4       1      0     1   \n",
              "5      1       1      2     1   \n",
              "\n",
              "                                                text                 date  \n",
              "0  If you decide to eat here, just be aware it is...  2018-07-07 22:09:11  \n",
              "2  Family diner. Had the buffet. Eclectic assortm...  2014-02-05 20:30:30  \n",
              "3  Wow!  Yummy, different,  delicious.   Our favo...  2015-01-04 00:01:03  \n",
              "4  Cute interior and owner (?) gave us tour of up...  2017-01-14 20:54:15  \n",
              "5  I am a long term frequent customer of this est...  2015-09-23 23:10:31  "
            ]
          },
          "execution_count": 4,
          "metadata": {},
          "output_type": "execute_result"
        }
      ],
      "source": [
        "restaurants.head(5)"
      ]
    },
    {
      "cell_type": "code",
      "execution_count": 6,
      "metadata": {
        "colab": {
          "base_uri": "https://localhost:8080/"
        },
        "id": "1svBdwY3yp4Q",
        "outputId": "c40d4fe3-a978-47d0-dd6f-8aa481ac6c84"
      },
      "outputs": [
        {
          "data": {
            "text/plain": [
              "(4724684, 9)"
            ]
          },
          "execution_count": 6,
          "metadata": {},
          "output_type": "execute_result"
        }
      ],
      "source": [
        "restaurants.shape"
      ]
    },
    {
      "cell_type": "code",
      "execution_count": 7,
      "metadata": {
        "colab": {
          "base_uri": "https://localhost:8080/"
        },
        "id": "e94I4n1hxnqm",
        "outputId": "a311a695-0a19-49de-a55a-fad32427923d"
      },
      "outputs": [
        {
          "data": {
            "text/plain": [
              "_ab50qdWOk0DdB6XOrBitw    7673\n",
              "ac1AeYqs8Z4_e2X5M3if2A    7516\n",
              "GXFMD0Z4jEVZBCsbPf4CTQ    6160\n",
              "ytynqOUb3hjKeJfRj5Tshw    5778\n",
              "oBNrLz4EDhiscSlbOl8uAw    5264\n",
              "                          ... \n",
              "NJt2qvQ9NvB7uCxYUnW-dQ       5\n",
              "7_erbDC2n4I6Zg_e25wcIg       5\n",
              "DZ7EzF2c6OaNmZ5nXit1MQ       5\n",
              "Yl4Am6NhqWo_YMmo1SyU5A       5\n",
              "Tj9FmBCHd84kjAE9vcoBnw       5\n",
              "Name: business_id, Length: 52286, dtype: int64"
            ]
          },
          "execution_count": 7,
          "metadata": {},
          "output_type": "execute_result"
        }
      ],
      "source": [
        "restaurants['business_id'].value_counts()"
      ]
    },
    {
      "cell_type": "code",
      "execution_count": 8,
      "metadata": {
        "id": "BBQKudW3xuPk"
      },
      "outputs": [],
      "source": [
        "restaurants_filtered = restaurants.groupby('business_id').filter(lambda x : len(x)>1000)"
      ]
    },
    {
      "cell_type": "code",
      "execution_count": 9,
      "metadata": {
        "colab": {
          "base_uri": "https://localhost:8080/"
        },
        "id": "z2QJRQ4dy8nR",
        "outputId": "7f58d26c-7748-46f6-f8df-7bff9f22ad99"
      },
      "outputs": [
        {
          "data": {
            "text/plain": [
              "(569035, 9)"
            ]
          },
          "execution_count": 9,
          "metadata": {},
          "output_type": "execute_result"
        }
      ],
      "source": [
        "restaurants_filtered.shape"
      ]
    },
    {
      "cell_type": "code",
      "execution_count": 10,
      "metadata": {
        "id": "XSlSEF1Gztbq"
      },
      "outputs": [],
      "source": [
        "restaurants_filtered = restaurants_filtered[['business_id', 'stars', 'text']]"
      ]
    },
    {
      "attachments": {},
      "cell_type": "markdown",
      "metadata": {
        "id": "EHc2dbhW0K4e"
      },
      "source": [
        "# Data Cleaning \n",
        "Lets take a look at some reviews to see what data cleaning measures we need \n",
        "* We can see that we need to remove punctuation and that some reviews have a lot of white space \n",
        "* Both uppercase and lowercase letters are present \n",
        "* There are numerical digits as well \n",
        "* Some reviews contain expressions such as \"this/that\" and simply removing '/' results in \"thisthat\" instead of \"this that\" \n",
        "* Some reviews contained only punctuation (e.g. '.', ': )', '*') \n",
        "* Some reviews do not have proper spacing (e.g. 'Don't misinterpret my review....I' which turns into 'dont misinterpret my reviewi')\n",
        "* There are reviews in Chinese and Spanish \n",
        "* Had some strange letters show up such as 'entrÃ©es' due to encoding/decoding issues\n",
        "* Some reviews have website links in them "
      ]
    },
    {
      "cell_type": "code",
      "execution_count": 11,
      "metadata": {
        "colab": {
          "base_uri": "https://localhost:8080/"
        },
        "id": "GNCN4mmV0KRi",
        "outputId": "a0255304-f2a1-4030-b7f0-2726510e6d26"
      },
      "outputs": [
        {
          "name": "stdout",
          "output_type": "stream",
          "text": [
            "Review 1:\n",
            " Please come hungry!!!! Every time I've been in I've never been disappointed. The mimosas are perfect and I can never seem to order just one. My go to are the eggs Benedict's served on soft fluffy biscuits. The portions are generous and filling.\n",
            "Review 2:\n",
            " I've been to the other Federal Donuts location multiple times. I love donuts, and coffee and this place does both very well. The South Philly location is so small, and I often find myself cramped while in there. However, the donuts are always amazing, which keeps me coming back for more and more. I recently visited the Center City location - and found that they had a better handle on crowd control, which I appreciated. The donuts were just as good as what I had tried in the past - specifically, I had the green tea sesame which I could have bathed in vats of. I ate all the little crumbly pieces that had fallen off into the bag when I got home. That's how good they are. Both hot and fancy, really in any variety are always amazing. Try them all!\n",
            "Review 3:\n",
            " I was so excited about all the food I saw, but unfortunately this place CLOSES SO EARLY!!!!!!!!!!!!!!!! After being a tourist and sightseeing, by the time I got there at 5 or 6, things started closing. the hours of operation is definitely the biggest CON EVER!!!\n",
            "Review 4:\n",
            " This place never fails the food is absolutely delicious the cocktails are awesome \n",
            "\n",
            "If you just want a quick bite to eat they offer a happy hour special by the bar. The bar area a huge the have table and privately seating in the Bay Area.\n",
            "\n",
            "There's also a huge dinning area for a more intimate experience and a large menu\n",
            "Review 5:\n",
            " Located in the 'Walking District' in Nashville, it's was a bit out of the way for us, but we were on a mission to experience the proclaimed 'Greatest burger in Nashville'. \n",
            "\n",
            "The menu includes several burgers, wursthen, and chicken sandwich options. The waitress told us that The Farm Burger is the most popular. I for one have never had a burger with an egg and the thought of it isn't very appealing. \n",
            "\n",
            "I ended up ordering the 'Pharmacy Burger', which is a less cheesier version of their 'Cheese Burger' that my husband ordered. They LOADED the mustard, but that really wasn't what I didn't like about it. It really wasn't that I disliked the burger, it just wasn't anywhere near one of the best burgers that I've had. The extra toppings at fifty cents each are pretty skimpy too. I was a fan of the wasabi aioli though. I also loved the tater tots though. I highly recommend ordering tater tots over the french fries. The beer cheese dipping sauce was an extra dollar and was borderline disgusting. Stick with wasabi aioli. \n",
            "\n",
            "I'm thinking that the toppings and sauces are possibly what the hype about this place is, otherwise, I just don't get it. To describe this place in one word... overhyped.\n"
          ]
        }
      ],
      "source": [
        "for index,text in enumerate(restaurants_filtered['text'][-5:]):\n",
        "  print('Review %d:\\n'%(index+1),text)"
      ]
    },
    {
      "cell_type": "code",
      "execution_count": 12,
      "metadata": {},
      "outputs": [],
      "source": [
        "def detect_language(text):\n",
        "    try:\n",
        "        lang = detect(text)\n",
        "    except:\n",
        "        lang = 'unknown'\n",
        "    return lang\n"
      ]
    },
    {
      "cell_type": "code",
      "execution_count": 13,
      "metadata": {},
      "outputs": [
        {
          "name": "stderr",
          "output_type": "stream",
          "text": [
            "Pandas Apply: 100%|██████████| 569035/569035 [1:36:38<00:00, 98.14it/s]  \n"
          ]
        }
      ],
      "source": [
        "restaurants_filtered['language'] = restaurants_filtered['text'].swifter.apply(detect_language)"
      ]
    },
    {
      "cell_type": "code",
      "execution_count": 15,
      "metadata": {},
      "outputs": [
        {
          "data": {
            "text/html": [
              "<div>\n",
              "<style scoped>\n",
              "    .dataframe tbody tr th:only-of-type {\n",
              "        vertical-align: middle;\n",
              "    }\n",
              "\n",
              "    .dataframe tbody tr th {\n",
              "        vertical-align: top;\n",
              "    }\n",
              "\n",
              "    .dataframe thead th {\n",
              "        text-align: right;\n",
              "    }\n",
              "</style>\n",
              "<table border=\"1\" class=\"dataframe\">\n",
              "  <thead>\n",
              "    <tr style=\"text-align: right;\">\n",
              "      <th></th>\n",
              "      <th>business_id</th>\n",
              "      <th>stars</th>\n",
              "      <th>text</th>\n",
              "      <th>language</th>\n",
              "    </tr>\n",
              "  </thead>\n",
              "  <tbody>\n",
              "    <tr>\n",
              "      <th>3369</th>\n",
              "      <td>jMZ56S8Y1t7cA1Ob-d-qeA</td>\n",
              "      <td>5</td>\n",
              "      <td>Op suggestie van yelp- hier geweest op onze ee...</td>\n",
              "      <td>nl</td>\n",
              "    </tr>\n",
              "    <tr>\n",
              "      <th>10274</th>\n",
              "      <td>8uF-bhJFgT4Tn6DTb27viA</td>\n",
              "      <td>5</td>\n",
              "      <td>O05 hj 0fp Ncc83bb0 hk \\nj6BChbhnnp phmyj9g5 6...</td>\n",
              "      <td>vi</td>\n",
              "    </tr>\n",
              "    <tr>\n",
              "      <th>12471</th>\n",
              "      <td>g04aAvgol7IW8buqSbT4xA</td>\n",
              "      <td>4</td>\n",
              "      <td>Ideal la forma como la espera a las afueras de...</td>\n",
              "      <td>es</td>\n",
              "    </tr>\n",
              "    <tr>\n",
              "      <th>18682</th>\n",
              "      <td>GBTPC53ZrG1ZBY3DT8Mbcw</td>\n",
              "      <td>5</td>\n",
              "      <td>P ml hi o Jv 89274077147 mm \\np I'm I l l eat ...</td>\n",
              "      <td>cs</td>\n",
              "    </tr>\n",
              "    <tr>\n",
              "      <th>35804</th>\n",
              "      <td>SZU9c8V2GuREDN5KgyHFJw</td>\n",
              "      <td>5</td>\n",
              "      <td>Eu daria 10 estrelas ,se fosse possível!\\nUm r...</td>\n",
              "      <td>pt</td>\n",
              "    </tr>\n",
              "    <tr>\n",
              "      <th>...</th>\n",
              "      <td>...</td>\n",
              "      <td>...</td>\n",
              "      <td>...</td>\n",
              "      <td>...</td>\n",
              "    </tr>\n",
              "    <tr>\n",
              "      <th>6915959</th>\n",
              "      <td>JHRlwxxKY0JJcU97rJ-Bug</td>\n",
              "      <td>5</td>\n",
              "      <td>Good food, better drinks, best dancing</td>\n",
              "      <td>da</td>\n",
              "    </tr>\n",
              "    <tr>\n",
              "      <th>6945551</th>\n",
              "      <td>rgeuy1qbw6Z8B6CSVANHIA</td>\n",
              "      <td>4</td>\n",
              "      <td>Muy buenas las donas de Federal Donuts, un muy...</td>\n",
              "      <td>es</td>\n",
              "    </tr>\n",
              "    <tr>\n",
              "      <th>6949896</th>\n",
              "      <td>skY6r8WAkYqpV7_TxNm23w</td>\n",
              "      <td>5</td>\n",
              "      <td>Wow quel vue quel moment magique à voir la nou...</td>\n",
              "      <td>fr</td>\n",
              "    </tr>\n",
              "    <tr>\n",
              "      <th>6961575</th>\n",
              "      <td>QHWYlmVbLC3K6eglWoHVvA</td>\n",
              "      <td>5</td>\n",
              "      <td>Rico , rico !! Buen servicio, nice place , con...</td>\n",
              "      <td>es</td>\n",
              "    </tr>\n",
              "    <tr>\n",
              "      <th>6968843</th>\n",
              "      <td>QHWYlmVbLC3K6eglWoHVvA</td>\n",
              "      <td>5</td>\n",
              "      <td>Excelente lugar para desayunar, la comida es m...</td>\n",
              "      <td>es</td>\n",
              "    </tr>\n",
              "  </tbody>\n",
              "</table>\n",
              "<p>808 rows × 4 columns</p>\n",
              "</div>"
            ],
            "text/plain": [
              "                    business_id  stars  \\\n",
              "3369     jMZ56S8Y1t7cA1Ob-d-qeA      5   \n",
              "10274    8uF-bhJFgT4Tn6DTb27viA      5   \n",
              "12471    g04aAvgol7IW8buqSbT4xA      4   \n",
              "18682    GBTPC53ZrG1ZBY3DT8Mbcw      5   \n",
              "35804    SZU9c8V2GuREDN5KgyHFJw      5   \n",
              "...                         ...    ...   \n",
              "6915959  JHRlwxxKY0JJcU97rJ-Bug      5   \n",
              "6945551  rgeuy1qbw6Z8B6CSVANHIA      4   \n",
              "6949896  skY6r8WAkYqpV7_TxNm23w      5   \n",
              "6961575  QHWYlmVbLC3K6eglWoHVvA      5   \n",
              "6968843  QHWYlmVbLC3K6eglWoHVvA      5   \n",
              "\n",
              "                                                      text language  \n",
              "3369     Op suggestie van yelp- hier geweest op onze ee...       nl  \n",
              "10274    O05 hj 0fp Ncc83bb0 hk \\nj6BChbhnnp phmyj9g5 6...       vi  \n",
              "12471    Ideal la forma como la espera a las afueras de...       es  \n",
              "18682    P ml hi o Jv 89274077147 mm \\np I'm I l l eat ...       cs  \n",
              "35804    Eu daria 10 estrelas ,se fosse possível!\\nUm r...       pt  \n",
              "...                                                    ...      ...  \n",
              "6915959             Good food, better drinks, best dancing       da  \n",
              "6945551  Muy buenas las donas de Federal Donuts, un muy...       es  \n",
              "6949896  Wow quel vue quel moment magique à voir la nou...       fr  \n",
              "6961575  Rico , rico !! Buen servicio, nice place , con...       es  \n",
              "6968843  Excelente lugar para desayunar, la comida es m...       es  \n",
              "\n",
              "[808 rows x 4 columns]"
            ]
          },
          "execution_count": 15,
          "metadata": {},
          "output_type": "execute_result"
        }
      ],
      "source": [
        "restaurants_filtered.loc[restaurants_filtered['language'] != 'en']"
      ]
    },
    {
      "cell_type": "code",
      "execution_count": 16,
      "metadata": {},
      "outputs": [],
      "source": [
        "restaurants_english = restaurants_filtered[restaurants_filtered['language'] == 'en']"
      ]
    },
    {
      "cell_type": "code",
      "execution_count": 18,
      "metadata": {},
      "outputs": [
        {
          "data": {
            "text/plain": [
              "(568227, 4)"
            ]
          },
          "execution_count": 18,
          "metadata": {},
          "output_type": "execute_result"
        }
      ],
      "source": [
        "restaurants_english.shape\n",
        "# 569035"
      ]
    },
    {
      "cell_type": "code",
      "execution_count": 19,
      "metadata": {
        "id": "vCO-4CBnAWlg"
      },
      "outputs": [],
      "source": [
        "## Expanding Contractions \n",
        "contractions_dict = { \"ain't\": \"are not\",\"'s\":\" is\",\"aren't\": \"are not\",\n",
        "                     \"can't\": \"cannot\",\"can't've\": \"cannot have\",\n",
        "                     \"'cause\": \"because\",\"could've\": \"could have\",\"couldn't\": \"could not\",\n",
        "                     \"couldn't've\": \"could not have\", \"didn't\": \"did not\",\"doesn't\": \"does not\",\n",
        "                     \"don't\": \"do not\",\"hadn't\": \"had not\",\"hadn't've\": \"had not have\",\n",
        "                     \"hasn't\": \"has not\",\"haven't\": \"have not\",\"he'd\": \"he would\",\n",
        "                     \"he'd've\": \"he would have\",\"he'll\": \"he will\", \"he'll've\": \"he will have\",\n",
        "                     \"how'd\": \"how did\",\"how'd'y\": \"how do you\",\"how'll\": \"how will\",\n",
        "                     \"I'd\": \"I would\", \"I'd've\": \"I would have\",\"I'll\": \"I will\",\n",
        "                     \"I'll've\": \"I will have\",\"I'm\": \"I am\",\"I've\": \"I have\", \"isn't\": \"is not\",\n",
        "                     \"it'd\": \"it would\",\"it'd've\": \"it would have\",\"it'll\": \"it will\",\n",
        "                     \"it'll've\": \"it will have\", \"let's\": \"let us\",\"ma'am\": \"madam\",\n",
        "                     \"mayn't\": \"may not\",\"might've\": \"might have\",\"mightn't\": \"might not\", \n",
        "                     \"mightn't've\": \"might not have\",\"must've\": \"must have\",\"mustn't\": \"must not\",\n",
        "                     \"mustn't've\": \"must not have\", \"needn't\": \"need not\",\n",
        "                     \"needn't've\": \"need not have\",\"o'clock\": \"of the clock\",\"oughtn't\": \"ought not\",\n",
        "                     \"oughtn't've\": \"ought not have\",\"shan't\": \"shall not\",\"sha'n't\": \"shall not\",\n",
        "                     \"shan't've\": \"shall not have\",\"she'd\": \"she would\",\"she'd've\": \"she would have\",\n",
        "                     \"she'll\": \"she will\", \"she'll've\": \"she will have\",\"should've\": \"should have\",\n",
        "                     \"shouldn't\": \"should not\", \"shouldn't've\": \"should not have\",\"so've\": \"so have\",\n",
        "                     \"that'd\": \"that would\",\"that'd've\": \"that would have\", \"there'd\": \"there would\",\n",
        "                     \"there'd've\": \"there would have\", \"they'd\": \"they would\",\n",
        "                     \"they'd've\": \"they would have\",\"they'll\": \"they will\",\n",
        "                     \"they'll've\": \"they will have\", \"they're\": \"they are\",\"they've\": \"they have\",\n",
        "                     \"to've\": \"to have\",\"wasn't\": \"was not\",\"we'd\": \"we would\",\n",
        "                     \"we'd've\": \"we would have\",\"we'll\": \"we will\",\"we'll've\": \"we will have\",\n",
        "                     \"we're\": \"we are\",\"we've\": \"we have\", \"weren't\": \"were not\",\"what'll\": \"what will\",\n",
        "                     \"what'll've\": \"what will have\",\"what're\": \"what are\", \"what've\": \"what have\",\n",
        "                     \"when've\": \"when have\",\"where'd\": \"where did\", \"where've\": \"where have\",\n",
        "                     \"who'll\": \"who will\",\"who'll've\": \"who will have\",\"who've\": \"who have\",\n",
        "                     \"why've\": \"why have\",\"will've\": \"will have\",\"won't\": \"will not\",\n",
        "                     \"won't've\": \"will not have\", \"would've\": \"would have\",\"wouldn't\": \"would not\",\n",
        "                     \"wouldn't've\": \"would not have\",\"y'all\": \"you all\", \"y'all'd\": \"you all would\",\n",
        "                     \"y'all'd've\": \"you all would have\",\"y'all're\": \"you all are\",\n",
        "                     \"y'all've\": \"you all have\", \"you'd\": \"you would\",\"you'd've\": \"you would have\",\n",
        "                     \"you'll\": \"you will\",\"you'll've\": \"you will have\", \"you're\": \"you are\",\n",
        "                     \"you've\": \"you have\"}\n",
        "\n",
        "contractions_re=re.compile('(%s)' % '|'.join(contractions_dict.keys()))\n",
        "\n",
        "\n",
        "def expand_contractions(text,contractions_dict=contractions_dict):\n",
        "  def replace(match):\n",
        "    return contractions_dict[match.group(0)]\n",
        "  return contractions_re.sub(replace, text)"
      ]
    },
    {
      "cell_type": "code",
      "execution_count": 56,
      "metadata": {
        "id": "rWvyJ5_dAg0s"
      },
      "outputs": [
        {
          "name": "stderr",
          "output_type": "stream",
          "text": [
            "Pandas Apply: 100%|██████████| 568227/568227 [01:13<00:00, 7740.09it/s]\n",
            "<ipython-input-56-867f182548ff>:2: SettingWithCopyWarning: \n",
            "A value is trying to be set on a copy of a slice from a DataFrame.\n",
            "Try using .loc[row_indexer,col_indexer] = value instead\n",
            "\n",
            "See the caveats in the documentation: https://pandas.pydata.org/pandas-docs/stable/user_guide/indexing.html#returning-a-view-versus-a-copy\n",
            "  restaurants_english['cleaned'] = restaurants_english['text'].swifter.apply(lambda x:expand_contractions(x))\n"
          ]
        }
      ],
      "source": [
        "# expanding contractions \n",
        "restaurants_english['cleaned'] = restaurants_english['text'].apply(lambda x:expand_contractions(x))"
      ]
    },
    {
      "cell_type": "code",
      "execution_count": 57,
      "metadata": {
        "id": "3C9Y0Zcp0_70"
      },
      "outputs": [
        {
          "name": "stderr",
          "output_type": "stream",
          "text": [
            "<ipython-input-57-ce780160fa92>:2: SettingWithCopyWarning: \n",
            "A value is trying to be set on a copy of a slice from a DataFrame.\n",
            "Try using .loc[row_indexer,col_indexer] = value instead\n",
            "\n",
            "See the caveats in the documentation: https://pandas.pydata.org/pandas-docs/stable/user_guide/indexing.html#returning-a-view-versus-a-copy\n",
            "  restaurants_english['cleaned'] = restaurants_english['cleaned'].apply(lambda x: re.sub(r'https?://\\S+|www\\.\\S+', ' ', x))\n",
            "<ipython-input-57-ce780160fa92>:3: SettingWithCopyWarning: \n",
            "A value is trying to be set on a copy of a slice from a DataFrame.\n",
            "Try using .loc[row_indexer,col_indexer] = value instead\n",
            "\n",
            "See the caveats in the documentation: https://pandas.pydata.org/pandas-docs/stable/user_guide/indexing.html#returning-a-view-versus-a-copy\n",
            "  restaurants_english['cleaned'] = restaurants_english['cleaned'].str.lower().apply(lambda x: re.sub(r\"[\\d\\n\\-\\./]+\", ' ', x))\n",
            "<ipython-input-57-ce780160fa92>:4: SettingWithCopyWarning: \n",
            "A value is trying to be set on a copy of a slice from a DataFrame.\n",
            "Try using .loc[row_indexer,col_indexer] = value instead\n",
            "\n",
            "See the caveats in the documentation: https://pandas.pydata.org/pandas-docs/stable/user_guide/indexing.html#returning-a-view-versus-a-copy\n",
            "  restaurants_english['cleaned'] = restaurants_english['cleaned'].apply(lambda x: re.sub(' +',' ',x))\n",
            "<ipython-input-57-ce780160fa92>:5: SettingWithCopyWarning: \n",
            "A value is trying to be set on a copy of a slice from a DataFrame.\n",
            "Try using .loc[row_indexer,col_indexer] = value instead\n",
            "\n",
            "See the caveats in the documentation: https://pandas.pydata.org/pandas-docs/stable/user_guide/indexing.html#returning-a-view-versus-a-copy\n",
            "  restaurants_english['cleaned'] = restaurants_english['cleaned'].apply(lambda x: re.sub(r'[^\\w\\s]', '', x))\n"
          ]
        }
      ],
      "source": [
        "## Making all words lowercase, removing punctuation, URLs, and white spaces \n",
        "restaurants_english['cleaned'] = restaurants_english['cleaned'].apply(lambda x: re.sub(r'https?://\\S+|www\\.\\S+', ' ', x))\n",
        "restaurants_english['cleaned'] = restaurants_english['cleaned'].str.lower().apply(lambda x: re.sub(r\"[\\d\\n\\-\\./]+\", ' ', x))\n",
        "restaurants_english['cleaned'] = restaurants_english['cleaned'].apply(lambda x: re.sub(' +',' ',x))\n",
        "restaurants_english['cleaned'] = restaurants_english['cleaned'].apply(lambda x: re.sub(r'[^\\w\\s]', '', x))\n"
      ]
    },
    {
      "cell_type": "code",
      "execution_count": 58,
      "metadata": {},
      "outputs": [
        {
          "name": "stderr",
          "output_type": "stream",
          "text": [
            "<ipython-input-58-e862f5b2c85c>:1: SettingWithCopyWarning: \n",
            "A value is trying to be set on a copy of a slice from a DataFrame.\n",
            "Try using .loc[row_indexer,col_indexer] = value instead\n",
            "\n",
            "See the caveats in the documentation: https://pandas.pydata.org/pandas-docs/stable/user_guide/indexing.html#returning-a-view-versus-a-copy\n",
            "  restaurants_english['cleaned'] = restaurants_english['cleaned'].str.normalize('NFKD')\\\n"
          ]
        }
      ],
      "source": [
        "restaurants_english['cleaned'] = restaurants_english['cleaned'].str.normalize('NFKD')\\\n",
        "       .str.encode('ascii', errors='ignore')\\\n",
        "       .str.decode('utf-8')"
      ]
    },
    {
      "cell_type": "code",
      "execution_count": 60,
      "metadata": {},
      "outputs": [
        {
          "name": "stderr",
          "output_type": "stream",
          "text": [
            "<ipython-input-60-d0a2534b201a>:1: SettingWithCopyWarning: \n",
            "A value is trying to be set on a copy of a slice from a DataFrame.\n",
            "Try using .loc[row_indexer,col_indexer] = value instead\n",
            "\n",
            "See the caveats in the documentation: https://pandas.pydata.org/pandas-docs/stable/user_guide/indexing.html#returning-a-view-versus-a-copy\n",
            "  restaurants_english['cleaned'] = restaurants_english['cleaned'].replace(' ', np.nan)\n"
          ]
        }
      ],
      "source": [
        "restaurants_english['cleaned'] = restaurants_english['cleaned'].replace(' ', np.nan)"
      ]
    },
    {
      "cell_type": "code",
      "execution_count": 61,
      "metadata": {},
      "outputs": [
        {
          "data": {
            "text/plain": [
              "business_id    0\n",
              "stars          0\n",
              "text           0\n",
              "cleaned        1\n",
              "lemmatized     0\n",
              "dtype: int64"
            ]
          },
          "execution_count": 61,
          "metadata": {},
          "output_type": "execute_result"
        }
      ],
      "source": [
        "restaurants_english.isna().sum()"
      ]
    },
    {
      "cell_type": "code",
      "execution_count": 62,
      "metadata": {},
      "outputs": [
        {
          "name": "stderr",
          "output_type": "stream",
          "text": [
            "c:\\Users\\shafz\\anaconda3\\envs\\practice\\lib\\site-packages\\pandas\\util\\_decorators.py:311: SettingWithCopyWarning: \n",
            "A value is trying to be set on a copy of a slice from a DataFrame\n",
            "\n",
            "See the caveats in the documentation: https://pandas.pydata.org/pandas-docs/stable/user_guide/indexing.html#returning-a-view-versus-a-copy\n",
            "  return func(*args, **kwargs)\n"
          ]
        }
      ],
      "source": [
        "restaurants_english.dropna(inplace=True)"
      ]
    },
    {
      "cell_type": "code",
      "execution_count": 63,
      "metadata": {
        "colab": {
          "base_uri": "https://localhost:8080/"
        },
        "id": "ZKBX9oY8ClA9",
        "outputId": "5a8d9334-51cd-41c4-89a8-b75422af1d88"
      },
      "outputs": [
        {
          "name": "stdout",
          "output_type": "stream",
          "text": [
            "Review 1:\n",
            " please come hungry every time i have been in i have never been disappointed the mimosas are perfect and i can never seem to order just one my go to are the eggs benedict is served on soft fluffy biscuits the portions are generous and filling \n",
            "Review 2:\n",
            " i have been to the other federal donuts location multiple times i love donuts and coffee and this place does both very well the south philly location is so small and i often find myself cramped while in there however the donuts are always amazing which keeps me coming back for more and more i recently visited the center city location and found that they had a better handle on crowd control which i appreciated the donuts were just as good as what i had tried in the past specifically i had the green tea sesame which i could have bathed in vats of i ate all the little crumbly pieces that had fallen off into the bag when i got home that is how good they are both hot and fancy really in any variety are always amazing try them all\n",
            "Review 3:\n",
            " i was so excited about all the food i saw but unfortunately this place closes so early after being a tourist and sightseeing by the time i got there at or  things started closing the hours of operation is definitely the biggest con ever\n",
            "Review 4:\n",
            " this place never fails the food is absolutely delicious the cocktails are awesome if you just want a quick bite to eat they offer a happy hour special by the bar the bar area a huge the have table and privately seating in the bay area there is also a huge dinning area for a more intimate experience and a large menu\n",
            "Review 5:\n",
            " located in the walking district in nashville it is was a bit out of the way for us but we were on a mission to experience the proclaimed greatest burger in nashville the menu includes several burgers wursthen and chicken sandwich options the waitress told us that the farm burger is the most popular i for one have never had a burger with an egg and the thought of it is not very appealing i ended up ordering the pharmacy burger which is a less cheesier version of their cheese burger that my husband ordered they loaded the mustard but that really was not what i did not like about it it really was not that i disliked the burger it just was not anywhere near one of the best burgers that i have had the extra toppings at fifty cents each are pretty skimpy too i was a fan of the wasabi aioli though i also loved the tater tots though i highly recommend ordering tater tots over the french fries the beer cheese dipping sauce was an extra dollar and was borderline disgusting stick with wasabi aioli i am thinking that the toppings and sauces are possibly what the hype about this place is otherwise i just do not get it to describe this place in one word overhyped \n"
          ]
        }
      ],
      "source": [
        "for index,text in enumerate(restaurants_english['cleaned'][-5:]):\n",
        "  print('Review %d:\\n'%(index+1),text)\n"
      ]
    },
    {
      "cell_type": "code",
      "execution_count": 66,
      "metadata": {},
      "outputs": [
        {
          "name": "stderr",
          "output_type": "stream",
          "text": [
            "c:\\Users\\shafz\\anaconda3\\envs\\practice\\lib\\site-packages\\pandas\\core\\frame.py:4906: SettingWithCopyWarning: \n",
            "A value is trying to be set on a copy of a slice from a DataFrame\n",
            "\n",
            "See the caveats in the documentation: https://pandas.pydata.org/pandas-docs/stable/user_guide/indexing.html#returning-a-view-versus-a-copy\n",
            "  return super().drop(\n"
          ]
        }
      ],
      "source": [
        "restaurants_english.drop('language', axis = 1, inplace=True)\n"
      ]
    },
    {
      "cell_type": "code",
      "execution_count": 67,
      "metadata": {},
      "outputs": [
        {
          "data": {
            "text/html": [
              "<div>\n",
              "<style scoped>\n",
              "    .dataframe tbody tr th:only-of-type {\n",
              "        vertical-align: middle;\n",
              "    }\n",
              "\n",
              "    .dataframe tbody tr th {\n",
              "        vertical-align: top;\n",
              "    }\n",
              "\n",
              "    .dataframe thead th {\n",
              "        text-align: right;\n",
              "    }\n",
              "</style>\n",
              "<table border=\"1\" class=\"dataframe\">\n",
              "  <thead>\n",
              "    <tr style=\"text-align: right;\">\n",
              "      <th></th>\n",
              "      <th>business_id</th>\n",
              "      <th>stars</th>\n",
              "      <th>text</th>\n",
              "      <th>cleaned</th>\n",
              "    </tr>\n",
              "  </thead>\n",
              "  <tbody>\n",
              "    <tr>\n",
              "      <th>11</th>\n",
              "      <td>EQ-TZ2eeD_E0BHuvoaeG5Q</td>\n",
              "      <td>4</td>\n",
              "      <td>Locals recommended Milktooth, and it's an amaz...</td>\n",
              "      <td>locals recommended milktooth and it is an amaz...</td>\n",
              "    </tr>\n",
              "    <tr>\n",
              "      <th>27</th>\n",
              "      <td>S2Ho8yLxhKAa26pBAm6rxA</td>\n",
              "      <td>3</td>\n",
              "      <td>Service was crappy, and food was mediocre.  I ...</td>\n",
              "      <td>service was crappy and food was mediocre i wis...</td>\n",
              "    </tr>\n",
              "    <tr>\n",
              "      <th>29</th>\n",
              "      <td>ltBBYdNzkeKdCNPDAsxwAA</td>\n",
              "      <td>2</td>\n",
              "      <td>I at least have to give this restaurant two st...</td>\n",
              "      <td>i at least have to give this restaurant two st...</td>\n",
              "    </tr>\n",
              "    <tr>\n",
              "      <th>39</th>\n",
              "      <td>Zx7n8mdt8OzLRXVzolXNhQ</td>\n",
              "      <td>5</td>\n",
              "      <td>Amazing biscuits and (fill in the blank). Grea...</td>\n",
              "      <td>amazing biscuits and fill in the blank great c...</td>\n",
              "    </tr>\n",
              "    <tr>\n",
              "      <th>44</th>\n",
              "      <td>W4ZEKkva9HpAdZG88juwyQ</td>\n",
              "      <td>3</td>\n",
              "      <td>In a word... \"OVERRATED!\".  The food took fore...</td>\n",
              "      <td>in a word overrated the food took forever to c...</td>\n",
              "    </tr>\n",
              "  </tbody>\n",
              "</table>\n",
              "</div>"
            ],
            "text/plain": [
              "               business_id  stars  \\\n",
              "11  EQ-TZ2eeD_E0BHuvoaeG5Q      4   \n",
              "27  S2Ho8yLxhKAa26pBAm6rxA      3   \n",
              "29  ltBBYdNzkeKdCNPDAsxwAA      2   \n",
              "39  Zx7n8mdt8OzLRXVzolXNhQ      5   \n",
              "44  W4ZEKkva9HpAdZG88juwyQ      3   \n",
              "\n",
              "                                                 text  \\\n",
              "11  Locals recommended Milktooth, and it's an amaz...   \n",
              "27  Service was crappy, and food was mediocre.  I ...   \n",
              "29  I at least have to give this restaurant two st...   \n",
              "39  Amazing biscuits and (fill in the blank). Grea...   \n",
              "44  In a word... \"OVERRATED!\".  The food took fore...   \n",
              "\n",
              "                                              cleaned  \n",
              "11  locals recommended milktooth and it is an amaz...  \n",
              "27  service was crappy and food was mediocre i wis...  \n",
              "29  i at least have to give this restaurant two st...  \n",
              "39  amazing biscuits and fill in the blank great c...  \n",
              "44  in a word overrated the food took forever to c...  "
            ]
          },
          "execution_count": 67,
          "metadata": {},
          "output_type": "execute_result"
        }
      ],
      "source": [
        "restaurants_english.head()"
      ]
    },
    {
      "attachments": {},
      "cell_type": "markdown",
      "metadata": {},
      "source": [
        "### Spell Check"
      ]
    },
    {
      "cell_type": "code",
      "execution_count": 18,
      "metadata": {},
      "outputs": [],
      "source": [
        "from symspellpy import SymSpell, Verbosity\n",
        "import pkg_resources"
      ]
    },
    {
      "cell_type": "code",
      "execution_count": 5,
      "metadata": {},
      "outputs": [
        {
          "data": {
            "text/html": [
              "<div>\n",
              "<style scoped>\n",
              "    .dataframe tbody tr th:only-of-type {\n",
              "        vertical-align: middle;\n",
              "    }\n",
              "\n",
              "    .dataframe tbody tr th {\n",
              "        vertical-align: top;\n",
              "    }\n",
              "\n",
              "    .dataframe thead th {\n",
              "        text-align: right;\n",
              "    }\n",
              "</style>\n",
              "<table border=\"1\" class=\"dataframe\">\n",
              "  <thead>\n",
              "    <tr style=\"text-align: right;\">\n",
              "      <th></th>\n",
              "      <th>business_id</th>\n",
              "      <th>stars</th>\n",
              "      <th>text</th>\n",
              "      <th>cleaned</th>\n",
              "    </tr>\n",
              "  </thead>\n",
              "  <tbody>\n",
              "    <tr>\n",
              "      <th>0</th>\n",
              "      <td>EQ-TZ2eeD_E0BHuvoaeG5Q</td>\n",
              "      <td>4</td>\n",
              "      <td>Locals recommended Milktooth, and it's an amaz...</td>\n",
              "      <td>locals recommended milktooth and it is an amaz...</td>\n",
              "    </tr>\n",
              "    <tr>\n",
              "      <th>1</th>\n",
              "      <td>S2Ho8yLxhKAa26pBAm6rxA</td>\n",
              "      <td>3</td>\n",
              "      <td>Service was crappy, and food was mediocre.  I ...</td>\n",
              "      <td>service was crappy and food was mediocre i wis...</td>\n",
              "    </tr>\n",
              "    <tr>\n",
              "      <th>2</th>\n",
              "      <td>ltBBYdNzkeKdCNPDAsxwAA</td>\n",
              "      <td>2</td>\n",
              "      <td>I at least have to give this restaurant two st...</td>\n",
              "      <td>i at least have to give this restaurant two st...</td>\n",
              "    </tr>\n",
              "    <tr>\n",
              "      <th>3</th>\n",
              "      <td>Zx7n8mdt8OzLRXVzolXNhQ</td>\n",
              "      <td>5</td>\n",
              "      <td>Amazing biscuits and (fill in the blank). Grea...</td>\n",
              "      <td>amazing biscuits and fill in the blank great c...</td>\n",
              "    </tr>\n",
              "    <tr>\n",
              "      <th>4</th>\n",
              "      <td>W4ZEKkva9HpAdZG88juwyQ</td>\n",
              "      <td>3</td>\n",
              "      <td>In a word... \"OVERRATED!\".  The food took fore...</td>\n",
              "      <td>in a word overrated the food took forever to c...</td>\n",
              "    </tr>\n",
              "  </tbody>\n",
              "</table>\n",
              "</div>"
            ],
            "text/plain": [
              "              business_id  stars  \\\n",
              "0  EQ-TZ2eeD_E0BHuvoaeG5Q      4   \n",
              "1  S2Ho8yLxhKAa26pBAm6rxA      3   \n",
              "2  ltBBYdNzkeKdCNPDAsxwAA      2   \n",
              "3  Zx7n8mdt8OzLRXVzolXNhQ      5   \n",
              "4  W4ZEKkva9HpAdZG88juwyQ      3   \n",
              "\n",
              "                                                text  \\\n",
              "0  Locals recommended Milktooth, and it's an amaz...   \n",
              "1  Service was crappy, and food was mediocre.  I ...   \n",
              "2  I at least have to give this restaurant two st...   \n",
              "3  Amazing biscuits and (fill in the blank). Grea...   \n",
              "4  In a word... \"OVERRATED!\".  The food took fore...   \n",
              "\n",
              "                                             cleaned  \n",
              "0  locals recommended milktooth and it is an amaz...  \n",
              "1  service was crappy and food was mediocre i wis...  \n",
              "2  i at least have to give this restaurant two st...  \n",
              "3  amazing biscuits and fill in the blank great c...  \n",
              "4  in a word overrated the food took forever to c...  "
            ]
          },
          "execution_count": 5,
          "metadata": {},
          "output_type": "execute_result"
        }
      ],
      "source": [
        "restaurants_english = pd.read_csv('./reviews_cleaned.csv')\n",
        "#reviews.drop('Unnamed: 0', axis =1, inplace = True)\n",
        "restaurants_english.head(5)"
      ]
    },
    {
      "cell_type": "code",
      "execution_count": 19,
      "metadata": {},
      "outputs": [
        {
          "data": {
            "text/plain": [
              "True"
            ]
          },
          "execution_count": 19,
          "metadata": {},
          "output_type": "execute_result"
        }
      ],
      "source": [
        "# load a dictionary (this one consists of 82,765 English words)\n",
        "sym_spell = SymSpell(max_dictionary_edit_distance=2, prefix_length=7)\n",
        "dictionary_path = pkg_resources.resource_filename(\"symspellpy\", \"frequency_dictionary_en_82_765.txt\")\n",
        "sym_spell.load_dictionary(dictionary_path, term_index=0, count_index=1)"
      ]
    },
    {
      "cell_type": "code",
      "execution_count": 38,
      "metadata": {},
      "outputs": [],
      "source": [
        "custom_words = [('waitlist', 100)]\n",
        "for word, freq in custom_words:\n",
        "    sym_spell.create_dictionary_entry(word, freq)"
      ]
    },
    {
      "cell_type": "code",
      "execution_count": 39,
      "metadata": {},
      "outputs": [],
      "source": [
        "def spell_check_text(text):\n",
        "    words = text.split()\n",
        "    checked_words = []\n",
        "    for word in words:\n",
        "        # Check if word is in dictionary\n",
        "        if sym_spell.lookup(word, Verbosity.CLOSEST, max_edit_distance=0):\n",
        "            checked_words.append(word)\n",
        "        else:\n",
        "            # Get suggestions for misspelled word\n",
        "            suggestions = sym_spell.lookup(word, Verbosity.CLOSEST, max_edit_distance=2)\n",
        "            if len(suggestions) > 0:\n",
        "                checked_words.append(suggestions[0].term)\n",
        "            else:\n",
        "                checked_words.append(' ')\n",
        "    return ' '.join(checked_words)"
      ]
    },
    {
      "cell_type": "code",
      "execution_count": 40,
      "metadata": {},
      "outputs": [
        {
          "name": "stderr",
          "output_type": "stream",
          "text": [
            "Pandas Apply: 100%|██████████| 568226/568226 [05:11<00:00, 1822.85it/s]\n"
          ]
        }
      ],
      "source": [
        "# Apply spell_check_text function to text column of DataFrame\n",
        "restaurants_english['spell_checked'] = restaurants_english['cleaned'].swifter.apply(spell_check_text)"
      ]
    },
    {
      "cell_type": "code",
      "execution_count": 44,
      "metadata": {},
      "outputs": [
        {
          "data": {
            "text/html": [
              "<div>\n",
              "<style scoped>\n",
              "    .dataframe tbody tr th:only-of-type {\n",
              "        vertical-align: middle;\n",
              "    }\n",
              "\n",
              "    .dataframe tbody tr th {\n",
              "        vertical-align: top;\n",
              "    }\n",
              "\n",
              "    .dataframe thead th {\n",
              "        text-align: right;\n",
              "    }\n",
              "</style>\n",
              "<table border=\"1\" class=\"dataframe\">\n",
              "  <thead>\n",
              "    <tr style=\"text-align: right;\">\n",
              "      <th></th>\n",
              "      <th>business_id</th>\n",
              "      <th>stars</th>\n",
              "      <th>text</th>\n",
              "      <th>cleaned</th>\n",
              "      <th>spell_checked</th>\n",
              "    </tr>\n",
              "  </thead>\n",
              "  <tbody>\n",
              "    <tr>\n",
              "      <th>0</th>\n",
              "      <td>EQ-TZ2eeD_E0BHuvoaeG5Q</td>\n",
              "      <td>4</td>\n",
              "      <td>Locals recommended Milktooth, and it's an amaz...</td>\n",
              "      <td>locals recommended milktooth and it is an amaz...</td>\n",
              "      <td>locals recommended   and it is an amazing jewe...</td>\n",
              "    </tr>\n",
              "    <tr>\n",
              "      <th>1</th>\n",
              "      <td>S2Ho8yLxhKAa26pBAm6rxA</td>\n",
              "      <td>3</td>\n",
              "      <td>Service was crappy, and food was mediocre.  I ...</td>\n",
              "      <td>service was crappy and food was mediocre i wis...</td>\n",
              "      <td>service was crappy and food was mediocre i wis...</td>\n",
              "    </tr>\n",
              "    <tr>\n",
              "      <th>2</th>\n",
              "      <td>ltBBYdNzkeKdCNPDAsxwAA</td>\n",
              "      <td>2</td>\n",
              "      <td>I at least have to give this restaurant two st...</td>\n",
              "      <td>i at least have to give this restaurant two st...</td>\n",
              "      <td>i at least have to give this restaurant two st...</td>\n",
              "    </tr>\n",
              "    <tr>\n",
              "      <th>3</th>\n",
              "      <td>Zx7n8mdt8OzLRXVzolXNhQ</td>\n",
              "      <td>5</td>\n",
              "      <td>Amazing biscuits and (fill in the blank). Grea...</td>\n",
              "      <td>amazing biscuits and fill in the blank great c...</td>\n",
              "      <td>amazing biscuits and fill in the blank great c...</td>\n",
              "    </tr>\n",
              "    <tr>\n",
              "      <th>4</th>\n",
              "      <td>W4ZEKkva9HpAdZG88juwyQ</td>\n",
              "      <td>3</td>\n",
              "      <td>In a word... \"OVERRATED!\".  The food took fore...</td>\n",
              "      <td>in a word overrated the food took forever to c...</td>\n",
              "      <td>in a word overrated the food took forever to c...</td>\n",
              "    </tr>\n",
              "    <tr>\n",
              "      <th>5</th>\n",
              "      <td>I6L0Zxi5Ww0zEWSAVgngeQ</td>\n",
              "      <td>4</td>\n",
              "      <td>The cafe was extremely cute. We came at 8am an...</td>\n",
              "      <td>the cafe was extremely cute we came at am and ...</td>\n",
              "      <td>the cafe was extremely cute we came at am and ...</td>\n",
              "    </tr>\n",
              "    <tr>\n",
              "      <th>6</th>\n",
              "      <td>EtKSTHV5Qx_Q7Aur9o4kQQ</td>\n",
              "      <td>5</td>\n",
              "      <td>On a scale of one to things that are awesome, ...</td>\n",
              "      <td>on a scale of one to things that are awesome t...</td>\n",
              "      <td>on a scale of one to things that are awesome t...</td>\n",
              "    </tr>\n",
              "    <tr>\n",
              "      <th>7</th>\n",
              "      <td>SZU9c8V2GuREDN5KgyHFJw</td>\n",
              "      <td>5</td>\n",
              "      <td>We were a bit weary about trying the Shellfish...</td>\n",
              "      <td>we were a bit weary about trying the shellfish...</td>\n",
              "      <td>we were a bit weary about trying the shellfish...</td>\n",
              "    </tr>\n",
              "    <tr>\n",
              "      <th>8</th>\n",
              "      <td>oQ5CPRt0R3AzFvcjNOqB1w</td>\n",
              "      <td>3</td>\n",
              "      <td>Honestly the food doesn't knock my socks off b...</td>\n",
              "      <td>honestly the food does not knock my socks off ...</td>\n",
              "      <td>honestly the food does not knock my socks off ...</td>\n",
              "    </tr>\n",
              "    <tr>\n",
              "      <th>9</th>\n",
              "      <td>Zi-F-YvyVOK0k5QD7lrLOg</td>\n",
              "      <td>5</td>\n",
              "      <td>Definitely recommend for anyone looking for a ...</td>\n",
              "      <td>definitely recommend for anyone looking for a ...</td>\n",
              "      <td>definitely recommend for anyone looking for a ...</td>\n",
              "    </tr>\n",
              "  </tbody>\n",
              "</table>\n",
              "</div>"
            ],
            "text/plain": [
              "              business_id  stars  \\\n",
              "0  EQ-TZ2eeD_E0BHuvoaeG5Q      4   \n",
              "1  S2Ho8yLxhKAa26pBAm6rxA      3   \n",
              "2  ltBBYdNzkeKdCNPDAsxwAA      2   \n",
              "3  Zx7n8mdt8OzLRXVzolXNhQ      5   \n",
              "4  W4ZEKkva9HpAdZG88juwyQ      3   \n",
              "5  I6L0Zxi5Ww0zEWSAVgngeQ      4   \n",
              "6  EtKSTHV5Qx_Q7Aur9o4kQQ      5   \n",
              "7  SZU9c8V2GuREDN5KgyHFJw      5   \n",
              "8  oQ5CPRt0R3AzFvcjNOqB1w      3   \n",
              "9  Zi-F-YvyVOK0k5QD7lrLOg      5   \n",
              "\n",
              "                                                text  \\\n",
              "0  Locals recommended Milktooth, and it's an amaz...   \n",
              "1  Service was crappy, and food was mediocre.  I ...   \n",
              "2  I at least have to give this restaurant two st...   \n",
              "3  Amazing biscuits and (fill in the blank). Grea...   \n",
              "4  In a word... \"OVERRATED!\".  The food took fore...   \n",
              "5  The cafe was extremely cute. We came at 8am an...   \n",
              "6  On a scale of one to things that are awesome, ...   \n",
              "7  We were a bit weary about trying the Shellfish...   \n",
              "8  Honestly the food doesn't knock my socks off b...   \n",
              "9  Definitely recommend for anyone looking for a ...   \n",
              "\n",
              "                                             cleaned  \\\n",
              "0  locals recommended milktooth and it is an amaz...   \n",
              "1  service was crappy and food was mediocre i wis...   \n",
              "2  i at least have to give this restaurant two st...   \n",
              "3  amazing biscuits and fill in the blank great c...   \n",
              "4  in a word overrated the food took forever to c...   \n",
              "5  the cafe was extremely cute we came at am and ...   \n",
              "6  on a scale of one to things that are awesome t...   \n",
              "7  we were a bit weary about trying the shellfish...   \n",
              "8  honestly the food does not knock my socks off ...   \n",
              "9  definitely recommend for anyone looking for a ...   \n",
              "\n",
              "                                       spell_checked  \n",
              "0  locals recommended   and it is an amazing jewe...  \n",
              "1  service was crappy and food was mediocre i wis...  \n",
              "2  i at least have to give this restaurant two st...  \n",
              "3  amazing biscuits and fill in the blank great c...  \n",
              "4  in a word overrated the food took forever to c...  \n",
              "5  the cafe was extremely cute we came at am and ...  \n",
              "6  on a scale of one to things that are awesome t...  \n",
              "7  we were a bit weary about trying the shellfish...  \n",
              "8  honestly the food does not knock my socks off ...  \n",
              "9  definitely recommend for anyone looking for a ...  "
            ]
          },
          "execution_count": 44,
          "metadata": {},
          "output_type": "execute_result"
        }
      ],
      "source": [
        "restaurants_english.head(10)"
      ]
    },
    {
      "cell_type": "code",
      "execution_count": 45,
      "metadata": {},
      "outputs": [],
      "source": [
        "restaurants_english['spell_checked'] = restaurants_english['spell_checked'].apply(lambda x: re.sub(' +',' ',x))"
      ]
    },
    {
      "cell_type": "code",
      "execution_count": 46,
      "metadata": {
        "id": "n3I9KaOZhs1C"
      },
      "outputs": [],
      "source": [
        "restaurants_english.to_csv('./reviews_cleaned.csv', index=False)"
      ]
    },
    {
      "cell_type": "markdown",
      "metadata": {
        "id": "slo6BGrvDRR2"
      },
      "source": [
        "Removing stop words, lemmatizing, and tokenizing \n"
      ]
    },
    {
      "cell_type": "code",
      "execution_count": 47,
      "metadata": {
        "id": "yR0f7ABSDVbV"
      },
      "outputs": [],
      "source": [
        "#nlp = spacy.load('en_core_web_sm')\n",
        "nlp = spacy.load('en_core_web_sm', disable=['ner', 'parser'])"
      ]
    },
    {
      "cell_type": "code",
      "execution_count": 48,
      "metadata": {
        "colab": {
          "base_uri": "https://localhost:8080/"
        },
        "id": "0xel_-rrHhQg",
        "outputId": "861bf6c7-809f-4b78-dad1-76710a5fd1cc"
      },
      "outputs": [
        {
          "name": "stdout",
          "output_type": "stream",
          "text": [
            "{'therein', 'show', 'hers', 'wherein', 'most', 'call', 'before', 'latterly', 'yourself', 'any', 'her', '‘s', 'who', 'rather', 'well', 'sixty', 'these', 'yourselves', 'more', 'whereas', 'own', 'around', 'into', 'say', 'him', 'eight', 'must', 'latter', 'fifteen', 'fifty', 'whenever', 'otherwise', 'along', 'nowhere', 'thence', 'whose', 'have', 'put', 'as', 'mine', 'seeming', 'too', 'nobody', 'whereby', 'does', 'elsewhere', 'how', 'make', 'whither', 'nothing', 'had', 'least', 'get', 'may', 'none', 'about', 'further', 'meanwhile', 'where', 'was', 'themselves', 'here', 'across', 'anyway', 'if', 'often', \"'ll\", '‘d', 'together', 'bottom', 'himself', 'go', 'top', 'beside', 'us', 'towards', 'anywhere', 'anyone', 'amongst', 'you', 'full', 'please', '’m', 'either', 'therefore', 'through', 'so', 'not', 'on', 'mostly', 'become', 'below', 'against', 'few', 'via', 'wherever', 'former', 'such', 'twenty', 'above', 'should', 'within', 'am', 'really', 'seem', 'moreover', 'whatever', 'no', 'still', 'once', 'becoming', 'front', 'nor', 'give', 'else', 'afterwards', 'perhaps', 'very', 'someone', 'thereafter', 'yours', 'during', 'both', 'its', 'namely', 'yet', 'anything', 'ca', 'hereupon', 'their', '’ve', 'three', 'two', 'this', 'i', 'hundred', 'beforehand', 'which', 'it', 'name', 'third', 'using', 'now', 'one', 'she', 'an', 'take', 'that', 'amount', 'however', 'myself', 'never', 'back', 'among', 'sometime', 'my', \"'d\", 'why', 'already', 'all', \"n't\", 'until', 'been', 'move', 'ten', 'twelve', '’d', 'indeed', 'but', 'then', 'your', 'might', 'made', 'were', 'me', 'per', 'because', 'again', 'up', 'just', 'do', '’ll', 'did', 'he', '‘m', 'hence', 'thereupon', 'another', 'can', 'others', 'whom', 'doing', \"'m\", 'although', 'each', 'them', 'since', 'thru', 'from', 'every', 'or', 'after', 'whole', 'various', 'off', 'five', 'formerly', 'over', 'done', 'even', \"'ve\", 'without', '’s', 'will', 'onto', 'keep', 'became', 'six', 'under', 'some', 'next', 'last', 'ourselves', 'somewhere', 'first', '’re', 'are', 'becomes', 'also', 'part', 'being', 'much', 'herself', 'itself', 'whence', 'his', 'they', 'whether', 'everywhere', 'seemed', 're', 'eleven', 'due', 'a', '‘ve', '‘ll', 'alone', 'beyond', 'everything', 'while', 'several', 'behind', 'forty', 'seems', 'quite', 'and', \"'re\", 'serious', 'sometimes', 'be', 'there', 'n‘t', 'n’t', 'unless', 'always', '‘re', 'neither', 'used', 'between', 'only', 'almost', 'enough', 'out', 'except', 'of', 'less', 'at', 'is', 'side', \"'s\", 'thus', 'four', 'in', 'ours', 'same', 'many', 'toward', 'with', 'cannot', 'the', 'whoever', 'than', 'would', 'herein', 'whereafter', 'regarding', 'our', 'those', 'besides', 'something', 'see', 'empty', 'ever', 'nine', 'upon', 'though', 'whereupon', 'hereafter', 'thereby', 'somehow', 'for', 'noone', 'we', 'down', 'nevertheless', 'everyone', 'anyhow', 'by', 'throughout', 'could', 'has', 'hereby', 'when', 'to', 'other', 'what'}\n"
          ]
        },
        {
          "data": {
            "text/plain": [
              "326"
            ]
          },
          "execution_count": 48,
          "metadata": {},
          "output_type": "execute_result"
        }
      ],
      "source": [
        "print(nlp.Defaults.stop_words)\n",
        "len(nlp.Defaults.stop_words)"
      ]
    },
    {
      "cell_type": "code",
      "execution_count": 49,
      "metadata": {
        "colab": {
          "base_uri": "https://localhost:8080/"
        },
        "id": "-nDAVy_VIFhx",
        "outputId": "b10e4c13-9a23-4dec-d2d8-c0598a2b1212"
      },
      "outputs": [
        {
          "data": {
            "text/plain": [
              "298"
            ]
          },
          "execution_count": 49,
          "metadata": {},
          "output_type": "execute_result"
        }
      ],
      "source": [
        "nlp.Defaults.stop_words -= {'few', 'whereas', 'unless', 'anything', 'everything', 'nothing','but', 'before', 'afterwards', 'besides',  'anywhere', 'everyone', 'however', 'against', 'never', 'cannot', 'even', 'neither', 'empty', 'nor','well', 'either', 'least', 'less', 'none', 'side', 'not', \n",
        "  'full'}\n",
        "len(nlp.Defaults.stop_words)"
      ]
    },
    {
      "cell_type": "code",
      "execution_count": 50,
      "metadata": {},
      "outputs": [
        {
          "data": {
            "text/plain": [
              "304"
            ]
          },
          "execution_count": 50,
          "metadata": {},
          "output_type": "execute_result"
        }
      ],
      "source": [
        "nlp.Defaults.stop_words |= {'food', 'service', 'drinks', 'restaurant', 'come', 'place', 'get', 'go'}\n",
        "len(nlp.Defaults.stop_words)"
      ]
    },
    {
      "cell_type": "code",
      "execution_count": 51,
      "metadata": {
        "id": "aw1DvjyWeNLs"
      },
      "outputs": [],
      "source": [
        "texts = restaurants_english['cleaned'].tolist()\n",
        "lemmatized_texts = []\n",
        "for doc in nlp.pipe(texts, batch_size=1000, n_process=4):\n",
        "    lemmatized_texts.append(' '.join([token.lemma_ for token in doc if (token.is_stop==False)]))"
      ]
    },
    {
      "cell_type": "code",
      "execution_count": 54,
      "metadata": {},
      "outputs": [],
      "source": [
        "restaurants_english['lemmatized'] = lemmatized_texts"
      ]
    },
    {
      "cell_type": "code",
      "execution_count": 55,
      "metadata": {},
      "outputs": [
        {
          "data": {
            "text/html": [
              "<div>\n",
              "<style scoped>\n",
              "    .dataframe tbody tr th:only-of-type {\n",
              "        vertical-align: middle;\n",
              "    }\n",
              "\n",
              "    .dataframe tbody tr th {\n",
              "        vertical-align: top;\n",
              "    }\n",
              "\n",
              "    .dataframe thead th {\n",
              "        text-align: right;\n",
              "    }\n",
              "</style>\n",
              "<table border=\"1\" class=\"dataframe\">\n",
              "  <thead>\n",
              "    <tr style=\"text-align: right;\">\n",
              "      <th></th>\n",
              "      <th>business_id</th>\n",
              "      <th>stars</th>\n",
              "      <th>text</th>\n",
              "      <th>cleaned</th>\n",
              "      <th>spell_checked</th>\n",
              "      <th>lemmatized</th>\n",
              "    </tr>\n",
              "  </thead>\n",
              "  <tbody>\n",
              "    <tr>\n",
              "      <th>0</th>\n",
              "      <td>EQ-TZ2eeD_E0BHuvoaeG5Q</td>\n",
              "      <td>4</td>\n",
              "      <td>Locals recommended Milktooth, and it's an amaz...</td>\n",
              "      <td>locals recommended milktooth and it is an amaz...</td>\n",
              "      <td>locals recommended and it is an amazing jewel ...</td>\n",
              "      <td>local recommend milktooth amazing jewel indian...</td>\n",
              "    </tr>\n",
              "    <tr>\n",
              "      <th>1</th>\n",
              "      <td>S2Ho8yLxhKAa26pBAm6rxA</td>\n",
              "      <td>3</td>\n",
              "      <td>Service was crappy, and food was mediocre.  I ...</td>\n",
              "      <td>service was crappy and food was mediocre i wis...</td>\n",
              "      <td>service was crappy and food was mediocre i wis...</td>\n",
              "      <td>crappy mediocre wish pick dinner town</td>\n",
              "    </tr>\n",
              "    <tr>\n",
              "      <th>2</th>\n",
              "      <td>ltBBYdNzkeKdCNPDAsxwAA</td>\n",
              "      <td>2</td>\n",
              "      <td>I at least have to give this restaurant two st...</td>\n",
              "      <td>i at least have to give this restaurant two st...</td>\n",
              "      <td>i at least have to give this restaurant two st...</td>\n",
              "      <td>least star decent but dinner meeting spend   e...</td>\n",
              "    </tr>\n",
              "    <tr>\n",
              "      <th>3</th>\n",
              "      <td>Zx7n8mdt8OzLRXVzolXNhQ</td>\n",
              "      <td>5</td>\n",
              "      <td>Amazing biscuits and (fill in the blank). Grea...</td>\n",
              "      <td>amazing biscuits and fill in the blank great c...</td>\n",
              "      <td>amazing biscuits and fill in the blank great c...</td>\n",
              "      <td>amazing biscuit fill blank great cocktail high...</td>\n",
              "    </tr>\n",
              "    <tr>\n",
              "      <th>4</th>\n",
              "      <td>W4ZEKkva9HpAdZG88juwyQ</td>\n",
              "      <td>3</td>\n",
              "      <td>In a word... \"OVERRATED!\".  The food took fore...</td>\n",
              "      <td>in a word overrated the food took forever to c...</td>\n",
              "      <td>in a word overrated the food took forever to c...</td>\n",
              "      <td>word overrate take forever burger way overcook...</td>\n",
              "    </tr>\n",
              "    <tr>\n",
              "      <th>5</th>\n",
              "      <td>I6L0Zxi5Ww0zEWSAVgngeQ</td>\n",
              "      <td>4</td>\n",
              "      <td>The cafe was extremely cute. We came at 8am an...</td>\n",
              "      <td>the cafe was extremely cute we came at am and ...</td>\n",
              "      <td>the cafe was extremely cute we came at am and ...</td>\n",
              "      <td>cafe extremely cute come even jazz band play t...</td>\n",
              "    </tr>\n",
              "    <tr>\n",
              "      <th>6</th>\n",
              "      <td>EtKSTHV5Qx_Q7Aur9o4kQQ</td>\n",
              "      <td>5</td>\n",
              "      <td>On a scale of one to things that are awesome, ...</td>\n",
              "      <td>on a scale of one to things that are awesome t...</td>\n",
              "      <td>on a scale of one to things that are awesome t...</td>\n",
              "      <td>scale thing awesome bomb draw promise duckfat ...</td>\n",
              "    </tr>\n",
              "    <tr>\n",
              "      <th>7</th>\n",
              "      <td>SZU9c8V2GuREDN5KgyHFJw</td>\n",
              "      <td>5</td>\n",
              "      <td>We were a bit weary about trying the Shellfish...</td>\n",
              "      <td>we were a bit weary about trying the shellfish...</td>\n",
              "      <td>we were a bit weary about trying the shellfish...</td>\n",
              "      <td>bit weary try shellfish company wharf place li...</td>\n",
              "    </tr>\n",
              "    <tr>\n",
              "      <th>8</th>\n",
              "      <td>oQ5CPRt0R3AzFvcjNOqB1w</td>\n",
              "      <td>3</td>\n",
              "      <td>Honestly the food doesn't knock my socks off b...</td>\n",
              "      <td>honestly the food does not knock my socks off ...</td>\n",
              "      <td>honestly the food does not knock my socks off ...</td>\n",
              "      <td>honestly knock sock but people love husband li...</td>\n",
              "    </tr>\n",
              "    <tr>\n",
              "      <th>9</th>\n",
              "      <td>Zi-F-YvyVOK0k5QD7lrLOg</td>\n",
              "      <td>5</td>\n",
              "      <td>Definitely recommend for anyone looking for a ...</td>\n",
              "      <td>definitely recommend for anyone looking for a ...</td>\n",
              "      <td>definitely recommend for anyone looking for a ...</td>\n",
              "      <td>definitely recommend look delicious meal reaso...</td>\n",
              "    </tr>\n",
              "  </tbody>\n",
              "</table>\n",
              "</div>"
            ],
            "text/plain": [
              "              business_id  stars  \\\n",
              "0  EQ-TZ2eeD_E0BHuvoaeG5Q      4   \n",
              "1  S2Ho8yLxhKAa26pBAm6rxA      3   \n",
              "2  ltBBYdNzkeKdCNPDAsxwAA      2   \n",
              "3  Zx7n8mdt8OzLRXVzolXNhQ      5   \n",
              "4  W4ZEKkva9HpAdZG88juwyQ      3   \n",
              "5  I6L0Zxi5Ww0zEWSAVgngeQ      4   \n",
              "6  EtKSTHV5Qx_Q7Aur9o4kQQ      5   \n",
              "7  SZU9c8V2GuREDN5KgyHFJw      5   \n",
              "8  oQ5CPRt0R3AzFvcjNOqB1w      3   \n",
              "9  Zi-F-YvyVOK0k5QD7lrLOg      5   \n",
              "\n",
              "                                                text  \\\n",
              "0  Locals recommended Milktooth, and it's an amaz...   \n",
              "1  Service was crappy, and food was mediocre.  I ...   \n",
              "2  I at least have to give this restaurant two st...   \n",
              "3  Amazing biscuits and (fill in the blank). Grea...   \n",
              "4  In a word... \"OVERRATED!\".  The food took fore...   \n",
              "5  The cafe was extremely cute. We came at 8am an...   \n",
              "6  On a scale of one to things that are awesome, ...   \n",
              "7  We were a bit weary about trying the Shellfish...   \n",
              "8  Honestly the food doesn't knock my socks off b...   \n",
              "9  Definitely recommend for anyone looking for a ...   \n",
              "\n",
              "                                             cleaned  \\\n",
              "0  locals recommended milktooth and it is an amaz...   \n",
              "1  service was crappy and food was mediocre i wis...   \n",
              "2  i at least have to give this restaurant two st...   \n",
              "3  amazing biscuits and fill in the blank great c...   \n",
              "4  in a word overrated the food took forever to c...   \n",
              "5  the cafe was extremely cute we came at am and ...   \n",
              "6  on a scale of one to things that are awesome t...   \n",
              "7  we were a bit weary about trying the shellfish...   \n",
              "8  honestly the food does not knock my socks off ...   \n",
              "9  definitely recommend for anyone looking for a ...   \n",
              "\n",
              "                                       spell_checked  \\\n",
              "0  locals recommended and it is an amazing jewel ...   \n",
              "1  service was crappy and food was mediocre i wis...   \n",
              "2  i at least have to give this restaurant two st...   \n",
              "3  amazing biscuits and fill in the blank great c...   \n",
              "4  in a word overrated the food took forever to c...   \n",
              "5  the cafe was extremely cute we came at am and ...   \n",
              "6  on a scale of one to things that are awesome t...   \n",
              "7  we were a bit weary about trying the shellfish...   \n",
              "8  honestly the food does not knock my socks off ...   \n",
              "9  definitely recommend for anyone looking for a ...   \n",
              "\n",
              "                                          lemmatized  \n",
              "0  local recommend milktooth amazing jewel indian...  \n",
              "1              crappy mediocre wish pick dinner town  \n",
              "2  least star decent but dinner meeting spend   e...  \n",
              "3  amazing biscuit fill blank great cocktail high...  \n",
              "4  word overrate take forever burger way overcook...  \n",
              "5  cafe extremely cute come even jazz band play t...  \n",
              "6  scale thing awesome bomb draw promise duckfat ...  \n",
              "7  bit weary try shellfish company wharf place li...  \n",
              "8  honestly knock sock but people love husband li...  \n",
              "9  definitely recommend look delicious meal reaso...  "
            ]
          },
          "execution_count": 55,
          "metadata": {},
          "output_type": "execute_result"
        }
      ],
      "source": [
        "restaurants_english.head(10)"
      ]
    },
    {
      "cell_type": "code",
      "execution_count": 56,
      "metadata": {},
      "outputs": [],
      "source": [
        "restaurants_english.to_csv('./lemmatized_reviews.csv')"
      ]
    }
  ],
  "metadata": {
    "accelerator": "GPU",
    "colab": {
      "provenance": []
    },
    "gpuClass": "standard",
    "kernelspec": {
      "display_name": "Python 3",
      "name": "python3"
    },
    "language_info": {
      "codemirror_mode": {
        "name": "ipython",
        "version": 3
      },
      "file_extension": ".py",
      "mimetype": "text/x-python",
      "name": "python",
      "nbconvert_exporter": "python",
      "pygments_lexer": "ipython3",
      "version": "3.8.12"
    }
  },
  "nbformat": 4,
  "nbformat_minor": 0
}
