{
 "cells": [
  {
   "cell_type": "markdown",
   "id": "98ce66d6",
   "metadata": {},
   "source": [
    "# Gutenberg_Project"
   ]
  },
  {
   "cell_type": "code",
   "execution_count": 30,
   "id": "442c6322",
   "metadata": {},
   "outputs": [],
   "source": [
    "#Import necessary libraries\n",
    "import numpy as np\n",
    "import pandas as pd\n",
    "import matplotlib.pyplot as plt\n",
    "%matplotlib inline\n",
    "import seaborn as sb\n",
    "\n",
    "import warnings\n",
    "warnings.filterwarnings('ignore')\n",
    "\n",
    "import glob\n",
    "import re\n",
    "import nltk\n",
    "from nltk.corpus import stopwords  \n",
    "from nltk import word_tokenize, sent_tokenize \n",
    "from nltk.stem import PorterStemmer, LancasterStemmer\n",
    "from nltk.stem import WordNetLemmatizer\n",
    "import gensim\n",
    "import pickle\n",
    "\n",
    "from wordcloud import WordCloud\n",
    "from textblob import TextBlob\n",
    "\n",
    "from sklearn.naive_bayes import MultinomialNB, GaussianNB\n",
    "from sklearn.neighbors import KNeighborsClassifier\n",
    "from sklearn.tree import DecisionTreeClassifier\n",
    "from sklearn.ensemble import RandomForestClassifier, GradientBoostingClassifier\n",
    "from sklearn.linear_model import LogisticRegression\n",
    "from sklearn.svm import SVC\n",
    "from sklearn.feature_extraction.text import TfidfVectorizer, CountVectorizer\n",
    "\n",
    "from sklearn.decomposition import LatentDirichletAllocation\n",
    "from sklearn.decomposition import TruncatedSVD\n",
    "from sklearn.decomposition import NMF\n",
    "\n",
    "import datetime\n",
    "from sklearn import feature_selection\n",
    "from sklearn.model_selection import train_test_split, cross_val_score\n",
    "from sklearn.metrics import accuracy_score, confusion_matrix, classification_report, roc_auc_score, roc_curve, auc\n",
    "\n",
    "from sklearn.cluster import KMeans\n",
    "from sklearn.mixture import GaussianMixture\n",
    "from sklearn.metrics import silhouette_score\n"
   ]
  },
  {
   "cell_type": "code",
   "execution_count": 31,
   "id": "809ced86",
   "metadata": {},
   "outputs": [],
   "source": [
    "import tensorflow as tf\n",
    "from tensorflow.keras import Model\n",
    "from tensorflow.keras.models import Sequential, load_model\n",
    "from tensorflow.keras.layers import LSTM, Activation, Dense, Dropout, Input, Embedding\n",
    "from tensorflow.keras.optimizers import RMSprop\n",
    "from tensorflow.keras.preprocessing.text import Tokenizer\n",
    "from tensorflow.keras.preprocessing import sequence\n",
    "from tensorflow.keras.utils import to_categorical, plot_model\n",
    "from tensorflow.keras.callbacks import EarlyStopping, ModelCheckpoint\n",
    "from IPython.display import Image\n",
    "from keras.utils import np_utils"
   ]
  },
  {
   "cell_type": "code",
   "execution_count": 43,
   "id": "5cb22fbd",
   "metadata": {},
   "outputs": [
    {
     "name": "stderr",
     "output_type": "stream",
     "text": [
      "[nltk_data] Downloading package punkt to\n",
      "[nltk_data]     C:\\Users\\ymass\\AppData\\Roaming\\nltk_data...\n",
      "[nltk_data]   Package punkt is already up-to-date!\n",
      "[nltk_data] Downloading package wordnet to\n",
      "[nltk_data]     C:\\Users\\ymass\\AppData\\Roaming\\nltk_data...\n",
      "[nltk_data]   Package wordnet is already up-to-date!\n",
      "[nltk_data] Downloading package omw-1.4 to\n",
      "[nltk_data]     C:\\Users\\ymass\\AppData\\Roaming\\nltk_data...\n"
     ]
    },
    {
     "data": {
      "text/plain": [
       "True"
      ]
     },
     "execution_count": 43,
     "metadata": {},
     "output_type": "execute_result"
    }
   ],
   "source": [
    "import nltk\n",
    "nltk.download('punkt')\n",
    "nltk.download('wordnet')\n",
    "nltk.download('omw-1.4')"
   ]
  },
  {
   "cell_type": "markdown",
   "id": "bbfae0f6",
   "metadata": {},
   "source": [
    "## 1. Data preparation and pre-processing using Spacy and other methods (nltk)"
   ]
  },
  {
   "cell_type": "code",
   "execution_count": 33,
   "id": "7a83722d",
   "metadata": {},
   "outputs": [],
   "source": [
    "#Define a function to read the entire content of a book\n",
    "def read_book(title_path): \n",
    "    #Read a book and return it as a string\n",
    "    with open(title_path,\"r\",encoding = \"utf8\") as current_file:            \n",
    "        text = current_file.read()\n",
    "        text = text.replace(\"\\n\", \" \")\n",
    "        text = text.split(\". \")\n",
    "    return text "
   ]
  },
  {
   "cell_type": "code",
   "execution_count": 34,
   "id": "a9556cae",
   "metadata": {},
   "outputs": [
    {
     "data": {
      "text/plain": [
       "['gutenberg_project_book\\\\Alice_Adventures_in_Wonderland_by_Lewis Carroll.txt',\n",
       " 'gutenberg_project_book\\\\Ancient_and_Modern_Physics_by_Thomas E. Willson.txt',\n",
       " 'gutenberg_project_book\\\\Astronomy_for_Amateurs_by_Camille Flammarion.txt',\n",
       " 'gutenberg_project_book\\\\Birds_in_Town_and_Village_by_W. H. Hudson.txt',\n",
       " 'gutenberg_project_book\\\\Cattle_and_Their_Diseases_by_Robert Jennings.txt',\n",
       " 'gutenberg_project_book\\\\Cave_Regions_of_the_Ozarks_and_Black_Hills_by_Luella Agnes Owen.txt',\n",
       " 'gutenberg_project_book\\\\On_the_Origin_of_Species_by_Charles Darwin.txt',\n",
       " 'gutenberg_project_book\\\\The_Chemistry_of_Hat_Manufacturing_by_Watson Smith.txt',\n",
       " 'gutenberg_project_book\\\\The_English_Constitution_by_Walter Bagehot.txt',\n",
       " 'gutenberg_project_book\\\\The_Kybalion_by_Three Initiates.txt']"
      ]
     },
     "execution_count": 34,
     "metadata": {},
     "output_type": "execute_result"
    }
   ],
   "source": [
    "#Load all titles of books\n",
    "book_files = glob.glob('gutenberg_project_book/*.txt')\n",
    "book_files"
   ]
  },
  {
   "cell_type": "code",
   "execution_count": 35,
   "id": "61c33890",
   "metadata": {},
   "outputs": [
    {
     "data": {
      "text/plain": [
       "['Lewis Carroll',\n",
       " 'Thomas E. Willson',\n",
       " 'Camille Flammarion',\n",
       " 'W. H. Hudson',\n",
       " 'Robert Jennings',\n",
       " 'Luella Agnes Owen',\n",
       " 'Charles Darwin',\n",
       " 'Watson Smith',\n",
       " 'Walter Bagehot',\n",
       " 'Three Initiates']"
      ]
     },
     "execution_count": 35,
     "metadata": {},
     "output_type": "execute_result"
    }
   ],
   "source": [
    "#Get the corresponding author list\n",
    "author_list = []\n",
    "for i in range(len(book_files)):\n",
    "    author_name = book_files[i].split('by_')[1].split('.txt')[0]\n",
    "    author_list.append(author_name)\n",
    "    \n",
    "author_list"
   ]
  },
  {
   "cell_type": "code",
   "execution_count": 36,
   "id": "a8ccc17b",
   "metadata": {},
   "outputs": [
    {
     "name": "stdout",
     "output_type": "stream",
     "text": [
      "<class 'pandas.core.frame.DataFrame'>\n",
      "RangeIndex: 15350 entries, 0 to 15349\n",
      "Data columns (total 3 columns):\n",
      " #   Column        Non-Null Count  Dtype \n",
      "---  ------        --------------  ----- \n",
      " 0   text          15350 non-null  object\n",
      " 1   author_name   15350 non-null  object\n",
      " 2   author_class  15350 non-null  int64 \n",
      "dtypes: int64(1), object(2)\n",
      "memory usage: 359.9+ KB\n"
     ]
    }
   ],
   "source": [
    "#Create dataframe for texts of all books, authors and respective labels\n",
    "text_data_list = []\n",
    "i = 0\n",
    "for filename in book_files:\n",
    "    book = read_book(filename)[:2000]\n",
    "    book_df = pd.DataFrame({'text': book, 'author_name': author_list[i], 'author_class':i})\n",
    "    text_data_list.append(book_df)\n",
    "    i += 1\n",
    "\n",
    "text_df = pd.concat(text_data_list, ignore_index = True)\n",
    "text_df.info()"
   ]
  },
  {
   "cell_type": "code",
   "execution_count": 37,
   "id": "2a292aa5",
   "metadata": {},
   "outputs": [
    {
     "data": {
      "text/html": [
       "<div>\n",
       "<style scoped>\n",
       "    .dataframe tbody tr th:only-of-type {\n",
       "        vertical-align: middle;\n",
       "    }\n",
       "\n",
       "    .dataframe tbody tr th {\n",
       "        vertical-align: top;\n",
       "    }\n",
       "\n",
       "    .dataframe thead th {\n",
       "        text-align: right;\n",
       "    }\n",
       "</style>\n",
       "<table border=\"1\" class=\"dataframe\">\n",
       "  <thead>\n",
       "    <tr style=\"text-align: right;\">\n",
       "      <th></th>\n",
       "      <th>text</th>\n",
       "      <th>author_name</th>\n",
       "      <th>author_class</th>\n",
       "    </tr>\n",
       "  </thead>\n",
       "  <tbody>\n",
       "    <tr>\n",
       "      <th>0</th>\n",
       "      <td>﻿ I</td>\n",
       "      <td>Lewis Carroll</td>\n",
       "      <td>0</td>\n",
       "    </tr>\n",
       "    <tr>\n",
       "      <th>1</th>\n",
       "      <td>Down the Rabbit-Hole   Alice was beginning to ...</td>\n",
       "      <td>Lewis Carroll</td>\n",
       "      <td>0</td>\n",
       "    </tr>\n",
       "    <tr>\n",
       "      <th>2</th>\n",
       "      <td>There was nothing so _very_ remarkable in tha...</td>\n",
       "      <td>Lewis Carroll</td>\n",
       "      <td>0</td>\n",
       "    </tr>\n",
       "    <tr>\n",
       "      <th>3</th>\n",
       "      <td>In another moment down went Alice after it, n...</td>\n",
       "      <td>Lewis Carroll</td>\n",
       "      <td>0</td>\n",
       "    </tr>\n",
       "    <tr>\n",
       "      <th>4</th>\n",
       "      <td>The rabbit-hole went straight on like a tunne...</td>\n",
       "      <td>Lewis Carroll</td>\n",
       "      <td>0</td>\n",
       "    </tr>\n",
       "    <tr>\n",
       "      <th>5</th>\n",
       "      <td>Either the well was very deep, or she fell ve...</td>\n",
       "      <td>Lewis Carroll</td>\n",
       "      <td>0</td>\n",
       "    </tr>\n",
       "    <tr>\n",
       "      <th>6</th>\n",
       "      <td>First, she tried to look down and make out wha...</td>\n",
       "      <td>Lewis Carroll</td>\n",
       "      <td>0</td>\n",
       "    </tr>\n",
       "    <tr>\n",
       "      <th>7</th>\n",
       "      <td>She took down a jar from one of the shelves as...</td>\n",
       "      <td>Lewis Carroll</td>\n",
       "      <td>0</td>\n",
       "    </tr>\n",
       "    <tr>\n",
       "      <th>8</th>\n",
       "      <td>“Well!” thought Alice to herself, “after such...</td>\n",
       "      <td>Lewis Carroll</td>\n",
       "      <td>0</td>\n",
       "    </tr>\n",
       "    <tr>\n",
       "      <th>9</th>\n",
       "      <td>Would the fall _never_ come to an end? “I wond...</td>\n",
       "      <td>Lewis Carroll</td>\n",
       "      <td>0</td>\n",
       "    </tr>\n",
       "  </tbody>\n",
       "</table>\n",
       "</div>"
      ],
      "text/plain": [
       "                                                text    author_name  \\\n",
       "0                                                ﻿ I  Lewis Carroll   \n",
       "1  Down the Rabbit-Hole   Alice was beginning to ...  Lewis Carroll   \n",
       "2   There was nothing so _very_ remarkable in tha...  Lewis Carroll   \n",
       "3   In another moment down went Alice after it, n...  Lewis Carroll   \n",
       "4   The rabbit-hole went straight on like a tunne...  Lewis Carroll   \n",
       "5   Either the well was very deep, or she fell ve...  Lewis Carroll   \n",
       "6  First, she tried to look down and make out wha...  Lewis Carroll   \n",
       "7  She took down a jar from one of the shelves as...  Lewis Carroll   \n",
       "8   “Well!” thought Alice to herself, “after such...  Lewis Carroll   \n",
       "9  Would the fall _never_ come to an end? “I wond...  Lewis Carroll   \n",
       "\n",
       "   author_class  \n",
       "0             0  \n",
       "1             0  \n",
       "2             0  \n",
       "3             0  \n",
       "4             0  \n",
       "5             0  \n",
       "6             0  \n",
       "7             0  \n",
       "8             0  \n",
       "9             0  "
      ]
     },
     "execution_count": 37,
     "metadata": {},
     "output_type": "execute_result"
    }
   ],
   "source": [
    "#Show the first 10 rows\n",
    "text_df.head(10)"
   ]
  },
  {
   "cell_type": "code",
   "execution_count": 38,
   "id": "4a9512d5",
   "metadata": {},
   "outputs": [],
   "source": [
    "#Using NLTK in this project to preprocess texts instead of Spacy - download list of stop-words\n",
    "stop_words=set(nltk.corpus.stopwords.words('english'))"
   ]
  },
  {
   "cell_type": "code",
   "execution_count": 39,
   "id": "4cf78bc3",
   "metadata": {},
   "outputs": [],
   "source": [
    "#Define a function to preprocess raw texts by removing punctuations & characters, stopwords, lemmatisation\n",
    "def clean_text(text, stopwords):\n",
    "    le=WordNetLemmatizer()\n",
    "    processed_text = re.sub(r\"[^a-z ]\",\"\", text.lower())\n",
    "    word_tokens=word_tokenize(processed_text)\n",
    "    tokens=[le.lemmatize(w) for w in word_tokens if w not in stopwords and len(w) > 2]\n",
    "    # if a sentence is only one or two words long, the benefit for the training later is very small\n",
    "    if len(tokens) > 2:\n",
    "        cleaned_text=\" \".join(tokens)\n",
    "        return cleaned_text"
   ]
  },
  {
   "cell_type": "code",
   "execution_count": 44,
   "id": "d773291e",
   "metadata": {},
   "outputs": [
    {
     "data": {
      "text/html": [
       "<div>\n",
       "<style scoped>\n",
       "    .dataframe tbody tr th:only-of-type {\n",
       "        vertical-align: middle;\n",
       "    }\n",
       "\n",
       "    .dataframe tbody tr th {\n",
       "        vertical-align: top;\n",
       "    }\n",
       "\n",
       "    .dataframe thead th {\n",
       "        text-align: right;\n",
       "    }\n",
       "</style>\n",
       "<table border=\"1\" class=\"dataframe\">\n",
       "  <thead>\n",
       "    <tr style=\"text-align: right;\">\n",
       "      <th></th>\n",
       "      <th>text</th>\n",
       "      <th>author_name</th>\n",
       "      <th>author_class</th>\n",
       "      <th>clean_text</th>\n",
       "    </tr>\n",
       "  </thead>\n",
       "  <tbody>\n",
       "    <tr>\n",
       "      <th>0</th>\n",
       "      <td>﻿ I</td>\n",
       "      <td>Lewis Carroll</td>\n",
       "      <td>0</td>\n",
       "      <td>None</td>\n",
       "    </tr>\n",
       "    <tr>\n",
       "      <th>1</th>\n",
       "      <td>Down the Rabbit-Hole   Alice was beginning to ...</td>\n",
       "      <td>Lewis Carroll</td>\n",
       "      <td>0</td>\n",
       "      <td>rabbithole alice beginning get tired sitting s...</td>\n",
       "    </tr>\n",
       "    <tr>\n",
       "      <th>2</th>\n",
       "      <td>There was nothing so _very_ remarkable in tha...</td>\n",
       "      <td>Lewis Carroll</td>\n",
       "      <td>0</td>\n",
       "      <td>nothing remarkable alice think much way hear r...</td>\n",
       "    </tr>\n",
       "    <tr>\n",
       "      <th>3</th>\n",
       "      <td>In another moment down went Alice after it, n...</td>\n",
       "      <td>Lewis Carroll</td>\n",
       "      <td>0</td>\n",
       "      <td>another moment went alice never considering wo...</td>\n",
       "    </tr>\n",
       "    <tr>\n",
       "      <th>4</th>\n",
       "      <td>The rabbit-hole went straight on like a tunne...</td>\n",
       "      <td>Lewis Carroll</td>\n",
       "      <td>0</td>\n",
       "      <td>rabbithole went straight like tunnel way dippe...</td>\n",
       "    </tr>\n",
       "    <tr>\n",
       "      <th>5</th>\n",
       "      <td>Either the well was very deep, or she fell ve...</td>\n",
       "      <td>Lewis Carroll</td>\n",
       "      <td>0</td>\n",
       "      <td>either well deep fell slowly plenty time went ...</td>\n",
       "    </tr>\n",
       "    <tr>\n",
       "      <th>6</th>\n",
       "      <td>First, she tried to look down and make out wha...</td>\n",
       "      <td>Lewis Carroll</td>\n",
       "      <td>0</td>\n",
       "      <td>first tried look make coming dark see anything...</td>\n",
       "    </tr>\n",
       "    <tr>\n",
       "      <th>7</th>\n",
       "      <td>She took down a jar from one of the shelves as...</td>\n",
       "      <td>Lewis Carroll</td>\n",
       "      <td>0</td>\n",
       "      <td>took jar one shelf passed labelled orange marm...</td>\n",
       "    </tr>\n",
       "    <tr>\n",
       "      <th>8</th>\n",
       "      <td>“Well!” thought Alice to herself, “after such...</td>\n",
       "      <td>Lewis Carroll</td>\n",
       "      <td>0</td>\n",
       "      <td>well thought alice fall shall think nothing tu...</td>\n",
       "    </tr>\n",
       "    <tr>\n",
       "      <th>9</th>\n",
       "      <td>Would the fall _never_ come to an end? “I wond...</td>\n",
       "      <td>Lewis Carroll</td>\n",
       "      <td>0</td>\n",
       "      <td>would fall never come end wonder many mile ive...</td>\n",
       "    </tr>\n",
       "  </tbody>\n",
       "</table>\n",
       "</div>"
      ],
      "text/plain": [
       "                                                text    author_name  \\\n",
       "0                                                ﻿ I  Lewis Carroll   \n",
       "1  Down the Rabbit-Hole   Alice was beginning to ...  Lewis Carroll   \n",
       "2   There was nothing so _very_ remarkable in tha...  Lewis Carroll   \n",
       "3   In another moment down went Alice after it, n...  Lewis Carroll   \n",
       "4   The rabbit-hole went straight on like a tunne...  Lewis Carroll   \n",
       "5   Either the well was very deep, or she fell ve...  Lewis Carroll   \n",
       "6  First, she tried to look down and make out wha...  Lewis Carroll   \n",
       "7  She took down a jar from one of the shelves as...  Lewis Carroll   \n",
       "8   “Well!” thought Alice to herself, “after such...  Lewis Carroll   \n",
       "9  Would the fall _never_ come to an end? “I wond...  Lewis Carroll   \n",
       "\n",
       "   author_class                                         clean_text  \n",
       "0             0                                               None  \n",
       "1             0  rabbithole alice beginning get tired sitting s...  \n",
       "2             0  nothing remarkable alice think much way hear r...  \n",
       "3             0  another moment went alice never considering wo...  \n",
       "4             0  rabbithole went straight like tunnel way dippe...  \n",
       "5             0  either well deep fell slowly plenty time went ...  \n",
       "6             0  first tried look make coming dark see anything...  \n",
       "7             0  took jar one shelf passed labelled orange marm...  \n",
       "8             0  well thought alice fall shall think nothing tu...  \n",
       "9             0  would fall never come end wonder many mile ive...  "
      ]
     },
     "execution_count": 44,
     "metadata": {},
     "output_type": "execute_result"
    }
   ],
   "source": [
    "#Use the above function to clean texts\n",
    "text_df['clean_text'] = text_df['text'].apply(lambda x: clean_text(x, stop_words))\n",
    "text_df.head(10)"
   ]
  },
  {
   "cell_type": "code",
   "execution_count": 45,
   "id": "f806ea0b",
   "metadata": {},
   "outputs": [
    {
     "data": {
      "text/html": [
       "<div>\n",
       "<style scoped>\n",
       "    .dataframe tbody tr th:only-of-type {\n",
       "        vertical-align: middle;\n",
       "    }\n",
       "\n",
       "    .dataframe tbody tr th {\n",
       "        vertical-align: top;\n",
       "    }\n",
       "\n",
       "    .dataframe thead th {\n",
       "        text-align: right;\n",
       "    }\n",
       "</style>\n",
       "<table border=\"1\" class=\"dataframe\">\n",
       "  <thead>\n",
       "    <tr style=\"text-align: right;\">\n",
       "      <th></th>\n",
       "      <th>clean_text</th>\n",
       "      <th>author_name</th>\n",
       "      <th>author_class</th>\n",
       "    </tr>\n",
       "  </thead>\n",
       "  <tbody>\n",
       "    <tr>\n",
       "      <th>0</th>\n",
       "      <td>None</td>\n",
       "      <td>Lewis Carroll</td>\n",
       "      <td>0</td>\n",
       "    </tr>\n",
       "    <tr>\n",
       "      <th>1</th>\n",
       "      <td>rabbithole alice beginning get tired sitting s...</td>\n",
       "      <td>Lewis Carroll</td>\n",
       "      <td>0</td>\n",
       "    </tr>\n",
       "    <tr>\n",
       "      <th>2</th>\n",
       "      <td>nothing remarkable alice think much way hear r...</td>\n",
       "      <td>Lewis Carroll</td>\n",
       "      <td>0</td>\n",
       "    </tr>\n",
       "    <tr>\n",
       "      <th>3</th>\n",
       "      <td>another moment went alice never considering wo...</td>\n",
       "      <td>Lewis Carroll</td>\n",
       "      <td>0</td>\n",
       "    </tr>\n",
       "    <tr>\n",
       "      <th>4</th>\n",
       "      <td>rabbithole went straight like tunnel way dippe...</td>\n",
       "      <td>Lewis Carroll</td>\n",
       "      <td>0</td>\n",
       "    </tr>\n",
       "  </tbody>\n",
       "</table>\n",
       "</div>"
      ],
      "text/plain": [
       "                                          clean_text    author_name  \\\n",
       "0                                               None  Lewis Carroll   \n",
       "1  rabbithole alice beginning get tired sitting s...  Lewis Carroll   \n",
       "2  nothing remarkable alice think much way hear r...  Lewis Carroll   \n",
       "3  another moment went alice never considering wo...  Lewis Carroll   \n",
       "4  rabbithole went straight like tunnel way dippe...  Lewis Carroll   \n",
       "\n",
       "   author_class  \n",
       "0             0  \n",
       "1             0  \n",
       "2             0  \n",
       "3             0  \n",
       "4             0  "
      ]
     },
     "execution_count": 45,
     "metadata": {},
     "output_type": "execute_result"
    }
   ],
   "source": [
    "#Remove the original column of raw texts\n",
    "processed_df = text_df[['clean_text','author_name','author_class']]\n",
    "processed_df.head()"
   ]
  },
  {
   "cell_type": "code",
   "execution_count": 46,
   "id": "a48703f4",
   "metadata": {},
   "outputs": [
    {
     "data": {
      "text/plain": [
       "clean_text      1028\n",
       "author_name        0\n",
       "author_class       0\n",
       "dtype: int64"
      ]
     },
     "execution_count": 46,
     "metadata": {},
     "output_type": "execute_result"
    }
   ],
   "source": [
    "#Check null values\n",
    "processed_df.isnull().sum()"
   ]
  },
  {
   "cell_type": "code",
   "execution_count": 47,
   "id": "bc870046",
   "metadata": {},
   "outputs": [
    {
     "name": "stdout",
     "output_type": "stream",
     "text": [
      "<class 'pandas.core.frame.DataFrame'>\n",
      "RangeIndex: 14322 entries, 0 to 14321\n",
      "Data columns (total 3 columns):\n",
      " #   Column        Non-Null Count  Dtype \n",
      "---  ------        --------------  ----- \n",
      " 0   clean_text    14322 non-null  object\n",
      " 1   author_name   14322 non-null  object\n",
      " 2   author_class  14322 non-null  int64 \n",
      "dtypes: int64(1), object(2)\n",
      "memory usage: 335.8+ KB\n"
     ]
    }
   ],
   "source": [
    "#Remove all null values\n",
    "processed_df = processed_df.dropna().reset_index().drop('index', axis=1)\n",
    "processed_df.info()"
   ]
  },
  {
   "cell_type": "code",
   "execution_count": 48,
   "id": "723dab06",
   "metadata": {},
   "outputs": [
    {
     "name": "stdout",
     "output_type": "stream",
     "text": [
      "<class 'pandas.core.frame.DataFrame'>\n",
      "RangeIndex: 14305 entries, 0 to 14304\n",
      "Data columns (total 3 columns):\n",
      " #   Column        Non-Null Count  Dtype \n",
      "---  ------        --------------  ----- \n",
      " 0   clean_text    14305 non-null  object\n",
      " 1   author_name   14305 non-null  object\n",
      " 2   author_class  14305 non-null  int64 \n",
      "dtypes: int64(1), object(2)\n",
      "memory usage: 335.4+ KB\n"
     ]
    }
   ],
   "source": [
    "#Remove duplicated rows\n",
    "processed_df = processed_df.drop_duplicates().reset_index().drop('index', axis=1)\n",
    "processed_df.info()"
   ]
  },
  {
   "cell_type": "code",
   "execution_count": 49,
   "id": "7c741831",
   "metadata": {},
   "outputs": [
    {
     "data": {
      "text/html": [
       "<div>\n",
       "<style scoped>\n",
       "    .dataframe tbody tr th:only-of-type {\n",
       "        vertical-align: middle;\n",
       "    }\n",
       "\n",
       "    .dataframe tbody tr th {\n",
       "        vertical-align: top;\n",
       "    }\n",
       "\n",
       "    .dataframe thead th {\n",
       "        text-align: right;\n",
       "    }\n",
       "</style>\n",
       "<table border=\"1\" class=\"dataframe\">\n",
       "  <thead>\n",
       "    <tr style=\"text-align: right;\">\n",
       "      <th></th>\n",
       "      <th>clean_text</th>\n",
       "      <th>author_name</th>\n",
       "      <th>author_class</th>\n",
       "    </tr>\n",
       "  </thead>\n",
       "  <tbody>\n",
       "    <tr>\n",
       "      <th>14295</th>\n",
       "      <td>understands well road masterythe kybalion</td>\n",
       "      <td>Three Initiates</td>\n",
       "      <td>9</td>\n",
       "    </tr>\n",
       "    <tr>\n",
       "      <th>14296</th>\n",
       "      <td>conclusion let call attention hermetic axiom t...</td>\n",
       "      <td>Three Initiates</td>\n",
       "      <td>9</td>\n",
       "    </tr>\n",
       "    <tr>\n",
       "      <th>14297</th>\n",
       "      <td>axiom hermetists teach great work influencing ...</td>\n",
       "      <td>Three Initiates</td>\n",
       "      <td>9</td>\n",
       "    </tr>\n",
       "    <tr>\n",
       "      <th>14298</th>\n",
       "      <td>universe wholly mental follows may ruled menta...</td>\n",
       "      <td>Three Initiates</td>\n",
       "      <td>9</td>\n",
       "    </tr>\n",
       "    <tr>\n",
       "      <th>14299</th>\n",
       "      <td>truth found explanation phenomenon manifestati...</td>\n",
       "      <td>Three Initiates</td>\n",
       "      <td>9</td>\n",
       "    </tr>\n",
       "    <tr>\n",
       "      <th>14300</th>\n",
       "      <td>back teaching various cult school remains ever...</td>\n",
       "      <td>Three Initiates</td>\n",
       "      <td>9</td>\n",
       "    </tr>\n",
       "    <tr>\n",
       "      <th>14301</th>\n",
       "      <td>universe mental substantial nature follows men...</td>\n",
       "      <td>Three Initiates</td>\n",
       "      <td>9</td>\n",
       "    </tr>\n",
       "    <tr>\n",
       "      <th>14302</th>\n",
       "      <td>universe mental mind must highest power affect...</td>\n",
       "      <td>Three Initiates</td>\n",
       "      <td>9</td>\n",
       "    </tr>\n",
       "    <tr>\n",
       "      <th>14303</th>\n",
       "      <td>understood socalled miracle wonderworkings see...</td>\n",
       "      <td>Three Initiates</td>\n",
       "      <td>9</td>\n",
       "    </tr>\n",
       "    <tr>\n",
       "      <th>14304</th>\n",
       "      <td>mind universe mentalthe kybalion</td>\n",
       "      <td>Three Initiates</td>\n",
       "      <td>9</td>\n",
       "    </tr>\n",
       "  </tbody>\n",
       "</table>\n",
       "</div>"
      ],
      "text/plain": [
       "                                              clean_text      author_name  \\\n",
       "14295          understands well road masterythe kybalion  Three Initiates   \n",
       "14296  conclusion let call attention hermetic axiom t...  Three Initiates   \n",
       "14297  axiom hermetists teach great work influencing ...  Three Initiates   \n",
       "14298  universe wholly mental follows may ruled menta...  Three Initiates   \n",
       "14299  truth found explanation phenomenon manifestati...  Three Initiates   \n",
       "14300  back teaching various cult school remains ever...  Three Initiates   \n",
       "14301  universe mental substantial nature follows men...  Three Initiates   \n",
       "14302  universe mental mind must highest power affect...  Three Initiates   \n",
       "14303  understood socalled miracle wonderworkings see...  Three Initiates   \n",
       "14304                   mind universe mentalthe kybalion  Three Initiates   \n",
       "\n",
       "       author_class  \n",
       "14295             9  \n",
       "14296             9  \n",
       "14297             9  \n",
       "14298             9  \n",
       "14299             9  \n",
       "14300             9  \n",
       "14301             9  \n",
       "14302             9  \n",
       "14303             9  \n",
       "14304             9  "
      ]
     },
     "execution_count": 49,
     "metadata": {},
     "output_type": "execute_result"
    }
   ],
   "source": [
    "#Show the last 10 rows\n",
    "processed_df.tail(10)"
   ]
  },
  {
   "cell_type": "code",
   "execution_count": 50,
   "id": "ca8fd9bf",
   "metadata": {},
   "outputs": [],
   "source": [
    "#Make another copy for exploratory data exploration later\n",
    "clean_data = processed_df.copy(deep=True)"
   ]
  },
  {
   "cell_type": "markdown",
   "id": "ae268fee",
   "metadata": {},
   "source": [
    "## 2. Perform data exploration"
   ]
  },
  {
   "cell_type": "markdown",
   "id": "bfd02cd6",
   "metadata": {},
   "source": [
    "### * Sentence-level analysis"
   ]
  },
  {
   "cell_type": "code",
   "execution_count": 51,
   "id": "acd87042",
   "metadata": {},
   "outputs": [
    {
     "name": "stdout",
     "output_type": "stream",
     "text": [
      "Max length: 1028, Min length: 12, Average Length :  111.0\n"
     ]
    },
    {
     "data": {
      "image/png": "[encoded data removed]",
      "text/plain": [
       "<Figure size 720x576 with 1 Axes>"
      ]
     },
     "metadata": {
      "needs_background": "light"
     },
     "output_type": "display_data"
    }
   ],
   "source": [
    "#Create a new column 'sentence_len'\n",
    "clean_data['sentence_len'] = clean_data['clean_text'].str.len()\n",
    "print('Max length: {}, Min length: {}, Average Length :  {}'.format(max(clean_data['sentence_len']),\n",
    "                                            min(clean_data['sentence_len']), round(clean_data['sentence_len'].mean(), 0)))\n",
    "\n",
    "#Visualize number of characters in all rows (i.e. sentences)\n",
    "plt.figure(figsize = (10,8))\n",
    "clean_data['sentence_len'].hist()\n",
    "plt.xlabel('Number of characters')\n",
    "plt.show()"
   ]
  },
  {
   "cell_type": "markdown",
   "id": "93643770",
   "metadata": {},
   "source": [
    "### Comments:\n",
    "- We can see that sentences range from 12 to 1028 characters.  \n",
    "- Majority of sentences are approximately between 12 and 200 characters.  "
   ]
  },
  {
   "cell_type": "markdown",
   "id": "607dde01",
   "metadata": {},
   "source": [
    "### * Word-level analysis "
   ]
  },
  {
   "cell_type": "code",
   "execution_count": 52,
   "id": "56dc13ee",
   "metadata": {},
   "outputs": [
    {
     "name": "stdout",
     "output_type": "stream",
     "text": [
      "Max_word_count: 161, Min_word_count: 3, Average_word_count:  15.0\n"
     ]
    },
    {
     "data": {
      "image/png": "[encoded data removed]",
      "text/plain": [
       "<Figure size 720x576 with 1 Axes>"
      ]
     },
     "metadata": {
      "needs_background": "light"
     },
     "output_type": "display_data"
    }
   ],
   "source": [
    "#Create a new column 'word_count'\n",
    "clean_data['word_count'] = clean_data['clean_text'].str.split().map(lambda x: len(x))\n",
    "print('Max_word_count: {}, Min_word_count: {}, Average_word_count:  {}'.format(max(clean_data['word_count']),\n",
    "                                        min(clean_data['word_count']), round(clean_data['word_count'].mean(), 0)))\n",
    "\n",
    "#Visualize number of words in all sentences\n",
    "plt.figure(figsize = (10,8))\n",
    "clean_data['word_count'].hist()\n",
    "plt.xlabel('Number of words')\n",
    "plt.show()"
   ]
  },
  {
   "cell_type": "markdown",
   "id": "94bbacd8",
   "metadata": {},
   "source": [
    "### Comments:\n",
    "- It is clear that number of words in each sentence range from 3 to 161.  \n",
    "- Most of sentences have a total word count of 3 to 34 as shown in the above chart.  "
   ]
  },
  {
   "cell_type": "code",
   "execution_count": 53,
   "id": "891293e0",
   "metadata": {},
   "outputs": [
    {
     "data": {
      "text/html": [
       "<div>\n",
       "<style scoped>\n",
       "    .dataframe tbody tr th:only-of-type {\n",
       "        vertical-align: middle;\n",
       "    }\n",
       "\n",
       "    .dataframe tbody tr th {\n",
       "        vertical-align: top;\n",
       "    }\n",
       "\n",
       "    .dataframe thead th {\n",
       "        text-align: right;\n",
       "    }\n",
       "</style>\n",
       "<table border=\"1\" class=\"dataframe\">\n",
       "  <thead>\n",
       "    <tr style=\"text-align: right;\">\n",
       "      <th></th>\n",
       "      <th>word</th>\n",
       "      <th>count</th>\n",
       "      <th>word_len</th>\n",
       "    </tr>\n",
       "  </thead>\n",
       "  <tbody>\n",
       "    <tr>\n",
       "      <th>0</th>\n",
       "      <td>one</td>\n",
       "      <td>1861</td>\n",
       "      <td>3</td>\n",
       "    </tr>\n",
       "    <tr>\n",
       "      <th>1</th>\n",
       "      <td>would</td>\n",
       "      <td>1311</td>\n",
       "      <td>5</td>\n",
       "    </tr>\n",
       "    <tr>\n",
       "      <th>2</th>\n",
       "      <td>may</td>\n",
       "      <td>1084</td>\n",
       "      <td>3</td>\n",
       "    </tr>\n",
       "    <tr>\n",
       "      <th>3</th>\n",
       "      <td>time</td>\n",
       "      <td>883</td>\n",
       "      <td>4</td>\n",
       "    </tr>\n",
       "    <tr>\n",
       "      <th>4</th>\n",
       "      <td>specie</td>\n",
       "      <td>805</td>\n",
       "      <td>6</td>\n",
       "    </tr>\n",
       "    <tr>\n",
       "      <th>5</th>\n",
       "      <td>two</td>\n",
       "      <td>800</td>\n",
       "      <td>3</td>\n",
       "    </tr>\n",
       "    <tr>\n",
       "      <th>6</th>\n",
       "      <td>great</td>\n",
       "      <td>786</td>\n",
       "      <td>5</td>\n",
       "    </tr>\n",
       "    <tr>\n",
       "      <th>7</th>\n",
       "      <td>said</td>\n",
       "      <td>727</td>\n",
       "      <td>4</td>\n",
       "    </tr>\n",
       "    <tr>\n",
       "      <th>8</th>\n",
       "      <td>bird</td>\n",
       "      <td>704</td>\n",
       "      <td>4</td>\n",
       "    </tr>\n",
       "    <tr>\n",
       "      <th>9</th>\n",
       "      <td>many</td>\n",
       "      <td>683</td>\n",
       "      <td>4</td>\n",
       "    </tr>\n",
       "  </tbody>\n",
       "</table>\n",
       "</div>"
      ],
      "text/plain": [
       "     word  count  word_len\n",
       "0     one   1861         3\n",
       "1   would   1311         5\n",
       "2     may   1084         3\n",
       "3    time    883         4\n",
       "4  specie    805         6\n",
       "5     two    800         3\n",
       "6   great    786         5\n",
       "7    said    727         4\n",
       "8    bird    704         4\n",
       "9    many    683         4"
      ]
     },
     "execution_count": 53,
     "metadata": {},
     "output_type": "execute_result"
    }
   ],
   "source": [
    "#Determine the most common words (which is the highest frequencies)\n",
    "#Create list of words for the entire document in the column 'clean_text'\n",
    "all_text = ' '.join(t for t in clean_data['clean_text'])\n",
    "words_list = all_text.split()\n",
    "\n",
    "#Create a dictionary of words\n",
    "word_freq = {}\n",
    "for word in set(words_list):\n",
    "    word_freq[word] = words_list.count(word)\n",
    "\n",
    "#Creating dataframe of words\n",
    "df_word = pd.DataFrame(word_freq.items(),columns=['word','count'])\n",
    "df_word['word_len'] = df_word['word'].map(lambda x: len(x))\n",
    "\n",
    "#Sorting values \n",
    "df_word = df_word.sort_values('count', ascending=False).reset_index(drop=True)\n",
    "df_word.head(10)"
   ]
  },
  {
   "cell_type": "code",
   "execution_count": 54,
   "id": "df2f52b0",
   "metadata": {},
   "outputs": [
    {
     "data": {
      "image/png": "[encoded data removed]",
      "text/plain": [
       "<Figure size 1008x720 with 1 Axes>"
      ]
     },
     "metadata": {
      "needs_background": "light"
     },
     "output_type": "display_data"
    }
   ],
   "source": [
    "#Display the 20 most common words\n",
    "plt.figure(figsize = (14,10))\n",
    "sb.barplot(df_word['count'][:20],df_word['word'][:20])\n",
    "plt.show()"
   ]
  },
  {
   "cell_type": "code",
   "execution_count": 154,
   "id": "4d8d76ae",
   "metadata": {},
   "outputs": [
    {
     "ename": "ValueError",
     "evalue": "Only supported for TrueType fonts",
     "output_type": "error",
     "traceback": [
      "\u001b[1;31m---------------------------------------------------------------------------\u001b[0m",
      "\u001b[1;31mValueError\u001b[0m                                Traceback (most recent call last)",
      "Input \u001b[1;32mIn [154]\u001b[0m, in \u001b[0;36m<cell line: 7>\u001b[1;34m()\u001b[0m\n\u001b[0;32m      5\u001b[0m \u001b[38;5;28;01mfrom\u001b[39;00m \u001b[38;5;21;01mio\u001b[39;00m \u001b[38;5;28;01mimport\u001b[39;00m BytesIO\n\u001b[0;32m      6\u001b[0m \u001b[38;5;28;01mfrom\u001b[39;00m \u001b[38;5;21;01mwordcloud\u001b[39;00m \u001b[38;5;28;01mimport\u001b[39;00m STOPWORDS, ImageColorGenerator\n\u001b[1;32m----> 7\u001b[0m word_cloud \u001b[38;5;241m=\u001b[39m \u001b[43mWordCloud\u001b[49m\u001b[43m(\u001b[49m\u001b[43mbackground_color\u001b[49m\u001b[43m \u001b[49m\u001b[38;5;241;43m=\u001b[39;49m\u001b[43m \u001b[49m\u001b[38;5;124;43m'\u001b[39;49m\u001b[38;5;124;43mblack\u001b[39;49m\u001b[38;5;124;43m'\u001b[39;49m\u001b[43m,\u001b[49m\u001b[43m \u001b[49m\u001b[43mmax_words\u001b[49m\u001b[38;5;241;43m=\u001b[39;49m\u001b[38;5;241;43m200\u001b[39;49m\u001b[43m,\u001b[49m\u001b[43m \u001b[49m\u001b[43mmax_font_size\u001b[49m\u001b[38;5;241;43m=\u001b[39;49m\u001b[38;5;241;43m150\u001b[39;49m\u001b[43m,\u001b[49m\n\u001b[0;32m      8\u001b[0m \u001b[43m                      \u001b[49m\u001b[43mwidth\u001b[49m\u001b[43m \u001b[49m\u001b[38;5;241;43m=\u001b[39;49m\u001b[43m \u001b[49m\u001b[38;5;241;43m1600\u001b[39;49m\u001b[43m,\u001b[49m\u001b[43m \u001b[49m\u001b[43mheight\u001b[49m\u001b[43m \u001b[49m\u001b[38;5;241;43m=\u001b[39;49m\u001b[43m \u001b[49m\u001b[38;5;241;43m800\u001b[39;49m\u001b[43m,\u001b[49m\u001b[43m \u001b[49m\u001b[43mrandom_state\u001b[49m\u001b[43m \u001b[49m\u001b[38;5;241;43m=\u001b[39;49m\u001b[43m \u001b[49m\u001b[38;5;241;43m42\u001b[39;49m\u001b[43m)\u001b[49m\u001b[38;5;241;43m.\u001b[39;49m\u001b[43mgenerate\u001b[49m\u001b[43m(\u001b[49m\u001b[43mall_text\u001b[49m\u001b[43m)\u001b[49m\n\u001b[0;32m      9\u001b[0m \u001b[38;5;66;03m#Show the word cloud\u001b[39;00m\n\u001b[0;32m     10\u001b[0m plt\u001b[38;5;241m.\u001b[39mfigure(figsize\u001b[38;5;241m=\u001b[39m(\u001b[38;5;241m14\u001b[39m,\u001b[38;5;241m16\u001b[39m))\n",
      "File \u001b[1;32m~\\anaconda3\\lib\\site-packages\\wordcloud\\wordcloud.py:639\u001b[0m, in \u001b[0;36mWordCloud.generate\u001b[1;34m(self, text)\u001b[0m\n\u001b[0;32m    624\u001b[0m \u001b[38;5;28;01mdef\u001b[39;00m \u001b[38;5;21mgenerate\u001b[39m(\u001b[38;5;28mself\u001b[39m, text):\n\u001b[0;32m    625\u001b[0m     \u001b[38;5;124;03m\"\"\"Generate wordcloud from text.\u001b[39;00m\n\u001b[0;32m    626\u001b[0m \n\u001b[0;32m    627\u001b[0m \u001b[38;5;124;03m    The input \"text\" is expected to be a natural text. If you pass a sorted\u001b[39;00m\n\u001b[1;32m   (...)\u001b[0m\n\u001b[0;32m    637\u001b[0m \u001b[38;5;124;03m    self\u001b[39;00m\n\u001b[0;32m    638\u001b[0m \u001b[38;5;124;03m    \"\"\"\u001b[39;00m\n\u001b[1;32m--> 639\u001b[0m     \u001b[38;5;28;01mreturn\u001b[39;00m \u001b[38;5;28;43mself\u001b[39;49m\u001b[38;5;241;43m.\u001b[39;49m\u001b[43mgenerate_from_text\u001b[49m\u001b[43m(\u001b[49m\u001b[43mtext\u001b[49m\u001b[43m)\u001b[49m\n",
      "File \u001b[1;32m~\\anaconda3\\lib\\site-packages\\wordcloud\\wordcloud.py:621\u001b[0m, in \u001b[0;36mWordCloud.generate_from_text\u001b[1;34m(self, text)\u001b[0m\n\u001b[0;32m    604\u001b[0m \u001b[38;5;124;03m\"\"\"Generate wordcloud from text.\u001b[39;00m\n\u001b[0;32m    605\u001b[0m \n\u001b[0;32m    606\u001b[0m \u001b[38;5;124;03mThe input \"text\" is expected to be a natural text. If you pass a sorted\u001b[39;00m\n\u001b[1;32m   (...)\u001b[0m\n\u001b[0;32m    618\u001b[0m \u001b[38;5;124;03mself\u001b[39;00m\n\u001b[0;32m    619\u001b[0m \u001b[38;5;124;03m\"\"\"\u001b[39;00m\n\u001b[0;32m    620\u001b[0m words \u001b[38;5;241m=\u001b[39m \u001b[38;5;28mself\u001b[39m\u001b[38;5;241m.\u001b[39mprocess_text(text)\n\u001b[1;32m--> 621\u001b[0m \u001b[38;5;28;43mself\u001b[39;49m\u001b[38;5;241;43m.\u001b[39;49m\u001b[43mgenerate_from_frequencies\u001b[49m\u001b[43m(\u001b[49m\u001b[43mwords\u001b[49m\u001b[43m)\u001b[49m\n\u001b[0;32m    622\u001b[0m \u001b[38;5;28;01mreturn\u001b[39;00m \u001b[38;5;28mself\u001b[39m\n",
      "File \u001b[1;32m~\\anaconda3\\lib\\site-packages\\wordcloud\\wordcloud.py:508\u001b[0m, in \u001b[0;36mWordCloud.generate_from_frequencies\u001b[1;34m(self, frequencies, max_font_size)\u001b[0m\n\u001b[0;32m    505\u001b[0m transposed_font \u001b[38;5;241m=\u001b[39m ImageFont\u001b[38;5;241m.\u001b[39mTransposedFont(\n\u001b[0;32m    506\u001b[0m     font, orientation\u001b[38;5;241m=\u001b[39morientation)\n\u001b[0;32m    507\u001b[0m \u001b[38;5;66;03m# get size of resulting text\u001b[39;00m\n\u001b[1;32m--> 508\u001b[0m box_size \u001b[38;5;241m=\u001b[39m \u001b[43mdraw\u001b[49m\u001b[38;5;241;43m.\u001b[39;49m\u001b[43mtextbbox\u001b[49m\u001b[43m(\u001b[49m\u001b[43m(\u001b[49m\u001b[38;5;241;43m0\u001b[39;49m\u001b[43m,\u001b[49m\u001b[43m \u001b[49m\u001b[38;5;241;43m0\u001b[39;49m\u001b[43m)\u001b[49m\u001b[43m,\u001b[49m\u001b[43m \u001b[49m\u001b[43mword\u001b[49m\u001b[43m,\u001b[49m\u001b[43m \u001b[49m\u001b[43mfont\u001b[49m\u001b[38;5;241;43m=\u001b[39;49m\u001b[43mtransposed_font\u001b[49m\u001b[43m,\u001b[49m\u001b[43m \u001b[49m\u001b[43manchor\u001b[49m\u001b[38;5;241;43m=\u001b[39;49m\u001b[38;5;124;43m\"\u001b[39;49m\u001b[38;5;124;43mlt\u001b[39;49m\u001b[38;5;124;43m\"\u001b[39;49m\u001b[43m)\u001b[49m\n\u001b[0;32m    509\u001b[0m \u001b[38;5;66;03m# find possible places using integral image:\u001b[39;00m\n\u001b[0;32m    510\u001b[0m result \u001b[38;5;241m=\u001b[39m occupancy\u001b[38;5;241m.\u001b[39msample_position(box_size[\u001b[38;5;241m3\u001b[39m] \u001b[38;5;241m+\u001b[39m \u001b[38;5;28mself\u001b[39m\u001b[38;5;241m.\u001b[39mmargin,\n\u001b[0;32m    511\u001b[0m                                    box_size[\u001b[38;5;241m2\u001b[39m] \u001b[38;5;241m+\u001b[39m \u001b[38;5;28mself\u001b[39m\u001b[38;5;241m.\u001b[39mmargin,\n\u001b[0;32m    512\u001b[0m                                    random_state)\n",
      "File \u001b[1;32m~\\anaconda3\\lib\\site-packages\\PIL\\ImageDraw.py:671\u001b[0m, in \u001b[0;36mImageDraw.textbbox\u001b[1;34m(self, xy, text, font, anchor, spacing, align, direction, features, language, stroke_width, embedded_color)\u001b[0m\n\u001b[0;32m    669\u001b[0m     font \u001b[38;5;241m=\u001b[39m \u001b[38;5;28mself\u001b[39m\u001b[38;5;241m.\u001b[39mgetfont()\n\u001b[0;32m    670\u001b[0m \u001b[38;5;28;01mif\u001b[39;00m \u001b[38;5;129;01mnot\u001b[39;00m \u001b[38;5;28misinstance\u001b[39m(font, ImageFont\u001b[38;5;241m.\u001b[39mFreeTypeFont):\n\u001b[1;32m--> 671\u001b[0m     \u001b[38;5;28;01mraise\u001b[39;00m \u001b[38;5;167;01mValueError\u001b[39;00m(\u001b[38;5;124m\"\u001b[39m\u001b[38;5;124mOnly supported for TrueType fonts\u001b[39m\u001b[38;5;124m\"\u001b[39m)\n\u001b[0;32m    672\u001b[0m mode \u001b[38;5;241m=\u001b[39m \u001b[38;5;124m\"\u001b[39m\u001b[38;5;124mRGBA\u001b[39m\u001b[38;5;124m\"\u001b[39m \u001b[38;5;28;01mif\u001b[39;00m embedded_color \u001b[38;5;28;01melse\u001b[39;00m \u001b[38;5;28mself\u001b[39m\u001b[38;5;241m.\u001b[39mfontmode\n\u001b[0;32m    673\u001b[0m bbox \u001b[38;5;241m=\u001b[39m font\u001b[38;5;241m.\u001b[39mgetbbox(\n\u001b[0;32m    674\u001b[0m     text, mode, direction, features, language, stroke_width, anchor\n\u001b[0;32m    675\u001b[0m )\n",
      "\u001b[1;31mValueError\u001b[0m: Only supported for TrueType fonts"
     ]
    }
   ],
   "source": [
    "#WordCloud to determine which words representing the text corpus of the whole document\n",
    "#Generate word cloud for all texts\n",
    "import PIL\n",
    "from PIL import Image, ImageDraw, ImageFont\n",
    "from io import BytesIO\n",
    "from wordcloud import STOPWORDS, ImageColorGenerator\n",
    "word_cloud = WordCloud(background_color = 'black', max_words=200, max_font_size=150,\n",
    "                      width = 1600, height = 800, random_state = 42).generate(all_text)\n",
    "#Show the word cloud\n",
    "plt.figure(figsize=(14,16))\n",
    "plt.imshow(word_cloud, interpolation='bilinear')\n",
    "plt.axis('off')\n",
    "plt.show"
   ]
  },
  {
   "cell_type": "code",
   "execution_count": 141,
   "id": "8b9c9098",
   "metadata": {},
   "outputs": [],
   "source": [
    "import PIL"
   ]
  },
  {
   "cell_type": "markdown",
   "id": "8bb8f2fd",
   "metadata": {},
   "source": [
    "### Comments:\n",
    "- We can see obviously that the most common words such as 'one','may','time','great' so on with the highest frequencies (number of counts) in the bar chart will appear in the biggest size in the word cloud."
   ]
  },
  {
   "cell_type": "markdown",
   "id": "9868e0e0",
   "metadata": {},
   "source": [
    "### * Sentiment Analysis"
   ]
  },
  {
   "cell_type": "code",
   "execution_count": 58,
   "id": "8b70beae",
   "metadata": {},
   "outputs": [],
   "source": [
    "#Define a function to compute 'polarity score'\n",
    "def polarity_score(text):\n",
    "    return TextBlob(text).sentiment.polarity\n",
    "\n",
    "#Define a function to determine types of polarity\n",
    "def sentiment(score):\n",
    "    if score < 0:\n",
    "        return 'negative'\n",
    "    elif score == 0:\n",
    "        return 'neutral'\n",
    "    else:\n",
    "        return 'positive'"
   ]
  },
  {
   "cell_type": "code",
   "execution_count": 59,
   "id": "f2638285",
   "metadata": {},
   "outputs": [
    {
     "data": {
      "image/png": "[encoded data removed]",
      "text/plain": [
       "<Figure size 720x576 with 1 Axes>"
      ]
     },
     "metadata": {
      "needs_background": "light"
     },
     "output_type": "display_data"
    }
   ],
   "source": [
    "#Determine polarity score of the entire document\n",
    "#Create a new column 'polarity score'\n",
    "clean_data['polarity_score'] = clean_data['clean_text'].apply(lambda x : polarity_score(x))\n",
    "\n",
    "#Visualize\n",
    "plt.figure(figsize = (10,8))\n",
    "clean_data['polarity_score'].hist()\n",
    "plt.xlabel('polarity_score')\n",
    "plt.show()"
   ]
  },
  {
   "cell_type": "markdown",
   "id": "1382df27",
   "metadata": {},
   "source": [
    "### Comments:\n",
    "You can see that the polarity score mainly ranges between 0.00 and 0.20. This means that the majority of texts are neutral.  "
   ]
  },
  {
   "cell_type": "code",
   "execution_count": 60,
   "id": "23e9cd34",
   "metadata": {},
   "outputs": [
    {
     "data": {
      "image/png": "[encoded data removed]",
      "text/plain": [
       "<Figure size 720x576 with 1 Axes>"
      ]
     },
     "metadata": {
      "needs_background": "light"
     },
     "output_type": "display_data"
    }
   ],
   "source": [
    "#Deeper classifying the texts as negative, positive and neutral based on the scores\n",
    "#Create a new column 'polarity type'\n",
    "clean_data['polarity_type'] = clean_data['polarity_score'].map(lambda x: sentiment(x))\n",
    "\n",
    "#Visualize\n",
    "plt.figure(figsize = (10,8))\n",
    "plt.bar(clean_data.polarity_type.value_counts().index, clean_data.polarity_type.value_counts())\n",
    "plt.xlabel('polarity_type')\n",
    "plt.show()"
   ]
  },
  {
   "cell_type": "markdown",
   "id": "64b84472",
   "metadata": {},
   "source": [
    "### Comments:\n",
    "It is clearly that majority of sentences are 'neutral' and 'positive', which is more than twice as many as 'negative'.  "
   ]
  },
  {
   "cell_type": "markdown",
   "id": "b596dbd8",
   "metadata": {},
   "source": [
    "## 3. Using Bag of Word, apply supervised models such as Naive Bayes, Logistic Regression, Decision Tree, Random Forest, KNN, SVM and Gradient Boosting, including GridSearchCV.\n",
    "To build a classification model, some below algorithms will be used to compare one another and select the best one with highest AUC or Gini:\n",
    "- Logistic Regression\n",
    "- Naive Bayes\n",
    "- Decision Tree\n",
    "- Random Forest\n",
    "- Gradient Boosting Tree"
   ]
  },
  {
   "cell_type": "code",
   "execution_count": 61,
   "id": "dd490b07",
   "metadata": {},
   "outputs": [
    {
     "data": {
      "text/html": [
       "<div>\n",
       "<style scoped>\n",
       "    .dataframe tbody tr th:only-of-type {\n",
       "        vertical-align: middle;\n",
       "    }\n",
       "\n",
       "    .dataframe tbody tr th {\n",
       "        vertical-align: top;\n",
       "    }\n",
       "\n",
       "    .dataframe thead th {\n",
       "        text-align: right;\n",
       "    }\n",
       "</style>\n",
       "<table border=\"1\" class=\"dataframe\">\n",
       "  <thead>\n",
       "    <tr style=\"text-align: right;\">\n",
       "      <th></th>\n",
       "      <th>clean_text</th>\n",
       "      <th>author_name</th>\n",
       "      <th>author_class</th>\n",
       "      <th>sentence_len</th>\n",
       "      <th>word_count</th>\n",
       "      <th>polarity_score</th>\n",
       "      <th>polarity_type</th>\n",
       "    </tr>\n",
       "  </thead>\n",
       "  <tbody>\n",
       "    <tr>\n",
       "      <th>0</th>\n",
       "      <td>rabbithole alice beginning get tired sitting s...</td>\n",
       "      <td>Lewis Carroll</td>\n",
       "      <td>0</td>\n",
       "      <td>348</td>\n",
       "      <td>50</td>\n",
       "      <td>-0.135714</td>\n",
       "      <td>negative</td>\n",
       "    </tr>\n",
       "    <tr>\n",
       "      <th>1</th>\n",
       "      <td>nothing remarkable alice think much way hear r...</td>\n",
       "      <td>Lewis Carroll</td>\n",
       "      <td>0</td>\n",
       "      <td>377</td>\n",
       "      <td>54</td>\n",
       "      <td>0.194898</td>\n",
       "      <td>positive</td>\n",
       "    </tr>\n",
       "    <tr>\n",
       "      <th>2</th>\n",
       "      <td>another moment went alice never considering wo...</td>\n",
       "      <td>Lewis Carroll</td>\n",
       "      <td>0</td>\n",
       "      <td>53</td>\n",
       "      <td>8</td>\n",
       "      <td>0.000000</td>\n",
       "      <td>neutral</td>\n",
       "    </tr>\n",
       "    <tr>\n",
       "      <th>3</th>\n",
       "      <td>rabbithole went straight like tunnel way dippe...</td>\n",
       "      <td>Lewis Carroll</td>\n",
       "      <td>0</td>\n",
       "      <td>117</td>\n",
       "      <td>17</td>\n",
       "      <td>0.066667</td>\n",
       "      <td>positive</td>\n",
       "    </tr>\n",
       "    <tr>\n",
       "      <th>4</th>\n",
       "      <td>either well deep fell slowly plenty time went ...</td>\n",
       "      <td>Lewis Carroll</td>\n",
       "      <td>0</td>\n",
       "      <td>75</td>\n",
       "      <td>13</td>\n",
       "      <td>-0.100000</td>\n",
       "      <td>negative</td>\n",
       "    </tr>\n",
       "  </tbody>\n",
       "</table>\n",
       "</div>"
      ],
      "text/plain": [
       "                                          clean_text    author_name  \\\n",
       "0  rabbithole alice beginning get tired sitting s...  Lewis Carroll   \n",
       "1  nothing remarkable alice think much way hear r...  Lewis Carroll   \n",
       "2  another moment went alice never considering wo...  Lewis Carroll   \n",
       "3  rabbithole went straight like tunnel way dippe...  Lewis Carroll   \n",
       "4  either well deep fell slowly plenty time went ...  Lewis Carroll   \n",
       "\n",
       "   author_class  sentence_len  word_count  polarity_score polarity_type  \n",
       "0             0           348          50       -0.135714      negative  \n",
       "1             0           377          54        0.194898      positive  \n",
       "2             0            53           8        0.000000       neutral  \n",
       "3             0           117          17        0.066667      positive  \n",
       "4             0            75          13       -0.100000      negative  "
      ]
     },
     "execution_count": 61,
     "metadata": {},
     "output_type": "execute_result"
    }
   ],
   "source": [
    "#Show the clean data for quick reference\n",
    "clean_data.head()"
   ]
  },
  {
   "cell_type": "code",
   "execution_count": 62,
   "id": "ddae489e",
   "metadata": {},
   "outputs": [],
   "source": [
    "#Separate 'source' and 'target'\n",
    "source = clean_data['clean_text']\n",
    "target = clean_data['author_class']"
   ]
  },
  {
   "cell_type": "code",
   "execution_count": 63,
   "id": "2cf21771",
   "metadata": {},
   "outputs": [
    {
     "data": {
      "text/plain": [
       "array(['rabbithole alice beginning get tired sitting sister bank nothing twice peeped book sister reading picture conversation use book thought alice without picture conversation considering mind well could hot day made feel sleepy stupid whether pleasure making daisychain would worth trouble getting picking daisy suddenly white rabbit pink eye ran close',\n",
       "       'nothing remarkable alice think much way hear rabbit say dear dear shall late thought afterwards occurred ought wondered time seemed quite natural rabbit actually took watch waistcoatpocket looked hurried alice started foot flashed across mind never seen rabbit either waistcoatpocket watch take burning curiosity ran across field fortunately time see pop large rabbithole hedge',\n",
       "       'another moment went alice never considering world get',\n",
       "       'rabbithole went straight like tunnel way dipped suddenly suddenly alice moment think stopping found falling deep well',\n",
       "       'either well deep fell slowly plenty time went look wonder going happen next',\n",
       "       'first tried look make coming dark see anything looked side well noticed filled cupboard bookshelf saw map picture hung upon peg',\n",
       "       'took jar one shelf passed labelled orange marmalade great disappointment empty like drop jar fear killing somebody underneath managed put one cupboard fell past',\n",
       "       'well thought alice fall shall think nothing tumbling stair brave theyll think home wouldnt say anything even fell top house likely true',\n",
       "       'would fall never come end wonder many mile ive fallen time said aloud',\n",
       "       'must getting somewhere near centre earth'], dtype=object)"
      ]
     },
     "execution_count": 63,
     "metadata": {},
     "output_type": "execute_result"
    }
   ],
   "source": [
    "#Create array for source data\n",
    "source_text = np.array(source)\n",
    "source_text[:10]"
   ]
  },
  {
   "cell_type": "code",
   "execution_count": 64,
   "id": "c95cb8d6",
   "metadata": {},
   "outputs": [],
   "source": [
    "#Create an array for target data\n",
    "y = np.array(target)"
   ]
  },
  {
   "cell_type": "code",
   "execution_count": 65,
   "id": "c64bb142",
   "metadata": {},
   "outputs": [],
   "source": [
    "#Create a CountVectorizer instance\n",
    "count_vec = CountVectorizer(stop_words = 'english', max_features=2000)"
   ]
  },
  {
   "cell_type": "code",
   "execution_count": 66,
   "id": "913fcc0d",
   "metadata": {},
   "outputs": [
    {
     "data": {
      "text/html": [
       "<style>#sk-container-id-1 {color: black;background-color: white;}#sk-container-id-1 pre{padding: 0;}#sk-container-id-1 div.sk-toggleable {background-color: white;}#sk-container-id-1 label.sk-toggleable__label {cursor: pointer;display: block;width: 100%;margin-bottom: 0;padding: 0.3em;box-sizing: border-box;text-align: center;}#sk-container-id-1 label.sk-toggleable__label-arrow:before {content: \"▸\";float: left;margin-right: 0.25em;color: #696969;}#sk-container-id-1 label.sk-toggleable__label-arrow:hover:before {color: black;}#sk-container-id-1 div.sk-estimator:hover label.sk-toggleable__label-arrow:before {color: black;}#sk-container-id-1 div.sk-toggleable__content {max-height: 0;max-width: 0;overflow: hidden;text-align: left;background-color: #f0f8ff;}#sk-container-id-1 div.sk-toggleable__content pre {margin: 0.2em;color: black;border-radius: 0.25em;background-color: #f0f8ff;}#sk-container-id-1 input.sk-toggleable__control:checked~div.sk-toggleable__content {max-height: 200px;max-width: 100%;overflow: auto;}#sk-container-id-1 input.sk-toggleable__control:checked~label.sk-toggleable__label-arrow:before {content: \"▾\";}#sk-container-id-1 div.sk-estimator input.sk-toggleable__control:checked~label.sk-toggleable__label {background-color: #d4ebff;}#sk-container-id-1 div.sk-label input.sk-toggleable__control:checked~label.sk-toggleable__label {background-color: #d4ebff;}#sk-container-id-1 input.sk-hidden--visually {border: 0;clip: rect(1px 1px 1px 1px);clip: rect(1px, 1px, 1px, 1px);height: 1px;margin: -1px;overflow: hidden;padding: 0;position: absolute;width: 1px;}#sk-container-id-1 div.sk-estimator {font-family: monospace;background-color: #f0f8ff;border: 1px dotted black;border-radius: 0.25em;box-sizing: border-box;margin-bottom: 0.5em;}#sk-container-id-1 div.sk-estimator:hover {background-color: #d4ebff;}#sk-container-id-1 div.sk-parallel-item::after {content: \"\";width: 100%;border-bottom: 1px solid gray;flex-grow: 1;}#sk-container-id-1 div.sk-label:hover label.sk-toggleable__label {background-color: #d4ebff;}#sk-container-id-1 div.sk-serial::before {content: \"\";position: absolute;border-left: 1px solid gray;box-sizing: border-box;top: 0;bottom: 0;left: 50%;z-index: 0;}#sk-container-id-1 div.sk-serial {display: flex;flex-direction: column;align-items: center;background-color: white;padding-right: 0.2em;padding-left: 0.2em;position: relative;}#sk-container-id-1 div.sk-item {position: relative;z-index: 1;}#sk-container-id-1 div.sk-parallel {display: flex;align-items: stretch;justify-content: center;background-color: white;position: relative;}#sk-container-id-1 div.sk-item::before, #sk-container-id-1 div.sk-parallel-item::before {content: \"\";position: absolute;border-left: 1px solid gray;box-sizing: border-box;top: 0;bottom: 0;left: 50%;z-index: -1;}#sk-container-id-1 div.sk-parallel-item {display: flex;flex-direction: column;z-index: 1;position: relative;background-color: white;}#sk-container-id-1 div.sk-parallel-item:first-child::after {align-self: flex-end;width: 50%;}#sk-container-id-1 div.sk-parallel-item:last-child::after {align-self: flex-start;width: 50%;}#sk-container-id-1 div.sk-parallel-item:only-child::after {width: 0;}#sk-container-id-1 div.sk-dashed-wrapped {border: 1px dashed gray;margin: 0 0.4em 0.5em 0.4em;box-sizing: border-box;padding-bottom: 0.4em;background-color: white;}#sk-container-id-1 div.sk-label label {font-family: monospace;font-weight: bold;display: inline-block;line-height: 1.2em;}#sk-container-id-1 div.sk-label-container {text-align: center;}#sk-container-id-1 div.sk-container {/* jupyter's `normalize.less` sets `[hidden] { display: none; }` but bootstrap.min.css set `[hidden] { display: none !important; }` so we also need the `!important` here to be able to override the default hidden behavior on the sphinx rendered scikit-learn.org. See: https://github.com/scikit-learn/scikit-learn/issues/21755 */display: inline-block !important;position: relative;}#sk-container-id-1 div.sk-text-repr-fallback {display: none;}</style><div id=\"sk-container-id-1\" class=\"sk-top-container\"><div class=\"sk-text-repr-fallback\"><pre>CountVectorizer(max_features=2000, stop_words=&#x27;english&#x27;)</pre><b>In a Jupyter environment, please rerun this cell to show the HTML representation or trust the notebook. <br />On GitHub, the HTML representation is unable to render, please try loading this page with nbviewer.org.</b></div><div class=\"sk-container\" hidden><div class=\"sk-item\"><div class=\"sk-estimator sk-toggleable\"><input class=\"sk-toggleable__control sk-hidden--visually\" id=\"sk-estimator-id-1\" type=\"checkbox\" checked><label for=\"sk-estimator-id-1\" class=\"sk-toggleable__label sk-toggleable__label-arrow\">CountVectorizer</label><div class=\"sk-toggleable__content\"><pre>CountVectorizer(max_features=2000, stop_words=&#x27;english&#x27;)</pre></div></div></div></div></div>"
      ],
      "text/plain": [
       "CountVectorizer(max_features=2000, stop_words='english')"
      ]
     },
     "execution_count": 66,
     "metadata": {},
     "output_type": "execute_result"
    }
   ],
   "source": [
    "#Fit the full data\n",
    "count_vec.fit(source_text)"
   ]
  },
  {
   "cell_type": "code",
   "execution_count": 67,
   "id": "aadedabb",
   "metadata": {},
   "outputs": [
    {
     "data": {
      "text/plain": [
       "<14305x2000 sparse matrix of type '<class 'numpy.int64'>'\n",
       "\twith 125986 stored elements in Compressed Sparse Row format>"
      ]
     },
     "execution_count": 67,
     "metadata": {},
     "output_type": "execute_result"
    }
   ],
   "source": [
    "#Transform source text array into a sparse numeric matrix\n",
    "bags_of_words = count_vec.transform(source_text)\n",
    "bags_of_words"
   ]
  },
  {
   "cell_type": "code",
   "execution_count": 68,
   "id": "23e1ca68",
   "metadata": {},
   "outputs": [
    {
     "data": {
      "text/plain": [
       "array([[0, 0, 0, ..., 0, 0, 0],\n",
       "       [0, 0, 0, ..., 0, 0, 0],\n",
       "       [0, 0, 0, ..., 0, 0, 0],\n",
       "       ...,\n",
       "       [0, 0, 0, ..., 0, 0, 0],\n",
       "       [0, 0, 0, ..., 0, 0, 0],\n",
       "       [0, 0, 0, ..., 0, 0, 0]], dtype=int64)"
      ]
     },
     "execution_count": 68,
     "metadata": {},
     "output_type": "execute_result"
    }
   ],
   "source": [
    "#Then convert it into a numeric array X\n",
    "X = bags_of_words.toarray()\n",
    "X"
   ]
  },
  {
   "cell_type": "code",
   "execution_count": 69,
   "id": "df1cd051",
   "metadata": {},
   "outputs": [],
   "source": [
    "# Tính độ chính xác model theo: \n",
    "# Logistic, Naive Bayes, RandomForestClassifier, DecisionTreeClassifier, GradientBoostingClassifier\n",
    "def compute_models(input_source, output_target):\n",
    "    \n",
    "    X_train, X_test, y_train, y_test = train_test_split(input_source, output_target, test_size = 0.20, random_state = 42)\n",
    "    \n",
    "    models = [\n",
    "            LogisticRegression(),\n",
    "            DecisionTreeClassifier(),\n",
    "            RandomForestClassifier(n_estimators=15), #since dataset is quite large, choose small number of trees = 15\n",
    "            GradientBoostingClassifier(n_estimators=15),\n",
    "            MultinomialNB()\n",
    "        ]\n",
    "\n",
    "    CV = 3\n",
    "    entries =[]\n",
    "    \n",
    "    for model in models:\n",
    "        scores_train = []\n",
    "        scores_test = []\n",
    "        abs_scores = []\n",
    "        times = []\n",
    "        gini_val = []\n",
    "\n",
    "        for i in range(CV):\n",
    "            t1 = datetime.datetime.now()\n",
    "            model_name = model.__class__.__name__\n",
    "            model.fit(X_train,y_train)\n",
    "            t2 = datetime.datetime.now()\n",
    "            d = round((t2-t1).microseconds/1000,1)\n",
    "            score_train = model.score(X_train,y_train)\n",
    "            score_test = model.score(X_test,y_test)\n",
    "            abs_score = abs(score_train - score_test)\n",
    "            y_prob = model.predict_proba(X_test)\n",
    "            auc_val = roc_auc_score(y_test, y_prob, multi_class='ovr')\n",
    "            gini = 2 * auc_val - 1\n",
    "\n",
    "            scores_train.append(score_train)\n",
    "            scores_test.append(score_test)\n",
    "            abs_scores.append(abs_score)\n",
    "            gini_val.append(gini)\n",
    "            times.append(d)\n",
    "\n",
    "        print('Scores of test dataset:')\n",
    "        print(model.__class__.__name__, scores_test)\n",
    "        entries.append([model_name,np.array(scores_train).mean(),\n",
    "                                np.array(scores_test).mean(), np.array(abs_scores).mean(),\n",
    "                                np.array(gini_val).mean(), np.array(times).mean()])\n",
    "\n",
    "      \n",
    "    cv_df = pd.DataFrame(entries, columns=['model_name','score_train_mean',\n",
    "                                   'score_test_mean','abs|score|','gini_mean','time_mean'])\n",
    "    return cv_df\n"
   ]
  },
  {
   "cell_type": "code",
   "execution_count": 70,
   "id": "d484d2fd",
   "metadata": {},
   "outputs": [
    {
     "name": "stdout",
     "output_type": "stream",
     "text": [
      "Scores of test dataset:\n",
      "LogisticRegression [0.7934288710241174, 0.7934288710241174, 0.7934288710241174]\n",
      "Scores of test dataset:\n",
      "DecisionTreeClassifier [0.6413841314225796, 0.6438308283816847, 0.6494232785739252]\n",
      "Scores of test dataset:\n",
      "RandomForestClassifier [0.7098916462775253, 0.7095421181405103, 0.7042991960852849]\n",
      "Scores of test dataset:\n",
      "GradientBoostingClassifier [0.6060817895840616, 0.6060817895840616, 0.6064313177210765]\n",
      "Scores of test dataset:\n",
      "MultinomialNB [0.823138762670395, 0.823138762670395, 0.823138762670395]\n"
     ]
    }
   ],
   "source": [
    "#Compute accuracies for all algorithms\n",
    "cv_df = compute_models(X,y)"
   ]
  },
  {
   "cell_type": "code",
   "execution_count": 71,
   "id": "131b380b",
   "metadata": {},
   "outputs": [
    {
     "data": {
      "text/html": [
       "<div>\n",
       "<style scoped>\n",
       "    .dataframe tbody tr th:only-of-type {\n",
       "        vertical-align: middle;\n",
       "    }\n",
       "\n",
       "    .dataframe tbody tr th {\n",
       "        vertical-align: top;\n",
       "    }\n",
       "\n",
       "    .dataframe thead th {\n",
       "        text-align: right;\n",
       "    }\n",
       "</style>\n",
       "<table border=\"1\" class=\"dataframe\">\n",
       "  <thead>\n",
       "    <tr style=\"text-align: right;\">\n",
       "      <th></th>\n",
       "      <th>model_name</th>\n",
       "      <th>score_train_mean</th>\n",
       "      <th>score_test_mean</th>\n",
       "      <th>abs|score|</th>\n",
       "      <th>gini_mean</th>\n",
       "      <th>time_mean</th>\n",
       "    </tr>\n",
       "  </thead>\n",
       "  <tbody>\n",
       "    <tr>\n",
       "      <th>0</th>\n",
       "      <td>LogisticRegression</td>\n",
       "      <td>0.954037</td>\n",
       "      <td>0.793429</td>\n",
       "      <td>0.160608</td>\n",
       "      <td>0.951201</td>\n",
       "      <td>622.066667</td>\n",
       "    </tr>\n",
       "    <tr>\n",
       "      <th>1</th>\n",
       "      <td>DecisionTreeClassifier</td>\n",
       "      <td>0.994408</td>\n",
       "      <td>0.644879</td>\n",
       "      <td>0.349528</td>\n",
       "      <td>0.630132</td>\n",
       "      <td>563.000000</td>\n",
       "    </tr>\n",
       "    <tr>\n",
       "      <th>2</th>\n",
       "      <td>RandomForestClassifier</td>\n",
       "      <td>0.990446</td>\n",
       "      <td>0.707911</td>\n",
       "      <td>0.282535</td>\n",
       "      <td>0.866747</td>\n",
       "      <td>693.533333</td>\n",
       "    </tr>\n",
       "    <tr>\n",
       "      <th>3</th>\n",
       "      <td>GradientBoostingClassifier</td>\n",
       "      <td>0.627403</td>\n",
       "      <td>0.606198</td>\n",
       "      <td>0.021205</td>\n",
       "      <td>0.793010</td>\n",
       "      <td>368.800000</td>\n",
       "    </tr>\n",
       "    <tr>\n",
       "      <th>4</th>\n",
       "      <td>MultinomialNB</td>\n",
       "      <td>0.873558</td>\n",
       "      <td>0.823139</td>\n",
       "      <td>0.050419</td>\n",
       "      <td>0.960002</td>\n",
       "      <td>331.033333</td>\n",
       "    </tr>\n",
       "  </tbody>\n",
       "</table>\n",
       "</div>"
      ],
      "text/plain": [
       "                   model_name  score_train_mean  score_test_mean  abs|score|  \\\n",
       "0          LogisticRegression          0.954037         0.793429    0.160608   \n",
       "1      DecisionTreeClassifier          0.994408         0.644879    0.349528   \n",
       "2      RandomForestClassifier          0.990446         0.707911    0.282535   \n",
       "3  GradientBoostingClassifier          0.627403         0.606198    0.021205   \n",
       "4               MultinomialNB          0.873558         0.823139    0.050419   \n",
       "\n",
       "   gini_mean   time_mean  \n",
       "0   0.951201  622.066667  \n",
       "1   0.630132  563.000000  \n",
       "2   0.866747  693.533333  \n",
       "3   0.793010  368.800000  \n",
       "4   0.960002  331.033333  "
      ]
     },
     "execution_count": 71,
     "metadata": {},
     "output_type": "execute_result"
    }
   ],
   "source": [
    "#compare all algorithms using accuracy, gini and computation time\n",
    "cv_df"
   ]
  },
  {
   "cell_type": "markdown",
   "id": "4cb365b9",
   "metadata": {},
   "source": [
    "### Comments:\n",
    "We can see that model 'MultinomialNB' has the highest Gini value (0.96) with the shortest time compared to the other models. Therefore, we will choose this model to compute later."
   ]
  },
  {
   "cell_type": "code",
   "execution_count": 72,
   "id": "4dd32bf6",
   "metadata": {},
   "outputs": [],
   "source": [
    "#Split the full dataset into train and test sets according to the ratio 80:20\n",
    "X_train_c, X_test_c, y_train_c, y_test_c = train_test_split(X, y, test_size = 0.20, random_state = 42)"
   ]
  },
  {
   "cell_type": "code",
   "execution_count": 73,
   "id": "37f83ef5",
   "metadata": {},
   "outputs": [],
   "source": [
    "#We use the algorithm Multinomial Naive Bayes to build model\n",
    "multi_nb_instance = MultinomialNB()"
   ]
  },
  {
   "cell_type": "code",
   "execution_count": 74,
   "id": "80a78b67",
   "metadata": {},
   "outputs": [],
   "source": [
    "#Fit the model with train dataset\n",
    "multi_nb_model = multi_nb_instance.fit(X_train_c, y_train_c)"
   ]
  },
  {
   "cell_type": "code",
   "execution_count": 75,
   "id": "ce3d966e",
   "metadata": {},
   "outputs": [
    {
     "name": "stdout",
     "output_type": "stream",
     "text": [
      "R2 score of train dataset:  0.873558196434813\n",
      "R2 score of test dataset:  0.823138762670395\n"
     ]
    }
   ],
   "source": [
    "#We use R2 score to check whether the model is overfitting or underfitting\n",
    "print('R2 score of train dataset: ', multi_nb_model.score(X_train_c, y_train_c))\n",
    "print('R2 score of test dataset: ', multi_nb_model.score(X_test_c, y_test_c))"
   ]
  },
  {
   "cell_type": "code",
   "execution_count": 76,
   "id": "262c7a25",
   "metadata": {},
   "outputs": [],
   "source": [
    "#Compute the prediction based on 'X_test'\n",
    "y_pred_c = multi_nb_model.predict(X_test_c)"
   ]
  },
  {
   "cell_type": "code",
   "execution_count": 77,
   "id": "187a91c0",
   "metadata": {},
   "outputs": [
    {
     "name": "stdout",
     "output_type": "stream",
     "text": [
      "Accuracy of the model is: 0.82\n",
      "Auc of the model is: 0.98\n"
     ]
    }
   ],
   "source": [
    "#Compute accuracy and AUC of the model\n",
    "accuracy_c = accuracy_score(y_test_c, y_pred_c)\n",
    "y_prob_c = multi_nb_model.predict_proba(X_test_c)\n",
    "auc_c = roc_auc_score(y_test_c, y_prob_c, multi_class = 'ovr')\n",
    "print('Accuracy of the model is:', round(accuracy_c,2))\n",
    "print(\"Auc of the model is:\", round(auc_c,2))"
   ]
  },
  {
   "cell_type": "code",
   "execution_count": 78,
   "id": "40cb73c6",
   "metadata": {},
   "outputs": [
    {
     "data": {
      "image/png": "[encoded data removed]",
      "text/plain": [
       "<Figure size 720x576 with 1 Axes>"
      ]
     },
     "metadata": {
      "needs_background": "light"
     },
     "output_type": "display_data"
    }
   ],
   "source": [
    "# Plot ROC\n",
    "fig, ax = plt.subplots(figsize=(10,8))\n",
    "classes = np.unique(y_test_c)  #or can use y_train_c\n",
    "y_test_c_array = pd.get_dummies(y_test_c, drop_first = False).values\n",
    "for i in range(len(classes)):\n",
    "    fpr, tpr, thresholds = roc_curve(y_test_c_array[:,i], y_prob_c[:,i])\n",
    "    ax.plot(fpr, tpr, lw=3, label='{0} (area={1:0.2f})'.format(classes[i], auc(fpr, tpr)))\n",
    "    \n",
    "ax.plot([0,1], [0,1], color='navy', lw=3, linestyle='--')\n",
    "ax.set(xlim=[-0.05,1.0], ylim=[0.0,1.05], xlabel='False Positive Rate',\n",
    "                                    ylabel=\"True Positive Rate\", title=\"Receiver operating characteristic\")\n",
    "ax.legend(loc=\"lower right\")\n",
    "ax.grid(True)\n",
    "plt.show()"
   ]
  },
  {
   "cell_type": "code",
   "execution_count": 79,
   "id": "cdd25524",
   "metadata": {},
   "outputs": [
    {
     "data": {
      "text/plain": [
       "array([[142,   0,   2,   6,   0,   2,   0,   0,   4,   0],\n",
       "       [  1, 122,  12,   2,   1,   1,   3,   2,   5,  13],\n",
       "       [  3,   3, 275,  10,   6,  14,   8,   2,  11,   9],\n",
       "       [ 19,   0,   7, 258,   6,   6,  25,   2,  15,   5],\n",
       "       [  4,   1,   5,   9, 310,   4,  24,   9,   6,   3],\n",
       "       [  8,   1,   4,  15,   2, 255,   6,   4,  12,   2],\n",
       "       [  1,   2,   4,  16,   9,   7, 326,   3,   8,  12],\n",
       "       [  0,   3,   4,   3,   5,   3,   3, 235,   4,   2],\n",
       "       [  5,   2,   4,  13,   7,   8,   6,   1, 269,  11],\n",
       "       [  1,  10,   3,   4,   2,   2,   4,   0,  10, 163]], dtype=int64)"
      ]
     },
     "execution_count": 79,
     "metadata": {},
     "output_type": "execute_result"
    }
   ],
   "source": [
    "#Print confusion matrix\n",
    "confusion_matrix(y_test_c, y_pred_c)"
   ]
  },
  {
   "cell_type": "code",
   "execution_count": 80,
   "id": "18306a68",
   "metadata": {},
   "outputs": [
    {
     "name": "stdout",
     "output_type": "stream",
     "text": [
      "                    precision    recall  f1-score   support\n",
      "\n",
      "     Lewis Carroll       0.77      0.91      0.84       156\n",
      " Thomas E. Willson       0.85      0.75      0.80       162\n",
      "Camille Flammarion       0.86      0.81      0.83       341\n",
      "      W. H. Hudson       0.77      0.75      0.76       343\n",
      "   Robert Jennings       0.89      0.83      0.86       375\n",
      " Luella Agnes Owen       0.84      0.83      0.83       309\n",
      "    Charles Darwin       0.80      0.84      0.82       388\n",
      "      Watson Smith       0.91      0.90      0.90       262\n",
      "    Walter Bagehot       0.78      0.83      0.80       326\n",
      "   Three Initiates       0.74      0.82      0.78       199\n",
      "\n",
      "          accuracy                           0.82      2861\n",
      "         macro avg       0.82      0.83      0.82      2861\n",
      "      weighted avg       0.83      0.82      0.82      2861\n",
      "\n"
     ]
    }
   ],
   "source": [
    "#Print classification report\n",
    "print(classification_report(y_test_c, y_pred_c, target_names = author_list))"
   ]
  },
  {
   "cell_type": "code",
   "execution_count": 81,
   "id": "6f909647",
   "metadata": {},
   "outputs": [],
   "source": [
    "#Save the model with tfidf technique\n",
    "pickle.dump(multi_nb_model, open(\"NLP_model/bow_multinb_model.pickle\",\"wb\"))"
   ]
  },
  {
   "cell_type": "markdown",
   "id": "e1d843b3",
   "metadata": {},
   "source": [
    "### Comments:\n",
    "- With the Bags-of-Words technique, the model MultinomialNB obtains good performance. The model is neither overfitting nor underfitting.  \n",
    "- The model achieves good results, which has accuracy of 0.82 and AUC value of 0.98."
   ]
  },
  {
   "cell_type": "code",
   "execution_count": null,
   "id": "1da0ad35",
   "metadata": {},
   "outputs": [],
   "source": []
  },
  {
   "cell_type": "markdown",
   "id": "c9d44cbc",
   "metadata": {},
   "source": [
    "## 4. Similar to 3., but using TF-IDF"
   ]
  },
  {
   "cell_type": "code",
   "execution_count": 82,
   "id": "442975da",
   "metadata": {},
   "outputs": [],
   "source": [
    "#Create a Tf-idf Vectorizer instance\n",
    "tfidf_vec = TfidfVectorizer(stop_words = 'english', max_features=2000)"
   ]
  },
  {
   "cell_type": "code",
   "execution_count": 83,
   "id": "9fa6a4a4",
   "metadata": {},
   "outputs": [
    {
     "data": {
      "text/html": [
       "<style>#sk-container-id-2 {color: black;background-color: white;}#sk-container-id-2 pre{padding: 0;}#sk-container-id-2 div.sk-toggleable {background-color: white;}#sk-container-id-2 label.sk-toggleable__label {cursor: pointer;display: block;width: 100%;margin-bottom: 0;padding: 0.3em;box-sizing: border-box;text-align: center;}#sk-container-id-2 label.sk-toggleable__label-arrow:before {content: \"▸\";float: left;margin-right: 0.25em;color: #696969;}#sk-container-id-2 label.sk-toggleable__label-arrow:hover:before {color: black;}#sk-container-id-2 div.sk-estimator:hover label.sk-toggleable__label-arrow:before {color: black;}#sk-container-id-2 div.sk-toggleable__content {max-height: 0;max-width: 0;overflow: hidden;text-align: left;background-color: #f0f8ff;}#sk-container-id-2 div.sk-toggleable__content pre {margin: 0.2em;color: black;border-radius: 0.25em;background-color: #f0f8ff;}#sk-container-id-2 input.sk-toggleable__control:checked~div.sk-toggleable__content {max-height: 200px;max-width: 100%;overflow: auto;}#sk-container-id-2 input.sk-toggleable__control:checked~label.sk-toggleable__label-arrow:before {content: \"▾\";}#sk-container-id-2 div.sk-estimator input.sk-toggleable__control:checked~label.sk-toggleable__label {background-color: #d4ebff;}#sk-container-id-2 div.sk-label input.sk-toggleable__control:checked~label.sk-toggleable__label {background-color: #d4ebff;}#sk-container-id-2 input.sk-hidden--visually {border: 0;clip: rect(1px 1px 1px 1px);clip: rect(1px, 1px, 1px, 1px);height: 1px;margin: -1px;overflow: hidden;padding: 0;position: absolute;width: 1px;}#sk-container-id-2 div.sk-estimator {font-family: monospace;background-color: #f0f8ff;border: 1px dotted black;border-radius: 0.25em;box-sizing: border-box;margin-bottom: 0.5em;}#sk-container-id-2 div.sk-estimator:hover {background-color: #d4ebff;}#sk-container-id-2 div.sk-parallel-item::after {content: \"\";width: 100%;border-bottom: 1px solid gray;flex-grow: 1;}#sk-container-id-2 div.sk-label:hover label.sk-toggleable__label {background-color: #d4ebff;}#sk-container-id-2 div.sk-serial::before {content: \"\";position: absolute;border-left: 1px solid gray;box-sizing: border-box;top: 0;bottom: 0;left: 50%;z-index: 0;}#sk-container-id-2 div.sk-serial {display: flex;flex-direction: column;align-items: center;background-color: white;padding-right: 0.2em;padding-left: 0.2em;position: relative;}#sk-container-id-2 div.sk-item {position: relative;z-index: 1;}#sk-container-id-2 div.sk-parallel {display: flex;align-items: stretch;justify-content: center;background-color: white;position: relative;}#sk-container-id-2 div.sk-item::before, #sk-container-id-2 div.sk-parallel-item::before {content: \"\";position: absolute;border-left: 1px solid gray;box-sizing: border-box;top: 0;bottom: 0;left: 50%;z-index: -1;}#sk-container-id-2 div.sk-parallel-item {display: flex;flex-direction: column;z-index: 1;position: relative;background-color: white;}#sk-container-id-2 div.sk-parallel-item:first-child::after {align-self: flex-end;width: 50%;}#sk-container-id-2 div.sk-parallel-item:last-child::after {align-self: flex-start;width: 50%;}#sk-container-id-2 div.sk-parallel-item:only-child::after {width: 0;}#sk-container-id-2 div.sk-dashed-wrapped {border: 1px dashed gray;margin: 0 0.4em 0.5em 0.4em;box-sizing: border-box;padding-bottom: 0.4em;background-color: white;}#sk-container-id-2 div.sk-label label {font-family: monospace;font-weight: bold;display: inline-block;line-height: 1.2em;}#sk-container-id-2 div.sk-label-container {text-align: center;}#sk-container-id-2 div.sk-container {/* jupyter's `normalize.less` sets `[hidden] { display: none; }` but bootstrap.min.css set `[hidden] { display: none !important; }` so we also need the `!important` here to be able to override the default hidden behavior on the sphinx rendered scikit-learn.org. See: https://github.com/scikit-learn/scikit-learn/issues/21755 */display: inline-block !important;position: relative;}#sk-container-id-2 div.sk-text-repr-fallback {display: none;}</style><div id=\"sk-container-id-2\" class=\"sk-top-container\"><div class=\"sk-text-repr-fallback\"><pre>TfidfVectorizer(max_features=2000, stop_words=&#x27;english&#x27;)</pre><b>In a Jupyter environment, please rerun this cell to show the HTML representation or trust the notebook. <br />On GitHub, the HTML representation is unable to render, please try loading this page with nbviewer.org.</b></div><div class=\"sk-container\" hidden><div class=\"sk-item\"><div class=\"sk-estimator sk-toggleable\"><input class=\"sk-toggleable__control sk-hidden--visually\" id=\"sk-estimator-id-2\" type=\"checkbox\" checked><label for=\"sk-estimator-id-2\" class=\"sk-toggleable__label sk-toggleable__label-arrow\">TfidfVectorizer</label><div class=\"sk-toggleable__content\"><pre>TfidfVectorizer(max_features=2000, stop_words=&#x27;english&#x27;)</pre></div></div></div></div></div>"
      ],
      "text/plain": [
       "TfidfVectorizer(max_features=2000, stop_words='english')"
      ]
     },
     "execution_count": 83,
     "metadata": {},
     "output_type": "execute_result"
    }
   ],
   "source": [
    "#Fit the full data\n",
    "tfidf_vec.fit(source_text)"
   ]
  },
  {
   "cell_type": "code",
   "execution_count": 84,
   "id": "2e252b23",
   "metadata": {},
   "outputs": [
    {
     "data": {
      "text/plain": [
       "<14305x2000 sparse matrix of type '<class 'numpy.float64'>'\n",
       "\twith 125986 stored elements in Compressed Sparse Row format>"
      ]
     },
     "execution_count": 84,
     "metadata": {},
     "output_type": "execute_result"
    }
   ],
   "source": [
    "#Transform source text array into a sparse numeric matrix\n",
    "tfidf_matrix = tfidf_vec.transform(source_text)\n",
    "tfidf_matrix"
   ]
  },
  {
   "cell_type": "code",
   "execution_count": 85,
   "id": "98248276",
   "metadata": {},
   "outputs": [
    {
     "data": {
      "text/plain": [
       "array([[0., 0., 0., ..., 0., 0., 0.],\n",
       "       [0., 0., 0., ..., 0., 0., 0.],\n",
       "       [0., 0., 0., ..., 0., 0., 0.],\n",
       "       ...,\n",
       "       [0., 0., 0., ..., 0., 0., 0.],\n",
       "       [0., 0., 0., ..., 0., 0., 0.],\n",
       "       [0., 0., 0., ..., 0., 0., 0.]])"
      ]
     },
     "execution_count": 85,
     "metadata": {},
     "output_type": "execute_result"
    }
   ],
   "source": [
    "#Then convert it into a numeric array X\n",
    "X = tfidf_matrix.toarray()\n",
    "X"
   ]
  },
  {
   "cell_type": "code",
   "execution_count": 86,
   "id": "7c24d640",
   "metadata": {},
   "outputs": [],
   "source": [
    "#Split the full dataset into train and test sets according to the ratio 80:20\n",
    "X_train_t, X_test_t, y_train_t, y_test_t = train_test_split(X, y, test_size = 0.20, random_state = 42)"
   ]
  },
  {
   "cell_type": "code",
   "execution_count": 87,
   "id": "24b730fd",
   "metadata": {},
   "outputs": [],
   "source": [
    "#We use the algorithm Multinomial Naive Bayes to build model\n",
    "tfidf_multi_nb = MultinomialNB()"
   ]
  },
  {
   "cell_type": "code",
   "execution_count": 88,
   "id": "7403c288",
   "metadata": {},
   "outputs": [],
   "source": [
    "#Fit the model with train dataset\n",
    "tfidf_multinb_model = tfidf_multi_nb.fit(X_train_t, y_train_t)"
   ]
  },
  {
   "cell_type": "code",
   "execution_count": 89,
   "id": "b49ea749",
   "metadata": {},
   "outputs": [
    {
     "name": "stdout",
     "output_type": "stream",
     "text": [
      "R2 score of train dataset:  0.8719853198182453\n",
      "R2 score of test dataset:  0.8189444250262146\n"
     ]
    }
   ],
   "source": [
    "#We use R2 score to check whether the model is overfitting or underfitting\n",
    "print('R2 score of train dataset: ', tfidf_multinb_model.score(X_train_t, y_train_t))\n",
    "print('R2 score of test dataset: ', tfidf_multinb_model.score(X_test_t, y_test_t))"
   ]
  },
  {
   "cell_type": "code",
   "execution_count": 90,
   "id": "412b1dd1",
   "metadata": {},
   "outputs": [],
   "source": [
    "#Compute the prediction\n",
    "y_pred_t = tfidf_multinb_model.predict(X_test_t)"
   ]
  },
  {
   "cell_type": "code",
   "execution_count": 91,
   "id": "3f2991a7",
   "metadata": {},
   "outputs": [
    {
     "name": "stdout",
     "output_type": "stream",
     "text": [
      "Accuracy of the model after using TF-IDF is: 0.82\n",
      "Auc of the model after using TF-IDF is: 0.98\n",
      "Gini of the model after using TF-IDF is: 0.96\n"
     ]
    }
   ],
   "source": [
    "#Compute accuracy and AUC of the model\n",
    "accuracy_t = accuracy_score(y_test_t, y_pred_t)\n",
    "y_prob_t = tfidf_multinb_model.predict_proba(X_test_t)\n",
    "auc_t = roc_auc_score(y_test_t, y_prob_t, multi_class = 'ovr')\n",
    "gini_t = 2 * auc_t - 1\n",
    "print('Accuracy of the model after using TF-IDF is:', round(accuracy_t,2))\n",
    "print(\"Auc of the model after using TF-IDF is:\", round(auc_t,2))\n",
    "print(\"Gini of the model after using TF-IDF is:\", round(gini_t,2))"
   ]
  },
  {
   "cell_type": "code",
   "execution_count": 92,
   "id": "9b08c6aa",
   "metadata": {},
   "outputs": [
    {
     "data": {
      "text/plain": [
       "array([[129,   0,   2,  13,   1,   4,   0,   0,   7,   0],\n",
       "       [  0, 100,  23,   3,   2,   1,   4,   4,   9,  16],\n",
       "       [  1,   0, 279,  11,  10,   9,   9,   2,  12,   8],\n",
       "       [  6,   0,   9, 260,   8,   6,  32,   2,  19,   1],\n",
       "       [  3,   0,   5,   5, 314,   5,  25,   7,   8,   3],\n",
       "       [  3,   1,   4,  15,   4, 255,   5,   4,  17,   1],\n",
       "       [  1,   0,   5,  12,   6,   8, 338,   1,  12,   5],\n",
       "       [  0,   1,   4,   3,   9,   3,   7, 226,   5,   4],\n",
       "       [  4,   0,   4,  11,   8,   5,   9,   0, 279,   6],\n",
       "       [  0,   2,   6,   5,   2,   2,   6,   0,  13, 163]], dtype=int64)"
      ]
     },
     "execution_count": 92,
     "metadata": {},
     "output_type": "execute_result"
    }
   ],
   "source": [
    "#Print confusion matrix\n",
    "confusion_matrix(y_test_t, y_pred_t)"
   ]
  },
  {
   "cell_type": "code",
   "execution_count": 93,
   "id": "13503240",
   "metadata": {},
   "outputs": [
    {
     "name": "stdout",
     "output_type": "stream",
     "text": [
      "                    precision    recall  f1-score   support\n",
      "\n",
      "     Lewis Carroll       0.88      0.83      0.85       156\n",
      " Thomas E. Willson       0.96      0.62      0.75       162\n",
      "Camille Flammarion       0.82      0.82      0.82       341\n",
      "      W. H. Hudson       0.77      0.76      0.76       343\n",
      "   Robert Jennings       0.86      0.84      0.85       375\n",
      " Luella Agnes Owen       0.86      0.83      0.84       309\n",
      "    Charles Darwin       0.78      0.87      0.82       388\n",
      "      Watson Smith       0.92      0.86      0.89       262\n",
      "    Walter Bagehot       0.73      0.86      0.79       326\n",
      "   Three Initiates       0.79      0.82      0.80       199\n",
      "\n",
      "          accuracy                           0.82      2861\n",
      "         macro avg       0.84      0.81      0.82      2861\n",
      "      weighted avg       0.83      0.82      0.82      2861\n",
      "\n"
     ]
    }
   ],
   "source": [
    "#Print classification report\n",
    "print(classification_report(y_test_t, y_pred_t, target_names = author_list))"
   ]
  },
  {
   "cell_type": "code",
   "execution_count": 94,
   "id": "9785ba26",
   "metadata": {},
   "outputs": [],
   "source": [
    "#Save the model with tfidf technique\n",
    "pickle.dump(tfidf_multinb_model, open(\"NLP_model/tfidf_multinb_model.pickle\",\"wb\"))"
   ]
  },
  {
   "cell_type": "markdown",
   "id": "041a7f3f",
   "metadata": {},
   "source": [
    "### Comments:\n",
    "- Compared to Bags of Words, the TF-IDF technique achieves the same AUC value (0.98), which means the same Gini value (0.96). "
   ]
  },
  {
   "cell_type": "code",
   "execution_count": null,
   "id": "29ebea19",
   "metadata": {},
   "outputs": [],
   "source": []
  },
  {
   "cell_type": "markdown",
   "id": "f375d0c8",
   "metadata": {},
   "source": [
    "## 5. Similar to 3., but using word2vec"
   ]
  },
  {
   "cell_type": "code",
   "execution_count": 95,
   "id": "bfebab0d",
   "metadata": {},
   "outputs": [
    {
     "data": {
      "text/html": [
       "<div>\n",
       "<style scoped>\n",
       "    .dataframe tbody tr th:only-of-type {\n",
       "        vertical-align: middle;\n",
       "    }\n",
       "\n",
       "    .dataframe tbody tr th {\n",
       "        vertical-align: top;\n",
       "    }\n",
       "\n",
       "    .dataframe thead th {\n",
       "        text-align: right;\n",
       "    }\n",
       "</style>\n",
       "<table border=\"1\" class=\"dataframe\">\n",
       "  <thead>\n",
       "    <tr style=\"text-align: right;\">\n",
       "      <th></th>\n",
       "      <th>clean_text</th>\n",
       "      <th>author_name</th>\n",
       "      <th>author_class</th>\n",
       "      <th>sentence_len</th>\n",
       "      <th>word_count</th>\n",
       "      <th>polarity_score</th>\n",
       "      <th>polarity_type</th>\n",
       "      <th>word_clean_text</th>\n",
       "    </tr>\n",
       "  </thead>\n",
       "  <tbody>\n",
       "    <tr>\n",
       "      <th>0</th>\n",
       "      <td>rabbithole alice beginning get tired sitting s...</td>\n",
       "      <td>Lewis Carroll</td>\n",
       "      <td>0</td>\n",
       "      <td>348</td>\n",
       "      <td>50</td>\n",
       "      <td>-0.135714</td>\n",
       "      <td>negative</td>\n",
       "      <td>[rabbithole, alice, beginning, get, tired, sit...</td>\n",
       "    </tr>\n",
       "    <tr>\n",
       "      <th>1</th>\n",
       "      <td>nothing remarkable alice think much way hear r...</td>\n",
       "      <td>Lewis Carroll</td>\n",
       "      <td>0</td>\n",
       "      <td>377</td>\n",
       "      <td>54</td>\n",
       "      <td>0.194898</td>\n",
       "      <td>positive</td>\n",
       "      <td>[nothing, remarkable, alice, think, much, way,...</td>\n",
       "    </tr>\n",
       "    <tr>\n",
       "      <th>2</th>\n",
       "      <td>another moment went alice never considering wo...</td>\n",
       "      <td>Lewis Carroll</td>\n",
       "      <td>0</td>\n",
       "      <td>53</td>\n",
       "      <td>8</td>\n",
       "      <td>0.000000</td>\n",
       "      <td>neutral</td>\n",
       "      <td>[another, moment, went, alice, never, consider...</td>\n",
       "    </tr>\n",
       "    <tr>\n",
       "      <th>3</th>\n",
       "      <td>rabbithole went straight like tunnel way dippe...</td>\n",
       "      <td>Lewis Carroll</td>\n",
       "      <td>0</td>\n",
       "      <td>117</td>\n",
       "      <td>17</td>\n",
       "      <td>0.066667</td>\n",
       "      <td>positive</td>\n",
       "      <td>[rabbithole, went, straight, like, tunnel, way...</td>\n",
       "    </tr>\n",
       "    <tr>\n",
       "      <th>4</th>\n",
       "      <td>either well deep fell slowly plenty time went ...</td>\n",
       "      <td>Lewis Carroll</td>\n",
       "      <td>0</td>\n",
       "      <td>75</td>\n",
       "      <td>13</td>\n",
       "      <td>-0.100000</td>\n",
       "      <td>negative</td>\n",
       "      <td>[either, well, deep, fell, slowly, plenty, tim...</td>\n",
       "    </tr>\n",
       "  </tbody>\n",
       "</table>\n",
       "</div>"
      ],
      "text/plain": [
       "                                          clean_text    author_name  \\\n",
       "0  rabbithole alice beginning get tired sitting s...  Lewis Carroll   \n",
       "1  nothing remarkable alice think much way hear r...  Lewis Carroll   \n",
       "2  another moment went alice never considering wo...  Lewis Carroll   \n",
       "3  rabbithole went straight like tunnel way dippe...  Lewis Carroll   \n",
       "4  either well deep fell slowly plenty time went ...  Lewis Carroll   \n",
       "\n",
       "   author_class  sentence_len  word_count  polarity_score polarity_type  \\\n",
       "0             0           348          50       -0.135714      negative   \n",
       "1             0           377          54        0.194898      positive   \n",
       "2             0            53           8        0.000000       neutral   \n",
       "3             0           117          17        0.066667      positive   \n",
       "4             0            75          13       -0.100000      negative   \n",
       "\n",
       "                                     word_clean_text  \n",
       "0  [rabbithole, alice, beginning, get, tired, sit...  \n",
       "1  [nothing, remarkable, alice, think, much, way,...  \n",
       "2  [another, moment, went, alice, never, consider...  \n",
       "3  [rabbithole, went, straight, like, tunnel, way...  \n",
       "4  [either, well, deep, fell, slowly, plenty, tim...  "
      ]
     },
     "execution_count": 95,
     "metadata": {},
     "output_type": "execute_result"
    }
   ],
   "source": [
    "#Generate a new column 'word_clean_text'\n",
    "clean_data['word_clean_text'] = clean_data['clean_text'].str.split()\n",
    "clean_data.head()"
   ]
  },
  {
   "cell_type": "code",
   "execution_count": 96,
   "id": "e8915c59",
   "metadata": {},
   "outputs": [],
   "source": [
    "#Split the full dataset into train and test sets according to the ratio 80:20\n",
    "X_train_w2v, X_test_w2v, y_train_w2v, y_test_w2v = train_test_split(clean_data['word_clean_text'], clean_data['author_class'], \n",
    "                                                                            test_size = 0.20, random_state = 42)"
   ]
  },
  {
   "cell_type": "code",
   "execution_count": 97,
   "id": "950a98b0",
   "metadata": {},
   "outputs": [],
   "source": [
    "#Create the word2vec model\n",
    "w2v_model = gensim.models.Word2Vec(X_train_w2v, vector_size=100, window=5, min_count=1, max_vocab_size=3000)"
   ]
  },
  {
   "cell_type": "code",
   "execution_count": 98,
   "id": "e4009f22",
   "metadata": {},
   "outputs": [],
   "source": [
    "#Generate aggregated sentence vectors based on the word vectors for each word in the sentence\n",
    "words_dict = set(w2v_model.wv.index_to_key)\n",
    "X_train_sent = np.array([np.array([w2v_model.wv[i] for i in ls if i in words_dict]) for ls in X_train_w2v])\n",
    "X_test_sent = np.array([np.array([w2v_model.wv[i] for i in ls if i in words_dict]) for ls in X_test_w2v])"
   ]
  },
  {
   "cell_type": "code",
   "execution_count": 99,
   "id": "79e7612a",
   "metadata": {},
   "outputs": [],
   "source": [
    "# Compute average sentence vectors by averaging the word vectors for the words contained in the sentence\n",
    "X_train_sent_avg = []\n",
    "for v in X_train_sent:\n",
    "    if v.size:\n",
    "        X_train_sent_avg.append(v.mean(axis=0))\n",
    "    else:\n",
    "        X_train_sent_avg.append(np.zeros(100, dtype=float))\n",
    "        \n",
    "X_test_sent_avg = []\n",
    "for v in X_test_sent:\n",
    "    if v.size:\n",
    "        X_test_sent_avg.append(v.mean(axis=0))\n",
    "    else:\n",
    "        X_test_sent_avg.append(np.zeros(100, dtype=float))"
   ]
  },
  {
   "cell_type": "code",
   "execution_count": 100,
   "id": "632ba882",
   "metadata": {},
   "outputs": [],
   "source": [
    "#In this case, we use Random Forest instead of Multinomial Naive Bayes to build model\n",
    "#because MultinomialNB does not support with negative values\n",
    "w2v_rfc = RandomForestClassifier(n_estimators=100)"
   ]
  },
  {
   "cell_type": "code",
   "execution_count": 101,
   "id": "ad266406",
   "metadata": {},
   "outputs": [],
   "source": [
    "#Fit the model with train dataset\n",
    "w2v_rfc_model = w2v_rfc.fit(X_train_sent_avg, y_train_w2v)"
   ]
  },
  {
   "cell_type": "code",
   "execution_count": 102,
   "id": "d5551630",
   "metadata": {},
   "outputs": [],
   "source": [
    "# Use the trained model to make predictions on the test data\n",
    "y_pred_w2v = w2v_rfc_model.predict(X_test_sent_avg)"
   ]
  },
  {
   "cell_type": "code",
   "execution_count": 103,
   "id": "8b702f70",
   "metadata": {},
   "outputs": [
    {
     "name": "stdout",
     "output_type": "stream",
     "text": [
      "Accuracy of the model after using word2vec is: 0.63\n",
      "Auc of the model after using word2vec is: 0.91\n",
      "Gini of the model after using word2vec is: 0.82\n"
     ]
    }
   ],
   "source": [
    "#Compute accuracy and AUC and Gini of the model\n",
    "accuracy_w2v = accuracy_score(y_test_w2v, y_pred_w2v)\n",
    "y_prob_w2v = w2v_rfc_model.predict_proba(X_test_sent_avg)\n",
    "auc_w2v = roc_auc_score(y_test_w2v, y_prob_w2v, multi_class = 'ovr')\n",
    "gini_w2v = 2 * auc_w2v - 1\n",
    "print('Accuracy of the model after using word2vec is:', round(accuracy_w2v,2))\n",
    "print(\"Auc of the model after using word2vec is:\", round(auc_w2v,2))\n",
    "print(\"Gini of the model after using word2vec is:\", round(gini_w2v,2))"
   ]
  },
  {
   "cell_type": "code",
   "execution_count": 104,
   "id": "f8919e32",
   "metadata": {},
   "outputs": [
    {
     "data": {
      "text/plain": [
       "array([[110,   0,   6,  20,   2,   4,   2,   1,   9,   2],\n",
       "       [  1,  76,  31,   7,   1,   6,   3,   2,  14,  21],\n",
       "       [  1,   9, 235,  20,  19,  17,   5,   6,  15,  14],\n",
       "       [  9,   1,  15, 143,  25,  26,  54,   2,  53,  15],\n",
       "       [  1,   3,  20,  17, 242,  16,  28,  15,  29,   4],\n",
       "       [  2,   3,  16,  28,  13, 201,   9,  15,  16,   6],\n",
       "       [  1,   1,  14,  27,  36,  14, 242,   3,  35,  15],\n",
       "       [  0,   1,   3,   5,  19,  12,   3, 203,   9,   7],\n",
       "       [ 10,   3,  14,  21,  18,  10,  17,   1, 213,  19],\n",
       "       [  0,  10,  10,   6,   6,   2,   2,   1,  31, 131]], dtype=int64)"
      ]
     },
     "execution_count": 104,
     "metadata": {},
     "output_type": "execute_result"
    }
   ],
   "source": [
    "#Print confusion matrix\n",
    "confusion_matrix(y_test_w2v, y_pred_w2v)"
   ]
  },
  {
   "cell_type": "code",
   "execution_count": 105,
   "id": "9753e631",
   "metadata": {},
   "outputs": [
    {
     "name": "stdout",
     "output_type": "stream",
     "text": [
      "                    precision    recall  f1-score   support\n",
      "\n",
      "     Lewis Carroll       0.81      0.71      0.76       156\n",
      " Thomas E. Willson       0.71      0.47      0.57       162\n",
      "Camille Flammarion       0.65      0.69      0.67       341\n",
      "      W. H. Hudson       0.49      0.42      0.45       343\n",
      "   Robert Jennings       0.64      0.65      0.64       375\n",
      " Luella Agnes Owen       0.65      0.65      0.65       309\n",
      "    Charles Darwin       0.66      0.62      0.64       388\n",
      "      Watson Smith       0.82      0.77      0.79       262\n",
      "    Walter Bagehot       0.50      0.65      0.57       326\n",
      "   Three Initiates       0.56      0.66      0.61       199\n",
      "\n",
      "          accuracy                           0.63      2861\n",
      "         macro avg       0.65      0.63      0.63      2861\n",
      "      weighted avg       0.63      0.63      0.63      2861\n",
      "\n"
     ]
    }
   ],
   "source": [
    "#Print classification report\n",
    "print(classification_report(y_test_w2v, y_pred_w2v, target_names = author_list))"
   ]
  },
  {
   "cell_type": "code",
   "execution_count": 106,
   "id": "88e99561",
   "metadata": {},
   "outputs": [],
   "source": [
    "#Save the model with word2vec technique\n",
    "pickle.dump(w2v_rfc_model, open(\"NLP_model/w2v_rfc_model.pickle\",\"wb\"))"
   ]
  },
  {
   "cell_type": "markdown",
   "id": "459ee7c4",
   "metadata": {},
   "source": [
    "### Comments:\n",
    "- This Word2Vec technique obtains lower AUC value (0.91) than that of Bags of Words and TF-IDF techniques (which have AUC value of 0.98)."
   ]
  }
 ],
 "metadata": {
  "kernelspec": {
   "display_name": "Python 3 (ipykernel)",
   "language": "python",
   "name": "python3"
  },
  "language_info": {
   "codemirror_mode": {
    "name": "ipython",
    "version": 3
   },
   "file_extension": ".py",
   "mimetype": "text/x-python",
   "name": "python",
   "nbconvert_exporter": "python",
   "pygments_lexer": "ipython3",
   "version": "3.9.12"
  }
 },
 "nbformat": 4,
 "nbformat_minor": 5
}
