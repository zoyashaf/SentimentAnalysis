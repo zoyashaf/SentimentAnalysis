{
 "cells": [
  {
   "cell_type": "markdown",
   "id": "97f2a084",
   "metadata": {},
   "source": [
    "# Problem Statement"
   ]
  },
  {
   "cell_type": "markdown",
   "id": "4a559676",
   "metadata": {},
   "source": [
    "Using NLP to analyze Yelp reviews data\n"
   ]
  },
  {
   "cell_type": "code",
   "execution_count": 642,
   "id": "0ed93442",
   "metadata": {},
   "outputs": [],
   "source": [
    "import pandas as pd\n",
    "import numpy as np\n",
    "import matplotlib.pyplot as plt\n",
    "import seaborn as sns\n",
    "import math\n",
    "\n",
    "\n",
    "from sklearn.feature_extraction.text import CountVectorizer\n",
    "import string\n",
    "string.punctuation\n",
    "from collections import Counter, defaultdict\n",
    "from bs4 import BeautifulSoup\n",
    "from sklearn.metrics import accuracy_score\n",
    "from sklearn.metrics import classification_report, confusion_matrix\n",
    "import nltk\n",
    "from nltk.corpus import stopwords\n",
    "import re\n",
    "from wordcloud import WordCloud\n",
    "\n",
    "\n",
    "from sklearn.model_selection import KFold\n",
    "from sklearn.model_selection import cross_val_score\n"
   ]
  },
  {
   "cell_type": "code",
   "execution_count": 643,
   "id": "350ae25f",
   "metadata": {},
   "outputs": [],
   "source": [
    "yelp_df = pd.read_csv(\"yelp_review.csv\", \n",
    "                        delimiter='\\t', \n",
    "                        header=None, \n",
    "                        names=['Review', 'sentiment'])"
   ]
  },
  {
   "cell_type": "code",
   "execution_count": 644,
   "id": "5c697233",
   "metadata": {},
   "outputs": [
    {
     "data": {
      "text/html": [
       "<div>\n",
       "<style scoped>\n",
       "    .dataframe tbody tr th:only-of-type {\n",
       "        vertical-align: middle;\n",
       "    }\n",
       "\n",
       "    .dataframe tbody tr th {\n",
       "        vertical-align: top;\n",
       "    }\n",
       "\n",
       "    .dataframe thead th {\n",
       "        text-align: right;\n",
       "    }\n",
       "</style>\n",
       "<table border=\"1\" class=\"dataframe\">\n",
       "  <thead>\n",
       "    <tr style=\"text-align: right;\">\n",
       "      <th></th>\n",
       "      <th>Review</th>\n",
       "      <th>sentiment</th>\n",
       "    </tr>\n",
       "  </thead>\n",
       "  <tbody>\n",
       "    <tr>\n",
       "      <th>0</th>\n",
       "      <td>Wow... Loved this place.</td>\n",
       "      <td>1</td>\n",
       "    </tr>\n",
       "    <tr>\n",
       "      <th>1</th>\n",
       "      <td>Crust is not good.</td>\n",
       "      <td>0</td>\n",
       "    </tr>\n",
       "    <tr>\n",
       "      <th>2</th>\n",
       "      <td>Not tasty and the texture was just nasty.</td>\n",
       "      <td>0</td>\n",
       "    </tr>\n",
       "    <tr>\n",
       "      <th>3</th>\n",
       "      <td>Stopped by during the late May bank holiday of...</td>\n",
       "      <td>1</td>\n",
       "    </tr>\n",
       "    <tr>\n",
       "      <th>4</th>\n",
       "      <td>The selection on the menu was great and so wer...</td>\n",
       "      <td>1</td>\n",
       "    </tr>\n",
       "    <tr>\n",
       "      <th>...</th>\n",
       "      <td>...</td>\n",
       "      <td>...</td>\n",
       "    </tr>\n",
       "    <tr>\n",
       "      <th>995</th>\n",
       "      <td>I think food should have flavor and texture an...</td>\n",
       "      <td>0</td>\n",
       "    </tr>\n",
       "    <tr>\n",
       "      <th>996</th>\n",
       "      <td>Appetite instantly gone.</td>\n",
       "      <td>0</td>\n",
       "    </tr>\n",
       "    <tr>\n",
       "      <th>997</th>\n",
       "      <td>Overall I was not impressed and would not go b...</td>\n",
       "      <td>0</td>\n",
       "    </tr>\n",
       "    <tr>\n",
       "      <th>998</th>\n",
       "      <td>The whole experience was underwhelming, and I ...</td>\n",
       "      <td>0</td>\n",
       "    </tr>\n",
       "    <tr>\n",
       "      <th>999</th>\n",
       "      <td>Then, as if I hadn't wasted enough of my life ...</td>\n",
       "      <td>0</td>\n",
       "    </tr>\n",
       "  </tbody>\n",
       "</table>\n",
       "<p>1000 rows × 2 columns</p>\n",
       "</div>"
      ],
      "text/plain": [
       "                                                Review  sentiment\n",
       "0                             Wow... Loved this place.          1\n",
       "1                                   Crust is not good.          0\n",
       "2            Not tasty and the texture was just nasty.          0\n",
       "3    Stopped by during the late May bank holiday of...          1\n",
       "4    The selection on the menu was great and so wer...          1\n",
       "..                                                 ...        ...\n",
       "995  I think food should have flavor and texture an...          0\n",
       "996                           Appetite instantly gone.          0\n",
       "997  Overall I was not impressed and would not go b...          0\n",
       "998  The whole experience was underwhelming, and I ...          0\n",
       "999  Then, as if I hadn't wasted enough of my life ...          0\n",
       "\n",
       "[1000 rows x 2 columns]"
      ]
     },
     "execution_count": 644,
     "metadata": {},
     "output_type": "execute_result"
    }
   ],
   "source": [
    "yelp_df"
   ]
  },
  {
   "cell_type": "code",
   "execution_count": 645,
   "id": "d3811d15",
   "metadata": {},
   "outputs": [
    {
     "data": {
      "text/html": [
       "<div>\n",
       "<style scoped>\n",
       "    .dataframe tbody tr th:only-of-type {\n",
       "        vertical-align: middle;\n",
       "    }\n",
       "\n",
       "    .dataframe tbody tr th {\n",
       "        vertical-align: top;\n",
       "    }\n",
       "\n",
       "    .dataframe thead th {\n",
       "        text-align: right;\n",
       "    }\n",
       "</style>\n",
       "<table border=\"1\" class=\"dataframe\">\n",
       "  <thead>\n",
       "    <tr style=\"text-align: right;\">\n",
       "      <th></th>\n",
       "      <th>sentiment</th>\n",
       "    </tr>\n",
       "  </thead>\n",
       "  <tbody>\n",
       "    <tr>\n",
       "      <th>count</th>\n",
       "      <td>1000.00000</td>\n",
       "    </tr>\n",
       "    <tr>\n",
       "      <th>mean</th>\n",
       "      <td>0.50000</td>\n",
       "    </tr>\n",
       "    <tr>\n",
       "      <th>std</th>\n",
       "      <td>0.50025</td>\n",
       "    </tr>\n",
       "    <tr>\n",
       "      <th>min</th>\n",
       "      <td>0.00000</td>\n",
       "    </tr>\n",
       "    <tr>\n",
       "      <th>25%</th>\n",
       "      <td>0.00000</td>\n",
       "    </tr>\n",
       "    <tr>\n",
       "      <th>50%</th>\n",
       "      <td>0.50000</td>\n",
       "    </tr>\n",
       "    <tr>\n",
       "      <th>75%</th>\n",
       "      <td>1.00000</td>\n",
       "    </tr>\n",
       "    <tr>\n",
       "      <th>max</th>\n",
       "      <td>1.00000</td>\n",
       "    </tr>\n",
       "  </tbody>\n",
       "</table>\n",
       "</div>"
      ],
      "text/plain": [
       "        sentiment\n",
       "count  1000.00000\n",
       "mean      0.50000\n",
       "std       0.50025\n",
       "min       0.00000\n",
       "25%       0.00000\n",
       "50%       0.50000\n",
       "75%       1.00000\n",
       "max       1.00000"
      ]
     },
     "execution_count": 645,
     "metadata": {},
     "output_type": "execute_result"
    }
   ],
   "source": [
    "yelp_df.describe()"
   ]
  },
  {
   "cell_type": "code",
   "execution_count": 646,
   "id": "aca57f8a",
   "metadata": {},
   "outputs": [
    {
     "name": "stdout",
     "output_type": "stream",
     "text": [
      "<class 'pandas.core.frame.DataFrame'>\n",
      "RangeIndex: 1000 entries, 0 to 999\n",
      "Data columns (total 2 columns):\n",
      " #   Column     Non-Null Count  Dtype \n",
      "---  ------     --------------  ----- \n",
      " 0   Review     1000 non-null   object\n",
      " 1   sentiment  1000 non-null   int64 \n",
      "dtypes: int64(1), object(1)\n",
      "memory usage: 15.8+ KB\n"
     ]
    }
   ],
   "source": [
    "yelp_df.info()"
   ]
  },
  {
   "cell_type": "markdown",
   "id": "8a3af7c1",
   "metadata": {},
   "source": [
    "# Visualize Dataset"
   ]
  },
  {
   "cell_type": "code",
   "execution_count": 647,
   "id": "b2cf2b56",
   "metadata": {},
   "outputs": [
    {
     "data": {
      "text/html": [
       "<div>\n",
       "<style scoped>\n",
       "    .dataframe tbody tr th:only-of-type {\n",
       "        vertical-align: middle;\n",
       "    }\n",
       "\n",
       "    .dataframe tbody tr th {\n",
       "        vertical-align: top;\n",
       "    }\n",
       "\n",
       "    .dataframe thead th {\n",
       "        text-align: right;\n",
       "    }\n",
       "</style>\n",
       "<table border=\"1\" class=\"dataframe\">\n",
       "  <thead>\n",
       "    <tr style=\"text-align: right;\">\n",
       "      <th></th>\n",
       "      <th>Review</th>\n",
       "      <th>sentiment</th>\n",
       "      <th>length</th>\n",
       "    </tr>\n",
       "  </thead>\n",
       "  <tbody>\n",
       "    <tr>\n",
       "      <th>0</th>\n",
       "      <td>Wow... Loved this place.</td>\n",
       "      <td>1</td>\n",
       "      <td>24</td>\n",
       "    </tr>\n",
       "    <tr>\n",
       "      <th>1</th>\n",
       "      <td>Crust is not good.</td>\n",
       "      <td>0</td>\n",
       "      <td>18</td>\n",
       "    </tr>\n",
       "    <tr>\n",
       "      <th>2</th>\n",
       "      <td>Not tasty and the texture was just nasty.</td>\n",
       "      <td>0</td>\n",
       "      <td>41</td>\n",
       "    </tr>\n",
       "    <tr>\n",
       "      <th>3</th>\n",
       "      <td>Stopped by during the late May bank holiday of...</td>\n",
       "      <td>1</td>\n",
       "      <td>87</td>\n",
       "    </tr>\n",
       "    <tr>\n",
       "      <th>4</th>\n",
       "      <td>The selection on the menu was great and so wer...</td>\n",
       "      <td>1</td>\n",
       "      <td>59</td>\n",
       "    </tr>\n",
       "  </tbody>\n",
       "</table>\n",
       "</div>"
      ],
      "text/plain": [
       "                                              Review  sentiment  length\n",
       "0                           Wow... Loved this place.          1      24\n",
       "1                                 Crust is not good.          0      18\n",
       "2          Not tasty and the texture was just nasty.          0      41\n",
       "3  Stopped by during the late May bank holiday of...          1      87\n",
       "4  The selection on the menu was great and so wer...          1      59"
      ]
     },
     "execution_count": 647,
     "metadata": {},
     "output_type": "execute_result"
    }
   ],
   "source": [
    "# Let's get the length of the messages\n",
    "yelp_df['length'] = yelp_df['Review'].apply(len)\n",
    "yelp_df.head()"
   ]
  },
  {
   "cell_type": "code",
   "execution_count": 648,
   "id": "2fb5211d",
   "metadata": {},
   "outputs": [
    {
     "data": {
      "text/plain": [
       "<AxesSubplot:ylabel='Frequency'>"
      ]
     },
     "execution_count": 648,
     "metadata": {},
     "output_type": "execute_result"
    },
    {
     "data": {
      "image/png": "[encoded data removed]",
      "text/plain": [
       "<Figure size 432x288 with 1 Axes>"
      ]
     },
     "metadata": {
      "needs_background": "light"
     },
     "output_type": "display_data"
    }
   ],
   "source": [
    "yelp_df['length'].plot(bins=100, kind='hist') "
   ]
  },
  {
   "cell_type": "code",
   "execution_count": 649,
   "id": "529a0127",
   "metadata": {},
   "outputs": [
    {
     "data": {
      "text/plain": [
       "count    1000.00000\n",
       "mean       58.31600\n",
       "std        32.36414\n",
       "min        11.00000\n",
       "25%        33.00000\n",
       "50%        51.00000\n",
       "75%        80.00000\n",
       "max       149.00000\n",
       "Name: length, dtype: float64"
      ]
     },
     "execution_count": 649,
     "metadata": {},
     "output_type": "execute_result"
    }
   ],
   "source": [
    "yelp_df.length.describe()"
   ]
  },
  {
   "cell_type": "code",
   "execution_count": 650,
   "id": "69f486b0",
   "metadata": {
    "scrolled": true
   },
   "outputs": [
    {
     "data": {
      "text/plain": [
       "'The problem I have is that they charge $11.99 for a sandwich that is no bigger than a Subway sub (which offers better and more amount of vegetables).'"
      ]
     },
     "execution_count": 650,
     "metadata": {},
     "output_type": "execute_result"
    }
   ],
   "source": [
    "yelp_df[yelp_df['length'] == 149]['Review'].iloc[0]"
   ]
  },
  {
   "cell_type": "code",
   "execution_count": 651,
   "id": "0fa95a98",
   "metadata": {},
   "outputs": [
    {
     "data": {
      "text/plain": [
       "'DELICIOUS!!'"
      ]
     },
     "execution_count": 651,
     "metadata": {},
     "output_type": "execute_result"
    }
   ],
   "source": [
    "yelp_df[yelp_df['length'] == 11]['Review'].iloc[0]"
   ]
  },
  {
   "cell_type": "code",
   "execution_count": 652,
   "id": "e68311d3",
   "metadata": {},
   "outputs": [
    {
     "data": {
      "text/plain": [
       "'I found this place by accident and I could not be happier.'"
      ]
     },
     "execution_count": 652,
     "metadata": {},
     "output_type": "execute_result"
    }
   ],
   "source": [
    "# Let's see the message with mean length \n",
    "yelp_df[yelp_df['length'] == 58]['Review'].iloc[0]"
   ]
  },
  {
   "cell_type": "code",
   "execution_count": 653,
   "id": "d9fdf935",
   "metadata": {},
   "outputs": [
    {
     "data": {
      "text/html": [
       "<div>\n",
       "<style scoped>\n",
       "    .dataframe tbody tr th:only-of-type {\n",
       "        vertical-align: middle;\n",
       "    }\n",
       "\n",
       "    .dataframe tbody tr th {\n",
       "        vertical-align: top;\n",
       "    }\n",
       "\n",
       "    .dataframe thead th {\n",
       "        text-align: right;\n",
       "    }\n",
       "</style>\n",
       "<table border=\"1\" class=\"dataframe\">\n",
       "  <thead>\n",
       "    <tr style=\"text-align: right;\">\n",
       "      <th></th>\n",
       "      <th>Review</th>\n",
       "      <th>sentiment</th>\n",
       "      <th>length</th>\n",
       "    </tr>\n",
       "  </thead>\n",
       "  <tbody>\n",
       "    <tr>\n",
       "      <th>0</th>\n",
       "      <td>Wow... Loved this place.</td>\n",
       "      <td>1</td>\n",
       "      <td>24</td>\n",
       "    </tr>\n",
       "    <tr>\n",
       "      <th>1</th>\n",
       "      <td>Crust is not good.</td>\n",
       "      <td>0</td>\n",
       "      <td>18</td>\n",
       "    </tr>\n",
       "    <tr>\n",
       "      <th>2</th>\n",
       "      <td>Not tasty and the texture was just nasty.</td>\n",
       "      <td>0</td>\n",
       "      <td>41</td>\n",
       "    </tr>\n",
       "    <tr>\n",
       "      <th>3</th>\n",
       "      <td>Stopped by during the late May bank holiday of...</td>\n",
       "      <td>1</td>\n",
       "      <td>87</td>\n",
       "    </tr>\n",
       "    <tr>\n",
       "      <th>4</th>\n",
       "      <td>The selection on the menu was great and so wer...</td>\n",
       "      <td>1</td>\n",
       "      <td>59</td>\n",
       "    </tr>\n",
       "    <tr>\n",
       "      <th>...</th>\n",
       "      <td>...</td>\n",
       "      <td>...</td>\n",
       "      <td>...</td>\n",
       "    </tr>\n",
       "    <tr>\n",
       "      <th>995</th>\n",
       "      <td>I think food should have flavor and texture an...</td>\n",
       "      <td>0</td>\n",
       "      <td>66</td>\n",
       "    </tr>\n",
       "    <tr>\n",
       "      <th>996</th>\n",
       "      <td>Appetite instantly gone.</td>\n",
       "      <td>0</td>\n",
       "      <td>24</td>\n",
       "    </tr>\n",
       "    <tr>\n",
       "      <th>997</th>\n",
       "      <td>Overall I was not impressed and would not go b...</td>\n",
       "      <td>0</td>\n",
       "      <td>50</td>\n",
       "    </tr>\n",
       "    <tr>\n",
       "      <th>998</th>\n",
       "      <td>The whole experience was underwhelming, and I ...</td>\n",
       "      <td>0</td>\n",
       "      <td>91</td>\n",
       "    </tr>\n",
       "    <tr>\n",
       "      <th>999</th>\n",
       "      <td>Then, as if I hadn't wasted enough of my life ...</td>\n",
       "      <td>0</td>\n",
       "      <td>134</td>\n",
       "    </tr>\n",
       "  </tbody>\n",
       "</table>\n",
       "<p>1000 rows × 3 columns</p>\n",
       "</div>"
      ],
      "text/plain": [
       "                                                Review  sentiment  length\n",
       "0                             Wow... Loved this place.          1      24\n",
       "1                                   Crust is not good.          0      18\n",
       "2            Not tasty and the texture was just nasty.          0      41\n",
       "3    Stopped by during the late May bank holiday of...          1      87\n",
       "4    The selection on the menu was great and so wer...          1      59\n",
       "..                                                 ...        ...     ...\n",
       "995  I think food should have flavor and texture an...          0      66\n",
       "996                           Appetite instantly gone.          0      24\n",
       "997  Overall I was not impressed and would not go b...          0      50\n",
       "998  The whole experience was underwhelming, and I ...          0      91\n",
       "999  Then, as if I hadn't wasted enough of my life ...          0     134\n",
       "\n",
       "[1000 rows x 3 columns]"
      ]
     },
     "execution_count": 653,
     "metadata": {},
     "output_type": "execute_result"
    }
   ],
   "source": [
    "yelp_df"
   ]
  },
  {
   "cell_type": "code",
   "execution_count": 654,
   "id": "40447735",
   "metadata": {},
   "outputs": [],
   "source": [
    "yelp_df_1 = yelp_df[yelp_df['sentiment']==1]"
   ]
  },
  {
   "cell_type": "code",
   "execution_count": 655,
   "id": "1625b94a",
   "metadata": {},
   "outputs": [
    {
     "data": {
      "text/html": [
       "<div>\n",
       "<style scoped>\n",
       "    .dataframe tbody tr th:only-of-type {\n",
       "        vertical-align: middle;\n",
       "    }\n",
       "\n",
       "    .dataframe tbody tr th {\n",
       "        vertical-align: top;\n",
       "    }\n",
       "\n",
       "    .dataframe thead th {\n",
       "        text-align: right;\n",
       "    }\n",
       "</style>\n",
       "<table border=\"1\" class=\"dataframe\">\n",
       "  <thead>\n",
       "    <tr style=\"text-align: right;\">\n",
       "      <th></th>\n",
       "      <th>Review</th>\n",
       "      <th>sentiment</th>\n",
       "      <th>length</th>\n",
       "    </tr>\n",
       "  </thead>\n",
       "  <tbody>\n",
       "    <tr>\n",
       "      <th>0</th>\n",
       "      <td>Wow... Loved this place.</td>\n",
       "      <td>1</td>\n",
       "      <td>24</td>\n",
       "    </tr>\n",
       "    <tr>\n",
       "      <th>3</th>\n",
       "      <td>Stopped by during the late May bank holiday of...</td>\n",
       "      <td>1</td>\n",
       "      <td>87</td>\n",
       "    </tr>\n",
       "    <tr>\n",
       "      <th>4</th>\n",
       "      <td>The selection on the menu was great and so wer...</td>\n",
       "      <td>1</td>\n",
       "      <td>59</td>\n",
       "    </tr>\n",
       "    <tr>\n",
       "      <th>8</th>\n",
       "      <td>The fries were great too.</td>\n",
       "      <td>1</td>\n",
       "      <td>25</td>\n",
       "    </tr>\n",
       "    <tr>\n",
       "      <th>9</th>\n",
       "      <td>A great touch.</td>\n",
       "      <td>1</td>\n",
       "      <td>14</td>\n",
       "    </tr>\n",
       "    <tr>\n",
       "      <th>...</th>\n",
       "      <td>...</td>\n",
       "      <td>...</td>\n",
       "      <td>...</td>\n",
       "    </tr>\n",
       "    <tr>\n",
       "      <th>899</th>\n",
       "      <td>Overall, a great experience.</td>\n",
       "      <td>1</td>\n",
       "      <td>28</td>\n",
       "    </tr>\n",
       "    <tr>\n",
       "      <th>901</th>\n",
       "      <td>Their regular toasted bread was equally satisf...</td>\n",
       "      <td>1</td>\n",
       "      <td>97</td>\n",
       "    </tr>\n",
       "    <tr>\n",
       "      <th>907</th>\n",
       "      <td>The chips and sals a here is amazing!!!!!!!!!!...</td>\n",
       "      <td>1</td>\n",
       "      <td>55</td>\n",
       "    </tr>\n",
       "    <tr>\n",
       "      <th>909</th>\n",
       "      <td>This is my new fav Vegas buffet spot.</td>\n",
       "      <td>1</td>\n",
       "      <td>37</td>\n",
       "    </tr>\n",
       "    <tr>\n",
       "      <th>922</th>\n",
       "      <td>Every time I eat here, I see caring teamwork t...</td>\n",
       "      <td>1</td>\n",
       "      <td>70</td>\n",
       "    </tr>\n",
       "  </tbody>\n",
       "</table>\n",
       "<p>500 rows × 3 columns</p>\n",
       "</div>"
      ],
      "text/plain": [
       "                                                Review  sentiment  length\n",
       "0                             Wow... Loved this place.          1      24\n",
       "3    Stopped by during the late May bank holiday of...          1      87\n",
       "4    The selection on the menu was great and so wer...          1      59\n",
       "8                            The fries were great too.          1      25\n",
       "9                                       A great touch.          1      14\n",
       "..                                                 ...        ...     ...\n",
       "899                       Overall, a great experience.          1      28\n",
       "901  Their regular toasted bread was equally satisf...          1      97\n",
       "907  The chips and sals a here is amazing!!!!!!!!!!...          1      55\n",
       "909              This is my new fav Vegas buffet spot.          1      37\n",
       "922  Every time I eat here, I see caring teamwork t...          1      70\n",
       "\n",
       "[500 rows x 3 columns]"
      ]
     },
     "execution_count": 655,
     "metadata": {},
     "output_type": "execute_result"
    }
   ],
   "source": [
    "yelp_df_1"
   ]
  },
  {
   "cell_type": "code",
   "execution_count": 656,
   "id": "831345fa",
   "metadata": {},
   "outputs": [],
   "source": [
    "yelp_df_0 = yelp_df[yelp_df['sentiment']==0]"
   ]
  },
  {
   "cell_type": "code",
   "execution_count": 657,
   "id": "71fd1950",
   "metadata": {},
   "outputs": [
    {
     "data": {
      "text/html": [
       "<div>\n",
       "<style scoped>\n",
       "    .dataframe tbody tr th:only-of-type {\n",
       "        vertical-align: middle;\n",
       "    }\n",
       "\n",
       "    .dataframe tbody tr th {\n",
       "        vertical-align: top;\n",
       "    }\n",
       "\n",
       "    .dataframe thead th {\n",
       "        text-align: right;\n",
       "    }\n",
       "</style>\n",
       "<table border=\"1\" class=\"dataframe\">\n",
       "  <thead>\n",
       "    <tr style=\"text-align: right;\">\n",
       "      <th></th>\n",
       "      <th>Review</th>\n",
       "      <th>sentiment</th>\n",
       "      <th>length</th>\n",
       "    </tr>\n",
       "  </thead>\n",
       "  <tbody>\n",
       "    <tr>\n",
       "      <th>1</th>\n",
       "      <td>Crust is not good.</td>\n",
       "      <td>0</td>\n",
       "      <td>18</td>\n",
       "    </tr>\n",
       "    <tr>\n",
       "      <th>2</th>\n",
       "      <td>Not tasty and the texture was just nasty.</td>\n",
       "      <td>0</td>\n",
       "      <td>41</td>\n",
       "    </tr>\n",
       "    <tr>\n",
       "      <th>5</th>\n",
       "      <td>Now I am getting angry and I want my damn pho.</td>\n",
       "      <td>0</td>\n",
       "      <td>46</td>\n",
       "    </tr>\n",
       "    <tr>\n",
       "      <th>6</th>\n",
       "      <td>Honeslty it didn't taste THAT fresh.)</td>\n",
       "      <td>0</td>\n",
       "      <td>37</td>\n",
       "    </tr>\n",
       "    <tr>\n",
       "      <th>7</th>\n",
       "      <td>The potatoes were like rubber and you could te...</td>\n",
       "      <td>0</td>\n",
       "      <td>111</td>\n",
       "    </tr>\n",
       "    <tr>\n",
       "      <th>...</th>\n",
       "      <td>...</td>\n",
       "      <td>...</td>\n",
       "      <td>...</td>\n",
       "    </tr>\n",
       "    <tr>\n",
       "      <th>995</th>\n",
       "      <td>I think food should have flavor and texture an...</td>\n",
       "      <td>0</td>\n",
       "      <td>66</td>\n",
       "    </tr>\n",
       "    <tr>\n",
       "      <th>996</th>\n",
       "      <td>Appetite instantly gone.</td>\n",
       "      <td>0</td>\n",
       "      <td>24</td>\n",
       "    </tr>\n",
       "    <tr>\n",
       "      <th>997</th>\n",
       "      <td>Overall I was not impressed and would not go b...</td>\n",
       "      <td>0</td>\n",
       "      <td>50</td>\n",
       "    </tr>\n",
       "    <tr>\n",
       "      <th>998</th>\n",
       "      <td>The whole experience was underwhelming, and I ...</td>\n",
       "      <td>0</td>\n",
       "      <td>91</td>\n",
       "    </tr>\n",
       "    <tr>\n",
       "      <th>999</th>\n",
       "      <td>Then, as if I hadn't wasted enough of my life ...</td>\n",
       "      <td>0</td>\n",
       "      <td>134</td>\n",
       "    </tr>\n",
       "  </tbody>\n",
       "</table>\n",
       "<p>500 rows × 3 columns</p>\n",
       "</div>"
      ],
      "text/plain": [
       "                                                Review  sentiment  length\n",
       "1                                   Crust is not good.          0      18\n",
       "2            Not tasty and the texture was just nasty.          0      41\n",
       "5       Now I am getting angry and I want my damn pho.          0      46\n",
       "6                Honeslty it didn't taste THAT fresh.)          0      37\n",
       "7    The potatoes were like rubber and you could te...          0     111\n",
       "..                                                 ...        ...     ...\n",
       "995  I think food should have flavor and texture an...          0      66\n",
       "996                           Appetite instantly gone.          0      24\n",
       "997  Overall I was not impressed and would not go b...          0      50\n",
       "998  The whole experience was underwhelming, and I ...          0      91\n",
       "999  Then, as if I hadn't wasted enough of my life ...          0     134\n",
       "\n",
       "[500 rows x 3 columns]"
      ]
     },
     "execution_count": 657,
     "metadata": {},
     "output_type": "execute_result"
    }
   ],
   "source": [
    "yelp_df_0"
   ]
  },
  {
   "cell_type": "code",
   "execution_count": 658,
   "id": "784af30c",
   "metadata": {},
   "outputs": [],
   "source": [
    "yelp_df_0_1 = pd.concat([yelp_df_0,yelp_df_1])"
   ]
  },
  {
   "cell_type": "code",
   "execution_count": 659,
   "id": "ce010612",
   "metadata": {},
   "outputs": [
    {
     "data": {
      "text/html": [
       "<div>\n",
       "<style scoped>\n",
       "    .dataframe tbody tr th:only-of-type {\n",
       "        vertical-align: middle;\n",
       "    }\n",
       "\n",
       "    .dataframe tbody tr th {\n",
       "        vertical-align: top;\n",
       "    }\n",
       "\n",
       "    .dataframe thead th {\n",
       "        text-align: right;\n",
       "    }\n",
       "</style>\n",
       "<table border=\"1\" class=\"dataframe\">\n",
       "  <thead>\n",
       "    <tr style=\"text-align: right;\">\n",
       "      <th></th>\n",
       "      <th>Review</th>\n",
       "      <th>sentiment</th>\n",
       "      <th>length</th>\n",
       "    </tr>\n",
       "  </thead>\n",
       "  <tbody>\n",
       "    <tr>\n",
       "      <th>1</th>\n",
       "      <td>Crust is not good.</td>\n",
       "      <td>0</td>\n",
       "      <td>18</td>\n",
       "    </tr>\n",
       "    <tr>\n",
       "      <th>2</th>\n",
       "      <td>Not tasty and the texture was just nasty.</td>\n",
       "      <td>0</td>\n",
       "      <td>41</td>\n",
       "    </tr>\n",
       "    <tr>\n",
       "      <th>5</th>\n",
       "      <td>Now I am getting angry and I want my damn pho.</td>\n",
       "      <td>0</td>\n",
       "      <td>46</td>\n",
       "    </tr>\n",
       "    <tr>\n",
       "      <th>6</th>\n",
       "      <td>Honeslty it didn't taste THAT fresh.)</td>\n",
       "      <td>0</td>\n",
       "      <td>37</td>\n",
       "    </tr>\n",
       "    <tr>\n",
       "      <th>7</th>\n",
       "      <td>The potatoes were like rubber and you could te...</td>\n",
       "      <td>0</td>\n",
       "      <td>111</td>\n",
       "    </tr>\n",
       "    <tr>\n",
       "      <th>...</th>\n",
       "      <td>...</td>\n",
       "      <td>...</td>\n",
       "      <td>...</td>\n",
       "    </tr>\n",
       "    <tr>\n",
       "      <th>899</th>\n",
       "      <td>Overall, a great experience.</td>\n",
       "      <td>1</td>\n",
       "      <td>28</td>\n",
       "    </tr>\n",
       "    <tr>\n",
       "      <th>901</th>\n",
       "      <td>Their regular toasted bread was equally satisf...</td>\n",
       "      <td>1</td>\n",
       "      <td>97</td>\n",
       "    </tr>\n",
       "    <tr>\n",
       "      <th>907</th>\n",
       "      <td>The chips and sals a here is amazing!!!!!!!!!!...</td>\n",
       "      <td>1</td>\n",
       "      <td>55</td>\n",
       "    </tr>\n",
       "    <tr>\n",
       "      <th>909</th>\n",
       "      <td>This is my new fav Vegas buffet spot.</td>\n",
       "      <td>1</td>\n",
       "      <td>37</td>\n",
       "    </tr>\n",
       "    <tr>\n",
       "      <th>922</th>\n",
       "      <td>Every time I eat here, I see caring teamwork t...</td>\n",
       "      <td>1</td>\n",
       "      <td>70</td>\n",
       "    </tr>\n",
       "  </tbody>\n",
       "</table>\n",
       "<p>1000 rows × 3 columns</p>\n",
       "</div>"
      ],
      "text/plain": [
       "                                                Review  sentiment  length\n",
       "1                                   Crust is not good.          0      18\n",
       "2            Not tasty and the texture was just nasty.          0      41\n",
       "5       Now I am getting angry and I want my damn pho.          0      46\n",
       "6                Honeslty it didn't taste THAT fresh.)          0      37\n",
       "7    The potatoes were like rubber and you could te...          0     111\n",
       "..                                                 ...        ...     ...\n",
       "899                       Overall, a great experience.          1      28\n",
       "901  Their regular toasted bread was equally satisf...          1      97\n",
       "907  The chips and sals a here is amazing!!!!!!!!!!...          1      55\n",
       "909              This is my new fav Vegas buffet spot.          1      37\n",
       "922  Every time I eat here, I see caring teamwork t...          1      70\n",
       "\n",
       "[1000 rows x 3 columns]"
      ]
     },
     "execution_count": 659,
     "metadata": {},
     "output_type": "execute_result"
    }
   ],
   "source": [
    "yelp_df_0_1"
   ]
  },
  {
   "cell_type": "code",
   "execution_count": 660,
   "id": "b8b21b24",
   "metadata": {},
   "outputs": [
    {
     "data": {
      "image/png": "[encoded data removed]",
      "text/plain": [
       "<Figure size 432x288 with 1 Axes>"
      ]
     },
     "metadata": {
      "needs_background": "light"
     },
     "output_type": "display_data"
    }
   ],
   "source": [
    "plt_sentiment = sns.countplot(x='sentiment', data=yelp_df)\n",
    "plt_sentiment.set_title(\"Sentiment distribution\")\n",
    "plt_sentiment.set_xticklabels(['Negative', 'Positive'])\n",
    "plt.xlabel(\"\");"
   ]
  },
  {
   "cell_type": "markdown",
   "id": "86f45806",
   "metadata": {},
   "source": [
    "# Create Training and testing dataset"
   ]
  },
  {
   "cell_type": "markdown",
   "id": "77038f18",
   "metadata": {},
   "source": [
    "# Removal Punctuation and StopWords"
   ]
  },
  {
   "cell_type": "code",
   "execution_count": 661,
   "id": "95c4a819",
   "metadata": {},
   "outputs": [],
   "source": [
    "def message_cleaning(message):\n",
    "    Test_punc_removed = [char for char in message if char not in string.punctuation]\n",
    "    Test_punc_removed_join = ''.join(Test_punc_removed)\n",
    "    Test_punc_removed_join_clean = [word for word in Test_punc_removed_join.split() if word.lower() not in stopwords.words('english')]\n",
    "    return Test_punc_removed_join_clean"
   ]
  },
  {
   "cell_type": "code",
   "execution_count": 662,
   "id": "3a748d31",
   "metadata": {},
   "outputs": [],
   "source": [
    "class Tokenizer:\n",
    "    def clean(self, text):\n",
    "        no_html = BeautifulSoup(text).get_text()\n",
    "        clean = re.sub(\"[^a-z\\s]+\", \" \", no_html, flags=re.IGNORECASE)\n",
    "        return re.sub(\"(\\s+)\", \" \", clean)\n",
    "\n",
    "    def tokenize(self,message):\n",
    "        clean = self.clean(message).lower()\n",
    "        remove_punctuation = [char for char in message if char not in string.punctuation]\n",
    "        remove_punc_join = ''.join(remove_punctuation)\n",
    "        remove_punc_join_clean = [word for word in remove_punc_join.split() if clean not in stopwords.words('english')]\n",
    "        return remove_punc_join_clean\n",
    "        "
   ]
  },
  {
   "cell_type": "code",
   "execution_count": 663,
   "id": "a5de99ab",
   "metadata": {},
   "outputs": [],
   "source": [
    "yelp_df_clean = yelp_df_0_1['Review'].apply(message_cleaning)"
   ]
  },
  {
   "cell_type": "code",
   "execution_count": 664,
   "id": "acc67e25",
   "metadata": {},
   "outputs": [
    {
     "data": {
      "text/plain": [
       "['Wow', 'Loved', 'place']"
      ]
     },
     "execution_count": 664,
     "metadata": {},
     "output_type": "execute_result"
    }
   ],
   "source": [
    "yelp_df_clean[0]"
   ]
  },
  {
   "cell_type": "code",
   "execution_count": 665,
   "id": "510aead5",
   "metadata": {},
   "outputs": [
    {
     "name": "stdout",
     "output_type": "stream",
     "text": [
      "Wow... Loved this place.\n"
     ]
    }
   ],
   "source": [
    "print(yelp_df_0_1['Review'][0]) # show the original version"
   ]
  },
  {
   "cell_type": "code",
   "execution_count": 666,
   "id": "aacc1c6d",
   "metadata": {},
   "outputs": [],
   "source": [
    "from sklearn.feature_extraction.text import CountVectorizer\n",
    "# Define the cleaning pipeline we defined earlier\n",
    "vectorizer = CountVectorizer(analyzer = message_cleaning)\n",
    "yelp_countvectorizer = vectorizer.fit_transform(yelp_df_0_1['Review'])\n"
   ]
  },
  {
   "cell_type": "code",
   "execution_count": 667,
   "id": "bf0b4ca1",
   "metadata": {},
   "outputs": [
    {
     "name": "stdout",
     "output_type": "stream",
     "text": [
      "['1', '10', '100', '1199', '12', '15', '15lb', '17', '1979', '2', '20', '2007', '23', '3', '30', '30s', '34ths', '35', '4', '40', '400', '40min', '45', '5', '6', '7', '70', '785', '8', '90', 'APPETIZERS', 'AVOID', 'AYCE', 'AZ', 'Albondigas', 'Also', 'Although', 'Always', 'Ambience', 'Ample', 'Anyway', 'Anyways', 'Appetite', 'Area', 'Aria', 'Attack', 'Avoid', 'Awesome', 'Awful', 'BACK', 'BARE', 'BARGAIN', 'BBQ', 'BEST', 'BETTER', 'BITCHES', 'BLAND', 'Baba', 'Bachi', 'Back', 'Bacon', 'Bad', 'Bar', 'Baseball', 'Based', 'Bay', 'Bean', 'Bellagio', 'Best', 'Big', 'Bisque', 'Blah', 'Bland', 'Bloody', 'Bouchon', 'Boy', 'Breeze', 'Brushfire', 'Buffet', 'Buldogis', 'Burger', 'Burrittos', 'Bussell', 'CONCLUSION', 'Caballeros', 'Caesar', 'Café', 'Camelback', 'Cant', 'Cape', 'Carlys', 'Cartel', 'Casino', 'Check', 'Chicken', 'Chinese', 'Chipotle', 'Christmas', 'Cibo', 'Classywarm', 'Cod', 'Coffee', 'Come', 'Coming', 'Company', 'Con', 'Cooked', 'Costcos', 'Cotta', 'Couldnt', 'Crema', 'Crostini', 'Crust', 'Crystals', 'Customer', 'Cute', 'DELICIOUS', 'Damn', 'Def', 'Definitely', 'Del', 'Delicious', 'Delight', 'Dennys', 'Despite', 'Dessert', 'Disappointed', 'Disappointing', 'Dog', 'Dont', 'Dos', 'Drinks', 'Dylan', 'ESTABLISHMENT', 'EVER', 'EXPERIENCE', 'Eclectic', 'Edinburgh', 'Eew', 'Egg', 'Eggplant', 'Elk', 'English', 'Eve', 'Every', 'Everyone', 'Everything', 'Excalibur', 'Experience', 'Extremely', 'FANTASTIC', 'FLAVOR', 'FLY', 'FORWARD', 'FREEZING', 'FS', 'Fantastic', 'Favorite', 'Filet', 'Firehouse', 'First', 'Flower', 'Food', 'Four', 'Francisco', 'Frenchman', 'Fridays', 'Friends', 'Frozen', 'Furthermore', 'GC', 'GO', 'GREAT', 'Ganoush', 'Gave', 'Generous', 'Give', 'Go', 'Gold', 'Good', 'Google', 'Gordon', 'Gourmet', 'Great', 'Greek', 'Green', 'Grill', 'Gringos', 'Gyros', 'HANDS', 'HAPPENED', 'HOUR', 'Ha', 'Halibut', 'Han', 'Hands', 'Hard', 'Hawaiian', 'Heart', 'Heimer', 'Hell', 'Highly', 'Highquality', 'Hiro', 'Honeslty', 'Honestly', 'Hopefully', 'Horrible', 'Host', 'Hot', 'However', 'Hunan', 'Hut', 'INCONSIDERATE', 'Ians', 'Id', 'Ill', 'Im', 'Indian', 'Insults', 'Interesting', 'Ironman', 'Italian', 'Itll', 'Ive', 'Jamaican', 'Japanese', 'Jeff', 'Jenni', 'Joeys', 'Join', 'Kabuki', 'Khao', 'Kids', 'Kind', 'LEGIT', 'LOVED', 'Large', 'Las', 'Last', 'Lastly', 'Left', 'Lemon', 'Level', 'Lobster', 'Long', 'Lordy', 'Love', 'Loved', 'Lox', 'Luke', 'MANAGEMENT', 'MANY', 'MGM', 'MUST', 'Macarons', 'Madison', 'Magazine', 'Magic', 'Main', 'Maine', 'Mandalay', 'Mango', 'Maria', 'Mary', 'May', 'Maybe', 'Mediocre', 'Mediterranean', 'Mellow', 'Mexican', 'Mirage', 'Mmmm', 'Moms', 'Ms', 'Much', 'Mushroom', 'Must', 'NASTY', 'NEVER', 'NONE', 'NYC', 'Nan', 'Nargile', 'Needless', 'Never', 'Nice', 'Nicest', 'Ninja', 'Nobu', 'Noca', 'North', 'Nothing', 'OK', 'OMG', 'OVERPRICED', 'OWNERS', 'Oh', 'Omelets', 'One', 'Ordered', 'Otto', 'Outstanding', 'Overall', 'Overpriced', 'Owners', 'PEOPLE', 'PERFECT', 'Palm', 'Panna', 'Paradise', 'Paying', 'Penne', 'Perfect', 'Perhaps', 'Phenomenal', 'Philadelphia', 'Pho', 'Phoenix', 'Pineapple', 'Pita', 'Pizza', 'Place', 'Plater', 'Please', 'Plus', 'Point', 'Poor', 'Pretty', 'Prices', 'Pricing', 'Probably', 'Pros', 'REAL', 'REALLY', 'RI', 'RUDE', 'Ramseys', 'Really', 'Reasonably', 'Restaurant', 'Rice', 'Rick', 'Risotto', 'Rock', 'Roll', 'Ryans', 'SCREAMS', 'STALE', 'STEP', 'Sadly', 'Salad', 'Salads', 'San', 'Sat', 'Sauce', 'Scottsdale', 'Seafood', 'Seat', 'Seriously', 'Server', 'Service', 'Servicecheck', 'Shop', 'Shrimp', 'Similarly', 'Smashburger', 'Soggy', 'Soi', 'Sooooo', 'Sorry', 'Soups', 'Sour', 'Special', 'Spend', 'Sprouts', 'Standard', 'Stars', 'Steak', 'Steiners', 'Steve', 'Stopped', 'Strike', 'Strip', 'Subway', 'Sun', 'Sunday', 'Sushi', 'TIME', 'TOLD', 'TOTAL', 'TVs', 'Taco', 'Talk', 'Tasted', 'Tasty', 'Terrible', 'Thai', 'Thats', 'Things', 'Third', 'Thoroughly', 'Thumbs', 'Thus', 'Tigerlilly', 'Toast', 'Today', 'Tonight', 'Took', 'Total', 'Tried', 'Try', 'Tucson', 'UNREAL', 'Unfortunately', 'Updatewent', 'Valley', 'Vegas', 'Vegasthere', 'Vegetarian', 'Veggitarian', 'Voodoo', 'WAAAAAAyyyyyyyyyy', 'WASTE', 'WAY', 'WEAK', 'WORST', 'Waited', 'Waiter', 'Waitress', 'Wed', 'Weird', 'Well', 'Went', 'Weve', 'Wienerschnitzel', 'Wife', 'Wonderful', 'Wont', 'Worse', 'Worst', 'Would', 'Wow', 'Yama', 'Yeah', 'Yelpers', 'absolute', 'absolutely', 'absolutley', 'accident', 'accommodations', 'accomodate', 'accordingly', 'accountant', 'ache', 'acknowledged', 'across', 'actual', 'actually', 'added', 'affordable', 'afternoon', 'ago', 'ahead', 'airline', 'airport', 'ala', 'allergy', 'almonds', 'almost', 'alone', 'also', 'although', 'always', 'amazing', 'amazingrge', 'ambiance', 'ambience', 'amount', 'andddd', 'angry', 'another', 'anticipated', 'anymore', 'anyone', 'anything', 'anytime', 'apart', 'apologize', 'apology', 'app', 'appalling', 'apparently', 'appealing', 'appetizer', 'appetizers', 'apple', 'approval', 'area', 'arent', 'arepas', 'around', 'array', 'arrived', 'arrives', 'arriving', 'article', 'ask', 'asked', 'asking', 'assure', 'ate', 'atmosphere', 'atmosphere1', 'atrocious', 'attached', 'attack', 'attention', 'attentive', 'attitudes', 'auju', 'authentic', 'average', 'avocado', 'avoid', 'avoided', 'away', 'awesome', 'awful', 'awkward', 'awkwardly', 'baby', 'back', 'bacon', 'bad', 'bagels', 'bakery', 'baklava', 'ball', 'bamboo', 'banana', 'bank', 'bar', 'barely', 'bars', 'bartender', 'bartenders', 'basically', 'batch', 'bathroom', 'bathrooms', 'batter', 'beans', 'beat', 'beateous', 'beautiful', 'beautifully', 'beauty', 'become', 'beef', 'beensteppedinandtrackedeverywhere', 'beer', 'beers', 'begin', 'behind', 'believe', 'bellies', 'belly', 'besides', 'best', 'better', 'beyond', 'big', 'bigger', 'biggest', 'bill', 'binge', 'bird', 'biscuit', 'biscuits', 'bit', 'bite', 'bites', 'bits', 'black', 'blame', 'bland', 'blandest', 'blanket', 'block', 'bloddy', 'bloodiest', 'blow', 'blown', 'blows', 'blue', 'boba', 'bodes', 'boiled', 'bone', 'booksomethats', 'boot', 'boring', 'bother', 'bottom', 'bought', 'bowl', 'box', 'boxes', 'boy', 'boyfriend', 'boys', 'bread', 'break', 'breakfast', 'breakfastlunch', 'breaks', 'brick', 'bring', 'brings', 'brisket', 'brother', 'brought', 'brownish', 'brunch', 'bruschetta', 'bucks', 'buffet', 'buffets', 'bug', 'building', 'bunch', 'burger', 'burgers', 'burned', 'bus', 'business', 'businesses', 'busy', 'butter', 'buying', 'bye', 'cafe', 'cakeohhh', 'cakes', 'calamari', 'call', 'calligraphy', 'callings', 'came', 'cannoli', 'cannot', 'cant', 'capers', 'car', 'carbs', 'care', 'caring', 'carpaccio', 'cart', 'case', 'cash', 'cashew', 'cashier', 'caterpillar', 'caught', 'cause', 'cavier', 'certainly', 'chai', 'chains', 'changing', 'char', 'charcoal', 'charge', 'charged', 'charming', 'cheap', 'cheated', 'check', 'checked', 'cheek', 'cheese', 'cheeseburger', 'cheesecurds', 'chef', 'chefs', 'chewy', 'chicken', 'chickens', 'chickenwith', 'chip', 'chipolte', 'chips', 'chocolate', 'choose', 'choux', 'chow', 'circumstances', 'claimed', 'class', 'classic', 'classics', 'clean', 'climbing', 'close', 'closed', 'club', 'clue', 'cocktail', 'cocktails', 'coconut', 'coffee', 'cold', 'colder', 'college', 'color', 'combination', 'combo', 'combos', 'come', 'comfortable', 'coming', 'common', 'companions', 'company', 'complain', 'complaints', 'complete', 'completely', 'compliments', 'concept', 'concern', 'condiment', 'connoisseur', 'consider', 'considering', 'consistent', 'constructed', 'contain', 'contained', 'containers', 'continue', 'convenient', 'cook', 'cooked', 'cooking', 'cool', 'corn', 'corporation', 'correct', 'correction', 'cost', 'could', 'couldnt', 'count', 'couple', 'couples', 'coupons', 'course', 'court', 'courteous', 'cover', 'covered', 'covers', 'cow', 'coziness', 'crab', 'cramming', 'cranberrymmmm', 'craving', 'crawfish', 'crazy', 'cream', 'creamy', 'crepe', 'crisp', 'crispy', 'croutons', 'crowd', 'crowds', 'crumby', 'crust', 'crusty', 'crêpe', 'cuisine', 'curry', 'customer', 'customers', 'customize', 'cut', 'cute', 'daily', 'damn', 'dark', 'date', 'dates', 'daughter', 'day', 'dead', 'deal', 'dealing', 'decent', 'decide', 'decided', 'decision', 'decor', 'decorated', 'dedicated', 'deep', 'deeply', 'definately', 'definitely', 'degree', 'delicate', 'delicioso', 'delicious', 'deliciously', 'delight', 'delightful', 'delights', 'delish', 'deliver', 'delivery', 'describing', 'descriptions', 'deserves', 'desired', 'despicable', 'dessert', 'desserts', 'deuchebaggery', 'devine', 'didnt', 'die', 'difference', 'different', 'dime', 'dine', 'dining', 'dinner', 'dinners', 'dipping', 'dirt', 'dirty', 'disagree', 'disappoint', 'disappointed', 'disappointing', 'disappointment', 'disapppointment', 'disaster', 'disbelief', 'discount', 'disgrace', 'disgraceful', 'disgust', 'disgusted', 'disgusting', 'dish', 'dishes', 'dispenser', 'disrespected', 'diverse', 'dog', 'dollars', 'done', 'dont', 'donut', 'door', 'double', 'doubt', 'douchey', 'dough', 'doughy', 'downright', 'downside', 'downtown', 'drag', 'drastically', 'drawing', 'dreamed', 'drenched', 'dressed', 'dressing', 'dried', 'driest', 'drink', 'drinking', 'drinks', 'dripping', 'drive', 'driving', 'dropped', 'drunk', 'dry', 'duck', 'dude', 'due', 'duo', 'dusted', 'easily', 'eat', 'eaten', 'eating', 'edible', 'editing', 'eel', 'efficient', 'effort', 'egg', 'eggplant', 'eggs', 'either', 'elegantly', 'else', 'elsewhere', 'email', 'employee', 'employees', 'empty', 'end', 'ended', 'enjoy', 'enjoyable', 'enjoyed', 'enough', 'ensued', 'enthusiastic', 'entire', 'entrees', 'equally', 'especially', 'establishment', 'etc', 'ethic', 'even', 'evening', 'event', 'events', 'ever', 'every', 'everyone', 'everything', 'exactly', 'exceeding', 'excellent', 'exceptional', 'excuse', 'expanded', 'expect', 'expectations', 'expected', 'expensive', 'experience', 'experienced', 'experiencing', 'expertconnisseur', 'exquisite', 'extensive', 'extra', 'extraordinary', 'extremely', 'eyed', 'eyes', 'fabulous', 'fact', 'fail', 'fails', 'fair', 'fairly', 'falafels', 'falling', 'familiar', 'family', 'famous', 'fan', 'fantastic', 'far', 'fare', 'fast', 'fat', 'fav', 'favor', 'favorite', 'fear', 'feel', 'feeling', 'feels', 'fell', 'fella', 'fellow', 'felt', 'fiancé', 'figured', 'fill', 'fillet', 'filling', 'final', 'finally', 'find', 'fine', 'finger', 'finish', 'fireball', 'first', 'fish', 'five', 'flair', 'flat', 'flatlined', 'flavor', 'flavored', 'flavorful', 'flavorless', 'flavors', 'flavourful', 'flirting', 'flop', 'fluffy', 'fo', 'focused', 'folks', 'fondue', 'food', 'foodand', 'foods', 'foodservice', 'foot', 'forever', 'forgetting', 'forth', 'forty', 'found', 'freaking', 'free', 'fresh', 'fried', 'friend', 'friendly', 'friends', 'fries', 'front', 'frozen', 'fruit', 'frustrated', 'fry', 'fucking', 'full', 'fun', 'funny', 'fuzzy', 'garden', 'garlic', 'gas', 'gave', 'gem', 'generic', 'generous', 'genuinely', 'get', 'gets', 'getting', 'giant', 'girlfriends', 'give', 'given', 'giving', 'glad', 'glance', 'glass', 'glovesEverything', 'gluten', 'go', 'goat', 'godfathers', 'going', 'gold', 'goldencrispy', 'gone', 'good', 'gooodd', 'got', 'gotten', 'grab', 'grandmother', 'gratitude', 'gratuity', 'grease', 'greasy', 'great', 'greatest', 'greedy', 'green', 'greens', 'greeted', 'grill', 'grilled', 'gristle', 'grocery', 'gross', 'grossed', 'ground', 'group', 'groups', 'grow', 'guacamole', 'guess', 'guest', 'guests', 'guy', 'guys', 'gyro', 'gyros', 'hadnt', 'hair', 'half', 'hamburger', 'hand', 'handed', 'handled', 'handling', 'handmade', 'handsdown', 'hankering', 'happened', 'happier', 'happy', 'hard', 'hardest', 'hardly', 'hasnt', 'hate', 'hated', 'haunt', 'havent', 'head', 'heads', 'healthy', 'heard', 'heart', 'hearts', 'heat', 'held', 'hella', 'hello', 'help', 'helped', 'helpful', 'hereas', 'herewhat', 'hes', 'hi', 'high', 'highlight', 'highlighted', 'highlights', 'highly', 'hilarious', 'hip', 'hit', 'hits', 'hole', 'holiday', 'home', 'homemade', 'honest', 'honestly', 'honor', 'hooked', 'hope', 'hopes', 'hoping', 'horrible', 'hospitality', 'hostess', 'hot', 'hottest', 'hour', 'hours', 'house', 'huevos', 'huge', 'human', 'humiliated', 'hummus', 'hungry', 'hurry', 'husband', 'ice', 'iced', 'idea', 'ignore', 'ignored', 'imagination', 'imaginative', 'imagine', 'imagined', 'immediately', 'impeccable', 'impressed', 'impressive', 'inch', 'included', 'including', 'incredible', 'incredibly', 'indicate', 'indoor', 'industry', 'inexpensive', 'inflate', 'informative', 'ingredients', 'inhouse', 'insanely', 'inside', 'inspired', 'instantly', 'instead', 'insulted', 'interesting', 'interior', 'inviting', 'isnt', 'itdefinitely', 'item', 'itfriendly', 'jalapeno', 'jerk', 'jewel', 'job', 'joint', 'joke', 'joy', 'judge', 'judging', 'juice', 'juries', 'kept', 'kiddos', 'kids', 'killer', 'kind', 'kitchen', 'know', 'known', 'lack', 'lacked', 'lacking', 'ladies', 'lady', 'large', 'largely', 'larger', 'last', 'late', 'later', 'latte', 'law', 'lawyers', 'least', 'leather', 'leave', 'leaves', 'left', 'leftover', 'legit', 'legs', 'less', 'let', 'letdown', 'lets', 'letting', 'lettuce', 'life', 'light', 'lighter', 'lighting', 'lightly', 'like', 'liked', 'likes', 'liking', 'lil', 'limited', 'list', 'listed', 'literally', 'little', 'live', 'lived', 'living', 'located', 'location', 'long', 'longer', 'look', 'looked', 'looking', 'looks', 'lost', 'lot', 'lots', 'loudly', 'love', 'loved', 'lovely', 'lover', 'lovers', 'loves', 'loving', 'low', 'lowkey', 'loyal', 'luck', 'lukewarm', 'lunch', 'mac', 'made', 'madhouse', 'mains', 'maintaining', 'make', 'making', 'mall', 'man', 'managed', 'management', 'manager', 'many', 'margaritas', 'market', 'marrow', 'martini', 'marys', 'massive', 'may', 'maybe', 'mayo', 'mayowell', 'meBunch', 'meal', 'meals', 'mean', 'means', 'meat', 'meatballs', 'meatloaf', 'meats', 'mediocre', 'medium', 'meet', 'meeverything', 'meh', 'mein', 'melt', 'melted', 'memory', 'mention', 'menu', 'menus', 'mesquite', 'mess', 'metro', 'mid', 'middle', 'might', 'mile', 'military', 'milk', 'milkshake', 'min', 'mind', 'minutes', 'miss', 'missed', 'missing', 'mistake', 'mixed', 'modern', 'moist', 'mojitos', 'mom', 'money', 'monster', 'months', 'mood', 'moods', 'mortified', 'mostly', 'mouth', 'mouthful', 'mouths', 'movies', 'moz', 'mozzarella', 'much', 'muffin', 'multigrain', 'multiple', 'mushrooms', 'music', 'mussels', 'must', 'muststop', 'naan', 'nachos', 'name', 'nasty', 'nay', 'nearly', 'neat', 'need', 'needed', 'needs', 'negligent', 'neighborhood', 'neither', 'never', 'new', 'next', 'nice', 'nicest', 'night', 'nigiri', 'noncustomer', 'none', 'nonfancy', 'noodles', 'note', 'nothing', 'nude', 'number', 'nut', 'nutshell', 'obviously', 'occasional', 'occasions', 'offered', 'offers', 'officially', 'oh', 'oil', 'ok', 'old', 'older', 'olives', 'one', 'ones', 'onion', 'opened', 'operation', 'opinion', 'opportunity', 'opposed', 'options', 'order', 'ordered', 'ordering', 'orders', 'original', 'others', 'otherwise', 'outdoor', 'outrageously', 'outshining', 'outside', 'outstanding', 'outta', 'oven', 'overall', 'overcooked', 'overhaul', 'overhip', 'overpriced', 'overwhelm', 'overwhelmed', 'owned', 'owner', 'ownerchef', 'owners', 'oysters', 'pace', 'pack', 'packed', 'paid', 'palate', 'pale', 'pan', 'pancake', 'pancakes', 'paper', 'papers', 'par', 'parents', 'part', 'particular', 'parties', 'party', 'passed', 'past', 'pasta', 'pastas', 'pastry', 'patio', 'patron', 'pats', 'patty', 'pay', 'peach', 'peanut', 'peanuts', 'pears', 'peas', 'pecan', 'people', 'pepper', 'pepperand', 'perfect', 'perfection', 'perfectly', 'performed', 'perpared', 'person', 'personable', 'personally', 'petrified', 'petty', 'pho', 'piano', 'picture', 'pictures', 'piece', 'pile', 'pine', 'pink', 'pissd', 'pita', 'pizza', 'pizzas', 'place', 'placed', 'places', 'plain', 'plantains', 'plastic', 'plate', 'platter', 'play', 'playing', 'pleasant', 'please', 'pleased', 'pleasure', 'plethora', 'plus', 'pneumatic', 'point', 'poisoning', 'polite', 'poop', 'poor', 'poorly', 'pop', 'pork', 'portion', 'portions', 'positive', 'possible', 'postinos', 'potato', 'potatoes', 'poured', 'powdered', 'power', 'prefer', 'prepare', 'prepared', 'preparing', 'presentation', 'pretty', 'prettyoff', 'price', 'priced', 'prices', 'pricey', 'pricing', 'prime', 'privileged', 'probably', 'problem', 'proclaimed', 'professional', 'profiterole', 'profound', 'promise', 'prompt', 'promptly', 'properly', 'proven', 'provided', 'provides', 'providing', 'pub', 'public', 'publicly', 'pucks', 'pulled', 'pumpkin', 'puree', 'puréed', 'put', 'putting', 'quaint', 'qualified', 'quality', 'quantity', 'quick', 'quickly', 'quit', 'quite', 'ranch', 'rancheros', 'rapidly', 'rare', 'rarely', 'raspberry', 'rate', 'rated', 'rather', 'rating', 'ratio', 'rave', 'raving', 'ravoli', 'read', 'readers', 'reading', 'real', 'realized', 'really', 'reason', 'reasonable', 'reasonably', 'reasons', 'recall', 'received', 'receives', 'recent', 'recently', 'recommend', 'recommendation', 'recommended', 'recommending', 'red', 'redeeming', 'reduction', 'refill', 'refrained', 'refreshing', 'refried', 'refused', 'register', 'regular', 'regularly', 'reheated', 'relationship', 'relax', 'relaxed', 'relleno', 'relocated', 'remember', 'reminded', 'reminds', 'replenished', 'requested', 'reservation', 'rest', 'restaraunt', 'restaurant', 'restaurants', 'return', 'returned', 'returning', 'review', 'reviewer', 'reviewing', 'reviews', 'revisiting', 'rib', 'ribeye', 'rice', 'rich', 'ridiculous', 'right', 'rightthe', 'rings', 'rinse', 'ripped', 'roast', 'roasted', 'rolled', 'rolls', 'room', 'rotating', 'round', 'rowdy', 'rubber', 'rude', 'rudely', 'running', 'rushed', 'sad', 'saffron', 'saganaki', 'said', 'salad', 'salads', 'salmon', 'sals', 'salsa', 'salt', 'salty', 'sample', 'sandwich', 'sandwiches', 'sangria', 'sashimi', 'sat', 'satifying', 'satisfied', 'satisfying', 'sauce', 'sauces', 'sause', 'saving', 'say', 'saying', 'says', 'scallop', 'scene', 'screwed', 'seafood', 'seal', 'seasonal', 'seasoned', 'seasoning', 'seated', 'seating', 'second', 'section', 'see', 'seemed', 'seems', 'seen', 'selection', 'selections', 'self', 'send', 'sense', 'sergeant', 'seriously', 'serivce', 'serve', 'served', 'server', 'servers', 'serves', 'service', 'services', 'serving', 'set', 'setting', 'sever', 'several', 'sewer', 'sexy', 'shall', 'sharply', 'shawarrrrrrma', 'shirt', 'shocked', 'shoe', 'shoots', 'shopping', 'shops', 'short', 'shots', 'shouldnt', 'show', 'showed', 'shower', 'shrimp', 'sick', 'side', 'sides', 'sign', 'signs', 'silently', 'similar', 'simple', 'simply', 'since', 'single', 'sitdown', 'sitting', 'six', 'skimp', 'slaw', 'sliced', 'slices', 'slow', 'small', 'smaller', 'smeared', 'smelled', 'smells', 'smoke', 'smooth', 'smoothies', 'soggy', 'solid', 'solidify', 'somehow', 'someone', 'something', 'somewhat', 'son', 'songs', 'soon', 'soooo', 'soooooo', 'sore', 'sorely', 'sound', 'soundtrack', 'soup', 'southwest', 'space', 'spaghetti', 'special', 'specialand', 'specials', 'speedy', 'spends', 'spice', 'spices', 'spicier', 'spicy', 'spinach', 'sporting', 'spot', 'spots', 'spotty', 'spring', 'staff', 'stale', 'star', 'stars', 'started', 'starving', 'station', 'stay', 'stayed', 'staying', 'steak', 'steakhouse', 'steaks', 'stepped', 'sticks', 'still', 'stinks', 'stir', 'stomach', 'stood', 'stop', 'store', 'strange', 'strangers', 'strawberry', 'street', 'stretch', 'strings', 'strip', 'struck', 'struggle', 'stuff', 'stuffed', 'stupid', 'style', 'styrofoam', 'sub', 'subpar', 'succulent', 'suck', 'sucked', 'sucker', 'sucks', 'suffers', 'sugar', 'sugary', 'suggest', 'suggestions', 'summarize', 'summary', 'summer', 'sunglasses', 'super', 'supposed', 'sure', 'surprise', 'surprised', 'sushi', 'sweet', 'swung', 'table', 'tables', 'taco', 'tacos', 'tailored', 'take', 'takeout', 'talk', 'talking', 'tap', 'tapas', 'tartar', 'tartare', 'taste', 'tasted', 'tasteless', 'tastings', 'tasty', 'tater', 'tea', 'teamwork', 'teeth', 'tell', 'tempI', 'ten', 'tender', 'tenders', 'tepid', 'terrible', 'terrific', 'texture', 'thanks', 'thats', 'theft', 'theyd', 'theyre', 'thick', 'thin', 'thing', 'things', 'think', 'thinking', 'thinly', 'third', 'thirty', 'though', 'thought', 'three', 'thrilled', 'thru', 'thumbs', 'time', 'times', 'tiny', 'tip', 'tiramisu', 'toasted', 'today', 'together', 'togo', 'told', 'tolerance', 'tomato', 'tongue', 'took', 'top', 'topic', 'tops', 'topvery', 'toro', 'totally', 'tots', 'touch', 'touched', 'tough', 'towards', 'town', 'traditional', 'tragedy', 'transcendant', 'trap', 'treat', 'treated', 'tribute', 'tried', 'trimmed', 'trip', 'trippy', 'trips', 'truffle', 'truly', 'try', 'trying', 'tummy', 'tuna', 'turkey', 'turn', 'twice', 'two', 'typical', 'unbelievable', 'unbelievably', 'undercooked', 'underservices', 'understand', 'underwhelming', 'unexperienced', 'unfortunately', 'unhealthy', 'uninspired', 'unique', 'unless', 'unprofessional', 'unsatisfying', 'untoasted', 'unwelcome', 'unwrapped', 'upgrading', 'uploaded', 'upway', 'us', 'use', 'used', 'usual', 'vacant', 'vain', 'value', 'vanilla', 'veal', 'veganveggie', 'vegetables', 'vegetarian', 'velvet', 'ventilation', 'venture', 'venturing', 'venue', 'verge', 'version', 'via', 'vibe', 'vinaigrette', 'vinegrette', 'violinists', 'visit', 'visited', 'vodka', 'vomited', 'voted', 'wagyu', 'wait', 'waited', 'waiter', 'waiting', 'waitress', 'waitresses', 'walked', 'wall', 'walls', 'want', 'wanted', 'wants', 'warm', 'warmer', 'warnings', 'wash', 'wasnt', 'waste', 'wasted', 'wasting', 'watch', 'watched', 'water', 'watered', 'wave', 'way', 'ways', 'wayyy', 'website', 'wedges', 'week', 'weekend', 'weekly', 'welcome', 'well', 'went', 'werent', 'whatsoever', 'whenever', 'whether', 'white', 'whole', 'wide', 'wife', 'wildly', 'wine', 'wines', 'wings', 'winner', 'wire', 'wish', 'without', 'witnessed', 'wonderful', 'wont', 'wontons', 'word', 'words', 'work', 'worker', 'workers', 'workingeating', 'works', 'world', 'worlds', 'worries', 'worse', 'worst', 'worstannoying', 'worth', 'would', 'wouldnt', 'wouldve', 'wound', 'wow', 'wrap', 'wrapped', 'writing', 'wrong', 'yaall', 'yay', 'year', 'years', 'yellow', 'yellowtail', 'yet', 'youd', 'youll', 'youre', 'yucky', 'yukon', 'yum', 'yummy', 'zero']\n"
     ]
    }
   ],
   "source": [
    "print(vectorizer.get_feature_names())"
   ]
  },
  {
   "cell_type": "code",
   "execution_count": 668,
   "id": "9f361170",
   "metadata": {},
   "outputs": [
    {
     "name": "stdout",
     "output_type": "stream",
     "text": [
      "[[0 0 0 ... 0 0 0]\n",
      " [0 0 0 ... 0 0 0]\n",
      " [0 0 0 ... 0 0 0]\n",
      " ...\n",
      " [0 0 0 ... 0 0 0]\n",
      " [0 0 0 ... 0 0 0]\n",
      " [0 0 0 ... 0 0 0]]\n"
     ]
    }
   ],
   "source": [
    "print(yelp_countvectorizer.toarray())  "
   ]
  },
  {
   "cell_type": "code",
   "execution_count": 669,
   "id": "c3338820",
   "metadata": {},
   "outputs": [
    {
     "data": {
      "text/plain": [
       "(1000, 2160)"
      ]
     },
     "execution_count": 669,
     "metadata": {},
     "output_type": "execute_result"
    }
   ],
   "source": [
    "yelp_countvectorizer.shape"
   ]
  },
  {
   "cell_type": "markdown",
   "id": "a6bca13b",
   "metadata": {},
   "source": [
    "# Training the Model"
   ]
  },
  {
   "cell_type": "code",
   "execution_count": 670,
   "id": "12b0177c",
   "metadata": {},
   "outputs": [],
   "source": [
    "from sklearn.model_selection import train_test_split\n",
    "import numpy as np\n",
    "\n",
    "X = yelp_countvectorizer\n",
    "y = yelp_df_0_1['sentiment'].values"
   ]
  },
  {
   "cell_type": "code",
   "execution_count": 671,
   "id": "a87d59f2",
   "metadata": {
    "scrolled": true
   },
   "outputs": [
    {
     "data": {
      "text/plain": [
       "<1000x2160 sparse matrix of type '<class 'numpy.int64'>'\n",
       "\twith 5606 stored elements in Compressed Sparse Row format>"
      ]
     },
     "execution_count": 671,
     "metadata": {},
     "output_type": "execute_result"
    }
   ],
   "source": [
    "X"
   ]
  },
  {
   "cell_type": "code",
   "execution_count": 672,
   "id": "1ab40259",
   "metadata": {},
   "outputs": [
    {
     "data": {
      "text/plain": [
       "array([0, 0, 0, 0, 0, 0, 0, 0, 0, 0, 0, 0, 0, 0, 0, 0, 0, 0, 0, 0, 0, 0,\n",
       "       0, 0, 0, 0, 0, 0, 0, 0, 0, 0, 0, 0, 0, 0, 0, 0, 0, 0, 0, 0, 0, 0,\n",
       "       0, 0, 0, 0, 0, 0, 0, 0, 0, 0, 0, 0, 0, 0, 0, 0, 0, 0, 0, 0, 0, 0,\n",
       "       0, 0, 0, 0, 0, 0, 0, 0, 0, 0, 0, 0, 0, 0, 0, 0, 0, 0, 0, 0, 0, 0,\n",
       "       0, 0, 0, 0, 0, 0, 0, 0, 0, 0, 0, 0, 0, 0, 0, 0, 0, 0, 0, 0, 0, 0,\n",
       "       0, 0, 0, 0, 0, 0, 0, 0, 0, 0, 0, 0, 0, 0, 0, 0, 0, 0, 0, 0, 0, 0,\n",
       "       0, 0, 0, 0, 0, 0, 0, 0, 0, 0, 0, 0, 0, 0, 0, 0, 0, 0, 0, 0, 0, 0,\n",
       "       0, 0, 0, 0, 0, 0, 0, 0, 0, 0, 0, 0, 0, 0, 0, 0, 0, 0, 0, 0, 0, 0,\n",
       "       0, 0, 0, 0, 0, 0, 0, 0, 0, 0, 0, 0, 0, 0, 0, 0, 0, 0, 0, 0, 0, 0,\n",
       "       0, 0, 0, 0, 0, 0, 0, 0, 0, 0, 0, 0, 0, 0, 0, 0, 0, 0, 0, 0, 0, 0,\n",
       "       0, 0, 0, 0, 0, 0, 0, 0, 0, 0, 0, 0, 0, 0, 0, 0, 0, 0, 0, 0, 0, 0,\n",
       "       0, 0, 0, 0, 0, 0, 0, 0, 0, 0, 0, 0, 0, 0, 0, 0, 0, 0, 0, 0, 0, 0,\n",
       "       0, 0, 0, 0, 0, 0, 0, 0, 0, 0, 0, 0, 0, 0, 0, 0, 0, 0, 0, 0, 0, 0,\n",
       "       0, 0, 0, 0, 0, 0, 0, 0, 0, 0, 0, 0, 0, 0, 0, 0, 0, 0, 0, 0, 0, 0,\n",
       "       0, 0, 0, 0, 0, 0, 0, 0, 0, 0, 0, 0, 0, 0, 0, 0, 0, 0, 0, 0, 0, 0,\n",
       "       0, 0, 0, 0, 0, 0, 0, 0, 0, 0, 0, 0, 0, 0, 0, 0, 0, 0, 0, 0, 0, 0,\n",
       "       0, 0, 0, 0, 0, 0, 0, 0, 0, 0, 0, 0, 0, 0, 0, 0, 0, 0, 0, 0, 0, 0,\n",
       "       0, 0, 0, 0, 0, 0, 0, 0, 0, 0, 0, 0, 0, 0, 0, 0, 0, 0, 0, 0, 0, 0,\n",
       "       0, 0, 0, 0, 0, 0, 0, 0, 0, 0, 0, 0, 0, 0, 0, 0, 0, 0, 0, 0, 0, 0,\n",
       "       0, 0, 0, 0, 0, 0, 0, 0, 0, 0, 0, 0, 0, 0, 0, 0, 0, 0, 0, 0, 0, 0,\n",
       "       0, 0, 0, 0, 0, 0, 0, 0, 0, 0, 0, 0, 0, 0, 0, 0, 0, 0, 0, 0, 0, 0,\n",
       "       0, 0, 0, 0, 0, 0, 0, 0, 0, 0, 0, 0, 0, 0, 0, 0, 0, 0, 0, 0, 0, 0,\n",
       "       0, 0, 0, 0, 0, 0, 0, 0, 0, 0, 0, 0, 0, 0, 0, 0, 1, 1, 1, 1, 1, 1,\n",
       "       1, 1, 1, 1, 1, 1, 1, 1, 1, 1, 1, 1, 1, 1, 1, 1, 1, 1, 1, 1, 1, 1,\n",
       "       1, 1, 1, 1, 1, 1, 1, 1, 1, 1, 1, 1, 1, 1, 1, 1, 1, 1, 1, 1, 1, 1,\n",
       "       1, 1, 1, 1, 1, 1, 1, 1, 1, 1, 1, 1, 1, 1, 1, 1, 1, 1, 1, 1, 1, 1,\n",
       "       1, 1, 1, 1, 1, 1, 1, 1, 1, 1, 1, 1, 1, 1, 1, 1, 1, 1, 1, 1, 1, 1,\n",
       "       1, 1, 1, 1, 1, 1, 1, 1, 1, 1, 1, 1, 1, 1, 1, 1, 1, 1, 1, 1, 1, 1,\n",
       "       1, 1, 1, 1, 1, 1, 1, 1, 1, 1, 1, 1, 1, 1, 1, 1, 1, 1, 1, 1, 1, 1,\n",
       "       1, 1, 1, 1, 1, 1, 1, 1, 1, 1, 1, 1, 1, 1, 1, 1, 1, 1, 1, 1, 1, 1,\n",
       "       1, 1, 1, 1, 1, 1, 1, 1, 1, 1, 1, 1, 1, 1, 1, 1, 1, 1, 1, 1, 1, 1,\n",
       "       1, 1, 1, 1, 1, 1, 1, 1, 1, 1, 1, 1, 1, 1, 1, 1, 1, 1, 1, 1, 1, 1,\n",
       "       1, 1, 1, 1, 1, 1, 1, 1, 1, 1, 1, 1, 1, 1, 1, 1, 1, 1, 1, 1, 1, 1,\n",
       "       1, 1, 1, 1, 1, 1, 1, 1, 1, 1, 1, 1, 1, 1, 1, 1, 1, 1, 1, 1, 1, 1,\n",
       "       1, 1, 1, 1, 1, 1, 1, 1, 1, 1, 1, 1, 1, 1, 1, 1, 1, 1, 1, 1, 1, 1,\n",
       "       1, 1, 1, 1, 1, 1, 1, 1, 1, 1, 1, 1, 1, 1, 1, 1, 1, 1, 1, 1, 1, 1,\n",
       "       1, 1, 1, 1, 1, 1, 1, 1, 1, 1, 1, 1, 1, 1, 1, 1, 1, 1, 1, 1, 1, 1,\n",
       "       1, 1, 1, 1, 1, 1, 1, 1, 1, 1, 1, 1, 1, 1, 1, 1, 1, 1, 1, 1, 1, 1,\n",
       "       1, 1, 1, 1, 1, 1, 1, 1, 1, 1, 1, 1, 1, 1, 1, 1, 1, 1, 1, 1, 1, 1,\n",
       "       1, 1, 1, 1, 1, 1, 1, 1, 1, 1, 1, 1, 1, 1, 1, 1, 1, 1, 1, 1, 1, 1,\n",
       "       1, 1, 1, 1, 1, 1, 1, 1, 1, 1, 1, 1, 1, 1, 1, 1, 1, 1, 1, 1, 1, 1,\n",
       "       1, 1, 1, 1, 1, 1, 1, 1, 1, 1, 1, 1, 1, 1, 1, 1, 1, 1, 1, 1, 1, 1,\n",
       "       1, 1, 1, 1, 1, 1, 1, 1, 1, 1, 1, 1, 1, 1, 1, 1, 1, 1, 1, 1, 1, 1,\n",
       "       1, 1, 1, 1, 1, 1, 1, 1, 1, 1, 1, 1, 1, 1, 1, 1, 1, 1, 1, 1, 1, 1,\n",
       "       1, 1, 1, 1, 1, 1, 1, 1, 1, 1, 1, 1, 1, 1, 1, 1, 1, 1, 1, 1, 1, 1,\n",
       "       1, 1, 1, 1, 1, 1, 1, 1, 1, 1], dtype=int64)"
      ]
     },
     "execution_count": 672,
     "metadata": {},
     "output_type": "execute_result"
    }
   ],
   "source": [
    "y"
   ]
  },
  {
   "cell_type": "code",
   "execution_count": 673,
   "id": "69bddf72",
   "metadata": {},
   "outputs": [],
   "source": [
    "text = \" \".join(review for review in yelp_df.Review)"
   ]
  },
  {
   "cell_type": "code",
   "execution_count": 674,
   "id": "9633c5fa",
   "metadata": {},
   "outputs": [
    {
     "data": {
      "text/plain": [
       "'Wow... Loved this place. Crust is not good. Not tasty and the texture was just nasty. Stopped by during the late May bank holiday off Rick Steve recommendation and loved it. The selection on the menu was great and so were the prices. Now I am getting angry and I want my damn pho. Honeslty it didn\\'t taste THAT fresh.) The potatoes were like rubber and you could tell they had been made up ahead of time being kept under a warmer. The fries were great too. A great touch. Service was very prompt. Would not go back. The cashier had no care what so ever on what I had to say it still ended up being wayyy overpriced. I tried the Cape Cod ravoli, chicken,with cranberry...mmmm! I was disgusted because I was pretty sure that was human hair. I was shocked because no signs indicate cash only. Highly recommended. Waitress was a little slow in service. This place is not worth your time, let alone Vegas. did not like at all. The Burrittos Blah! The food, amazing. Service is also cute. I could care less... The interior is just beautiful. So they performed. That\\'s right....the red velvet cake.....ohhh this stuff is so good. - They never brought a salad we asked for. This hole in the wall has great Mexican street tacos, and friendly staff. Took an hour to get our food only 4 tables in restaurant my food was Luke warm, Our sever was running around like he was totally overwhelmed. The worst was the salmon sashimi. Also there are combos like a burger, fries, and beer for 23 which is a decent deal. This was like the final blow! I found this place by accident and I could not be happier. seems like a good quick place to grab a bite of some familiar pub food, but do yourself a favor and look elsewhere. Overall, I like this place a lot. The only redeeming quality of the restaurant was that it was very inexpensive. Ample portions and good prices. Poor service, the waiter made me feel like I was stupid every time he came to the table. My first visit to Hiro was a delight! Service sucks. The shrimp tender and moist. There is not a deal good enough that would drag me into that establishment again. Hard to judge whether these sides were good because we were grossed out by the melted styrofoam and didn\\'t want to eat it for fear of getting sick. On a positive note, our server was very attentive and provided great service. Frozen pucks of disgust, with some of the worst people behind the register. The only thing I did like was the prime rib and dessert section. It\\'s too bad the food is so damn generic. The burger is good beef, cooked just right. If you want a sandwich just go to any Firehouse!!!!! My side Greek salad with the Greek dressing was so tasty, and the pita and hummus was very refreshing. We ordered the duck rare and it was pink and tender on the inside with a nice char on the outside. He came running after us when he realized my husband had left his sunglasses on the table. Their chow mein is so good! They have horrible attitudes towards customers, and talk down to each one when customers don\\'t enjoy their food. The portion was huge! Loved it...friendly servers, great food, wonderful and imaginative menu. The Heart Attack Grill in downtown Vegas is an absolutely flat-lined excuse for a restaurant. Not much seafood and like 5 strings of pasta at the bottom. The salad had just the right amount of sauce to not over power the scallop, which was perfectly cooked. The ripped banana was not only ripped, but petrified and tasteless. At least think to refill my water before I struggle to wave you over for 10 minutes. This place receives stars for their APPETIZERS!!! The cocktails are all handmade and delicious. We\\'d definitely go back here again. We are so glad we found this place. Great food and service, huge portions and they give a military discount. Always a great time at Dos Gringos! Update.....went back for a second time and it was still just as amazing We got the food and apparently they have never heard of salt and the batter on the fish was chewy. A great way to finish a great. The deal included 5 tastings and 2 drinks, and Jeff went above and beyond what we expected. - Really, really good rice, all the time. The service was meh. It took over 30 min to get their milkshake, which was nothing more than chocolate milk. I guess I should have known that this place would suck, because it is inside of the Excalibur, but I didn\\'t use my common sense. The scallop dish is quite appalling for value as well. 2 times - Very Bad Customer Service ! The sweet potato fries were very good and seasoned well. Today is the second time I\\'ve been to their lunch buffet and it was pretty good. There is so much good food in Vegas that I feel cheated for wasting an eating opportunity by going to Rice and Company. Coming here is like experiencing an underwhelming relationship where both parties can\\'t wait for the other person to ask to break up. walked in and the place smelled like an old grease trap and only 2 others there eating. The turkey and roast beef were bland. This place has it! The pan cakes everyone are raving about taste like a sugary disaster tailored to the palate of a six year old. I love the Pho and the spring rolls oh so yummy you have to try. The poor batter to meat ratio made the chicken tenders very unsatisfying. All I have to say is the food was amazing!!! Omelets are to die for! Everything was fresh and delicious! In summary, this was a largely disappointing dining experience. It\\'s like a really sexy party in your mouth, where you\\'re outrageously flirting with the hottest person at the party. Never been to Hard Rock Casino before, WILL NEVER EVER STEP FORWARD IN IT AGAIN! Best breakfast buffet!!! say bye bye to your tip lady! We\\'ll never go again. Will be back again! Food arrived quickly! It was not good. On the up side, their cafe serves really good food. Our server was fantastic and when he found out the wife loves roasted garlic and bone marrow, he added extra to our meal and another marrow to go! The only good thing was our waiter, he was very helpful and kept the bloddy mary\\'s coming. Best Buffet in town, for the price you cannot beat it. I LOVED their mussels cooked in this wine reduction, the duck was tender, and their potato dishes were delicious. This is one of the better buffets that I have been to. So we went to Tigerlilly and had a fantastic afternoon! The food was delicious, our bartender was attentive and personable AND we got a great deal! The ambience is wonderful and there is music playing. Will go back next trip out. Sooooo good!! REAL sushi lovers, let\\'s be honest - Yama is not that good. At least 40min passed in between us ordering and the food arriving, and it wasn\\'t that busy. This is a really fantastic Thai restaurant which is definitely worth a visit. Nice, spicy and tender. Good prices. Check it out. It was pretty gross! I\\'ve had better atmosphere. Kind of hard to mess up a steak but they did. Although I very much liked the look and sound of this place, the actual experience was a bit disappointing. I just don\\'t know how this place managed to served the blandest food I have ever eaten when they are preparing Indian cuisine. Worst service to boot, but that is the least of their worries. Service was fine and the waitress was friendly. The guys all had steaks, and our steak loving son who has had steak at the best and worst places said it was the best steak he\\'s ever eaten. We thought you\\'d have to venture further away to get good sushi, but this place really hit the spot that night. Host staff were, for lack of a better word, BITCHES! Bland... Not a liking this place for a number of reasons and I don\\'t want to waste time on bad reviewing.. I\\'ll leave it at that... Phenomenal food, service and ambiance. I wouldn\\'t return. Definitely worth venturing off the strip for the pork belly, will return next time I\\'m in Vegas. This place is way too overpriced for mediocre food. Penne vodka excellent! They have a good selection of food including a massive meatloaf sandwich, a crispy chicken wrap, a delish tuna melt and some tasty burgers. The management is rude. Delicious NYC bagels, good selections of cream cheese, real Lox with capers even. Great Subway, in fact it\\'s so good when you come here every other Subway will not meet your expectations. I had a seriously solid breakfast here. This is one of the best bars with food in Vegas. He was extremely rude and really, there are so many other restaurants I would love to dine at during a weekend in Vegas. My drink was never empty and he made some really great menu suggestions. Don\\'t do it!!!! The waiter wasn\\'t helpful or friendly and rarely checked on us. My husband and I ate lunch here and were very disappointed with the food and service. And the red curry had so much bamboo shoots and wasn\\'t very tasty to me. Nice blanket of moz over top but i feel like this was done to cover up the subpar food. The bathrooms are clean and the place itself is well decorated. The menu is always changing, food quality is going down & service is extremely slow. The service was a little slow , considering that were served by 3 people servers so the food was coming in a slow pace. I give it 2 thumbs down We watched our waiter pay a lot more attention to other tables and ignore us. My fiancé and I came in the middle of the day and we were greeted and seated right away. This is a great restaurant at the Mandalay Bay. We waited for forty five minutes in vain. Crostini that came with the salad was stale. Some highlights : Great quality nigiri here! the staff is friendly and the joint is always clean. this was a different cut than the piece the other day but still wonderful and tender s well as well flavored. I ordered the Voodoo pasta and it was the first time I\\'d had really excellent pasta since going gluten free several years ago. this place is good. Unfortunately, we must have hit the bakery on leftover day because everything we ordered was STALE. I came back today since they relocated and still not impressed. I was seated immediately. Their menu is diverse, and reasonably priced. Avoid at all cost! Restaurant is always full but never a wait. DELICIOUS!! This place is hands-down one of the best places to eat in the Phoenix metro area. So don\\'t go there if you are looking for good food... I\\'ve never been treated so bad. Bacon is hella salty. We also ordered the spinach and avocado salad; the ingredients were sad and the dressing literally had zero taste. This really is how Vegas fine dining used to be, right down to the menus handed to the ladies that have no prices listed. The waitresses are very friendly. Lordy, the Khao Soi is a dish that is not to be missed for curry lovers! Everything on the menu is terrific and we were also thrilled that they made amazing accommodations for our vegetarian daughter. Perhaps I caught them on an off night judging by the other reviews, but I\\'m not inspired to go back. The service here leaves a lot to be desired. The atmosphere is modern and hip, while maintaining a touch of coziness. Not a weekly haunt, but definitely a place to come back to every once in a while. We literally sat there for 20 minutes with no one asking to take our order. The burger had absolutely no flavor - the meat itself was totally bland, the burger was overcooked and there was no charcoal flavor. I also decided not to send it back because our waitress looked like she was on the verge of having a heart attack. I dressed up to be treated so rudely! It was probably dirt. Love this place, hits the spot when I want something healthy but not lacking in quantity or flavor. I ordered the Lemon raspberry ice cocktail which was also incredible. The food sucked, which we expected but it sucked more than we could have imagined. Interesting decor. What I really like there is the crepe station. Also were served hot bread and butter, and home made potato chips with bacon bits on top....very original and very good. you can watch them preparing the delicious food!) Both of the egg rolls were fantastic. When my order arrived, one of the gyros was missing. I had a salad with the wings, and some ice cream for dessert and left feeling quite satisfied. I\\'m not really sure how Joey\\'s was voted best hot dog in the Valley by readers of Phoenix Magazine. The best place to go for a tasty bowl of Pho! The live music on Fridays totally blows. I\\'ve never been more insulted or felt disrespected. Very friendly staff. It is worth the drive. I had heard good things about this place, but it exceeding every hope I could have dreamed of. Food was great and so was the serivce! The warm beer didn\\'t help. Great brunch spot. Service is friendly and inviting. Very good lunch spot. I\\'ve lived here since 1979 and this was the first (and last) time I\\'ve stepped foot into this place. The WORST EXPERIENCE EVER. Must have been an off night at this place. The sides are delish - mixed mushrooms, yukon gold puree, white corn - beateous. If that bug never showed up I would have given a 4 for sure, but on the other side of the wall where this bug was climbing was the kitchen. For about 10 minutes, we we\\'re waiting for her salad when we realized that it wasn\\'t coming any time soon. My friend loved the salmon tartar. Won\\'t go back. Extremely Tasty! Waitress was good though! Soggy and not good. The Jamaican mojitos are delicious. Which are small and not worth the price. - the food is rich so order accordingly. The shower area is outside so you can only rinse, not take a full shower, unless you don\\'t mind being nude for everyone to see! The service was a bit lacking. Lobster Bisque, Bussell Sprouts, Risotto, Filet ALL needed salt and pepper..and of course there is none at the tables. Hopefully this bodes for them going out of business and someone who can cook can come in. It was either too cold, not enough flavor or just bad. I loved the bacon wrapped dates. This is an unbelievable BARGAIN! The folks at Otto always make us feel so welcome and special. As for the \"mains,\" also uninspired. This is the place where I first had pho and it was amazing!! This wonderful experience made this place a must-stop whenever we are in town again. If the food isn\\'t bad enough for you, then enjoy dealing with the world\\'s worst/annoying drunk people. Very very fun chef. Ordered a double cheeseburger & got a single patty that was falling apart (picture uploaded) Yeah, still sucks. Great place to have a couple drinks and watch any and all sporting events as the walls are covered with TV\\'s. If it were possible to give them zero stars, they\\'d have it. The descriptions said \"yum yum sauce\" and another said \"eel sauce\", yet another said \"spicy mayo\"...well NONE of the rolls had sauces on them. I\\'d say that would be the hardest decision... Honestly, all of M\\'s dishes taste how they are supposed to taste (amazing). If she had not rolled the eyes we may have stayed... Not sure if we will go back and try it again. Everyone is very attentive, providing excellent customer service. Horrible - don\\'t waste your time and money. Now this dish was quite flavourful. By this time our side of the restaurant was almost empty so there was no excuse. (It wasn\\'t busy either) Also, the building was FREEZING cold. like the other reviewer said \"you couldn\\'t pay me to eat at this place again.\" -Drinks took close to 30 minutes to come out at one point. Seriously flavorful delights, folks. Much better than the other AYCE sushi place I went to in Vegas. The lighting is just dark enough to set the mood. Based on the sub-par service I received and no effort to show their gratitude for my business I won\\'t be going back. Owner\\'s are really great people.! There is nothing privileged about working/eating there. The Greek dressing was very creamy and flavorful. Overall, I don\\'t think that I would take my parents to this place again because they made most of the similar complaints that I silently felt too. Now the pizza itself was good the peanut sauce was very tasty. We had 7 at our table and the service was pretty fast. Fantastic service here. I as well would\\'ve given godfathers zero stars if possible. They know how to make them here. very tough and very short on flavor! I hope this place sticks around. I have been in more than a few bars in Vegas, and do not ever recall being charged for tap water. The restaurant atmosphere was exquisite. Good service, very clean, and inexpensive, to boot! The seafood was fresh and generous in portion. Plus, it\\'s only 8 bucks. The service was not up to par, either. Thus far, have only visited twice and the food was absolutely delicious each time. Just as good as when I had it more than a year ago! For a self proclaimed coffee cafe, I was wildly disappointed. The Veggitarian platter is out of this world! You cant go wrong with any of the food here. You can\\'t beat that. Stopped by this place while in Madison for the Ironman, very friendly, kind staff. The chefs were friendly and did a good job. I\\'ve had better, not only from dedicated boba tea spots, but even from Jenni Pho. I liked the patio and the service was outstanding. The goat taco didn\\'t skimp on the meat and wow what FLAVOR! I think not again I had the mac salad and it was pretty bland so I will not be getting that again. I went to Bachi Burger on a friend\\'s recommendation and was not disappointed. Service stinks here! I waited and waited. This place is not quality sushi, it is not a quality restaurant. I would definitely recommend the wings as well as the pizza. Great Pizza and Salads! Things that went wrong: - They burned the saganaki. We waited an hour for what was a breakfast I could have done 100 times better at home. This place is amazing! I hate to disagree with my fellow Yelpers, but my husband and I were so disappointed with this place. Waited 2 hours & never got either of our pizzas as many other around us who came in later did! Just don\\'t know why they were so slow. The staff is great, the food is delish, and they have an incredible beer selection. I live in the neighborhood so I am disappointed I won\\'t be back here, because it is a convenient location. I didn\\'t know pulled pork could be soooo delicious. You get incredibly fresh fish, prepared with care. Before I go in to why I gave a 1 star rating please know that this was my third time eating at Bachi burger before writing a review. I love the fact that everything on their menu is worth it. Never again will I be dining at this place! The food was excellent and service was very good. Good beer & drink selection and good food selection. Please stay away from the shrimp stir fried noodles. The potato chip order was sad... I could probably count how many chips were in that box and it was probably around 12. Food was really boring. Good Service-check! This greedy corporation will NEVER see another dime from me! Will never, ever go back. As much as I\\'d like to go back, I can\\'t get passed the atrocious service and will never return. In the summer, you can dine in a charming outdoor patio - so very delightful. I did not expect this to be so good! Fantastic food! She ordered a toasted English muffin that came out untoasted. The food was very good. Never going back. Great food for the price, which is very high quality and house made. The bus boy on the other hand was so rude. By this point, my friends and I had basically figured out this place was a joke and didn\\'t mind making it publicly and loudly known. Back to good BBQ, lighter fare, reasonable pricing and tell the public they are back to the old ways. And considering the two of us left there very full and happy for about $20, you just can\\'t go wrong. All the bread is made in-house! The only downside is the service. Also, the fries are without a doubt the worst fries I\\'ve ever had. Service was exceptional and food was a good as all the reviews. A couple of months later, I returned and had an amazing meal. Favorite place in town for shawarrrrrrma!!!!!! The black eyed peas and sweet potatoes... UNREAL! You won\\'t be disappointed. They could serve it with just the vinaigrette and it may make for a better overall dish, but it was still very good. I go to far too many places and I\\'ve never seen any restaurant that serves a 1 egg breakfast, especially for $4.00. When my mom and I got home she immediately got sick and she only had a few bites of salad. The servers are not pleasant to deal with and they don\\'t always honor Pizza Hut coupons. Both of them were truly unbelievably good, and I am so glad we went back. We had fantastic service, and were pleased by the atmosphere. Everything was gross. I love this place. Great service and food. First - the bathrooms at this location were dirty- Seat covers were not replenished & just plain yucky!!! The burger... I got the \"Gold Standard\" a $17 burger and was kind of disappointed. OMG, the food was delicioso! There is nothing authentic about this place. the spaghetti is nothing special whatsoever. Of all the dishes, the salmon was the best, but all were great. The vegetables are so fresh and the sauce feels like authentic Thai. It\\'s worth driving up from Tucson! The selection was probably the worst I\\'ve seen in Vegas.....there was none. Pretty good beer selection too. This place is like Chipotle, but BETTER. Classy/warm atmosphere, fun and fresh appetizers, succulent steaks (Baseball steak!!!!! 5 stars for the brick oven bread app! I have eaten here multiple times, and each time the food was delicious. We sat another ten minutes and finally gave up and left. He was terrible! Everyone is treated equally special. It shouldn\\'t take 30 min for pancakes and eggs. It was delicious!!! On the good side, the staff was genuinely pleasant and enthusiastic - a real treat. Sadly, Gordon Ramsey\\'s Steak is a place we shall sharply avoid during our next trip to Vegas. As always the evening was wonderful and the food delicious! Best fish I\\'ve ever had in my life! (The bathroom is just next door and very nice.) The buffet is small and all the food they offered was BLAND. This is an Outstanding little restaurant with some of the Best Food I have ever tasted. Pretty cool I would say. Definitely a turn off for me & i doubt I\\'ll be back unless someone else is buying. Server did a great job handling our large rowdy table. I find wasting food to be despicable, but this just wasn\\'t food. My wife had the Lobster Bisque soup which was lukewarm. Would come back again if I had a sushi craving while in Vegas. The staff are great, the ambiance is great. He deserves 5 stars. I left with a stomach ache and felt sick the rest of the day. They dropped more than the ball. The dining space is tiny, but elegantly decorated and comfortable. They will customize your order any way you\\'d like, my usual is Eggplant with Green Bean stir fry, love it! And the beans and rice were mediocre at best. Best tacos in town by far!! I took back my money and got outta there. In an interesting part of town, this place is amazing. RUDE & INCONSIDERATE MANAGEMENT. The staff are now not as friendly, the wait times for being served are horrible, no one even says hi for the first 10 minutes. I won\\'t be back. They have great dinners. The service was outshining & I definitely recommend the Halibut. The food was terrible. WILL NEVER EVER GO BACK AND HAVE TOLD MANY PEOPLE WHAT HAD HAPPENED. I don\\'t recommend unless your car breaks down in front of it and you are starving. I will come back here every time I\\'m in Vegas. This place deserves one star and 90% has to do with the food. This is a disgrace. Def coming back to bowl next time If you want healthy authentic or ethic food, try this place. I will continue to come here on ladies night andddd date night ... highly recommend this place to anyone who is in the area (; I have been here several times in the past, and the experience has always been great. We walked away stuffed and happy about our first Vegas buffet experience. Service was excellent and prices are pretty reasonable considering this is Vegas and located inside the Crystals shopping mall by Aria. To summarize... the food was incredible, nay, transcendant... but nothing brings me joy quite like the memory of the pneumatic condiment dispenser. I\\'m probably one of the few people to ever go to Ians and not like it. Kids pizza is always a hit too with lots of great side dish options for the kiddos! Service is perfect and the family atmosphere is nice to see. Cooked to perfection and the service was impeccable. This one is simply a disappointment. Overall, I was very disappointed with the quality of food at Bouchon. I don\\'t have to be an accountant to know I\\'m getting screwed! Great place to eat, reminds me of the little mom and pop shops in the San Francisco Bay Area. Today was my first taste of a Buldogis Gourmet Hot Dog and I have to tell you it was more than I ever thought possible. Left very frustrated. I\\'ll definitely be in soon again. Food was really good and I got full petty fast. Service was fantastic. TOTAL WASTE OF TIME. I don\\'t know what kind it is but they have the best iced tea. Come hungry, leave happy and stuffed! For service, I give them no stars. I can assure you that you won\\'t be disappointed. I can take a little bad service but the food sucks. Gave up trying to eat any of the crust (teeth still sore). But now I was completely grossed out. I really enjoyed eating here. First time going but I think I will quickly become a regular. Our server was very nice, and even though he looked a little overwhelmed with all of our needs, he stayed professional and friendly until the end. From what my dinner companions told me...everything was very fresh with nice texture and taste. On the ground, right next to our table was a large, smeared, been-stepped-in-and-tracked-everywhere pile of green bird poop. Furthermore, you can\\'t even find hours of operation on the website! We\\'ve tried to like this place but after 10+ times I think we\\'re done with them. What a mistake that was! No complaints! This is some seriously good pizza and I\\'m an expert/connisseur on the topic. Waiter was a jerk. Strike 2, who wants to be rushed. These are the nicest restaurant owners I\\'ve ever come across. I never come again. We loved the biscuits!!! Service is quick and friendly. Ordered an appetizer and took 40 minutes and then the pizza another 10 minutes. So absolutley fantastic. It was a huge awkward 1.5lb piece of cow that was 3/4ths gristle and fat. definitely will come back here again. I like Steiners because it\\'s dark and it feels like a bar. Wow very spicy but delicious. If you\\'re not familiar, check it out. I\\'ll take my business dinner dollars elsewhere. I\\'d love to go back. Anyway, this FS restaurant has a wonderful breakfast/lunch. Nothing special. Each day of the week they have a different deal and it\\'s all so delicious! Not to mention the combination of pears, almonds and bacon is a big winner! Will not be back. Sauce was tasteless. The food is delicious and just spicy enough, so be sure to ask for spicier if you prefer it that way. My ribeye steak was cooked perfectly and had great mesquite flavor. I don\\'t think we\\'ll be going back anytime soon. Food was so gooodd. I am far from a sushi connoisseur but I can definitely tell the difference between good food and bad food and this was certainly bad food. I was so insulted. The last 3 times I had lunch here has been bad. The chicken wings contained the driest chicken meat I have ever eaten. The food was very good and I enjoyed every mouthful, an enjoyable relaxed venue for couples small family groups etc. Nargile - I think you are great. Best tater tots in the southwest. We loved the place. Definitely not worth the $3 I paid. The vanilla ice cream was creamy and smooth while the profiterole (choux) pastry was fresh enough. Im in AZ all the time and now have my new spot. The manager was the worst. The inside is really quite nice and very clean. The food was outstanding and the prices were very reasonable. I don\\'t think I\\'ll be running back to Carly\\'s anytime soon for food. This is was due to the fact that it took 20 minutes to be acknowledged, then another 35 minutes to get our food...and they kept forgetting things. Love the margaritas, too! This was my first and only Vegas buffet and it did not disappoint. Very good, though! The one down note is the ventilation could use some upgrading. Great pork sandwich. Don\\'t waste your time here. Total letdown, I would much rather just go to the Camelback Flower Shop and Cartel Coffee. Third, the cheese on my friend\\'s burger was cold. We enjoy their pizza and brunch. The steaks are all well trimmed and also perfectly cooked. We had a group of 70+ when we claimed we would only have 40 and they handled us beautifully. I LOVED it! We asked for the bill to leave without eating and they didn\\'t bring that either. This place is a jewel in Las Vegas, and exactly what I\\'ve been hoping to find in nearly ten years living here. Seafood was limited to boiled shrimp and crab legs but the crab legs definitely did not taste fresh. The selection of food was not the best. Delicious and I will absolutely be back! This isn\\'t a small family restaurant, this is a fine dining establishment. They had a toro tartare with a cavier that was extraordinary and I liked the thinly sliced wagyu with white truffle. I dont think I will be back for a very long time. It was attached to a gas station, and that is rarely a good sign. How awesome is that. I will be back many times soon. The menu had so much good stuff on it i could not decide! Worse of all, he humiliated his worker right in front of me..Bunch of horrible name callings. CONCLUSION: Very filling meals. Their daily specials are always a hit with my group. And then tragedy struck. The pancake was also really good and pretty large at that. This was my first crawfish experience, and it was delicious! Their monster chicken fried steak and eggs is my all time favorite. Waitress was sweet and funny. I also had to taste my Mom\\'s multi-grain pumpkin pancakes with pecan butter and they were amazing, fluffy, and delicious! I\\'d rather eat airline food, seriously. Cant say enough good things about this place. The ambiance was incredible. The waitress and manager are so friendly. I would not recommend this place. Overall I wasn\\'t very impressed with Noca. My gyro was basically lettuce only. Terrible service! Thoroughly disappointed! I don\\'t each much pasta, but I love the homemade /hand made pastas and thin pizzas here. Give it a try, you will be happy you did. By far the BEST cheesecurds we have ever had! Reasonably priced also! Everything was perfect the night we were in. The food is very good for your typical bar food. it was a drive to get there. At first glance it is a lovely bakery cafe - nice ambiance, clean, friendly staff. Anyway, I do not think i will go back there. Point your finger at any item on the menu, order it and you won\\'t be disappointed. Oh this is such a thing of beauty, this restaurant. If you haven\\'t gone here GO NOW! A greasy, unhealthy meal. first time there and might just be the last. Those burgers were amazing. Similarly, the delivery man did not say a word of apology when our food was 45 minutes late. And it was way to expensive. Be sure to order dessert, even if you need to pack it to-go - the tiramisu and cannoli are both to die for. This was my first time and I can\\'t wait until the next. The bartender was also nice. Everything was good and tasty! This place is two thumbs up....way up. The best place in Vegas for breakfast (just check out a Sat, or Sun. If you love authentic Mexican food and want a whole bunch of interesting, yet delicious meats to choose from, you need to try this place. Terrible management. An excellent new restaurant by an experienced Frenchman. If there were zero stars I would give it zero stars. Great steak, great sides, great wine, amazing desserts. Worst martini ever! The steak and the shrimp are in my opinion the best entrees at GC. I had the opportunity today to sample your amazing pizzas! We waited for thirty minutes to be seated (although there were 8 vacant tables and we were the only folks waiting). The yellowtail carpaccio was melt in your mouth fresh. I won\\'t try going back there even if it\\'s empty. No, I\\'m going to eat the potato that I found some strangers hair in it. Just spicy enough.. Perfect actually. Last night was my second time dining here and I was so happy I decided to go back! not even a \"hello, we will be right with you.\" The desserts were a bit strange. My boyfriend and I came here for the first time on a recent trip to Vegas and could not have been more pleased with the quality of food and service. I really do recommend this place, you can go wrong with this donut place! Nice ambiance. I would recommend saving room for this! I guess maybe we went on an off night but it was disgraceful. However, my recent experience at this particular location was not so good. I know this is not like the other restaurants at all, something is very off here! AVOID THIS ESTABLISHMENT! I think this restaurant suffers from not trying hard enough. All of the tapas dishes were delicious! I *heart* this place. My salad had a bland vinegrette on the baby greens and hearts of Palm. After two I felt disgusting. A good time! I believe that this place is a great stop for those with a huge belly and hankering for sushi. Generous portions and great taste. I will never go back to this place and will never ever recommended this place to anyone! The servers went back and forth several times, not even so much as an \"Are you being helped?\" Food was delicious! AN HOUR... seriously? I consider this theft. Eew... This location needs a complete overhaul. We recently witnessed her poor quality of management towards other guests as well. Waited and waited and waited. He also came back to check on us regularly, excellent service. Our server was super nice and checked on us many times. The pizza tasted old, super chewy in not a good way. I swung in to give them a try but was deeply disappointed. Service was good and the company was better! The staff are also very friendly and efficient. As for the service: I\\'m a fan, because it\\'s quick and you\\'re being served by some nice folks. Boy was that sucker dry!!. Over rated. If you look for authentic Thai food, go else where. Their steaks are 100% recommended! After I pulled up my car I waited for another 15 minutes before being acknowledged. Great food and great service in a clean and friendly setting. All in all, I can assure you I\\'ll be back. I hate those things as much as cheap quality black olives. My breakfast was perpared great, with a beautiful presentation of 3 giant slices of Toast, lightly dusted with powdered sugar. The kids play area is NASTY! Great place fo take out or eat in. The waitress was friendly and happy to accomodate for vegan/veggie options. OMG I felt like I had never eaten Thai food until this dish. It was extremely \"crumby\" and pretty tasteless. It was a pale color instead of nice and char and has NO flavor. The croutons also taste homemade which is an extra plus. I got home to see the driest damn wings ever! It\\'ll be a regular stop on my trips to Phoenix! I really enjoyed Crema Café before they expanded; I even told friends they had the BEST breakfast. Not good for the money. I miss it and wish they had one in Philadelphia! We got sitting fairly fast, but, ended up waiting 40 minutes just to place our order, another 30 minutes before the food arrived. They also have the best cheese crisp in town. Good value, great food, great service. Couldn\\'t ask for a more satisfying meal. The food is good. It was awesome. I just wanted to leave. We made the drive all the way from North Scottsdale... and I was not one bit disappointed! I will not be eating there again. !....THE OWNERS REALLY REALLY need to quit being soooooo cheap let them wrap my freaking sandwich in two papers not one! I checked out this place a couple years ago and was not impressed. The chicken I got was definitely reheated and was only ok, the wedges were cold and soggy. Sorry, I will not be getting food from here anytime soon :( An absolute must visit! The cow tongue and cheek tacos are amazing. My friend did not like his Bloody Mary. Despite how hard I rate businesses, its actually rare for me to give a 1 star. They really want to make your experience a good one. I will not return. I had the chicken Pho and it tasted very bland. Very disappointing!!! The grilled chicken was so tender and yellow from the saffron seasoning. a drive thru means you do not want to wait around for half an hour for your food, but somehow when we end up going here they make us wait and wait. Pretty awesome place. Ambience is perfect. Best of luck to the rude and non-customer service focused new management. Any grandmother can make a roasted chicken better than this one. I asked multiple times for the wine list and after some time of being ignored I went to the hostess and got one myself. The staff is always super friendly and helpful, which is especially cool when you bring two small boys and a baby! Four stars for the food & the guy in the blue shirt for his great vibe & still letting us in to eat ! The roast beef sandwich tasted really good! Same evening, him and I are both drastically sick. High-quality chicken on the chicken Caesar salad. Ordered burger rare came in we\\'ll done. We were promptly greeted and seated. Tried to go here for lunch and it was a madhouse. I was proven dead wrong by this sushi bar, not only because the quality is great, but the service is fast and the food, impeccable. After waiting an hour and being seated, I was not in the greatest of moods. This is a good joint. The Macarons here are insanely good. I\\'m not eating here! Our waiter was very attentive, friendly, and informative. Maybe if they weren\\'t cold they would have been somewhat edible. This place has a lot of promise but fails to deliver. Very bad Experience! What a mistake. Food was average at best. Great food. We won\\'t be going back anytime soon! Very Very Disappointed ordered the $35 Big Bay Plater. Great place to relax and have an awesome burger and beer. It is PERFECT for a sit-down family meal or get together with a few friends. Not much flavor to them, and very poorly constructed. The patio seating was very comfortable. The fried rice was dry as well. Hands down my favorite Italian restaurant! That just SCREAMS \"LEGIT\" in my book...somethat\\'s also pretty rare here in Vegas. It was just not a fun experience. The atmosphere was great with a lovely duo of violinists playing songs we requested. I personally love the hummus, pita, baklava, falafels and Baba Ganoush (it\\'s amazing what they do with eggplant!). Very convenient, since we were staying at the MGM! The owners are super friendly and the staff is courteous. Both great! Eclectic selection. The sweet potato tots were good but the onion rings were perfection or as close as I have had. The staff was very attentive. And the chef was generous with his time (even came around twice so we can take pictures with him). The owner used to work at Nobu, so this place is really similar for half the price. Google mediocre and I imagine Smashburger will pop up. dont go here. I promise they won\\'t disappoint. As a sushi lover avoid this place by all means. What a great double cheeseburger! Awesome service and food. A fantastic neighborhood gem !!! I can\\'t wait to go back. The plantains were the worst I\\'ve ever tasted. It\\'s a great place and I highly recommend it. Service was slow and not attentive. I gave it 5 stars then, and I\\'m giving it 5 stars now. Your staff spends more time talking to themselves than me. Dessert: Panna Cotta was amazing. Very good food, great atmosphere.1 Damn good steak. Total brunch fail. Prices are very reasonable, flavors are spot on, the sauce is home made, and the slaw is not drenched in mayo. The decor is nice, and the piano music soundtrack is pleasant. The steak was amazing...rge fillet relleno was the best seafood plate i have ever had! Good food , good service . It was absolutely amazing. I probably won\\'t be back, to be honest. will definitely be back! The sergeant pepper beef sandwich with auju sauce is an excellent sandwich as well. Hawaiian Breeze, Mango Magic, and Pineapple Delight are the smoothies that I\\'ve tried so far and they\\'re all good. Went for lunch - service was slow. We had so much to say about the place before we walked in that he expected it to be amazing, but was quickly disappointed. I was mortified. Needless to say, we will never be back here again. Anyways, The food was definitely not filling at all, and for the price you pay you should expect more. The chips that came out were dripping with grease, and mostly not edible. I wasn\\'t really impressed with Strip Steak. Have been going since 2007 and every meal has been awesome!! Our server was very nice and attentive as were the other serving staff. The cashier was friendly and even brought the food out to me. I work in the hospitality industry in Paradise Valley and have refrained from recommending Cibo any longer. The atmosphere here is fun. Would not recommend to others. Service is quick and even \"to go\" orders are just like we like it! I mean really, how do you get so famous for your fish and chips when it\\'s so terrible!?! That said, our mouths and bellies were still quite pleased. Not my thing. 2 Thumbs Up!! If you are reading this please don\\'t go there. I loved the grilled pizza, reminded me of legit Italian pizza. Only Pros : Large seating area/ Nice bar area/ Great simple drink menu/ The BEST brick oven pizza with homemade dough! They have a really nice atmosphere. Tonight I had the Elk Filet special...and it sucked. After one bite, I was hooked. We ordered some old classics and some new dishes after going there a few times and were sorely disappointed with everything. Cute, quaint, simple, honest. The chicken was deliciously seasoned and had the perfect fry on the outside and moist chicken on the inside. The food was great as always, compliments to the chef. Special thanks to Dylan T. for the recommendation on what to order :) All yummy for my tummy. Awesome selection of beer. Great food and awesome service! One nice thing was that they added gratuity on the bill since our party was larger than 6 or 8, and they didn\\'t expect more tip than that. A FLY was in my apple juice.. A FLY!!!!!!!! The Han Nan Chicken was also very tasty. As for the service, I thought it was good. The food was barely lukewarm, so it must have been sitting waiting for the server to bring it out to us. Ryan\\'s Bar is definitely one Edinburgh establishment I won\\'t be revisiting. Nicest Chinese restaurant I\\'ve been in a while. Overall, I like there food and the service. They also now serve Indian naan bread with hummus and some spicy pine nut sauce that was out of this world. Probably never coming back, and wouldn\\'t recommend it. Friend\\'s pasta -- also bad, he barely touched it. Try them in the airport to experience some tasty food and speedy, friendly service. I love the decor with the Chinese calligraphy wall paper. Never had anything to complain about here. The restaurant is very clean and has a family restaurant feel to it. It was way over fried. I\\'m not sure how long we stood there but it was long enough for me to begin to feel awkwardly out of place. When I opened the sandwich, I was impressed, but not in a good way. Will not be back! There was a warm feeling with the service and I felt like their guest for a special treat. An extensive menu provides lots of options for breakfast. I always order from the vegetarian menu during dinner, which has a wide array of options to choose from. I have watched their prices inflate, portions get smaller and management attitudes grow rapidly! Wonderful lil tapas and the ambience made me feel all warm and fuzzy inside. I got to enjoy the seafood salad, with a fabulous vinegrette. The wontons were thin, not thick and chewy, almost melt in your mouth. Level 5 spicy was perfect, where spice didn\\'t over-whelm the soup. We were sat right on time and our server from the get go was FANTASTIC! Main thing I didn\\'t enjoy is that the crowd is of older crowd, around mid 30s and up. When I\\'m on this side of town, this will definitely be a spot I\\'ll hit up again! I had to wait over 30 minutes to get my drink and longer to get 2 arepas. This is a GREAT place to eat! The jalapeno bacon is soooo good. The service was poor and thats being nice. Food was good, service was good, Prices were good. The place was not clean and the food oh so stale! The chicken dishes are OK, the beef is like shoe leather. But the service was beyond bad. I\\'m so happy to be here!!!\" Tasted like dirt. One of the few places in Phoenix that I would definately go back to again . The block was amazing. It\\'s close to my house, it\\'s low-key, non-fancy, affordable prices, good food. * Both the Hot & Sour & the Egg Flower Soups were absolutely 5 Stars! My sashimi was poor quality being soggy and tasteless. Great time - family dinner on a Sunday night. the food is not tasty at all, not to say its \"real traditional Hunan style\". What did bother me, was the slow service. The flair bartenders are absolutely amazing! Their frozen margaritas are WAY too sugary for my taste. These were so good we ordered them twice. So in a nutshell: 1) The restaraunt smells like a combination of a dirty fish market and a sewer. My girlfriend\\'s veal was very bad. Unfortunately, it was not good. I had a pretty satifying experience. Join the club and get awesome offers via email. Perfect for someone (me) who only likes beer ice cold, or in this case, even colder. Bland and flavorless is a good way of describing the barely tepid meat. The chains, which I\\'m no fan of, beat this place easily. The nachos are a MUST HAVE! We will not be coming back. I don\\'t have very many words to say about this place, but it does everything pretty well. The staff is super nice and very quick even with the crazy crowds of the downtown juries, lawyers, and court staff. Great atmosphere, friendly and fast service. When I received my Pita it was huge it did have a lot of meat in it so thumbs up there. Once your food arrives it\\'s meh. Paying $7.85 for a hot dog and fries that looks like it came out of a kid\\'s meal at the Wienerschnitzel is not my idea of a good meal. The classic Maine Lobster Roll was fantastic. My brother in law who works at the mall ate here same day, and guess what he was sick all night too. So good I am going to have to review this place twice - once hereas a tribute to the place and once as a tribute to an event held here last night. The chips and salsa were really good, the salsa was very fresh. This place is great!!!!!!!!!!!!!! Mediocre food. Once you get inside you\\'ll be impressed with the place. I\\'m super pissd. And service was super friendly. Why are these sad little vegetables so overcooked? This place was such a nice surprise! They were golden-crispy and delicious. I had high hopes for this place since the burgers are cooked over a charcoal grill, but unfortunately the taste fell flat, way flat. I could eat their bruschetta all day it is devine. Not a single employee came out to see if we were OK or even needed a water refill once they finally served us our food. Lastly, the mozzarella sticks, they were the best thing we ordered. The first time I ever came here I had an amazing experience, I still tell people how awesome the duck was. The server was very negligent of our needs and made us feel very unwelcome... I would not suggest this place! The service was terrible though. This place is overpriced, not consistent with their boba, and it really is OVERPRICED! It was packed!! I love this place. I can say that the desserts were yummy. The food was terrible. The seasonal fruit was fresh white peach puree. It kept getting worse and worse so now I\\'m officially done. This place should honestly be blown up. But I definitely would not eat here again. Do not waste your money here! I love that they put their food in nice plastic containers as opposed to cramming it in little paper takeout boxes. The crêpe was delicate and thin and moist. Awful service. Won\\'t ever go here again. Food quality has been horrible. For that price I can think of a few place I would have much rather gone. The service here is fair at best. I do love sushi, but I found Kabuki to be over-priced, over-hip and under-services. Do yourself a favor and stay away from this dish. Very poor service. No one at the table thought the food was above average or worth the wait that we had for it. Best service and food ever, Maria our server was so good and friendly she made our day. They were excellent. I paid the bill but did not tip because I felt the server did a terrible job. Just had lunch here and had a great experience. I have never had such bland food which surprised me considering the article we read focused so much on their spices and flavor. Food is way overpriced and portions are fucking small. I recently tried Caballero\\'s and I have been back every week since! for 40 bucks a head, i really expect better food. The food came out at a good pace. I ate there twice on my last visit, and especially enjoyed the salmon salad. I won\\'t be back. We could not believe how dirty the oysters were! This place deserves no stars. I would not recommend this place. In fact I\\'m going to round up to 4 stars, just because she was so awesome. To my disbelief, each dish qualified as the worst version of these foods I have ever tasted. Bad day or not, I have a very low tolerance for rude customer service people, it is your job to be nice and polite, wash dishes otherwise!! the potatoes were great and so was the biscuit. I probably would not go here again. So flavorful and has just the perfect amount of heat. The price is reasonable and the service is great. The Wife hated her meal (coconut shrimp), and our friends really did not enjoy their meals, either. My fella got the huevos rancheros and they didn\\'t look too appealing. Went in for happy hour, great list of wines. Some may say this buffet is pricey but I think you get what you pay for and this place you are getting quite a lot! I probably won\\'t be coming back here. Worst food/service I\\'ve had in a while. This place is pretty good, nice little vibe in the restaurant. Talk about great customer service of course we will be back. Hot dishes are not hot, cold dishes are close to room temp.I watched staff prepare food with BARE HANDS, no gloves.Everything is deep fried in oil. I love their fries and their beans. Always a pleasure dealing with him. They have a plethora of salads and sandwiches, and everything I\\'ve tried gets my seal of approval. This place is awesome if you want something light and healthy during the summer. For sushi on the Strip, this is the place to go. The service was great, even the manager came and helped with our table. The feel of the dining room was more college cooking course than high class dining and the service was slow at best. I started this review with two stars, but I\\'m editing it to give it only one. this is the worst sushi i have ever eat besides Costco\\'s. All in all an excellent restaurant highlighted by great service, a unique menu, and a beautiful setting. My boyfriend and i sat at the bar and had a completely delightful experience. Weird vibe from owners. There was hardly any meat. I\\'ve had better bagels from the grocery store. Go To Place for Gyros. I love the owner/chef, his one authentic Japanese cool dude! Now the burgers aren\\'t as good, the pizza which used to be amazing is doughy and flavorless. I found a six inch long piece of wire in my salsa. The service was terrible, food was mediocre. We definately enjoyed ourselves. I ordered Albondigas soup - which was just warm - and tasted like tomato soup with frozen meatballs. On three different occasions I asked for well done or medium well, and all three times I got the bloodiest piece of meat on my plate. I had about two bites and refused to eat anymore. The service was extremely slow. After 20 minutes wait, I got a table. Seriously killer hot chai latte. No allergy warnings on the menu, and the waitress had absolutely no clue as to which meals did or did not contain peanuts. My boyfriend tried the Mediterranean Chicken Salad and fell in love. Their rotating beers on tap is also a highlight of this place. Pricing is a bit of a concern at Mellow Mushroom. Worst Thai ever. If you stay in Vegas you must get breakfast here at least once. I want to first say our server was great and we had perfect service. The pizza selections are good. I had strawberry tea, which was good. Highly unprofessional and rude to a loyal patron! Overall, a great experience. Spend your money elsewhere. Their regular toasted bread was equally satisfying with the occasional pats of butter... Mmmm...! The Buffet at Bellagio was far from what I anticipated. And the drinks are WEAK, people! -My order was not correct. Also, I feel like the chips are bought, not made in house. After the disappointing dinner we went elsewhere for dessert. The chips and sals a here is amazing!!!!!!!!!!!!!!!!!!! We won\\'t be returning. This is my new fav Vegas buffet spot. I seriously cannot believe that the owner has so many unexperienced employees that all are running around like chickens with their heads cut off. Very, very sad. i felt insulted and disrespected, how could you talk and judge another human being like that? How can you call yourself a steakhouse if you can\\'t properly cook a steak, I don\\'t understand! I\\'m not impressed with the concept or the food. The only thing I wasn\\'t too crazy about was their guacamole as I don\\'t like it puréed. There is really nothing for me at postinos, hope your experience is better I got food poisoning here at the buffet. They brought a fresh batch of fries and I was thinking yay something warm but no! What SHOULD have been a hilarious, yummy Christmas Eve dinner to remember was the biggest fail of the entire trip for us. Needless to say, I won\\'t be going back anytime soon. This place is disgusting! Every time I eat here, I see caring teamwork to a professional degree. The RI style calamari was a joke. However, there was so much garlic in the fondue, it was barely edible. I could barely stomach the meal, but didn\\'t complain because it was a business lunch. It was so bad, I had lost the heart to finish it. It also took her forever to bring us the check when we asked for it. We aren\\'t ones to make a scene at restaurants but I just don\\'t get it...definitely lost the love after this one! Disappointing experience. The food is about on par with Denny\\'s, which is to say, not good at all. If you want to wait for mediocre food and downright terrible service, then this is the place for you. WAAAAAAyyyyyyyyyy over rated is all I am saying. We won\\'t be going back. The place was fairly clean but the food simply wasn\\'t worth it. This place lacked style!! The sangria was about half of a glass wine full and was $12, ridiculous. Don\\'t bother coming here. The meat was pretty dry, I had the sliced brisket and pulled pork. The building itself seems pretty neat; the bathroom is pretty trippy, but I wouldn\\'t eat here again. It was equally awful. Probably not in a hurry to go back. very slow at seating even with reservation. Not good by any stretch of the imagination. The cashew cream sauce was bland and the vegetables were undercooked. The chipolte ranch dipping sause was tasteless, seemed thin and watered down with no heat. It was a bit too sweet, not really spicy enough, and lacked flavor. I was VERY disappointed!! This place is horrible and way overpriced. Maybe it\\'s just their Vegetarian fare, but I\\'ve been twice and I thought it was average at best. It wasn\\'t busy at all and now we know why. The tables outside are also dirty a lot of the time and the workers are not always friendly and helpful with the menu. The ambiance here did not feel like a buffet setting, but more of a douchey indoor garden for tea and biscuits. Con: spotty service. The fries were not hot, and neither was my burger. But then they came back cold. Then our food came out, disappointment ensued. The real disappointment was our waiter. My husband said she was very rude... did not even apologize for the bad food or anything. The only reason to eat here would be to fill up before a night of binge drinking just to get some carbs in your stomach. Insults, profound deuchebaggery, and had to go outside for a smoke break while serving just to solidify it. If someone orders two tacos don\\'t\\' you think it may be part of customer service to ask if it is combo or ala cart? She was quite disappointed although some blame needs to be placed at her door. After all the rave reviews I couldn\\'t wait to eat here......what a disappointment! Del Taco is pretty nasty and should be avoided if possible. It\\'s NOT hard to make a decent hamburger. But I don\\'t like it. Hell no will I go back We\\'ve have gotten a much better service from the pizza place next door than the services we received from this restaurant. I don\\'t know what the big deal is about this place, but I won\\'t be back \"ya\\'all\". I immediately said I wanted to talk to the manager but I did not want to talk to the guy who was doing shots of fireball behind the bar. The ambiance isn\\'t much better. Unfortunately, it only set us up for disapppointment with our entrees. The food wasn\\'t good. Your servers suck, wait, correction, our server Heimer sucked. What happened next was pretty....off putting. too bad cause I know it\\'s family owned, I really wanted to like this place. Overpriced for what you are getting. I vomited in the bathroom mid lunch. I kept looking at the time and it had soon become 35 minutes, yet still no food. I have been to very few places to eat that under no circumstances would I ever return to, and this tops the list. We started with the tuna sashimi which was brownish in color and obviously wasn\\'t fresh. Food was below average. It sure does beat the nachos at the movies but I would expect a little bit more coming from a restaurant. All in all, Ha Long Bay was a bit of a flop. The problem I have is that they charge $11.99 for a sandwich that is no bigger than a Subway sub (which offers better and more amount of vegetables). Shrimp- When I unwrapped it (I live only 1/2 a mile from Brushfire) it was literally ice cold. It lacked flavor, seemed undercooked, and dry. It really is impressive that the place hasn\\'t closed down. I would avoid this place if you are staying in the Mirage. The refried beans that came with my meal were dried out and crusty and the food was bland. Spend your money and time some place else. A lady at the table next to us found a live green caterpillar In her salad. the presentation of the food was awful. I can\\'t tell you how disappointed I was. I think food should have flavor and texture and both were lacking. Appetite instantly gone. Overall I was not impressed and would not go back. The whole experience was underwhelming, and I think we\\'ll just go to Ninja Sushi next time. Then, as if I hadn\\'t wasted enough of my life there, they poured salt in the wound by drawing out the time it took to bring the check.'"
      ]
     },
     "execution_count": 674,
     "metadata": {},
     "output_type": "execute_result"
    }
   ],
   "source": [
    "text"
   ]
  },
  {
   "cell_type": "code",
   "execution_count": 675,
   "id": "797a9267",
   "metadata": {},
   "outputs": [],
   "source": [
    "#class Multinomial Naive Baye Classifier without using any libraries\n",
    "\n",
    "#Reference Link: https://stackoverflow.com/q\n",
    "#uestions/60969884/multinomial-naive-bayes-for-python-from-scratch\n",
    "#https://www.youtube.com/watch?v=3trW5Lig7BU\n",
    "#Reference Link:https://colab.research.google.com/drive/1OPQDDJTKy0b40pziZWSsoBCmQV6HyXsm#scrollTo=JnOAO_Kl4BkQ\n",
    "class naiveBayes:\n",
    "    def __init__(self, classes, tokenizer):\n",
    "        self.tokenizer = tokenizer\n",
    "        self.classes = classes\n",
    "      \n",
    "    def group_by_class(self, X, y):\n",
    "        data = dict()\n",
    "        for c in self.classes:\n",
    "            data[c] = X[np.where(y == c)]\n",
    "            \n",
    "        return data\n",
    "    def fit(self, X,y):\n",
    "        self.n_class_items = {}\n",
    "        self.log_class_priors = {}\n",
    "        self.word_counts = {}\n",
    "        self.vocab = set()\n",
    "\n",
    "        n = len(X)\n",
    "        \n",
    "        grouped_data = self.group_by_class(X, y)\n",
    "        \n",
    "        for c, data in grouped_data.items():\n",
    "            self.n_class_items[c] = len(data)\n",
    "            self.log_class_priors[c] = math.log(self.n_class_items[c] / n)\n",
    "            self.word_counts[c] = defaultdict(lambda: 0)\n",
    "            for text in data:\n",
    "                counts = Counter(self.tokenizer.tokenize(text))\n",
    "                for word, count in counts.items():\n",
    "                    if word not in self.vocab:\n",
    "                        self.vocab.add(word)\n",
    "\n",
    "                    self.word_counts[c][word] += count\n",
    "                \n",
    "        return self\n",
    "    def laplace_smoothing(self,word,text_class):\n",
    "        num = self.word_counts[text_class][word] + 1\n",
    "        denom = self.n_class_items[text_class] + len(self.vocab)\n",
    "        return math.log(num / denom)\n",
    "    def predict(self, X):\n",
    "        result = []\n",
    "        for text in X:\n",
    "            class_scores = {c: self.log_class_priors[c] for c in self.classes}\n",
    "\n",
    "            words = set(self.tokenizer.tokenize(text))\n",
    "            for word in words:\n",
    "                if word not in self.vocab: continue\n",
    "\n",
    "                for c in self.classes:\n",
    "                    log_w_given_c = self.laplace_smoothing(word, c)\n",
    "                    class_scores[c] += log_w_given_c\n",
    "                \n",
    "            result.append(max(class_scores, key=class_scores.get))\n",
    "\n",
    "        return result\n",
    "\n",
    "        "
   ]
  },
  {
   "cell_type": "code",
   "execution_count": 676,
   "id": "a467fb46",
   "metadata": {},
   "outputs": [
    {
     "name": "stderr",
     "output_type": "stream",
     "text": [
      "C:\\Users\\nisch\\anaconda3\\lib\\site-packages\\bs4\\__init__.py:332: MarkupResemblesLocatorWarning: \"Con: spotty service.\" looks like a filename, not markup. You should probably open this file and pass the filehandle into Beautiful Soup.\n",
      "  warnings.warn(\n"
     ]
    }
   ],
   "source": [
    "X = yelp_df['Review'].values\n",
    "y = yelp_df['sentiment'].values\n",
    "\n",
    "  \n",
    "    \n",
    "X_train, X_test, y_train, y_test = train_test_split(X, y, test_size=0.15, random_state=0)\n",
    "\n",
    "X_train, X_val, y_train, y_val = train_test_split(X_train, y_train, test_size=0.25, random_state=1) \n",
    "\n",
    "classifier = naiveBayes(\n",
    "    classes=np.unique(y), \n",
    "    tokenizer=Tokenizer()).fit(X_train, y_train)\n",
    "# Predicting test results\n",
    "y_pred = classifier.predict(X_test)\n"
   ]
  },
  {
   "cell_type": "code",
   "execution_count": 677,
   "id": "f0fe994c",
   "metadata": {},
   "outputs": [
    {
     "data": {
      "text/plain": [
       "0.7933333333333333"
      ]
     },
     "execution_count": 677,
     "metadata": {},
     "output_type": "execute_result"
    }
   ],
   "source": [
    "accuracy_score(y_test, y_pred)"
   ]
  },
  {
   "cell_type": "code",
   "execution_count": 678,
   "id": "fd12042c",
   "metadata": {},
   "outputs": [
    {
     "name": "stdout",
     "output_type": "stream",
     "text": [
      "              precision    recall  f1-score   support\n",
      "\n",
      "           0       0.74      0.87      0.80        71\n",
      "           1       0.86      0.72      0.79        79\n",
      "\n",
      "    accuracy                           0.79       150\n",
      "   macro avg       0.80      0.80      0.79       150\n",
      "weighted avg       0.80      0.79      0.79       150\n",
      "\n"
     ]
    }
   ],
   "source": [
    "print(classification_report(y_test, y_pred))"
   ]
  },
  {
   "cell_type": "code",
   "execution_count": 679,
   "id": "b55aba0e",
   "metadata": {},
   "outputs": [],
   "source": [
    "conf_matrix = confusion_matrix(y_test, y_pred)"
   ]
  },
  {
   "cell_type": "code",
   "execution_count": 680,
   "id": "bf72d6a2",
   "metadata": {},
   "outputs": [
    {
     "data": {
      "text/plain": [
       "array([[62,  9],\n",
       "       [22, 57]], dtype=int64)"
      ]
     },
     "execution_count": 680,
     "metadata": {},
     "output_type": "execute_result"
    }
   ],
   "source": [
    "conf_matrix"
   ]
  },
  {
   "cell_type": "code",
   "execution_count": 681,
   "id": "5263fe63",
   "metadata": {},
   "outputs": [
    {
     "data": {
      "image/png": "[encoded data removed]",
      "text/plain": [
       "<Figure size 432x288 with 2 Axes>"
      ]
     },
     "metadata": {
      "needs_background": "light"
     },
     "output_type": "display_data"
    }
   ],
   "source": [
    "class_names = [\"negative\", \"positive\"]\n",
    "sns.heatmap(pd.DataFrame(conf_matrix), annot=True, xticklabels=class_names, yticklabels=class_names)\n",
    "plt.ylabel('Actual sentiment')\n",
    "plt.xlabel('Predicted sentiment');"
   ]
  }
 ],
 "metadata": {
  "kernelspec": {
   "display_name": "Python 3 (ipykernel)",
   "language": "python",
   "name": "python3"
  },
  "language_info": {
   "codemirror_mode": {
    "name": "ipython",
    "version": 3
   },
   "file_extension": ".py",
   "mimetype": "text/x-python",
   "name": "python",
   "nbconvert_exporter": "python",
   "pygments_lexer": "ipython3",
   "version": "3.9.12"
  }
 },
 "nbformat": 4,
 "nbformat_minor": 5
}
