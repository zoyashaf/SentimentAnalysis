{
  "nbformat": 4,
  "nbformat_minor": 0,
  "metadata": {
    "colab": {
      "provenance": []
    },
    "kernelspec": {
      "name": "python3",
      "display_name": "Python 3"
    },
    "language_info": {
      "name": "python"
    }
  },
  "cells": [
    {
      "cell_type": "code",
      "execution_count": 1,
      "metadata": {
        "id": "qMNbtkHC7Ibw"
      },
      "outputs": [],
      "source": [
        "import praw\n",
        "import pandas as pd\n",
        "import seaborn as sns\n",
        "import numpy as np"
      ]
    },
    {
      "cell_type": "code",
      "source": [
        "import re    # RegEx for removing non-letter characters\n",
        "import nltk  #natural language processing\n",
        "nltk.download(\"stopwords\")\n",
        "from nltk.corpus import stopwords\n",
        "from nltk.stem.porter import *"
      ],
      "metadata": {
        "colab": {
          "base_uri": "https://localhost:8080/"
        },
        "id": "owwEzqCbADvr",
        "outputId": "3a89a009-792d-4211-f0fd-1d1a76e67ac8"
      },
      "execution_count": 2,
      "outputs": [
        {
          "output_type": "stream",
          "name": "stderr",
          "text": [
            "[nltk_data] Downloading package stopwords to /root/nltk_data...\n",
            "[nltk_data]   Package stopwords is already up-to-date!\n"
          ]
        }
      ]
    },
    {
      "cell_type": "code",
      "source": [
        "from spacy_langdetect import LanguageDetector\n",
        "import spacy"
      ],
      "metadata": {
        "id": "eiAiKnlg7NoR"
      },
      "execution_count": 3,
      "outputs": []
    },
    {
      "cell_type": "code",
      "source": [
        "from google.colab import drive\n",
        "drive.mount('/content/drive')"
      ],
      "metadata": {
        "colab": {
          "base_uri": "https://localhost:8080/"
        },
        "id": "7ZgT4z00WalU",
        "outputId": "6d160047-b485-4d88-f36c-fb6a1de5b07c"
      },
      "execution_count": 44,
      "outputs": [
        {
          "output_type": "stream",
          "name": "stdout",
          "text": [
            "Mounted at /content/drive\n"
          ]
        }
      ]
    },
    {
      "cell_type": "code",
      "source": [
        "reddit = praw.Reddit(client_id='TlPT-9dolaABWzzGIxim8Q', client_secret='KcSNwe14od5UfnHs-Ps5mBfdPYm6RA', \\\n",
        "                     user_agent='Jenifer Vivar', check_for_async=False)\n"
      ],
      "metadata": {
        "id": "cjFD9AD97iPg"
      },
      "execution_count": 4,
      "outputs": []
    },
    {
      "cell_type": "code",
      "source": [
        "sub = ['Askreddit']  # make a list of subreddits you want to scrape the data from\n",
        "\n",
        "for s in sub:\n",
        "    subreddit = reddit.subreddit(s) "
      ],
      "metadata": {
        "id": "1gobRkpc7oBf"
      },
      "execution_count": 5,
      "outputs": []
    },
    {
      "cell_type": "code",
      "source": [
        "import spacy\n",
        "from spacy.language import Language\n",
        "from spacy_langdetect import LanguageDetector\n",
        "\n",
        "def get_lang_detector(nlp, name):\n",
        "    return LanguageDetector()\n",
        "\n",
        "nlp = spacy.load(\"en_core_web_sm\")\n",
        "Language.factory(\"language_detector\", func=get_lang_detector)\n",
        "nlp.add_pipe('language_detector', last=True)\n",
        "text = 'Hola que tal, como estas'\n",
        "doc = nlp(text)\n",
        "print(doc._.language)"
      ],
      "metadata": {
        "colab": {
          "base_uri": "https://localhost:8080/"
        },
        "id": "i3vhmmDz-kcP",
        "outputId": "da4aa45a-df55-46ef-a24f-4123a9e44554"
      },
      "execution_count": 6,
      "outputs": [
        {
          "output_type": "stream",
          "name": "stdout",
          "text": [
            "{'language': 'es', 'score': 0.9999946315527208}\n"
          ]
        }
      ]
    },
    {
      "cell_type": "code",
      "source": [
        "text = 'Hola que tal, como estas'\n",
        "doc = nlp(text)\n",
        "print(doc._.language, doc._.language[\"language\"])"
      ],
      "metadata": {
        "colab": {
          "base_uri": "https://localhost:8080/"
        },
        "id": "k1VYB_vu-xcT",
        "outputId": "eabfe7d5-f5a1-4f1d-c29e-6ba7785b78f8"
      },
      "execution_count": 7,
      "outputs": [
        {
          "output_type": "stream",
          "name": "stdout",
          "text": [
            "{'language': 'es', 'score': 0.999994785474744} es\n"
          ]
        }
      ]
    },
    {
      "cell_type": "code",
      "source": [
        "def tweet_to_words(tweet):\n",
        "    ''' Convert tweet text into a sequence of words '''\n",
        "    \n",
        "    # convert to lowercase\n",
        "    text = tweet.lower()\n",
        "    # remove non letters\n",
        "    text = re.sub(r\"[^a-zA-Z0-9]\", \" \", text)\n",
        "    # tokenize\n",
        "    words = text.split()\n",
        "    # remove stopwords\n",
        "    words = [w for w in words if w not in stopwords.words(\"english\")]\n",
        "    # apply stemming\n",
        "    words = [PorterStemmer().stem(w) for w in words]\n",
        "    # return list\n",
        "    return words"
      ],
      "metadata": {
        "id": "O4UwGYt6_uee"
      },
      "execution_count": 8,
      "outputs": []
    },
    {
      "cell_type": "code",
      "source": [
        "\n",
        "query = ['moral', \"ethical\", \"morality\", \"rigth\", \"fair\", ]\n",
        "dfs_comments = []\n",
        "dfs_data = []\n",
        "for item in query:\n",
        "\n",
        "  post_dict = {\n",
        "      \"title\" : [],   #title of the post\n",
        "      \"score\" : [],   # score of the post\n",
        "      \"id\" : [],      # unique id of the post\n",
        "      \"url\" : [],     #url of the post\n",
        "      \"comms_num\": [],   #the number of comments on the post\n",
        "      \"created\" : [],  #timestamp of the post\n",
        "      \"body\" : []         # the descriptionof post\n",
        "  }\n",
        "  comments_dict = {\n",
        "      \"comment_id\" : [],      #unique comm id\n",
        "      \"comment_parent_id\" : [],   # comment parent id\n",
        "      \"comment_body\" : [],   # text in comment\n",
        "      \"comment_link_id\" : [],\n",
        "      \"comment_important_words\":[] #link to the comment\n",
        "       \n",
        "  }\n",
        "  \n",
        "  for submission in subreddit.search(query, sort = \"top\",limit = 10):\n",
        "      post_dict[\"title\"].append(submission.title)\n",
        "      post_dict[\"score\"].append(submission.score)\n",
        "      post_dict[\"id\"].append(submission.id)\n",
        "      post_dict[\"url\"].append(submission.url)\n",
        "      post_dict[\"comms_num\"].append(submission.num_comments)\n",
        "      post_dict[\"created\"].append(submission.created)\n",
        "      post_dict[\"body\"].append(submission.selftext)\n",
        "      \n",
        "      ##### Acessing comments on the post\n",
        "      submission.comments.replace_more(limit = 1)\n",
        "      for comment in submission.comments.list():\n",
        "        comment_ = tweet_to_words(comment.body)\n",
        "        comments_dict[\"comment_id\"].append(comment.id)\n",
        "        comments_dict[\"comment_parent_id\"].append(comment.parent_id)\n",
        "        comments_dict[\"comment_body\"].append(comment.body)\n",
        "        comments_dict[\"comment_important_words\"].append(comment_)\n",
        "        comments_dict[\"comment_link_id\"].append(comment.link_id)\n",
        "        \n",
        "\n",
        "  post_comments = pd.DataFrame(comments_dict)\n",
        "  dfs_comments.append(post_comments)\n",
        "  #post_comments.to_csv(s+\"_comments_\"+ item +\"subreddit.csv\")\n",
        "  post_data = pd.DataFrame(post_dict)\n",
        "  dfs_data.append(post_data)\n",
        "  #post_data.to_csv(s+\"_\"+ item +\"subreddit.csv\")\n",
        "\n"
      ],
      "metadata": {
        "id": "O5oxt8WgGSu2"
      },
      "execution_count": null,
      "outputs": []
    },
    {
      "cell_type": "code",
      "source": [
        "df_concat_comments = pd.concat(dfs_comments, axis=0)\n",
        "df_concat_comments.head()\n",
        "#df_concat_comments.to_csv(\"/Users/jenifervivar/Documents/GitHub/deep-learning-final-project-yelp_reviews_classification/data/external/comments_subreddit.csv\")"
      ],
      "metadata": {
        "colab": {
          "base_uri": "https://localhost:8080/",
          "height": 204
        },
        "id": "iK4_UPmEKYc8",
        "outputId": "01b723a4-ae5c-492a-8721-d94751e20ccf"
      },
      "execution_count": 30,
      "outputs": [
        {
          "output_type": "execute_result",
          "data": {
            "text/plain": [
              "  comment_id comment_parent_id  \\\n",
              "0    fspkqqw         t3_gvj9a9   \n",
              "1    fspcygb         t3_gvj9a9   \n",
              "2    fspei0f         t3_gvj9a9   \n",
              "3    fsp1wiu         t3_gvj9a9   \n",
              "4    fspcczo         t3_gvj9a9   \n",
              "\n",
              "                                        comment_body comment_link_id  \\\n",
              "0  Im really starting to think 2020 is now offici...       t3_gvj9a9   \n",
              "1  Regardless of your stance, political or otherw...       t3_gvj9a9   \n",
              "2  We need an end goal. \\n\\nIt's not enough to sa...       t3_gvj9a9   \n",
              "3  I'm not American but I can see this cycle happ...       t3_gvj9a9   \n",
              "4  I saw a live stream from Charleston where they...       t3_gvj9a9   \n",
              "\n",
              "                             comment_important_words  \n",
              "0  [im, realli, start, think, 2020, offici, year,...  \n",
              "1  [regardless, stanc, polit, otherwis, think, ag...  \n",
              "2  [need, end, goal, enough, say, want, chang, ne...  \n",
              "3  [american, see, cycl, happen, someth, happen, ...  \n",
              "4  [saw, live, stream, charleston, organ, get, re...  "
            ],
            "text/html": [
              "\n",
              "  <div id=\"df-646ca396-eb92-4678-a084-d7cc7d32f73d\">\n",
              "    <div class=\"colab-df-container\">\n",
              "      <div>\n",
              "<style scoped>\n",
              "    .dataframe tbody tr th:only-of-type {\n",
              "        vertical-align: middle;\n",
              "    }\n",
              "\n",
              "    .dataframe tbody tr th {\n",
              "        vertical-align: top;\n",
              "    }\n",
              "\n",
              "    .dataframe thead th {\n",
              "        text-align: right;\n",
              "    }\n",
              "</style>\n",
              "<table border=\"1\" class=\"dataframe\">\n",
              "  <thead>\n",
              "    <tr style=\"text-align: right;\">\n",
              "      <th></th>\n",
              "      <th>comment_id</th>\n",
              "      <th>comment_parent_id</th>\n",
              "      <th>comment_body</th>\n",
              "      <th>comment_link_id</th>\n",
              "      <th>comment_important_words</th>\n",
              "    </tr>\n",
              "  </thead>\n",
              "  <tbody>\n",
              "    <tr>\n",
              "      <th>0</th>\n",
              "      <td>fspkqqw</td>\n",
              "      <td>t3_gvj9a9</td>\n",
              "      <td>Im really starting to think 2020 is now offici...</td>\n",
              "      <td>t3_gvj9a9</td>\n",
              "      <td>[im, realli, start, think, 2020, offici, year,...</td>\n",
              "    </tr>\n",
              "    <tr>\n",
              "      <th>1</th>\n",
              "      <td>fspcygb</td>\n",
              "      <td>t3_gvj9a9</td>\n",
              "      <td>Regardless of your stance, political or otherw...</td>\n",
              "      <td>t3_gvj9a9</td>\n",
              "      <td>[regardless, stanc, polit, otherwis, think, ag...</td>\n",
              "    </tr>\n",
              "    <tr>\n",
              "      <th>2</th>\n",
              "      <td>fspei0f</td>\n",
              "      <td>t3_gvj9a9</td>\n",
              "      <td>We need an end goal. \\n\\nIt's not enough to sa...</td>\n",
              "      <td>t3_gvj9a9</td>\n",
              "      <td>[need, end, goal, enough, say, want, chang, ne...</td>\n",
              "    </tr>\n",
              "    <tr>\n",
              "      <th>3</th>\n",
              "      <td>fsp1wiu</td>\n",
              "      <td>t3_gvj9a9</td>\n",
              "      <td>I'm not American but I can see this cycle happ...</td>\n",
              "      <td>t3_gvj9a9</td>\n",
              "      <td>[american, see, cycl, happen, someth, happen, ...</td>\n",
              "    </tr>\n",
              "    <tr>\n",
              "      <th>4</th>\n",
              "      <td>fspcczo</td>\n",
              "      <td>t3_gvj9a9</td>\n",
              "      <td>I saw a live stream from Charleston where they...</td>\n",
              "      <td>t3_gvj9a9</td>\n",
              "      <td>[saw, live, stream, charleston, organ, get, re...</td>\n",
              "    </tr>\n",
              "  </tbody>\n",
              "</table>\n",
              "</div>\n",
              "      <button class=\"colab-df-convert\" onclick=\"convertToInteractive('df-646ca396-eb92-4678-a084-d7cc7d32f73d')\"\n",
              "              title=\"Convert this dataframe to an interactive table.\"\n",
              "              style=\"display:none;\">\n",
              "        \n",
              "  <svg xmlns=\"http://www.w3.org/2000/svg\" height=\"24px\"viewBox=\"0 0 24 24\"\n",
              "       width=\"24px\">\n",
              "    <path d=\"M0 0h24v24H0V0z\" fill=\"none\"/>\n",
              "    <path d=\"M18.56 5.44l.94 2.06.94-2.06 2.06-.94-2.06-.94-.94-2.06-.94 2.06-2.06.94zm-11 1L8.5 8.5l.94-2.06 2.06-.94-2.06-.94L8.5 2.5l-.94 2.06-2.06.94zm10 10l.94 2.06.94-2.06 2.06-.94-2.06-.94-.94-2.06-.94 2.06-2.06.94z\"/><path d=\"M17.41 7.96l-1.37-1.37c-.4-.4-.92-.59-1.43-.59-.52 0-1.04.2-1.43.59L10.3 9.45l-7.72 7.72c-.78.78-.78 2.05 0 2.83L4 21.41c.39.39.9.59 1.41.59.51 0 1.02-.2 1.41-.59l7.78-7.78 2.81-2.81c.8-.78.8-2.07 0-2.86zM5.41 20L4 18.59l7.72-7.72 1.47 1.35L5.41 20z\"/>\n",
              "  </svg>\n",
              "      </button>\n",
              "      \n",
              "  <style>\n",
              "    .colab-df-container {\n",
              "      display:flex;\n",
              "      flex-wrap:wrap;\n",
              "      gap: 12px;\n",
              "    }\n",
              "\n",
              "    .colab-df-convert {\n",
              "      background-color: #E8F0FE;\n",
              "      border: none;\n",
              "      border-radius: 50%;\n",
              "      cursor: pointer;\n",
              "      display: none;\n",
              "      fill: #1967D2;\n",
              "      height: 32px;\n",
              "      padding: 0 0 0 0;\n",
              "      width: 32px;\n",
              "    }\n",
              "\n",
              "    .colab-df-convert:hover {\n",
              "      background-color: #E2EBFA;\n",
              "      box-shadow: 0px 1px 2px rgba(60, 64, 67, 0.3), 0px 1px 3px 1px rgba(60, 64, 67, 0.15);\n",
              "      fill: #174EA6;\n",
              "    }\n",
              "\n",
              "    [theme=dark] .colab-df-convert {\n",
              "      background-color: #3B4455;\n",
              "      fill: #D2E3FC;\n",
              "    }\n",
              "\n",
              "    [theme=dark] .colab-df-convert:hover {\n",
              "      background-color: #434B5C;\n",
              "      box-shadow: 0px 1px 3px 1px rgba(0, 0, 0, 0.15);\n",
              "      filter: drop-shadow(0px 1px 2px rgba(0, 0, 0, 0.3));\n",
              "      fill: #FFFFFF;\n",
              "    }\n",
              "  </style>\n",
              "\n",
              "      <script>\n",
              "        const buttonEl =\n",
              "          document.querySelector('#df-646ca396-eb92-4678-a084-d7cc7d32f73d button.colab-df-convert');\n",
              "        buttonEl.style.display =\n",
              "          google.colab.kernel.accessAllowed ? 'block' : 'none';\n",
              "\n",
              "        async function convertToInteractive(key) {\n",
              "          const element = document.querySelector('#df-646ca396-eb92-4678-a084-d7cc7d32f73d');\n",
              "          const dataTable =\n",
              "            await google.colab.kernel.invokeFunction('convertToInteractive',\n",
              "                                                     [key], {});\n",
              "          if (!dataTable) return;\n",
              "\n",
              "          const docLinkHtml = 'Like what you see? Visit the ' +\n",
              "            '<a target=\"_blank\" href=https://colab.research.google.com/notebooks/data_table.ipynb>data table notebook</a>'\n",
              "            + ' to learn more about interactive tables.';\n",
              "          element.innerHTML = '';\n",
              "          dataTable['output_type'] = 'display_data';\n",
              "          await google.colab.output.renderOutput(dataTable, element);\n",
              "          const docLink = document.createElement('div');\n",
              "          docLink.innerHTML = docLinkHtml;\n",
              "          element.appendChild(docLink);\n",
              "        }\n",
              "      </script>\n",
              "    </div>\n",
              "  </div>\n",
              "  "
            ]
          },
          "metadata": {},
          "execution_count": 30
        }
      ]
    },
    {
      "cell_type": "code",
      "source": [
        "df_concat_comments[\"comment_body\"].iloc[7]"
      ],
      "metadata": {
        "colab": {
          "base_uri": "https://localhost:8080/",
          "height": 69
        },
        "id": "iH-nHAg3Kkez",
        "outputId": "980ef226-86ba-4eb7-fb18-ab021c3f525e"
      },
      "execution_count": 51,
      "outputs": [
        {
          "output_type": "execute_result",
          "data": {
            "text/plain": [
              "\"I just have to say I've seen some very negative things about the whole situation on some different subreddits, even my own city' subreddit which I thought would be fully supportive. Turns out they are the complete opposite.\\n\\nBut, there's been a whole lot of love, caring, and support coming from MOST subreddits and I truly appreciate it. It means the world honestly.\""
            ],
            "application/vnd.google.colaboratory.intrinsic+json": {
              "type": "string"
            }
          },
          "metadata": {},
          "execution_count": 51
        }
      ]
    },
    {
      "cell_type": "code",
      "source": [
        "len(df_concat_comments)"
      ],
      "metadata": {
        "colab": {
          "base_uri": "https://localhost:8080/"
        },
        "id": "ItSA1G53Eeng",
        "outputId": "ecb0286f-54e6-4257-b017-db816db1e997"
      },
      "execution_count": 48,
      "outputs": [
        {
          "output_type": "execute_result",
          "data": {
            "text/plain": [
              "29255"
            ]
          },
          "metadata": {},
          "execution_count": 48
        }
      ]
    },
    {
      "cell_type": "code",
      "source": [
        "df_metadata = pd.concat(dfs_data, axis=0)\n",
        "df_metadata.head()\n",
        "#df_metadata.to_csv(\"/Users/jenifervivar/Documents/GitHub/deep-learning-final-project-yelp_reviews_classification/data/external/metadata_subreddit.csv\")"
      ],
      "metadata": {
        "colab": {
          "base_uri": "https://localhost:8080/",
          "height": 248
        },
        "id": "c3kOdPrzHVJt",
        "outputId": "bd390318-1ab3-426a-e4c6-8a4b4bac6394"
      },
      "execution_count": 27,
      "outputs": [
        {
          "output_type": "execute_result",
          "data": {
            "text/plain": [
              "                                               title  score      id  \\\n",
              "0               I can’t breathe. Black lives matter.  96763  gvj9a9   \n",
              "1  How do you feel about ’how would you feel?’ po...  95639  mje9y7   \n",
              "2  Where can you find fair, honest and reasonably...  63136  igt38u   \n",
              "3             Reddit, Can we have a reddit job fair?  37130  29oykm   \n",
              "4  Mother-In-Laws of Reddit, in the interest of f...  15964  lfibsb   \n",
              "\n",
              "                                                 url  comms_num       created  \\\n",
              "0  https://www.reddit.com/r/AskReddit/comments/gv...       6748  1.591143e+09   \n",
              "1  https://www.reddit.com/r/AskReddit/comments/mj...       3475  1.617475e+09   \n",
              "2  https://www.reddit.com/r/AskReddit/comments/ig...      13012  1.598420e+09   \n",
              "3  https://www.reddit.com/r/AskReddit/comments/29...      22180  1.404343e+09   \n",
              "4  https://www.reddit.com/r/AskReddit/comments/lf...       1782  1.612809e+09   \n",
              "\n",
              "                                                body  \n",
              "0  As the gap of the political divide in our worl...  \n",
              "1  We’ve gotten a lot of feedback on this one. A ...  \n",
              "2                                                     \n",
              "3  Hi Reddit,\\nI (and probably many others too) d...  \n",
              "4                                                     "
            ],
            "text/html": [
              "\n",
              "  <div id=\"df-32c3aba7-128a-40b1-9701-e660731cc6ca\">\n",
              "    <div class=\"colab-df-container\">\n",
              "      <div>\n",
              "<style scoped>\n",
              "    .dataframe tbody tr th:only-of-type {\n",
              "        vertical-align: middle;\n",
              "    }\n",
              "\n",
              "    .dataframe tbody tr th {\n",
              "        vertical-align: top;\n",
              "    }\n",
              "\n",
              "    .dataframe thead th {\n",
              "        text-align: right;\n",
              "    }\n",
              "</style>\n",
              "<table border=\"1\" class=\"dataframe\">\n",
              "  <thead>\n",
              "    <tr style=\"text-align: right;\">\n",
              "      <th></th>\n",
              "      <th>title</th>\n",
              "      <th>score</th>\n",
              "      <th>id</th>\n",
              "      <th>url</th>\n",
              "      <th>comms_num</th>\n",
              "      <th>created</th>\n",
              "      <th>body</th>\n",
              "    </tr>\n",
              "  </thead>\n",
              "  <tbody>\n",
              "    <tr>\n",
              "      <th>0</th>\n",
              "      <td>I can’t breathe. Black lives matter.</td>\n",
              "      <td>96763</td>\n",
              "      <td>gvj9a9</td>\n",
              "      <td>https://www.reddit.com/r/AskReddit/comments/gv...</td>\n",
              "      <td>6748</td>\n",
              "      <td>1.591143e+09</td>\n",
              "      <td>As the gap of the political divide in our worl...</td>\n",
              "    </tr>\n",
              "    <tr>\n",
              "      <th>1</th>\n",
              "      <td>How do you feel about ’how would you feel?’ po...</td>\n",
              "      <td>95639</td>\n",
              "      <td>mje9y7</td>\n",
              "      <td>https://www.reddit.com/r/AskReddit/comments/mj...</td>\n",
              "      <td>3475</td>\n",
              "      <td>1.617475e+09</td>\n",
              "      <td>We’ve gotten a lot of feedback on this one. A ...</td>\n",
              "    </tr>\n",
              "    <tr>\n",
              "      <th>2</th>\n",
              "      <td>Where can you find fair, honest and reasonably...</td>\n",
              "      <td>63136</td>\n",
              "      <td>igt38u</td>\n",
              "      <td>https://www.reddit.com/r/AskReddit/comments/ig...</td>\n",
              "      <td>13012</td>\n",
              "      <td>1.598420e+09</td>\n",
              "      <td></td>\n",
              "    </tr>\n",
              "    <tr>\n",
              "      <th>3</th>\n",
              "      <td>Reddit, Can we have a reddit job fair?</td>\n",
              "      <td>37130</td>\n",
              "      <td>29oykm</td>\n",
              "      <td>https://www.reddit.com/r/AskReddit/comments/29...</td>\n",
              "      <td>22180</td>\n",
              "      <td>1.404343e+09</td>\n",
              "      <td>Hi Reddit,\\nI (and probably many others too) d...</td>\n",
              "    </tr>\n",
              "    <tr>\n",
              "      <th>4</th>\n",
              "      <td>Mother-In-Laws of Reddit, in the interest of f...</td>\n",
              "      <td>15964</td>\n",
              "      <td>lfibsb</td>\n",
              "      <td>https://www.reddit.com/r/AskReddit/comments/lf...</td>\n",
              "      <td>1782</td>\n",
              "      <td>1.612809e+09</td>\n",
              "      <td></td>\n",
              "    </tr>\n",
              "  </tbody>\n",
              "</table>\n",
              "</div>\n",
              "      <button class=\"colab-df-convert\" onclick=\"convertToInteractive('df-32c3aba7-128a-40b1-9701-e660731cc6ca')\"\n",
              "              title=\"Convert this dataframe to an interactive table.\"\n",
              "              style=\"display:none;\">\n",
              "        \n",
              "  <svg xmlns=\"http://www.w3.org/2000/svg\" height=\"24px\"viewBox=\"0 0 24 24\"\n",
              "       width=\"24px\">\n",
              "    <path d=\"M0 0h24v24H0V0z\" fill=\"none\"/>\n",
              "    <path d=\"M18.56 5.44l.94 2.06.94-2.06 2.06-.94-2.06-.94-.94-2.06-.94 2.06-2.06.94zm-11 1L8.5 8.5l.94-2.06 2.06-.94-2.06-.94L8.5 2.5l-.94 2.06-2.06.94zm10 10l.94 2.06.94-2.06 2.06-.94-2.06-.94-.94-2.06-.94 2.06-2.06.94z\"/><path d=\"M17.41 7.96l-1.37-1.37c-.4-.4-.92-.59-1.43-.59-.52 0-1.04.2-1.43.59L10.3 9.45l-7.72 7.72c-.78.78-.78 2.05 0 2.83L4 21.41c.39.39.9.59 1.41.59.51 0 1.02-.2 1.41-.59l7.78-7.78 2.81-2.81c.8-.78.8-2.07 0-2.86zM5.41 20L4 18.59l7.72-7.72 1.47 1.35L5.41 20z\"/>\n",
              "  </svg>\n",
              "      </button>\n",
              "      \n",
              "  <style>\n",
              "    .colab-df-container {\n",
              "      display:flex;\n",
              "      flex-wrap:wrap;\n",
              "      gap: 12px;\n",
              "    }\n",
              "\n",
              "    .colab-df-convert {\n",
              "      background-color: #E8F0FE;\n",
              "      border: none;\n",
              "      border-radius: 50%;\n",
              "      cursor: pointer;\n",
              "      display: none;\n",
              "      fill: #1967D2;\n",
              "      height: 32px;\n",
              "      padding: 0 0 0 0;\n",
              "      width: 32px;\n",
              "    }\n",
              "\n",
              "    .colab-df-convert:hover {\n",
              "      background-color: #E2EBFA;\n",
              "      box-shadow: 0px 1px 2px rgba(60, 64, 67, 0.3), 0px 1px 3px 1px rgba(60, 64, 67, 0.15);\n",
              "      fill: #174EA6;\n",
              "    }\n",
              "\n",
              "    [theme=dark] .colab-df-convert {\n",
              "      background-color: #3B4455;\n",
              "      fill: #D2E3FC;\n",
              "    }\n",
              "\n",
              "    [theme=dark] .colab-df-convert:hover {\n",
              "      background-color: #434B5C;\n",
              "      box-shadow: 0px 1px 3px 1px rgba(0, 0, 0, 0.15);\n",
              "      filter: drop-shadow(0px 1px 2px rgba(0, 0, 0, 0.3));\n",
              "      fill: #FFFFFF;\n",
              "    }\n",
              "  </style>\n",
              "\n",
              "      <script>\n",
              "        const buttonEl =\n",
              "          document.querySelector('#df-32c3aba7-128a-40b1-9701-e660731cc6ca button.colab-df-convert');\n",
              "        buttonEl.style.display =\n",
              "          google.colab.kernel.accessAllowed ? 'block' : 'none';\n",
              "\n",
              "        async function convertToInteractive(key) {\n",
              "          const element = document.querySelector('#df-32c3aba7-128a-40b1-9701-e660731cc6ca');\n",
              "          const dataTable =\n",
              "            await google.colab.kernel.invokeFunction('convertToInteractive',\n",
              "                                                     [key], {});\n",
              "          if (!dataTable) return;\n",
              "\n",
              "          const docLinkHtml = 'Like what you see? Visit the ' +\n",
              "            '<a target=\"_blank\" href=https://colab.research.google.com/notebooks/data_table.ipynb>data table notebook</a>'\n",
              "            + ' to learn more about interactive tables.';\n",
              "          element.innerHTML = '';\n",
              "          dataTable['output_type'] = 'display_data';\n",
              "          await google.colab.output.renderOutput(dataTable, element);\n",
              "          const docLink = document.createElement('div');\n",
              "          docLink.innerHTML = docLinkHtml;\n",
              "          element.appendChild(docLink);\n",
              "        }\n",
              "      </script>\n",
              "    </div>\n",
              "  </div>\n",
              "  "
            ]
          },
          "metadata": {},
          "execution_count": 27
        }
      ]
    },
    {
      "cell_type": "code",
      "source": [
        "df_metadata[\"title\"].value_counts()"
      ],
      "metadata": {
        "colab": {
          "base_uri": "https://localhost:8080/"
        },
        "id": "DpuwcF2Xj5mN",
        "outputId": "2e03863f-0674-4a9a-cc78-5b16cdcab158"
      },
      "execution_count": 49,
      "outputs": [
        {
          "output_type": "execute_result",
          "data": {
            "text/plain": [
              "I can’t breathe. Black lives matter.                                                                                                                          5\n",
              "How do you feel about ’how would you feel?’ posts being banned?                                                                                               5\n",
              "Where can you find fair, honest and reasonably unbiased opinions on world news and politics?                                                                  5\n",
              "Reddit, Can we have a reddit job fair?                                                                                                                        5\n",
              "Mother-In-Laws of Reddit, in the interest of fairness, what are your crazy daughter-in-law stories?                                                           5\n",
              "You die. Death himself however says if you can beat him at a fair game of your choice, you get a second chance at life. What game do you challenge him to?    5\n",
              "Who is the best example of someone that you're not sure if they are a complete idiot or a genius?                                                             5\n",
              "[UPDATE] I was requested to compile all of the real-life cheats into an easy to read list.                                                                    5\n",
              "Reddit, what's a fairly unknown yet super interesting subreddit that will pass the time?                                                                      5\n",
              "Reddit, what is the most fucked up way you got back at someone that wronged you. *Throwaways encouraged*                                                      5\n",
              "Name: title, dtype: int64"
            ]
          },
          "metadata": {},
          "execution_count": 49
        }
      ]
    },
    {
      "cell_type": "markdown",
      "source": [],
      "metadata": {
        "id": "qMJkITAWjUv2"
      }
    },
    {
      "cell_type": "code",
      "source": [
        "for title in df_metadata[\"title\"]:\n",
        "  print(title)"
      ],
      "metadata": {
        "colab": {
          "base_uri": "https://localhost:8080/"
        },
        "id": "oLB2avW_CaMH",
        "outputId": "52202001-5a20-485c-b644-5e4552adb679"
      },
      "execution_count": 41,
      "outputs": [
        {
          "output_type": "stream",
          "name": "stdout",
          "text": [
            "I can’t breathe. Black lives matter.\n",
            "How do you feel about ’how would you feel?’ posts being banned?\n",
            "Where can you find fair, honest and reasonably unbiased opinions on world news and politics?\n",
            "Reddit, Can we have a reddit job fair?\n",
            "Mother-In-Laws of Reddit, in the interest of fairness, what are your crazy daughter-in-law stories?\n",
            "You die. Death himself however says if you can beat him at a fair game of your choice, you get a second chance at life. What game do you challenge him to?\n",
            "Who is the best example of someone that you're not sure if they are a complete idiot or a genius?\n",
            "[UPDATE] I was requested to compile all of the real-life cheats into an easy to read list.\n",
            "Reddit, what's a fairly unknown yet super interesting subreddit that will pass the time?\n",
            "Reddit, what is the most fucked up way you got back at someone that wronged you. *Throwaways encouraged*\n",
            "I can’t breathe. Black lives matter.\n",
            "How do you feel about ’how would you feel?’ posts being banned?\n",
            "Where can you find fair, honest and reasonably unbiased opinions on world news and politics?\n",
            "Reddit, Can we have a reddit job fair?\n",
            "Mother-In-Laws of Reddit, in the interest of fairness, what are your crazy daughter-in-law stories?\n",
            "You die. Death himself however says if you can beat him at a fair game of your choice, you get a second chance at life. What game do you challenge him to?\n",
            "Who is the best example of someone that you're not sure if they are a complete idiot or a genius?\n",
            "[UPDATE] I was requested to compile all of the real-life cheats into an easy to read list.\n",
            "Reddit, what's a fairly unknown yet super interesting subreddit that will pass the time?\n",
            "Reddit, what is the most fucked up way you got back at someone that wronged you. *Throwaways encouraged*\n",
            "I can’t breathe. Black lives matter.\n",
            "How do you feel about ’how would you feel?’ posts being banned?\n",
            "Where can you find fair, honest and reasonably unbiased opinions on world news and politics?\n",
            "Reddit, Can we have a reddit job fair?\n",
            "Mother-In-Laws of Reddit, in the interest of fairness, what are your crazy daughter-in-law stories?\n",
            "You die. Death himself however says if you can beat him at a fair game of your choice, you get a second chance at life. What game do you challenge him to?\n",
            "Who is the best example of someone that you're not sure if they are a complete idiot or a genius?\n",
            "[UPDATE] I was requested to compile all of the real-life cheats into an easy to read list.\n",
            "Reddit, what's a fairly unknown yet super interesting subreddit that will pass the time?\n",
            "Reddit, what is the most fucked up way you got back at someone that wronged you. *Throwaways encouraged*\n",
            "I can’t breathe. Black lives matter.\n",
            "How do you feel about ’how would you feel?’ posts being banned?\n",
            "Where can you find fair, honest and reasonably unbiased opinions on world news and politics?\n",
            "Reddit, Can we have a reddit job fair?\n",
            "Mother-In-Laws of Reddit, in the interest of fairness, what are your crazy daughter-in-law stories?\n",
            "You die. Death himself however says if you can beat him at a fair game of your choice, you get a second chance at life. What game do you challenge him to?\n",
            "Who is the best example of someone that you're not sure if they are a complete idiot or a genius?\n",
            "[UPDATE] I was requested to compile all of the real-life cheats into an easy to read list.\n",
            "Reddit, what's a fairly unknown yet super interesting subreddit that will pass the time?\n",
            "Reddit, what is the most fucked up way you got back at someone that wronged you. *Throwaways encouraged*\n",
            "I can’t breathe. Black lives matter.\n",
            "How do you feel about ’how would you feel?’ posts being banned?\n",
            "Where can you find fair, honest and reasonably unbiased opinions on world news and politics?\n",
            "Reddit, Can we have a reddit job fair?\n",
            "Mother-In-Laws of Reddit, in the interest of fairness, what are your crazy daughter-in-law stories?\n",
            "You die. Death himself however says if you can beat him at a fair game of your choice, you get a second chance at life. What game do you challenge him to?\n",
            "Who is the best example of someone that you're not sure if they are a complete idiot or a genius?\n",
            "[UPDATE] I was requested to compile all of the real-life cheats into an easy to read list.\n",
            "Reddit, what's a fairly unknown yet super interesting subreddit that will pass the time?\n",
            "Reddit, what is the most fucked up way you got back at someone that wronged you. *Throwaways encouraged*\n"
          ]
        }
      ]
    },
    {
      "cell_type": "code",
      "source": [
        "len(post_comments)"
      ],
      "metadata": {
        "colab": {
          "base_uri": "https://localhost:8080/"
        },
        "id": "mhNxrYLGGi86",
        "outputId": "52c35067-a7db-45f2-df4e-b241f6ebf44c"
      },
      "execution_count": 36,
      "outputs": [
        {
          "output_type": "execute_result",
          "data": {
            "text/plain": [
              "593"
            ]
          },
          "metadata": {},
          "execution_count": 36
        }
      ]
    },
    {
      "cell_type": "code",
      "source": [
        "post_data"
      ],
      "metadata": {
        "colab": {
          "base_uri": "https://localhost:8080/",
          "height": 80
        },
        "id": "CLracm2cDvjp",
        "outputId": "091be545-0d1d-4b9e-a1aa-fa145b92c331"
      },
      "execution_count": 45,
      "outputs": [
        {
          "output_type": "execute_result",
          "data": {
            "text/plain": [
              "                                               title  score      id  \\\n",
              "0  what scientific experiment would you run if mo...  73956  e31v9o   \n",
              "\n",
              "                                                 url  comms_num       created  \\\n",
              "0  https://www.reddit.com/r/AskReddit/comments/e3...      19529  1.574965e+09   \n",
              "\n",
              "  body  \n",
              "0       "
            ],
            "text/html": [
              "\n",
              "  <div id=\"df-2bba6a7e-ffd4-44ce-a81e-fa4b038a8a76\">\n",
              "    <div class=\"colab-df-container\">\n",
              "      <div>\n",
              "<style scoped>\n",
              "    .dataframe tbody tr th:only-of-type {\n",
              "        vertical-align: middle;\n",
              "    }\n",
              "\n",
              "    .dataframe tbody tr th {\n",
              "        vertical-align: top;\n",
              "    }\n",
              "\n",
              "    .dataframe thead th {\n",
              "        text-align: right;\n",
              "    }\n",
              "</style>\n",
              "<table border=\"1\" class=\"dataframe\">\n",
              "  <thead>\n",
              "    <tr style=\"text-align: right;\">\n",
              "      <th></th>\n",
              "      <th>title</th>\n",
              "      <th>score</th>\n",
              "      <th>id</th>\n",
              "      <th>url</th>\n",
              "      <th>comms_num</th>\n",
              "      <th>created</th>\n",
              "      <th>body</th>\n",
              "    </tr>\n",
              "  </thead>\n",
              "  <tbody>\n",
              "    <tr>\n",
              "      <th>0</th>\n",
              "      <td>what scientific experiment would you run if mo...</td>\n",
              "      <td>73956</td>\n",
              "      <td>e31v9o</td>\n",
              "      <td>https://www.reddit.com/r/AskReddit/comments/e3...</td>\n",
              "      <td>19529</td>\n",
              "      <td>1.574965e+09</td>\n",
              "      <td></td>\n",
              "    </tr>\n",
              "  </tbody>\n",
              "</table>\n",
              "</div>\n",
              "      <button class=\"colab-df-convert\" onclick=\"convertToInteractive('df-2bba6a7e-ffd4-44ce-a81e-fa4b038a8a76')\"\n",
              "              title=\"Convert this dataframe to an interactive table.\"\n",
              "              style=\"display:none;\">\n",
              "        \n",
              "  <svg xmlns=\"http://www.w3.org/2000/svg\" height=\"24px\"viewBox=\"0 0 24 24\"\n",
              "       width=\"24px\">\n",
              "    <path d=\"M0 0h24v24H0V0z\" fill=\"none\"/>\n",
              "    <path d=\"M18.56 5.44l.94 2.06.94-2.06 2.06-.94-2.06-.94-.94-2.06-.94 2.06-2.06.94zm-11 1L8.5 8.5l.94-2.06 2.06-.94-2.06-.94L8.5 2.5l-.94 2.06-2.06.94zm10 10l.94 2.06.94-2.06 2.06-.94-2.06-.94-.94-2.06-.94 2.06-2.06.94z\"/><path d=\"M17.41 7.96l-1.37-1.37c-.4-.4-.92-.59-1.43-.59-.52 0-1.04.2-1.43.59L10.3 9.45l-7.72 7.72c-.78.78-.78 2.05 0 2.83L4 21.41c.39.39.9.59 1.41.59.51 0 1.02-.2 1.41-.59l7.78-7.78 2.81-2.81c.8-.78.8-2.07 0-2.86zM5.41 20L4 18.59l7.72-7.72 1.47 1.35L5.41 20z\"/>\n",
              "  </svg>\n",
              "      </button>\n",
              "      \n",
              "  <style>\n",
              "    .colab-df-container {\n",
              "      display:flex;\n",
              "      flex-wrap:wrap;\n",
              "      gap: 12px;\n",
              "    }\n",
              "\n",
              "    .colab-df-convert {\n",
              "      background-color: #E8F0FE;\n",
              "      border: none;\n",
              "      border-radius: 50%;\n",
              "      cursor: pointer;\n",
              "      display: none;\n",
              "      fill: #1967D2;\n",
              "      height: 32px;\n",
              "      padding: 0 0 0 0;\n",
              "      width: 32px;\n",
              "    }\n",
              "\n",
              "    .colab-df-convert:hover {\n",
              "      background-color: #E2EBFA;\n",
              "      box-shadow: 0px 1px 2px rgba(60, 64, 67, 0.3), 0px 1px 3px 1px rgba(60, 64, 67, 0.15);\n",
              "      fill: #174EA6;\n",
              "    }\n",
              "\n",
              "    [theme=dark] .colab-df-convert {\n",
              "      background-color: #3B4455;\n",
              "      fill: #D2E3FC;\n",
              "    }\n",
              "\n",
              "    [theme=dark] .colab-df-convert:hover {\n",
              "      background-color: #434B5C;\n",
              "      box-shadow: 0px 1px 3px 1px rgba(0, 0, 0, 0.15);\n",
              "      filter: drop-shadow(0px 1px 2px rgba(0, 0, 0, 0.3));\n",
              "      fill: #FFFFFF;\n",
              "    }\n",
              "  </style>\n",
              "\n",
              "      <script>\n",
              "        const buttonEl =\n",
              "          document.querySelector('#df-2bba6a7e-ffd4-44ce-a81e-fa4b038a8a76 button.colab-df-convert');\n",
              "        buttonEl.style.display =\n",
              "          google.colab.kernel.accessAllowed ? 'block' : 'none';\n",
              "\n",
              "        async function convertToInteractive(key) {\n",
              "          const element = document.querySelector('#df-2bba6a7e-ffd4-44ce-a81e-fa4b038a8a76');\n",
              "          const dataTable =\n",
              "            await google.colab.kernel.invokeFunction('convertToInteractive',\n",
              "                                                     [key], {});\n",
              "          if (!dataTable) return;\n",
              "\n",
              "          const docLinkHtml = 'Like what you see? Visit the ' +\n",
              "            '<a target=\"_blank\" href=https://colab.research.google.com/notebooks/data_table.ipynb>data table notebook</a>'\n",
              "            + ' to learn more about interactive tables.';\n",
              "          element.innerHTML = '';\n",
              "          dataTable['output_type'] = 'display_data';\n",
              "          await google.colab.output.renderOutput(dataTable, element);\n",
              "          const docLink = document.createElement('div');\n",
              "          docLink.innerHTML = docLinkHtml;\n",
              "          element.appendChild(docLink);\n",
              "        }\n",
              "      </script>\n",
              "    </div>\n",
              "  </div>\n",
              "  "
            ]
          },
          "metadata": {},
          "execution_count": 45
        }
      ]
    },
    {
      "cell_type": "code",
      "source": [
        "dfs_data[1]"
      ],
      "metadata": {
        "colab": {
          "base_uri": "https://localhost:8080/",
          "height": 80
        },
        "id": "Xly9BeGNDvmZ",
        "outputId": "6657dcd6-0414-43b4-ea29-352754ece7ee"
      },
      "execution_count": 49,
      "outputs": [
        {
          "output_type": "execute_result",
          "data": {
            "text/plain": [
              "                                               title  score      id  \\\n",
              "0  what scientific experiment would you run if mo...  73954  e31v9o   \n",
              "\n",
              "                                                 url  comms_num       created  \\\n",
              "0  https://www.reddit.com/r/AskReddit/comments/e3...      19529  1.574965e+09   \n",
              "\n",
              "  body  \n",
              "0       "
            ],
            "text/html": [
              "\n",
              "  <div id=\"df-92400483-1964-4aab-b13e-473688ca78ee\">\n",
              "    <div class=\"colab-df-container\">\n",
              "      <div>\n",
              "<style scoped>\n",
              "    .dataframe tbody tr th:only-of-type {\n",
              "        vertical-align: middle;\n",
              "    }\n",
              "\n",
              "    .dataframe tbody tr th {\n",
              "        vertical-align: top;\n",
              "    }\n",
              "\n",
              "    .dataframe thead th {\n",
              "        text-align: right;\n",
              "    }\n",
              "</style>\n",
              "<table border=\"1\" class=\"dataframe\">\n",
              "  <thead>\n",
              "    <tr style=\"text-align: right;\">\n",
              "      <th></th>\n",
              "      <th>title</th>\n",
              "      <th>score</th>\n",
              "      <th>id</th>\n",
              "      <th>url</th>\n",
              "      <th>comms_num</th>\n",
              "      <th>created</th>\n",
              "      <th>body</th>\n",
              "    </tr>\n",
              "  </thead>\n",
              "  <tbody>\n",
              "    <tr>\n",
              "      <th>0</th>\n",
              "      <td>what scientific experiment would you run if mo...</td>\n",
              "      <td>73954</td>\n",
              "      <td>e31v9o</td>\n",
              "      <td>https://www.reddit.com/r/AskReddit/comments/e3...</td>\n",
              "      <td>19529</td>\n",
              "      <td>1.574965e+09</td>\n",
              "      <td></td>\n",
              "    </tr>\n",
              "  </tbody>\n",
              "</table>\n",
              "</div>\n",
              "      <button class=\"colab-df-convert\" onclick=\"convertToInteractive('df-92400483-1964-4aab-b13e-473688ca78ee')\"\n",
              "              title=\"Convert this dataframe to an interactive table.\"\n",
              "              style=\"display:none;\">\n",
              "        \n",
              "  <svg xmlns=\"http://www.w3.org/2000/svg\" height=\"24px\"viewBox=\"0 0 24 24\"\n",
              "       width=\"24px\">\n",
              "    <path d=\"M0 0h24v24H0V0z\" fill=\"none\"/>\n",
              "    <path d=\"M18.56 5.44l.94 2.06.94-2.06 2.06-.94-2.06-.94-.94-2.06-.94 2.06-2.06.94zm-11 1L8.5 8.5l.94-2.06 2.06-.94-2.06-.94L8.5 2.5l-.94 2.06-2.06.94zm10 10l.94 2.06.94-2.06 2.06-.94-2.06-.94-.94-2.06-.94 2.06-2.06.94z\"/><path d=\"M17.41 7.96l-1.37-1.37c-.4-.4-.92-.59-1.43-.59-.52 0-1.04.2-1.43.59L10.3 9.45l-7.72 7.72c-.78.78-.78 2.05 0 2.83L4 21.41c.39.39.9.59 1.41.59.51 0 1.02-.2 1.41-.59l7.78-7.78 2.81-2.81c.8-.78.8-2.07 0-2.86zM5.41 20L4 18.59l7.72-7.72 1.47 1.35L5.41 20z\"/>\n",
              "  </svg>\n",
              "      </button>\n",
              "      \n",
              "  <style>\n",
              "    .colab-df-container {\n",
              "      display:flex;\n",
              "      flex-wrap:wrap;\n",
              "      gap: 12px;\n",
              "    }\n",
              "\n",
              "    .colab-df-convert {\n",
              "      background-color: #E8F0FE;\n",
              "      border: none;\n",
              "      border-radius: 50%;\n",
              "      cursor: pointer;\n",
              "      display: none;\n",
              "      fill: #1967D2;\n",
              "      height: 32px;\n",
              "      padding: 0 0 0 0;\n",
              "      width: 32px;\n",
              "    }\n",
              "\n",
              "    .colab-df-convert:hover {\n",
              "      background-color: #E2EBFA;\n",
              "      box-shadow: 0px 1px 2px rgba(60, 64, 67, 0.3), 0px 1px 3px 1px rgba(60, 64, 67, 0.15);\n",
              "      fill: #174EA6;\n",
              "    }\n",
              "\n",
              "    [theme=dark] .colab-df-convert {\n",
              "      background-color: #3B4455;\n",
              "      fill: #D2E3FC;\n",
              "    }\n",
              "\n",
              "    [theme=dark] .colab-df-convert:hover {\n",
              "      background-color: #434B5C;\n",
              "      box-shadow: 0px 1px 3px 1px rgba(0, 0, 0, 0.15);\n",
              "      filter: drop-shadow(0px 1px 2px rgba(0, 0, 0, 0.3));\n",
              "      fill: #FFFFFF;\n",
              "    }\n",
              "  </style>\n",
              "\n",
              "      <script>\n",
              "        const buttonEl =\n",
              "          document.querySelector('#df-92400483-1964-4aab-b13e-473688ca78ee button.colab-df-convert');\n",
              "        buttonEl.style.display =\n",
              "          google.colab.kernel.accessAllowed ? 'block' : 'none';\n",
              "\n",
              "        async function convertToInteractive(key) {\n",
              "          const element = document.querySelector('#df-92400483-1964-4aab-b13e-473688ca78ee');\n",
              "          const dataTable =\n",
              "            await google.colab.kernel.invokeFunction('convertToInteractive',\n",
              "                                                     [key], {});\n",
              "          if (!dataTable) return;\n",
              "\n",
              "          const docLinkHtml = 'Like what you see? Visit the ' +\n",
              "            '<a target=\"_blank\" href=https://colab.research.google.com/notebooks/data_table.ipynb>data table notebook</a>'\n",
              "            + ' to learn more about interactive tables.';\n",
              "          element.innerHTML = '';\n",
              "          dataTable['output_type'] = 'display_data';\n",
              "          await google.colab.output.renderOutput(dataTable, element);\n",
              "          const docLink = document.createElement('div');\n",
              "          docLink.innerHTML = docLinkHtml;\n",
              "          element.appendChild(docLink);\n",
              "        }\n",
              "      </script>\n",
              "    </div>\n",
              "  </div>\n",
              "  "
            ]
          },
          "metadata": {},
          "execution_count": 49
        }
      ]
    },
    {
      "cell_type": "code",
      "source": [],
      "metadata": {
        "id": "yY0nE-yeDvpA"
      },
      "execution_count": null,
      "outputs": []
    },
    {
      "cell_type": "code",
      "source": [],
      "metadata": {
        "id": "NiCR7e8BDvro"
      },
      "execution_count": null,
      "outputs": []
    },
    {
      "cell_type": "code",
      "source": [],
      "metadata": {
        "id": "Hgh3rPs2DvuP"
      },
      "execution_count": null,
      "outputs": []
    },
    {
      "cell_type": "code",
      "source": [],
      "metadata": {
        "id": "t3RPUODdDvw0"
      },
      "execution_count": null,
      "outputs": []
    },
    {
      "cell_type": "code",
      "source": [
        "\n",
        "query = ['moral',\"Morality\", \"ethical\"]\n",
        "dfs_comments = []\n",
        "dfs_data = []\n",
        "for item in query:\n",
        "\n",
        "  post_dict = {\n",
        "      \"title\" : [],   #title of the post\n",
        "      \"score\" : [],   # score of the post\n",
        "      \"id\" : [],      # unique id of the post\n",
        "      \"url\" : [],     #url of the post\n",
        "      \"comms_num\": [],   #the number of comments on the post\n",
        "      \"created\" : [],  #timestamp of the post\n",
        "      \"body\" : []         # the descriptionof post\n",
        "  }\n",
        "  comments_dict = {\n",
        "      \"comment_id\" : [],      #unique comm id\n",
        "      \"comment_parent_id\" : [],   # comment parent id\n",
        "      \"comment_body\" : [],   # text in comment\n",
        "      \"comment_link_id\" : [],\n",
        "      \"comment_important_words\":[]  #link to the comment\n",
        "  }\n",
        "  result \n",
        "  for submission in subreddit.search(query,sort = \"top\",limit = 3000):\n",
        "      post_dict[\"title\"].append(submission.title)\n",
        "      post_dict[\"score\"].append(submission.score)\n",
        "      post_dict[\"id\"].append(submission.id)\n",
        "      post_dict[\"url\"].append(submission.url)\n",
        "      post_dict[\"comms_num\"].append(submission.num_comments)\n",
        "      post_dict[\"created\"].append(submission.created)\n",
        "      post_dict[\"body\"].append(submission.selftext)\n",
        "      \n",
        "      ##### Acessing comments on the post\n",
        "      submission.comments.replace_more(limit = 1)\n",
        "      for comment in submission.comments.list():\n",
        "        comment_ = tweet_to_words(comment.body)\n",
        "        comments_dict[\"comment_id\"].append(comment.id)\n",
        "        comments_dict[\"comment_parent_id\"].append(comment.parent_id)\n",
        "        comments_dict[\"comment_body\"].append(comment.body)\n",
        "        comments_dict[\"comment_important_words\"].append(comment_)\n",
        "        comments_dict[\"comment_link_id\"].append(comment.link_id)\n",
        "  \n",
        "  post_comments = pd.DataFrame(comments_dict)\n",
        "  dfs_comments.append(post_comments)\n",
        "  #post_comments.to_csv(s+\"_comments_\"+ item +\"subreddit.csv\")\n",
        "  post_data = pd.DataFrame(post_dict)\n",
        "  dfs_data.append(post_data)\n",
        "  #post_data.to_csv(s+\"_\"+ item +\"subreddit.csv\")\n",
        "\n"
      ],
      "metadata": {
        "id": "6i7eGCSmDv2b"
      },
      "execution_count": null,
      "outputs": []
    }
  ]
}