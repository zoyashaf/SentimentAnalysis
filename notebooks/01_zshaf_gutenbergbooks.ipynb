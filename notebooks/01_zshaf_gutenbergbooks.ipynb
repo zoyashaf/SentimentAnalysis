{
 "cells": [
  {
   "cell_type": "code",
   "execution_count": 6,
   "metadata": {},
   "outputs": [],
   "source": [
    "from urllib import request \n",
    "import pandas as pd"
   ]
  },
  {
   "cell_type": "code",
   "execution_count": 7,
   "metadata": {},
   "outputs": [],
   "source": [
    "def download_book(url):\n",
    "    \"\"\"\n",
    "    Download book given a url to a book in .txt format and return it as a string.\n",
    "    \"\"\"\n",
    "    text_request = request.urlopen(url)\n",
    "    raw = text_request.read()\n",
    "    text = raw.decode(\"utf-8-sig\")\n",
    "\n",
    "    return text"
   ]
  },
  {
   "cell_type": "code",
   "execution_count": 8,
   "metadata": {},
   "outputs": [],
   "source": [
    "book_urls = dict()\n",
    "# book_urls['GoodandEvil'] = 'https://www.gutenberg.org/cache/epub/4363/pg4363.txt'\n",
    "book_urls['WomenRights'] = 'https://www.gutenberg.org/cache/epub/3420/pg3420.txt'\n",
    "# book_urls['Walden'] = 'https://www.gutenberg.org/files/205/205-0.txt'\n",
    "# book_urls['Candide'] = 'https://www.gutenberg.org/cache/epub/19942/pg19942.txt'\n",
    "# book_urls['Patriotism'] = 'https://www.gutenberg.org/cache/epub/67599/pg67599.txt'\n",
    "\n",
    "for name, url in book_urls.items():\n",
    "    text = download_book(url)\n"
   ]
  }
 ],
 "metadata": {
  "kernelspec": {
   "display_name": "practice",
   "language": "python",
   "name": "python3"
  },
  "language_info": {
   "codemirror_mode": {
    "name": "ipython",
    "version": 3
   },
   "file_extension": ".py",
   "mimetype": "text/x-python",
   "name": "python",
   "nbconvert_exporter": "python",
   "pygments_lexer": "ipython3",
   "version": "3.8.12"
  },
  "orig_nbformat": 4
 },
 "nbformat": 4,
 "nbformat_minor": 2
}
