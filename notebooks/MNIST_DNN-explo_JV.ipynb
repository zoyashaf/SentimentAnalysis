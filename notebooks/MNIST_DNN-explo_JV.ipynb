{
  "nbformat": 4,
  "nbformat_minor": 0,
  "metadata": {
    "colab": {
      "provenance": [],
      "toc_visible": true
    },
    "kernelspec": {
      "name": "python3",
      "display_name": "Python 3"
    },
    "language_info": {
      "name": "python"
    },
    "widgets": {
      "application/vnd.jupyter.widget-state+json": {
        "0d5f46d8ee8940f0abdd95b6569b29d3": {
          "model_module": "@jupyter-widgets/controls",
          "model_name": "HBoxModel",
          "model_module_version": "1.5.0",
          "state": {
            "_dom_classes": [],
            "_model_module": "@jupyter-widgets/controls",
            "_model_module_version": "1.5.0",
            "_model_name": "HBoxModel",
            "_view_count": null,
            "_view_module": "@jupyter-widgets/controls",
            "_view_module_version": "1.5.0",
            "_view_name": "HBoxView",
            "box_style": "",
            "children": [
              "IPY_MODEL_a5a36d3e6eda4eceabe77132120a4e78",
              "IPY_MODEL_88cb74076de74444b5bf1ea15b855c8b",
              "IPY_MODEL_d45d55965921474e8a70c1fdcdf70f0c"
            ],
            "layout": "IPY_MODEL_17b80d2c9b9b4e3f976840212165493f"
          }
        },
        "a5a36d3e6eda4eceabe77132120a4e78": {
          "model_module": "@jupyter-widgets/controls",
          "model_name": "HTMLModel",
          "model_module_version": "1.5.0",
          "state": {
            "_dom_classes": [],
            "_model_module": "@jupyter-widgets/controls",
            "_model_module_version": "1.5.0",
            "_model_name": "HTMLModel",
            "_view_count": null,
            "_view_module": "@jupyter-widgets/controls",
            "_view_module_version": "1.5.0",
            "_view_name": "HTMLView",
            "description": "",
            "description_tooltip": null,
            "layout": "IPY_MODEL_817a8c3ef0744931b6bde8323cc6142b",
            "placeholder": "​",
            "style": "IPY_MODEL_09c33df0d1d34cafb17e7b8e110a5245",
            "value": "100%"
          }
        },
        "88cb74076de74444b5bf1ea15b855c8b": {
          "model_module": "@jupyter-widgets/controls",
          "model_name": "FloatProgressModel",
          "model_module_version": "1.5.0",
          "state": {
            "_dom_classes": [],
            "_model_module": "@jupyter-widgets/controls",
            "_model_module_version": "1.5.0",
            "_model_name": "FloatProgressModel",
            "_view_count": null,
            "_view_module": "@jupyter-widgets/controls",
            "_view_module_version": "1.5.0",
            "_view_name": "ProgressView",
            "bar_style": "success",
            "description": "",
            "description_tooltip": null,
            "layout": "IPY_MODEL_cb233aa8bc244b05b740df497934f2c8",
            "max": 100,
            "min": 0,
            "orientation": "horizontal",
            "style": "IPY_MODEL_5cee06f408884de2b6db8bb8c520b0a0",
            "value": 100
          }
        },
        "d45d55965921474e8a70c1fdcdf70f0c": {
          "model_module": "@jupyter-widgets/controls",
          "model_name": "HTMLModel",
          "model_module_version": "1.5.0",
          "state": {
            "_dom_classes": [],
            "_model_module": "@jupyter-widgets/controls",
            "_model_module_version": "1.5.0",
            "_model_name": "HTMLModel",
            "_view_count": null,
            "_view_module": "@jupyter-widgets/controls",
            "_view_module_version": "1.5.0",
            "_view_name": "HTMLView",
            "description": "",
            "description_tooltip": null,
            "layout": "IPY_MODEL_38ebeba9501d499390c37037b557ed65",
            "placeholder": "​",
            "style": "IPY_MODEL_af628bdc19264b62a4162d92dc8f7a6c",
            "value": " 100/100 [02:25&lt;00:00,  1.11s/it]"
          }
        },
        "17b80d2c9b9b4e3f976840212165493f": {
          "model_module": "@jupyter-widgets/base",
          "model_name": "LayoutModel",
          "model_module_version": "1.2.0",
          "state": {
            "_model_module": "@jupyter-widgets/base",
            "_model_module_version": "1.2.0",
            "_model_name": "LayoutModel",
            "_view_count": null,
            "_view_module": "@jupyter-widgets/base",
            "_view_module_version": "1.2.0",
            "_view_name": "LayoutView",
            "align_content": null,
            "align_items": null,
            "align_self": null,
            "border": null,
            "bottom": null,
            "display": null,
            "flex": null,
            "flex_flow": null,
            "grid_area": null,
            "grid_auto_columns": null,
            "grid_auto_flow": null,
            "grid_auto_rows": null,
            "grid_column": null,
            "grid_gap": null,
            "grid_row": null,
            "grid_template_areas": null,
            "grid_template_columns": null,
            "grid_template_rows": null,
            "height": null,
            "justify_content": null,
            "justify_items": null,
            "left": null,
            "margin": null,
            "max_height": null,
            "max_width": null,
            "min_height": null,
            "min_width": null,
            "object_fit": null,
            "object_position": null,
            "order": null,
            "overflow": null,
            "overflow_x": null,
            "overflow_y": null,
            "padding": null,
            "right": null,
            "top": null,
            "visibility": null,
            "width": null
          }
        },
        "817a8c3ef0744931b6bde8323cc6142b": {
          "model_module": "@jupyter-widgets/base",
          "model_name": "LayoutModel",
          "model_module_version": "1.2.0",
          "state": {
            "_model_module": "@jupyter-widgets/base",
            "_model_module_version": "1.2.0",
            "_model_name": "LayoutModel",
            "_view_count": null,
            "_view_module": "@jupyter-widgets/base",
            "_view_module_version": "1.2.0",
            "_view_name": "LayoutView",
            "align_content": null,
            "align_items": null,
            "align_self": null,
            "border": null,
            "bottom": null,
            "display": null,
            "flex": null,
            "flex_flow": null,
            "grid_area": null,
            "grid_auto_columns": null,
            "grid_auto_flow": null,
            "grid_auto_rows": null,
            "grid_column": null,
            "grid_gap": null,
            "grid_row": null,
            "grid_template_areas": null,
            "grid_template_columns": null,
            "grid_template_rows": null,
            "height": null,
            "justify_content": null,
            "justify_items": null,
            "left": null,
            "margin": null,
            "max_height": null,
            "max_width": null,
            "min_height": null,
            "min_width": null,
            "object_fit": null,
            "object_position": null,
            "order": null,
            "overflow": null,
            "overflow_x": null,
            "overflow_y": null,
            "padding": null,
            "right": null,
            "top": null,
            "visibility": null,
            "width": null
          }
        },
        "09c33df0d1d34cafb17e7b8e110a5245": {
          "model_module": "@jupyter-widgets/controls",
          "model_name": "DescriptionStyleModel",
          "model_module_version": "1.5.0",
          "state": {
            "_model_module": "@jupyter-widgets/controls",
            "_model_module_version": "1.5.0",
            "_model_name": "DescriptionStyleModel",
            "_view_count": null,
            "_view_module": "@jupyter-widgets/base",
            "_view_module_version": "1.2.0",
            "_view_name": "StyleView",
            "description_width": ""
          }
        },
        "cb233aa8bc244b05b740df497934f2c8": {
          "model_module": "@jupyter-widgets/base",
          "model_name": "LayoutModel",
          "model_module_version": "1.2.0",
          "state": {
            "_model_module": "@jupyter-widgets/base",
            "_model_module_version": "1.2.0",
            "_model_name": "LayoutModel",
            "_view_count": null,
            "_view_module": "@jupyter-widgets/base",
            "_view_module_version": "1.2.0",
            "_view_name": "LayoutView",
            "align_content": null,
            "align_items": null,
            "align_self": null,
            "border": null,
            "bottom": null,
            "display": null,
            "flex": null,
            "flex_flow": null,
            "grid_area": null,
            "grid_auto_columns": null,
            "grid_auto_flow": null,
            "grid_auto_rows": null,
            "grid_column": null,
            "grid_gap": null,
            "grid_row": null,
            "grid_template_areas": null,
            "grid_template_columns": null,
            "grid_template_rows": null,
            "height": null,
            "justify_content": null,
            "justify_items": null,
            "left": null,
            "margin": null,
            "max_height": null,
            "max_width": null,
            "min_height": null,
            "min_width": null,
            "object_fit": null,
            "object_position": null,
            "order": null,
            "overflow": null,
            "overflow_x": null,
            "overflow_y": null,
            "padding": null,
            "right": null,
            "top": null,
            "visibility": null,
            "width": null
          }
        },
        "5cee06f408884de2b6db8bb8c520b0a0": {
          "model_module": "@jupyter-widgets/controls",
          "model_name": "ProgressStyleModel",
          "model_module_version": "1.5.0",
          "state": {
            "_model_module": "@jupyter-widgets/controls",
            "_model_module_version": "1.5.0",
            "_model_name": "ProgressStyleModel",
            "_view_count": null,
            "_view_module": "@jupyter-widgets/base",
            "_view_module_version": "1.2.0",
            "_view_name": "StyleView",
            "bar_color": null,
            "description_width": ""
          }
        },
        "38ebeba9501d499390c37037b557ed65": {
          "model_module": "@jupyter-widgets/base",
          "model_name": "LayoutModel",
          "model_module_version": "1.2.0",
          "state": {
            "_model_module": "@jupyter-widgets/base",
            "_model_module_version": "1.2.0",
            "_model_name": "LayoutModel",
            "_view_count": null,
            "_view_module": "@jupyter-widgets/base",
            "_view_module_version": "1.2.0",
            "_view_name": "LayoutView",
            "align_content": null,
            "align_items": null,
            "align_self": null,
            "border": null,
            "bottom": null,
            "display": null,
            "flex": null,
            "flex_flow": null,
            "grid_area": null,
            "grid_auto_columns": null,
            "grid_auto_flow": null,
            "grid_auto_rows": null,
            "grid_column": null,
            "grid_gap": null,
            "grid_row": null,
            "grid_template_areas": null,
            "grid_template_columns": null,
            "grid_template_rows": null,
            "height": null,
            "justify_content": null,
            "justify_items": null,
            "left": null,
            "margin": null,
            "max_height": null,
            "max_width": null,
            "min_height": null,
            "min_width": null,
            "object_fit": null,
            "object_position": null,
            "order": null,
            "overflow": null,
            "overflow_x": null,
            "overflow_y": null,
            "padding": null,
            "right": null,
            "top": null,
            "visibility": null,
            "width": null
          }
        },
        "af628bdc19264b62a4162d92dc8f7a6c": {
          "model_module": "@jupyter-widgets/controls",
          "model_name": "DescriptionStyleModel",
          "model_module_version": "1.5.0",
          "state": {
            "_model_module": "@jupyter-widgets/controls",
            "_model_module_version": "1.5.0",
            "_model_name": "DescriptionStyleModel",
            "_view_count": null,
            "_view_module": "@jupyter-widgets/base",
            "_view_module_version": "1.2.0",
            "_view_name": "StyleView",
            "description_width": ""
          }
        },
        "78041d25d7d14144bbd8aa484d2078da": {
          "model_module": "@jupyter-widgets/controls",
          "model_name": "HBoxModel",
          "model_module_version": "1.5.0",
          "state": {
            "_dom_classes": [],
            "_model_module": "@jupyter-widgets/controls",
            "_model_module_version": "1.5.0",
            "_model_name": "HBoxModel",
            "_view_count": null,
            "_view_module": "@jupyter-widgets/controls",
            "_view_module_version": "1.5.0",
            "_view_name": "HBoxView",
            "box_style": "",
            "children": [
              "IPY_MODEL_25b4c1d51b164473bce5cf8fbd63238c",
              "IPY_MODEL_34da9db3f33e410e9d9fb942cc9ff7f3",
              "IPY_MODEL_0b6f71c551ca4b4b836d0ed5051f2614"
            ],
            "layout": "IPY_MODEL_74ab6c50497941298e603a35c456c241"
          }
        },
        "25b4c1d51b164473bce5cf8fbd63238c": {
          "model_module": "@jupyter-widgets/controls",
          "model_name": "HTMLModel",
          "model_module_version": "1.5.0",
          "state": {
            "_dom_classes": [],
            "_model_module": "@jupyter-widgets/controls",
            "_model_module_version": "1.5.0",
            "_model_name": "HTMLModel",
            "_view_count": null,
            "_view_module": "@jupyter-widgets/controls",
            "_view_module_version": "1.5.0",
            "_view_name": "HTMLView",
            "description": "",
            "description_tooltip": null,
            "layout": "IPY_MODEL_1fbccd00656a42889118fae2194e4b17",
            "placeholder": "​",
            "style": "IPY_MODEL_21fe255c2b884e9dab1d9298a12cc23d",
            "value": " 48%"
          }
        },
        "34da9db3f33e410e9d9fb942cc9ff7f3": {
          "model_module": "@jupyter-widgets/controls",
          "model_name": "FloatProgressModel",
          "model_module_version": "1.5.0",
          "state": {
            "_dom_classes": [],
            "_model_module": "@jupyter-widgets/controls",
            "_model_module_version": "1.5.0",
            "_model_name": "FloatProgressModel",
            "_view_count": null,
            "_view_module": "@jupyter-widgets/controls",
            "_view_module_version": "1.5.0",
            "_view_name": "ProgressView",
            "bar_style": "danger",
            "description": "",
            "description_tooltip": null,
            "layout": "IPY_MODEL_cd25622147234a2a97030c38cf514bbb",
            "max": 150,
            "min": 0,
            "orientation": "horizontal",
            "style": "IPY_MODEL_4698fe1509df49528e19e9d0c9831efb",
            "value": 72
          }
        },
        "0b6f71c551ca4b4b836d0ed5051f2614": {
          "model_module": "@jupyter-widgets/controls",
          "model_name": "HTMLModel",
          "model_module_version": "1.5.0",
          "state": {
            "_dom_classes": [],
            "_model_module": "@jupyter-widgets/controls",
            "_model_module_version": "1.5.0",
            "_model_name": "HTMLModel",
            "_view_count": null,
            "_view_module": "@jupyter-widgets/controls",
            "_view_module_version": "1.5.0",
            "_view_name": "HTMLView",
            "description": "",
            "description_tooltip": null,
            "layout": "IPY_MODEL_d81abaf68cc646c9a7b257896ecb613d",
            "placeholder": "​",
            "style": "IPY_MODEL_2a9446d256bf411eb30e91b099774a3a",
            "value": " 72/150 [1:05:23&lt;1:07:42, 52.08s/it]"
          }
        },
        "74ab6c50497941298e603a35c456c241": {
          "model_module": "@jupyter-widgets/base",
          "model_name": "LayoutModel",
          "model_module_version": "1.2.0",
          "state": {
            "_model_module": "@jupyter-widgets/base",
            "_model_module_version": "1.2.0",
            "_model_name": "LayoutModel",
            "_view_count": null,
            "_view_module": "@jupyter-widgets/base",
            "_view_module_version": "1.2.0",
            "_view_name": "LayoutView",
            "align_content": null,
            "align_items": null,
            "align_self": null,
            "border": null,
            "bottom": null,
            "display": null,
            "flex": null,
            "flex_flow": null,
            "grid_area": null,
            "grid_auto_columns": null,
            "grid_auto_flow": null,
            "grid_auto_rows": null,
            "grid_column": null,
            "grid_gap": null,
            "grid_row": null,
            "grid_template_areas": null,
            "grid_template_columns": null,
            "grid_template_rows": null,
            "height": null,
            "justify_content": null,
            "justify_items": null,
            "left": null,
            "margin": null,
            "max_height": null,
            "max_width": null,
            "min_height": null,
            "min_width": null,
            "object_fit": null,
            "object_position": null,
            "order": null,
            "overflow": null,
            "overflow_x": null,
            "overflow_y": null,
            "padding": null,
            "right": null,
            "top": null,
            "visibility": null,
            "width": null
          }
        },
        "1fbccd00656a42889118fae2194e4b17": {
          "model_module": "@jupyter-widgets/base",
          "model_name": "LayoutModel",
          "model_module_version": "1.2.0",
          "state": {
            "_model_module": "@jupyter-widgets/base",
            "_model_module_version": "1.2.0",
            "_model_name": "LayoutModel",
            "_view_count": null,
            "_view_module": "@jupyter-widgets/base",
            "_view_module_version": "1.2.0",
            "_view_name": "LayoutView",
            "align_content": null,
            "align_items": null,
            "align_self": null,
            "border": null,
            "bottom": null,
            "display": null,
            "flex": null,
            "flex_flow": null,
            "grid_area": null,
            "grid_auto_columns": null,
            "grid_auto_flow": null,
            "grid_auto_rows": null,
            "grid_column": null,
            "grid_gap": null,
            "grid_row": null,
            "grid_template_areas": null,
            "grid_template_columns": null,
            "grid_template_rows": null,
            "height": null,
            "justify_content": null,
            "justify_items": null,
            "left": null,
            "margin": null,
            "max_height": null,
            "max_width": null,
            "min_height": null,
            "min_width": null,
            "object_fit": null,
            "object_position": null,
            "order": null,
            "overflow": null,
            "overflow_x": null,
            "overflow_y": null,
            "padding": null,
            "right": null,
            "top": null,
            "visibility": null,
            "width": null
          }
        },
        "21fe255c2b884e9dab1d9298a12cc23d": {
          "model_module": "@jupyter-widgets/controls",
          "model_name": "DescriptionStyleModel",
          "model_module_version": "1.5.0",
          "state": {
            "_model_module": "@jupyter-widgets/controls",
            "_model_module_version": "1.5.0",
            "_model_name": "DescriptionStyleModel",
            "_view_count": null,
            "_view_module": "@jupyter-widgets/base",
            "_view_module_version": "1.2.0",
            "_view_name": "StyleView",
            "description_width": ""
          }
        },
        "cd25622147234a2a97030c38cf514bbb": {
          "model_module": "@jupyter-widgets/base",
          "model_name": "LayoutModel",
          "model_module_version": "1.2.0",
          "state": {
            "_model_module": "@jupyter-widgets/base",
            "_model_module_version": "1.2.0",
            "_model_name": "LayoutModel",
            "_view_count": null,
            "_view_module": "@jupyter-widgets/base",
            "_view_module_version": "1.2.0",
            "_view_name": "LayoutView",
            "align_content": null,
            "align_items": null,
            "align_self": null,
            "border": null,
            "bottom": null,
            "display": null,
            "flex": null,
            "flex_flow": null,
            "grid_area": null,
            "grid_auto_columns": null,
            "grid_auto_flow": null,
            "grid_auto_rows": null,
            "grid_column": null,
            "grid_gap": null,
            "grid_row": null,
            "grid_template_areas": null,
            "grid_template_columns": null,
            "grid_template_rows": null,
            "height": null,
            "justify_content": null,
            "justify_items": null,
            "left": null,
            "margin": null,
            "max_height": null,
            "max_width": null,
            "min_height": null,
            "min_width": null,
            "object_fit": null,
            "object_position": null,
            "order": null,
            "overflow": null,
            "overflow_x": null,
            "overflow_y": null,
            "padding": null,
            "right": null,
            "top": null,
            "visibility": null,
            "width": null
          }
        },
        "4698fe1509df49528e19e9d0c9831efb": {
          "model_module": "@jupyter-widgets/controls",
          "model_name": "ProgressStyleModel",
          "model_module_version": "1.5.0",
          "state": {
            "_model_module": "@jupyter-widgets/controls",
            "_model_module_version": "1.5.0",
            "_model_name": "ProgressStyleModel",
            "_view_count": null,
            "_view_module": "@jupyter-widgets/base",
            "_view_module_version": "1.2.0",
            "_view_name": "StyleView",
            "bar_color": null,
            "description_width": ""
          }
        },
        "d81abaf68cc646c9a7b257896ecb613d": {
          "model_module": "@jupyter-widgets/base",
          "model_name": "LayoutModel",
          "model_module_version": "1.2.0",
          "state": {
            "_model_module": "@jupyter-widgets/base",
            "_model_module_version": "1.2.0",
            "_model_name": "LayoutModel",
            "_view_count": null,
            "_view_module": "@jupyter-widgets/base",
            "_view_module_version": "1.2.0",
            "_view_name": "LayoutView",
            "align_content": null,
            "align_items": null,
            "align_self": null,
            "border": null,
            "bottom": null,
            "display": null,
            "flex": null,
            "flex_flow": null,
            "grid_area": null,
            "grid_auto_columns": null,
            "grid_auto_flow": null,
            "grid_auto_rows": null,
            "grid_column": null,
            "grid_gap": null,
            "grid_row": null,
            "grid_template_areas": null,
            "grid_template_columns": null,
            "grid_template_rows": null,
            "height": null,
            "justify_content": null,
            "justify_items": null,
            "left": null,
            "margin": null,
            "max_height": null,
            "max_width": null,
            "min_height": null,
            "min_width": null,
            "object_fit": null,
            "object_position": null,
            "order": null,
            "overflow": null,
            "overflow_x": null,
            "overflow_y": null,
            "padding": null,
            "right": null,
            "top": null,
            "visibility": null,
            "width": null
          }
        },
        "2a9446d256bf411eb30e91b099774a3a": {
          "model_module": "@jupyter-widgets/controls",
          "model_name": "DescriptionStyleModel",
          "model_module_version": "1.5.0",
          "state": {
            "_model_module": "@jupyter-widgets/controls",
            "_model_module_version": "1.5.0",
            "_model_name": "DescriptionStyleModel",
            "_view_count": null,
            "_view_module": "@jupyter-widgets/base",
            "_view_module_version": "1.2.0",
            "_view_name": "StyleView",
            "description_width": ""
          }
        }
      }
    }
  },
  "cells": [
    {
      "cell_type": "code",
      "source": [
        "import numpy as np\n",
        "import matplotlib.pyplot as plt\n",
        "import seaborn as sns\n",
        "import pandas as pd"
      ],
      "metadata": {
        "id": "If0mogkLN4cB"
      },
      "execution_count": null,
      "outputs": []
    },
    {
      "cell_type": "code",
      "source": [
        "import tensorflow as tf"
      ],
      "metadata": {
        "id": "Lu5Aw-Eh66JM"
      },
      "execution_count": null,
      "outputs": []
    },
    {
      "cell_type": "code",
      "source": [
        "#Normalized data (scale)\n",
        "\n",
        "x_train = tf.keras.utils.normalize(x_train, axis = 1) \n",
        "x_test = tf.keras.utils.normalize(x_test, axis = 1) \n",
        "\n",
        "import matplotlib.pyplot as plt\n",
        "plt.imshow(x_train[0].reshape(28, 28, 1))"
      ],
      "metadata": {
        "colab": {
          "base_uri": "https://localhost:8080/",
          "height": 447
        },
        "id": "FFTZofOK6imV",
        "outputId": "8cb99782-ac0a-43c1-b12c-0746e84006bc"
      },
      "execution_count": null,
      "outputs": [
        {
          "output_type": "execute_result",
          "data": {
            "text/plain": [
              "<matplotlib.image.AxesImage at 0x7f792f3f6fd0>"
            ]
          },
          "metadata": {},
          "execution_count": 24
        },
        {
          "output_type": "display_data",
          "data": {
            "text/plain": [
              "<Figure size 640x480 with 1 Axes>"
            ],
            "image/png": "[encoded data removed]"
          },
          "metadata": {}
        }
      ]
    },
    {
      "cell_type": "code",
      "source": [
        "x_test = x_test.reshape(10000, 28*28)"
      ],
      "metadata": {
        "id": "SIew3SZ9X7gO"
      },
      "execution_count": null,
      "outputs": []
    },
    {
      "cell_type": "code",
      "source": [
        "x_train = x_train.reshape(60000, 28*28)"
      ],
      "metadata": {
        "id": "3Gv1M4u_YRrR"
      },
      "execution_count": null,
      "outputs": []
    },
    {
      "cell_type": "code",
      "source": [
        "from tensorflow.keras.utils import to_categorical\n",
        "y_train = to_categorical(y_train, 10)\n",
        "y_test = to_categorical(y_test, 10)\n",
        "y_train.shape"
      ],
      "metadata": {
        "colab": {
          "base_uri": "https://localhost:8080/"
        },
        "id": "nmO3JUE1dBYk",
        "outputId": "407485f3-03af-4426-d110-0f56d77b7bb5"
      },
      "execution_count": null,
      "outputs": [
        {
          "output_type": "execute_result",
          "data": {
            "text/plain": [
              "(60000, 10, 10)"
            ]
          },
          "metadata": {},
          "execution_count": 28
        }
      ]
    },
    {
      "cell_type": "code",
      "source": [
        "%matplotlib inline\n",
        "#from MulticoreTSNE import MulticoreTSNE as TSNE\n",
        "from matplotlib import pyplot as plt\n",
        "import torch\n",
        "from torchvision import datasets, transforms\n",
        "from torch import nn\n",
        "import torch.nn.functional as F\n",
        "import numpy as np\n",
        "\n",
        "torch.manual_seed(42)\n",
        "np.random.seed(42)\n",
        "torch.backends.cudnn.deterministic = True\n",
        "torch.backends.cudnn.benchmark = False\n",
        "\n",
        "\n",
        "x_train = torch.from_numpy(x_train).type(torch.FloatTensor)\n",
        "y_train = torch.from_numpy(y_train).type(torch.LongTensor) \n",
        "\n",
        "x_test = torch.from_numpy(x_test).type(torch.FloatTensor)\n",
        "y_test = torch.from_numpy(y_test).type(torch.LongTensor) "
      ],
      "metadata": {
        "id": "2GV6yQ2EzgXG"
      },
      "execution_count": null,
      "outputs": []
    },
    {
      "cell_type": "code",
      "source": [
        "x_train.shape"
      ],
      "metadata": {
        "colab": {
          "base_uri": "https://localhost:8080/"
        },
        "id": "avLd7m37jVRb",
        "outputId": "5e2acc27-2ce9-4419-f39b-4cdaf6eb91b3"
      },
      "execution_count": null,
      "outputs": [
        {
          "output_type": "execute_result",
          "data": {
            "text/plain": [
              "(60000, 784)"
            ]
          },
          "metadata": {},
          "execution_count": 68
        }
      ]
    },
    {
      "cell_type": "markdown",
      "source": [
        "Lee used a neural network with one hiddedn layer. Lee used a rectified linear unit for the one hidden layer.  Sigmoid was use for the output layer. There are five thousand nodes. For optimization Lee used mini-batch Stochastic Gradient Descent with Dropout. The learning rate was set to 1.5 initially and the mini batch number was 32 for labeled data and 256 for unlabeled data. The parameters were determined by using the validation set.\n",
        "\n",
        "\n",
        "1.- Train model on a batch of labeled data <br>\n",
        "2.- Use the trained model to predict labels on a batch of unlabeled data <br>\n",
        "3.- Use the predicted labels to calculate the loss on unlabeled data <br>\n",
        "4.- Combine labeled loss with unlabeled (by adding alpha weight to the loss of unlabeled data) loss and backpropagate <br>\n"
      ],
      "metadata": {
        "id": "v2_ytSSKLST_"
      }
    },
    {
      "cell_type": "code",
      "source": [
        "mnist = tf.keras.datasets.mnist\n",
        "(x_train, y_train), (x_test, y_test) = mnist.load_data()\n",
        "x_test = x_test.reshape(10000, 28*28)\n",
        "x_train = x_train.reshape(60000, 28*28)\n",
        "\n",
        "UNLABELED_BS = 256\n",
        "TRAIN_BS = 32\n",
        "TEST_BS = 1024\n",
        "\n",
        "num_train_samples = 1000\n",
        "samples_per_class = int(num_train_samples/9)\n",
        "\n",
        "from sklearn.preprocessing import Normalizer\n",
        "\n",
        "normalizer = Normalizer()\n",
        "x_train_t = normalizer.fit_transform(x_test[:1000])\n",
        "x_unlabeled = normalizer.transform(x_train)\n",
        "x_test_t = normalizer.transform(x_test[:5000])\n",
        "\n",
        "\n",
        "x_train_ = torch.from_numpy(x_train_t).type(torch.FloatTensor)\n",
        "y_train_ = torch.from_numpy(y_test[:1000]).type(torch.LongTensor) \n",
        "\n",
        "x_test_ = torch.from_numpy(x_test_t).type(torch.FloatTensor)\n",
        "y_test_ = torch.from_numpy(y_test[:5000]).type(torch.LongTensor) \n",
        "\n",
        "print(len(x_test_), len(y_test_))\n",
        "train = torch.utils.data.TensorDataset(x_train_, y_train_)\n",
        "test = torch.utils.data.TensorDataset(x_test_, y_test_)\n",
        "\n",
        "train_loader = torch.utils.data.DataLoader(train, batch_size = TRAIN_BS, shuffle = True, num_workers = 8)\n",
        "\n",
        "unlabeled_train = torch.from_numpy(x_unlabeled).type(torch.FloatTensor)\n",
        "\n",
        "unlabeled = torch.utils.data.TensorDataset(unlabeled_train)\n",
        "unlabeled_loader = torch.utils.data.DataLoader(unlabeled, batch_size = UNLABELED_BS, shuffle = True, num_workers = 8)\n",
        "\n",
        "test_loader = torch.utils.data.DataLoader(test, batch_size = TEST_BS, shuffle = True, num_workers = 8)\n",
        "\n",
        "\n"
      ],
      "metadata": {
        "colab": {
          "base_uri": "https://localhost:8080/"
        },
        "id": "ZnHGF_pF18mN",
        "outputId": "40645a65-e817-424a-b8d8-6720cc04f3fe"
      },
      "execution_count": null,
      "outputs": [
        {
          "output_type": "stream",
          "name": "stdout",
          "text": [
            "5000 5000\n"
          ]
        },
        {
          "output_type": "stream",
          "name": "stderr",
          "text": [
            "/usr/local/lib/python3.9/dist-packages/torch/utils/data/dataloader.py:561: UserWarning: This DataLoader will create 8 worker processes in total. Our suggested max number of worker in current system is 2, which is smaller than what this DataLoader is going to create. Please be aware that excessive worker creation might get DataLoader running slow or even freeze, lower the worker number to avoid potential slowness/freeze if necessary.\n",
            "  warnings.warn(_create_warning_msg(\n"
          ]
        }
      ]
    },
    {
      "cell_type": "code",
      "source": [
        "import torch\n",
        "from torch import nn\n",
        "import torch.nn.functional as F\n",
        "\n",
        "\"\"\"\n",
        "Set of two convolutional layers with maxpool and droput method \n",
        "applied relu to each Conv2 layer and softmax as the last output layer\n",
        "\n",
        "\"\"\"\n",
        "class Net(nn.Module):\n",
        "        def __init__(self):\n",
        "            super(Net, self).__init__()\n",
        "            self.conv1 = nn.Conv2d(1, 20, kernel_size=5)\n",
        "            self.conv2 = nn.Conv2d(20, 40, kernel_size=5)\n",
        "            self.conv2_drop = nn.Dropout2d()\n",
        "            self.fc1 = nn.Linear(640, 150)\n",
        "            self.fc2 = nn.Linear(150, 10)\n",
        "            self.log_softmax = nn.LogSoftmax(dim = 1)\n",
        "\n",
        "        def forward(self, x):\n",
        "            x = x.view(-1,1,28,28)\n",
        "            x = F.relu(F.max_pool2d(self.conv1(x), 2))\n",
        "            x = F.relu(F.max_pool2d(self.conv2_drop(self.conv2(x)), 2))\n",
        "            x = x.view(-1, 640)\n",
        "            x = F.relu(self.fc1(x))\n",
        "            x = F.dropout(x, training=self.training)\n",
        "            x = F.relu(self.fc2(x))\n",
        "            x = self.log_softmax(x)\n",
        "            return x\n",
        "        \n",
        "net = Net()#.cuda()"
      ],
      "metadata": {
        "id": "_wJ-qShF9fPC"
      },
      "execution_count": null,
      "outputs": []
    },
    {
      "cell_type": "code",
      "source": [
        "def evaluate(model, test_loader):\n",
        "    model.eval()\n",
        "    correct = 0 \n",
        "    loss = 0\n",
        "    with torch.no_grad():\n",
        "        for data, labels in test_loader:\n",
        "            data = data #.cuda()\n",
        "            output = model(data)\n",
        "            predicted = torch.max(output,1)[1]\n",
        "            correct += (predicted == labels).sum()\n",
        "            loss += F.nll_loss(output, labels).item()\n",
        "\n",
        "    return (float(correct)/len(test)) *100, (loss/len(test_loader))"
      ],
      "metadata": {
        "id": "9tD9FOyw5nWc"
      },
      "execution_count": null,
      "outputs": []
    },
    {
      "cell_type": "code",
      "source": [
        "from tqdm import tqdm_notebook\n",
        "\n",
        "\"\"\"\n",
        "This pretty much trains the model with the labeled data per batch \n",
        "at each batch get the input and hold on the loss value\n",
        "add the losses to the overall loss at every bacth\n",
        "\"\"\"\n",
        "\n",
        "def train_supervised(model, train_loader, test_loader):\n",
        "    optimizer = torch.optim.SGD( model.parameters(), lr = 0.1)\n",
        "    EPOCHS = 100\n",
        "    model.train()\n",
        "    for epoch in tqdm_notebook(range(EPOCHS)):\n",
        "        correct = 0\n",
        "        running_loss = 0\n",
        "        for batch_idx, (X_batch, y_batch) in enumerate(train_loader):\n",
        "            X_batch, y_batch = X_batch, y_batch #.cuda()\n",
        "            \n",
        "            output = model(X_batch)\n",
        "            labeled_loss = F.nll_loss(output, y_batch)\n",
        "                       \n",
        "            optimizer.zero_grad()\n",
        "            labeled_loss.backward()\n",
        "            optimizer.step()\n",
        "            running_loss += labeled_loss.item()\n",
        "        \n",
        "        if epoch %10 == 0:\n",
        "            test_acc, test_loss = evaluate(model, test_loader)\n",
        "            print('Epoch: {} : Train Loss : {:.5f} | Test Acc : {:.5f} | Test Loss : {:.3f} '.format(epoch, running_loss/(10 * len(train)), test_acc, test_loss))\n",
        "            model.train()\n",
        "    "
      ],
      "metadata": {
        "id": "HXRadb599iG6"
      },
      "execution_count": null,
      "outputs": []
    },
    {
      "cell_type": "code",
      "source": [
        "train_supervised(net, train_loader, test_loader)"
      ],
      "metadata": {
        "colab": {
          "base_uri": "https://localhost:8080/",
          "height": 270,
          "referenced_widgets": [
            "0d5f46d8ee8940f0abdd95b6569b29d3",
            "a5a36d3e6eda4eceabe77132120a4e78",
            "88cb74076de74444b5bf1ea15b855c8b",
            "d45d55965921474e8a70c1fdcdf70f0c",
            "17b80d2c9b9b4e3f976840212165493f",
            "817a8c3ef0744931b6bde8323cc6142b",
            "09c33df0d1d34cafb17e7b8e110a5245",
            "cb233aa8bc244b05b740df497934f2c8",
            "5cee06f408884de2b6db8bb8c520b0a0",
            "38ebeba9501d499390c37037b557ed65",
            "af628bdc19264b62a4162d92dc8f7a6c"
          ]
        },
        "id": "4i1kaSST0ZFx",
        "outputId": "36edc9c2-3892-41b2-ede5-1005f6233b99"
      },
      "execution_count": null,
      "outputs": [
        {
          "output_type": "stream",
          "name": "stderr",
          "text": [
            "<ipython-input-50-81304e7db4b7>:7: TqdmDeprecationWarning: This function will be removed in tqdm==5.0.0\n",
            "Please use `tqdm.notebook.tqdm` instead of `tqdm.tqdm_notebook`\n",
            "  for epoch in tqdm_notebook(range(EPOCHS)):\n"
          ]
        },
        {
          "output_type": "display_data",
          "data": {
            "text/plain": [
              "  0%|          | 0/100 [00:00<?, ?it/s]"
            ],
            "application/vnd.jupyter.widget-view+json": {
              "version_major": 2,
              "version_minor": 0,
              "model_id": "0d5f46d8ee8940f0abdd95b6569b29d3"
            }
          },
          "metadata": {}
        },
        {
          "output_type": "stream",
          "name": "stdout",
          "text": [
            "Epoch: 0 : Train Loss : 0.00737 | Test Acc : 10.60000 | Test Loss : 2.302 \n",
            "Epoch: 10 : Train Loss : 0.00735 | Test Acc : 20.26000 | Test Loss : 2.298 \n",
            "Epoch: 20 : Train Loss : 0.00507 | Test Acc : 26.32000 | Test Loss : 2.012 \n",
            "Epoch: 30 : Train Loss : 0.00160 | Test Acc : 84.84000 | Test Loss : 0.446 \n",
            "Epoch: 40 : Train Loss : 0.00105 | Test Acc : 90.20000 | Test Loss : 0.308 \n",
            "Epoch: 50 : Train Loss : 0.00071 | Test Acc : 93.08000 | Test Loss : 0.231 \n",
            "Epoch: 60 : Train Loss : 0.00060 | Test Acc : 92.84000 | Test Loss : 0.230 \n",
            "Epoch: 70 : Train Loss : 0.00046 | Test Acc : 94.14000 | Test Loss : 0.198 \n",
            "Epoch: 80 : Train Loss : 0.00041 | Test Acc : 94.18000 | Test Loss : 0.213 \n",
            "Epoch: 90 : Train Loss : 0.00032 | Test Acc : 94.58000 | Test Loss : 0.191 \n"
          ]
        }
      ]
    },
    {
      "cell_type": "code",
      "source": [
        "T1 = 100\n",
        "T2 = 700\n",
        "af = 3\n",
        "\n",
        "def alpha_weight(epoch):\n",
        "    if epoch < T1:\n",
        "        return 0.0\n",
        "    elif epoch > T2:\n",
        "        return af\n",
        "    else:\n",
        "         return ((epoch-T1) / (T2-T1))*af"
      ],
      "metadata": {
        "id": "H1lSm9gVHRD1"
      },
      "execution_count": null,
      "outputs": []
    },
    {
      "cell_type": "code",
      "source": [],
      "metadata": {
        "id": "-iWI_rQkIvYu"
      },
      "execution_count": null,
      "outputs": []
    },
    {
      "cell_type": "code",
      "source": [
        "from tqdm import tqdm_notebook\n",
        "\n",
        "acc_scores = []\n",
        "unlabel = []\n",
        "pseudo_label = []\n",
        "\n",
        "alpha_log = []\n",
        "test_acc_log = []\n",
        "test_loss_log = []\n",
        "def semisup_train(model, train_loader, unlabeled_loader, test_loader):\n",
        "    optimizer = torch.optim.SGD(model.parameters(), lr = 0.1)\n",
        "    EPOCHS = 150\n",
        "    \n",
        "    # Instead of using current epoch we use a \"step\" variable to calculate alpha_weight\n",
        "    # This helps the model converge faster\n",
        "    step = 100 \n",
        "    \n",
        "    model.train()\n",
        "    for epoch in tqdm_notebook(range(EPOCHS)):\n",
        "        for batch_idx, x_unlabeled in enumerate(unlabeled_loader):\n",
        "            \n",
        "            \n",
        "            # Forward Pass to get the pseudo labels\n",
        "            x_unlabeled = x_unlabeled[0] #.cuda()\n",
        "            model.eval()\n",
        "            output_unlabeled = model(x_unlabeled)\n",
        "            _, pseudo_labeled = torch.max(output_unlabeled, 1)\n",
        "            model.train()\n",
        "            \n",
        "            \n",
        "            \"\"\" ONLY FOR VISUALIZATION\"\"\"\n",
        "            if (batch_idx < 3) and (epoch % 10 == 0):\n",
        "                unlabel.append(x_unlabeled.cpu())\n",
        "                pseudo_label.append(pseudo_labeled.cpu())\n",
        "            \"\"\" ********************** \"\"\"\n",
        "            \n",
        "            # Now calculate the unlabeled loss using the pseudo label\n",
        "            output = model(x_unlabeled)\n",
        "            unlabeled_loss = alpha_weight(step) * F.nll_loss(output, pseudo_labeled)   \n",
        "            \n",
        "            # Backpropogate\n",
        "            optimizer.zero_grad()\n",
        "            unlabeled_loss.backward()\n",
        "            optimizer.step()\n",
        "            \n",
        "            \n",
        "            # For every 50 batches train one epoch on labeled data \n",
        "            if batch_idx % 50 == 0:\n",
        "                \n",
        "                # Normal training procedure\n",
        "                for batch_idx, (X_batch, y_batch) in enumerate(train_loader):\n",
        "                    X_batch = X_batch #.cuda()\n",
        "                    y_batch = y_batch \n",
        "                    #.cuda()\n",
        "                    output = model(X_batch)\n",
        "                    labeled_loss = F.nll_loss(output, y_batch)\n",
        "\n",
        "                    optimizer.zero_grad()\n",
        "                    labeled_loss.backward()\n",
        "                    optimizer.step()\n",
        "                \n",
        "                # Now we increment step by 1\n",
        "                step += 1\n",
        "                \n",
        "\n",
        "        test_acc, test_loss =evaluate(model, test_loader)\n",
        "        print('Epoch: {} : Alpha Weight : {:.5f} | Test Acc : {:.5f} | Test Loss : {:.3f} '.format(epoch, alpha_weight(step), test_acc, test_loss))\n",
        "        \n",
        "        \"\"\" LOGGING VALUES \"\"\"\n",
        "        alpha_log.append(alpha_weight(step))\n",
        "        test_acc_log.append(test_acc/100)\n",
        "        test_loss_log.append(test_loss)\n",
        "        \"\"\" ************** \"\"\"\n",
        "        model.train()\n",
        " "
      ],
      "metadata": {
        "id": "yARfdSuyHBDG"
      },
      "execution_count": null,
      "outputs": []
    },
    {
      "cell_type": "code",
      "source": [
        "semisup_train(net, train_loader, unlabeled_loader, test_loader)"
      ],
      "metadata": {
        "colab": {
          "base_uri": "https://localhost:8080/",
          "height": 1000,
          "referenced_widgets": [
            "78041d25d7d14144bbd8aa484d2078da",
            "25b4c1d51b164473bce5cf8fbd63238c",
            "34da9db3f33e410e9d9fb942cc9ff7f3",
            "0b6f71c551ca4b4b836d0ed5051f2614",
            "74ab6c50497941298e603a35c456c241",
            "1fbccd00656a42889118fae2194e4b17",
            "21fe255c2b884e9dab1d9298a12cc23d",
            "cd25622147234a2a97030c38cf514bbb",
            "4698fe1509df49528e19e9d0c9831efb",
            "d81abaf68cc646c9a7b257896ecb613d",
            "2a9446d256bf411eb30e91b099774a3a"
          ]
        },
        "id": "3VS0pZOOHVbP",
        "outputId": "4277440e-a5ef-4be6-d89d-4e4c6a060fa3"
      },
      "execution_count": null,
      "outputs": [
        {
          "metadata": {
            "tags": null
          },
          "name": "stderr",
          "output_type": "stream",
          "text": [
            "<ipython-input-56-e0ab3a72d07f>:19: TqdmDeprecationWarning: This function will be removed in tqdm==5.0.0\n",
            "Please use `tqdm.notebook.tqdm` instead of `tqdm.tqdm_notebook`\n",
            "  for epoch in tqdm_notebook(range(EPOCHS)):\n"
          ]
        },
        {
          "data": {
            "application/vnd.jupyter.widget-view+json": {
              "model_id": "78041d25d7d14144bbd8aa484d2078da",
              "version_major": 2,
              "version_minor": 0
            },
            "text/plain": [
              "  0%|          | 0/150 [00:00<?, ?it/s]"
            ]
          },
          "metadata": {},
          "output_type": "display_data"
        },
        {
          "output_type": "stream",
          "name": "stdout",
          "text": [
            "Epoch: 0 : Alpha Weight : 0.02500 | Test Acc : 94.78000 | Test Loss : 0.211 \n",
            "Epoch: 1 : Alpha Weight : 0.05000 | Test Acc : 94.94000 | Test Loss : 0.202 \n",
            "Epoch: 2 : Alpha Weight : 0.07500 | Test Acc : 95.20000 | Test Loss : 0.197 \n",
            "Epoch: 3 : Alpha Weight : 0.10000 | Test Acc : 95.02000 | Test Loss : 0.199 \n",
            "Epoch: 4 : Alpha Weight : 0.12500 | Test Acc : 95.10000 | Test Loss : 0.205 \n",
            "Epoch: 5 : Alpha Weight : 0.15000 | Test Acc : 95.40000 | Test Loss : 0.188 \n",
            "Epoch: 6 : Alpha Weight : 0.17500 | Test Acc : 95.50000 | Test Loss : 0.191 \n",
            "Epoch: 7 : Alpha Weight : 0.20000 | Test Acc : 95.52000 | Test Loss : 0.190 \n",
            "Epoch: 8 : Alpha Weight : 0.22500 | Test Acc : 95.66000 | Test Loss : 0.185 \n",
            "Epoch: 9 : Alpha Weight : 0.25000 | Test Acc : 95.80000 | Test Loss : 0.179 \n",
            "Epoch: 10 : Alpha Weight : 0.27500 | Test Acc : 95.80000 | Test Loss : 0.181 \n",
            "Epoch: 11 : Alpha Weight : 0.30000 | Test Acc : 95.90000 | Test Loss : 0.177 \n",
            "Epoch: 12 : Alpha Weight : 0.32500 | Test Acc : 95.82000 | Test Loss : 0.176 \n",
            "Epoch: 13 : Alpha Weight : 0.35000 | Test Acc : 95.90000 | Test Loss : 0.178 \n",
            "Epoch: 14 : Alpha Weight : 0.37500 | Test Acc : 95.98000 | Test Loss : 0.176 \n",
            "Epoch: 15 : Alpha Weight : 0.40000 | Test Acc : 95.92000 | Test Loss : 0.172 \n",
            "Epoch: 16 : Alpha Weight : 0.42500 | Test Acc : 96.10000 | Test Loss : 0.171 \n",
            "Epoch: 17 : Alpha Weight : 0.45000 | Test Acc : 95.88000 | Test Loss : 0.172 \n",
            "Epoch: 18 : Alpha Weight : 0.47500 | Test Acc : 96.06000 | Test Loss : 0.178 \n",
            "Epoch: 19 : Alpha Weight : 0.50000 | Test Acc : 96.12000 | Test Loss : 0.171 \n",
            "Epoch: 20 : Alpha Weight : 0.52500 | Test Acc : 96.14000 | Test Loss : 0.173 \n",
            "Epoch: 21 : Alpha Weight : 0.55000 | Test Acc : 96.22000 | Test Loss : 0.163 \n",
            "Epoch: 22 : Alpha Weight : 0.57500 | Test Acc : 96.42000 | Test Loss : 0.167 \n",
            "Epoch: 23 : Alpha Weight : 0.60000 | Test Acc : 96.20000 | Test Loss : 0.162 \n",
            "Epoch: 24 : Alpha Weight : 0.62500 | Test Acc : 96.28000 | Test Loss : 0.164 \n",
            "Epoch: 25 : Alpha Weight : 0.65000 | Test Acc : 96.38000 | Test Loss : 0.155 \n",
            "Epoch: 26 : Alpha Weight : 0.67500 | Test Acc : 96.48000 | Test Loss : 0.151 \n",
            "Epoch: 27 : Alpha Weight : 0.70000 | Test Acc : 96.54000 | Test Loss : 0.158 \n",
            "Epoch: 28 : Alpha Weight : 0.72500 | Test Acc : 96.48000 | Test Loss : 0.159 \n",
            "Epoch: 29 : Alpha Weight : 0.75000 | Test Acc : 96.46000 | Test Loss : 0.159 \n",
            "Epoch: 30 : Alpha Weight : 0.77500 | Test Acc : 96.70000 | Test Loss : 0.153 \n",
            "Epoch: 31 : Alpha Weight : 0.80000 | Test Acc : 96.44000 | Test Loss : 0.155 \n",
            "Epoch: 32 : Alpha Weight : 0.82500 | Test Acc : 96.50000 | Test Loss : 0.156 \n",
            "Epoch: 33 : Alpha Weight : 0.85000 | Test Acc : 96.48000 | Test Loss : 0.155 \n",
            "Epoch: 34 : Alpha Weight : 0.87500 | Test Acc : 96.58000 | Test Loss : 0.150 \n",
            "Epoch: 35 : Alpha Weight : 0.90000 | Test Acc : 96.64000 | Test Loss : 0.151 \n",
            "Epoch: 36 : Alpha Weight : 0.92500 | Test Acc : 96.58000 | Test Loss : 0.153 \n",
            "Epoch: 37 : Alpha Weight : 0.95000 | Test Acc : 96.50000 | Test Loss : 0.153 \n",
            "Epoch: 38 : Alpha Weight : 0.97500 | Test Acc : 96.80000 | Test Loss : 0.147 \n",
            "Epoch: 39 : Alpha Weight : 1.00000 | Test Acc : 96.60000 | Test Loss : 0.151 \n",
            "Epoch: 40 : Alpha Weight : 1.02500 | Test Acc : 96.72000 | Test Loss : 0.147 \n",
            "Epoch: 41 : Alpha Weight : 1.05000 | Test Acc : 96.64000 | Test Loss : 0.148 \n",
            "Epoch: 42 : Alpha Weight : 1.07500 | Test Acc : 96.64000 | Test Loss : 0.145 \n",
            "Epoch: 43 : Alpha Weight : 1.10000 | Test Acc : 96.78000 | Test Loss : 0.140 \n",
            "Epoch: 44 : Alpha Weight : 1.12500 | Test Acc : 96.74000 | Test Loss : 0.143 \n",
            "Epoch: 45 : Alpha Weight : 1.15000 | Test Acc : 96.66000 | Test Loss : 0.143 \n",
            "Epoch: 46 : Alpha Weight : 1.17500 | Test Acc : 96.92000 | Test Loss : 0.134 \n",
            "Epoch: 47 : Alpha Weight : 1.20000 | Test Acc : 96.96000 | Test Loss : 0.130 \n",
            "Epoch: 48 : Alpha Weight : 1.22500 | Test Acc : 96.94000 | Test Loss : 0.135 \n",
            "Epoch: 49 : Alpha Weight : 1.25000 | Test Acc : 96.98000 | Test Loss : 0.137 \n",
            "Epoch: 50 : Alpha Weight : 1.27500 | Test Acc : 96.88000 | Test Loss : 0.132 \n",
            "Epoch: 51 : Alpha Weight : 1.30000 | Test Acc : 96.92000 | Test Loss : 0.130 \n",
            "Epoch: 52 : Alpha Weight : 1.32500 | Test Acc : 96.92000 | Test Loss : 0.129 \n",
            "Epoch: 53 : Alpha Weight : 1.35000 | Test Acc : 97.04000 | Test Loss : 0.128 \n",
            "Epoch: 54 : Alpha Weight : 1.37500 | Test Acc : 97.08000 | Test Loss : 0.126 \n",
            "Epoch: 55 : Alpha Weight : 1.40000 | Test Acc : 96.96000 | Test Loss : 0.141 \n",
            "Epoch: 56 : Alpha Weight : 1.42500 | Test Acc : 97.02000 | Test Loss : 0.130 \n",
            "Epoch: 57 : Alpha Weight : 1.45000 | Test Acc : 96.90000 | Test Loss : 0.135 \n",
            "Epoch: 58 : Alpha Weight : 1.47500 | Test Acc : 97.06000 | Test Loss : 0.125 \n",
            "Epoch: 59 : Alpha Weight : 1.50000 | Test Acc : 97.04000 | Test Loss : 0.126 \n",
            "Epoch: 60 : Alpha Weight : 1.52500 | Test Acc : 97.18000 | Test Loss : 0.128 \n",
            "Epoch: 61 : Alpha Weight : 1.55000 | Test Acc : 97.04000 | Test Loss : 0.133 \n",
            "Epoch: 62 : Alpha Weight : 1.57500 | Test Acc : 96.78000 | Test Loss : 0.135 \n",
            "Epoch: 63 : Alpha Weight : 1.60000 | Test Acc : 97.10000 | Test Loss : 0.121 \n",
            "Epoch: 64 : Alpha Weight : 1.62500 | Test Acc : 96.98000 | Test Loss : 0.133 \n",
            "Epoch: 65 : Alpha Weight : 1.65000 | Test Acc : 97.08000 | Test Loss : 0.123 \n",
            "Epoch: 66 : Alpha Weight : 1.67500 | Test Acc : 97.06000 | Test Loss : 0.128 \n",
            "Epoch: 67 : Alpha Weight : 1.70000 | Test Acc : 97.18000 | Test Loss : 0.120 \n",
            "Epoch: 68 : Alpha Weight : 1.72500 | Test Acc : 97.10000 | Test Loss : 0.120 \n",
            "Epoch: 69 : Alpha Weight : 1.75000 | Test Acc : 97.16000 | Test Loss : 0.126 \n",
            "Epoch: 69 : Alpha Weight : 1.75000 | Test Acc : 97.16000 | Test Loss : 0.126 \n",
            "Epoch: 69 : Alpha Weight : 1.75000 | Test Acc : 97.16000 | Test Loss : 0.126 \n",
            "Epoch: 70 : Alpha Weight : 1.77500 | Test Acc : 97.04000 | Test Loss : 0.118 \n",
            "Epoch: 70 : Alpha Weight : 1.77500 | Test Acc : 97.04000 | Test Loss : 0.118 \n",
            "Epoch: 70 : Alpha Weight : 1.77500 | Test Acc : 97.04000 | Test Loss : 0.118 \n",
            "Epoch: 71 : Alpha Weight : 1.80000 | Test Acc : 97.22000 | Test Loss : 0.112 \n",
            "Epoch: 71 : Alpha Weight : 1.80000 | Test Acc : 97.22000 | Test Loss : 0.112 \n",
            "Epoch: 71 : Alpha Weight : 1.80000 | Test Acc : 97.22000 | Test Loss : 0.112 \n"
          ]
        },
        {
          "output_type": "error",
          "ename": "KeyboardInterrupt",
          "evalue": "ignored",
          "traceback": [
            "\u001b[0;31m---------------------------------------------------------------------------\u001b[0m",
            "\u001b[0;31mKeyboardInterrupt\u001b[0m                         Traceback (most recent call last)",
            "\u001b[0;32m<ipython-input-57-7221dae10eff>\u001b[0m in \u001b[0;36m<cell line: 1>\u001b[0;34m()\u001b[0m\n\u001b[0;32m----> 1\u001b[0;31m \u001b[0msemisup_train\u001b[0m\u001b[0;34m(\u001b[0m\u001b[0mnet\u001b[0m\u001b[0;34m,\u001b[0m \u001b[0mtrain_loader\u001b[0m\u001b[0;34m,\u001b[0m \u001b[0munlabeled_loader\u001b[0m\u001b[0;34m,\u001b[0m \u001b[0mtest_loader\u001b[0m\u001b[0;34m)\u001b[0m\u001b[0;34m\u001b[0m\u001b[0;34m\u001b[0m\u001b[0m\n\u001b[0m",
            "\u001b[0;32m<ipython-input-56-e0ab3a72d07f>\u001b[0m in \u001b[0;36msemisup_train\u001b[0;34m(model, train_loader, unlabeled_loader, test_loader)\u001b[0m\n\u001b[1;32m     36\u001b[0m \u001b[0;34m\u001b[0m\u001b[0m\n\u001b[1;32m     37\u001b[0m             \u001b[0;31m# Now calculate the unlabeled loss using the pseudo label\u001b[0m\u001b[0;34m\u001b[0m\u001b[0;34m\u001b[0m\u001b[0m\n\u001b[0;32m---> 38\u001b[0;31m             \u001b[0moutput\u001b[0m \u001b[0;34m=\u001b[0m \u001b[0mmodel\u001b[0m\u001b[0;34m(\u001b[0m\u001b[0mx_unlabeled\u001b[0m\u001b[0;34m)\u001b[0m\u001b[0;34m\u001b[0m\u001b[0;34m\u001b[0m\u001b[0m\n\u001b[0m\u001b[1;32m     39\u001b[0m             \u001b[0munlabeled_loss\u001b[0m \u001b[0;34m=\u001b[0m \u001b[0malpha_weight\u001b[0m\u001b[0;34m(\u001b[0m\u001b[0mstep\u001b[0m\u001b[0;34m)\u001b[0m \u001b[0;34m*\u001b[0m \u001b[0mF\u001b[0m\u001b[0;34m.\u001b[0m\u001b[0mnll_loss\u001b[0m\u001b[0;34m(\u001b[0m\u001b[0moutput\u001b[0m\u001b[0;34m,\u001b[0m \u001b[0mpseudo_labeled\u001b[0m\u001b[0;34m)\u001b[0m\u001b[0;34m\u001b[0m\u001b[0;34m\u001b[0m\u001b[0m\n\u001b[1;32m     40\u001b[0m \u001b[0;34m\u001b[0m\u001b[0m\n",
            "\u001b[0;32m/usr/local/lib/python3.9/dist-packages/torch/nn/modules/module.py\u001b[0m in \u001b[0;36m_call_impl\u001b[0;34m(self, *args, **kwargs)\u001b[0m\n\u001b[1;32m   1499\u001b[0m                 \u001b[0;32mor\u001b[0m \u001b[0m_global_backward_pre_hooks\u001b[0m \u001b[0;32mor\u001b[0m \u001b[0m_global_backward_hooks\u001b[0m\u001b[0;34m\u001b[0m\u001b[0;34m\u001b[0m\u001b[0m\n\u001b[1;32m   1500\u001b[0m                 or _global_forward_hooks or _global_forward_pre_hooks):\n\u001b[0;32m-> 1501\u001b[0;31m             \u001b[0;32mreturn\u001b[0m \u001b[0mforward_call\u001b[0m\u001b[0;34m(\u001b[0m\u001b[0;34m*\u001b[0m\u001b[0margs\u001b[0m\u001b[0;34m,\u001b[0m \u001b[0;34m**\u001b[0m\u001b[0mkwargs\u001b[0m\u001b[0;34m)\u001b[0m\u001b[0;34m\u001b[0m\u001b[0;34m\u001b[0m\u001b[0m\n\u001b[0m\u001b[1;32m   1502\u001b[0m         \u001b[0;31m# Do not call functions when jit is used\u001b[0m\u001b[0;34m\u001b[0m\u001b[0;34m\u001b[0m\u001b[0m\n\u001b[1;32m   1503\u001b[0m         \u001b[0mfull_backward_hooks\u001b[0m\u001b[0;34m,\u001b[0m \u001b[0mnon_full_backward_hooks\u001b[0m \u001b[0;34m=\u001b[0m \u001b[0;34m[\u001b[0m\u001b[0;34m]\u001b[0m\u001b[0;34m,\u001b[0m \u001b[0;34m[\u001b[0m\u001b[0;34m]\u001b[0m\u001b[0;34m\u001b[0m\u001b[0;34m\u001b[0m\u001b[0m\n",
            "\u001b[0;32m<ipython-input-48-4e21dd380561>\u001b[0m in \u001b[0;36mforward\u001b[0;34m(self, x)\u001b[0m\n\u001b[1;32m     15\u001b[0m         \u001b[0;32mdef\u001b[0m \u001b[0mforward\u001b[0m\u001b[0;34m(\u001b[0m\u001b[0mself\u001b[0m\u001b[0;34m,\u001b[0m \u001b[0mx\u001b[0m\u001b[0;34m)\u001b[0m\u001b[0;34m:\u001b[0m\u001b[0;34m\u001b[0m\u001b[0;34m\u001b[0m\u001b[0m\n\u001b[1;32m     16\u001b[0m             \u001b[0mx\u001b[0m \u001b[0;34m=\u001b[0m \u001b[0mx\u001b[0m\u001b[0;34m.\u001b[0m\u001b[0mview\u001b[0m\u001b[0;34m(\u001b[0m\u001b[0;34m-\u001b[0m\u001b[0;36m1\u001b[0m\u001b[0;34m,\u001b[0m\u001b[0;36m1\u001b[0m\u001b[0;34m,\u001b[0m\u001b[0;36m28\u001b[0m\u001b[0;34m,\u001b[0m\u001b[0;36m28\u001b[0m\u001b[0;34m)\u001b[0m\u001b[0;34m\u001b[0m\u001b[0;34m\u001b[0m\u001b[0m\n\u001b[0;32m---> 17\u001b[0;31m             \u001b[0mx\u001b[0m \u001b[0;34m=\u001b[0m \u001b[0mF\u001b[0m\u001b[0;34m.\u001b[0m\u001b[0mrelu\u001b[0m\u001b[0;34m(\u001b[0m\u001b[0mF\u001b[0m\u001b[0;34m.\u001b[0m\u001b[0mmax_pool2d\u001b[0m\u001b[0;34m(\u001b[0m\u001b[0mself\u001b[0m\u001b[0;34m.\u001b[0m\u001b[0mconv1\u001b[0m\u001b[0;34m(\u001b[0m\u001b[0mx\u001b[0m\u001b[0;34m)\u001b[0m\u001b[0;34m,\u001b[0m \u001b[0;36m2\u001b[0m\u001b[0;34m)\u001b[0m\u001b[0;34m)\u001b[0m\u001b[0;34m\u001b[0m\u001b[0;34m\u001b[0m\u001b[0m\n\u001b[0m\u001b[1;32m     18\u001b[0m             \u001b[0mx\u001b[0m \u001b[0;34m=\u001b[0m \u001b[0mF\u001b[0m\u001b[0;34m.\u001b[0m\u001b[0mrelu\u001b[0m\u001b[0;34m(\u001b[0m\u001b[0mF\u001b[0m\u001b[0;34m.\u001b[0m\u001b[0mmax_pool2d\u001b[0m\u001b[0;34m(\u001b[0m\u001b[0mself\u001b[0m\u001b[0;34m.\u001b[0m\u001b[0mconv2_drop\u001b[0m\u001b[0;34m(\u001b[0m\u001b[0mself\u001b[0m\u001b[0;34m.\u001b[0m\u001b[0mconv2\u001b[0m\u001b[0;34m(\u001b[0m\u001b[0mx\u001b[0m\u001b[0;34m)\u001b[0m\u001b[0;34m)\u001b[0m\u001b[0;34m,\u001b[0m \u001b[0;36m2\u001b[0m\u001b[0;34m)\u001b[0m\u001b[0;34m)\u001b[0m\u001b[0;34m\u001b[0m\u001b[0;34m\u001b[0m\u001b[0m\n\u001b[1;32m     19\u001b[0m             \u001b[0mx\u001b[0m \u001b[0;34m=\u001b[0m \u001b[0mx\u001b[0m\u001b[0;34m.\u001b[0m\u001b[0mview\u001b[0m\u001b[0;34m(\u001b[0m\u001b[0;34m-\u001b[0m\u001b[0;36m1\u001b[0m\u001b[0;34m,\u001b[0m \u001b[0;36m640\u001b[0m\u001b[0;34m)\u001b[0m\u001b[0;34m\u001b[0m\u001b[0;34m\u001b[0m\u001b[0m\n",
            "\u001b[0;32m/usr/local/lib/python3.9/dist-packages/torch/_jit_internal.py\u001b[0m in \u001b[0;36mfn\u001b[0;34m(*args, **kwargs)\u001b[0m\n\u001b[1;32m    482\u001b[0m             \u001b[0;32mreturn\u001b[0m \u001b[0mif_true\u001b[0m\u001b[0;34m(\u001b[0m\u001b[0;34m*\u001b[0m\u001b[0margs\u001b[0m\u001b[0;34m,\u001b[0m \u001b[0;34m**\u001b[0m\u001b[0mkwargs\u001b[0m\u001b[0;34m)\u001b[0m\u001b[0;34m\u001b[0m\u001b[0;34m\u001b[0m\u001b[0m\n\u001b[1;32m    483\u001b[0m         \u001b[0;32melse\u001b[0m\u001b[0;34m:\u001b[0m\u001b[0;34m\u001b[0m\u001b[0;34m\u001b[0m\u001b[0m\n\u001b[0;32m--> 484\u001b[0;31m             \u001b[0;32mreturn\u001b[0m \u001b[0mif_false\u001b[0m\u001b[0;34m(\u001b[0m\u001b[0;34m*\u001b[0m\u001b[0margs\u001b[0m\u001b[0;34m,\u001b[0m \u001b[0;34m**\u001b[0m\u001b[0mkwargs\u001b[0m\u001b[0;34m)\u001b[0m\u001b[0;34m\u001b[0m\u001b[0;34m\u001b[0m\u001b[0m\n\u001b[0m\u001b[1;32m    485\u001b[0m \u001b[0;34m\u001b[0m\u001b[0m\n\u001b[1;32m    486\u001b[0m     \u001b[0;32mif\u001b[0m \u001b[0mif_true\u001b[0m\u001b[0;34m.\u001b[0m\u001b[0m__doc__\u001b[0m \u001b[0;32mis\u001b[0m \u001b[0;32mNone\u001b[0m \u001b[0;32mand\u001b[0m \u001b[0mif_false\u001b[0m\u001b[0;34m.\u001b[0m\u001b[0m__doc__\u001b[0m \u001b[0;32mis\u001b[0m \u001b[0;32mnot\u001b[0m \u001b[0;32mNone\u001b[0m\u001b[0;34m:\u001b[0m\u001b[0;34m\u001b[0m\u001b[0;34m\u001b[0m\u001b[0m\n",
            "\u001b[0;32m/usr/local/lib/python3.9/dist-packages/torch/nn/functional.py\u001b[0m in \u001b[0;36m_max_pool2d\u001b[0;34m(input, kernel_size, stride, padding, dilation, ceil_mode, return_indices)\u001b[0m\n\u001b[1;32m    780\u001b[0m     \u001b[0;32mif\u001b[0m \u001b[0mstride\u001b[0m \u001b[0;32mis\u001b[0m \u001b[0;32mNone\u001b[0m\u001b[0;34m:\u001b[0m\u001b[0;34m\u001b[0m\u001b[0;34m\u001b[0m\u001b[0m\n\u001b[1;32m    781\u001b[0m         \u001b[0mstride\u001b[0m \u001b[0;34m=\u001b[0m \u001b[0mtorch\u001b[0m\u001b[0;34m.\u001b[0m\u001b[0mjit\u001b[0m\u001b[0;34m.\u001b[0m\u001b[0mannotate\u001b[0m\u001b[0;34m(\u001b[0m\u001b[0mList\u001b[0m\u001b[0;34m[\u001b[0m\u001b[0mint\u001b[0m\u001b[0;34m]\u001b[0m\u001b[0;34m,\u001b[0m \u001b[0;34m[\u001b[0m\u001b[0;34m]\u001b[0m\u001b[0;34m)\u001b[0m\u001b[0;34m\u001b[0m\u001b[0;34m\u001b[0m\u001b[0m\n\u001b[0;32m--> 782\u001b[0;31m     \u001b[0;32mreturn\u001b[0m \u001b[0mtorch\u001b[0m\u001b[0;34m.\u001b[0m\u001b[0mmax_pool2d\u001b[0m\u001b[0;34m(\u001b[0m\u001b[0minput\u001b[0m\u001b[0;34m,\u001b[0m \u001b[0mkernel_size\u001b[0m\u001b[0;34m,\u001b[0m \u001b[0mstride\u001b[0m\u001b[0;34m,\u001b[0m \u001b[0mpadding\u001b[0m\u001b[0;34m,\u001b[0m \u001b[0mdilation\u001b[0m\u001b[0;34m,\u001b[0m \u001b[0mceil_mode\u001b[0m\u001b[0;34m)\u001b[0m\u001b[0;34m\u001b[0m\u001b[0;34m\u001b[0m\u001b[0m\n\u001b[0m\u001b[1;32m    783\u001b[0m \u001b[0;34m\u001b[0m\u001b[0m\n\u001b[1;32m    784\u001b[0m \u001b[0;34m\u001b[0m\u001b[0m\n",
            "\u001b[0;31mKeyboardInterrupt\u001b[0m: "
          ]
        },
        {
          "output_type": "error",
          "ename": "KeyboardInterrupt",
          "evalue": "ignored",
          "traceback": [
            "\u001b[0;31m---------------------------------------------------------------------------\u001b[0m",
            "\u001b[0;31mKeyboardInterrupt\u001b[0m                         Traceback (most recent call last)",
            "\u001b[0;32m<ipython-input-57-7221dae10eff>\u001b[0m in \u001b[0;36m<cell line: 1>\u001b[0;34m()\u001b[0m\n\u001b[0;32m----> 1\u001b[0;31m \u001b[0msemisup_train\u001b[0m\u001b[0;34m(\u001b[0m\u001b[0mnet\u001b[0m\u001b[0;34m,\u001b[0m \u001b[0mtrain_loader\u001b[0m\u001b[0;34m,\u001b[0m \u001b[0munlabeled_loader\u001b[0m\u001b[0;34m,\u001b[0m \u001b[0mtest_loader\u001b[0m\u001b[0;34m)\u001b[0m\u001b[0;34m\u001b[0m\u001b[0;34m\u001b[0m\u001b[0m\n\u001b[0m",
            "\u001b[0;32m<ipython-input-56-e0ab3a72d07f>\u001b[0m in \u001b[0;36msemisup_train\u001b[0;34m(model, train_loader, unlabeled_loader, test_loader)\u001b[0m\n\u001b[1;32m     36\u001b[0m \u001b[0;34m\u001b[0m\u001b[0m\n\u001b[1;32m     37\u001b[0m             \u001b[0;31m# Now calculate the unlabeled loss using the pseudo label\u001b[0m\u001b[0;34m\u001b[0m\u001b[0;34m\u001b[0m\u001b[0m\n\u001b[0;32m---> 38\u001b[0;31m             \u001b[0moutput\u001b[0m \u001b[0;34m=\u001b[0m \u001b[0mmodel\u001b[0m\u001b[0;34m(\u001b[0m\u001b[0mx_unlabeled\u001b[0m\u001b[0;34m)\u001b[0m\u001b[0;34m\u001b[0m\u001b[0;34m\u001b[0m\u001b[0m\n\u001b[0m\u001b[1;32m     39\u001b[0m             \u001b[0munlabeled_loss\u001b[0m \u001b[0;34m=\u001b[0m \u001b[0malpha_weight\u001b[0m\u001b[0;34m(\u001b[0m\u001b[0mstep\u001b[0m\u001b[0;34m)\u001b[0m \u001b[0;34m*\u001b[0m \u001b[0mF\u001b[0m\u001b[0;34m.\u001b[0m\u001b[0mnll_loss\u001b[0m\u001b[0;34m(\u001b[0m\u001b[0moutput\u001b[0m\u001b[0;34m,\u001b[0m \u001b[0mpseudo_labeled\u001b[0m\u001b[0;34m)\u001b[0m\u001b[0;34m\u001b[0m\u001b[0;34m\u001b[0m\u001b[0m\n\u001b[1;32m     40\u001b[0m \u001b[0;34m\u001b[0m\u001b[0m\n",
            "\u001b[0;32m/usr/local/lib/python3.9/dist-packages/torch/nn/modules/module.py\u001b[0m in \u001b[0;36m_call_impl\u001b[0;34m(self, *args, **kwargs)\u001b[0m\n\u001b[1;32m   1499\u001b[0m                 \u001b[0;32mor\u001b[0m \u001b[0m_global_backward_pre_hooks\u001b[0m \u001b[0;32mor\u001b[0m \u001b[0m_global_backward_hooks\u001b[0m\u001b[0;34m\u001b[0m\u001b[0;34m\u001b[0m\u001b[0m\n\u001b[1;32m   1500\u001b[0m                 or _global_forward_hooks or _global_forward_pre_hooks):\n\u001b[0;32m-> 1501\u001b[0;31m             \u001b[0;32mreturn\u001b[0m \u001b[0mforward_call\u001b[0m\u001b[0;34m(\u001b[0m\u001b[0;34m*\u001b[0m\u001b[0margs\u001b[0m\u001b[0;34m,\u001b[0m \u001b[0;34m**\u001b[0m\u001b[0mkwargs\u001b[0m\u001b[0;34m)\u001b[0m\u001b[0;34m\u001b[0m\u001b[0;34m\u001b[0m\u001b[0m\n\u001b[0m\u001b[1;32m   1502\u001b[0m         \u001b[0;31m# Do not call functions when jit is used\u001b[0m\u001b[0;34m\u001b[0m\u001b[0;34m\u001b[0m\u001b[0m\n\u001b[1;32m   1503\u001b[0m         \u001b[0mfull_backward_hooks\u001b[0m\u001b[0;34m,\u001b[0m \u001b[0mnon_full_backward_hooks\u001b[0m \u001b[0;34m=\u001b[0m \u001b[0;34m[\u001b[0m\u001b[0;34m]\u001b[0m\u001b[0;34m,\u001b[0m \u001b[0;34m[\u001b[0m\u001b[0;34m]\u001b[0m\u001b[0;34m\u001b[0m\u001b[0;34m\u001b[0m\u001b[0m\n",
            "\u001b[0;32m<ipython-input-48-4e21dd380561>\u001b[0m in \u001b[0;36mforward\u001b[0;34m(self, x)\u001b[0m\n\u001b[1;32m     15\u001b[0m         \u001b[0;32mdef\u001b[0m \u001b[0mforward\u001b[0m\u001b[0;34m(\u001b[0m\u001b[0mself\u001b[0m\u001b[0;34m,\u001b[0m \u001b[0mx\u001b[0m\u001b[0;34m)\u001b[0m\u001b[0;34m:\u001b[0m\u001b[0;34m\u001b[0m\u001b[0;34m\u001b[0m\u001b[0m\n\u001b[1;32m     16\u001b[0m             \u001b[0mx\u001b[0m \u001b[0;34m=\u001b[0m \u001b[0mx\u001b[0m\u001b[0;34m.\u001b[0m\u001b[0mview\u001b[0m\u001b[0;34m(\u001b[0m\u001b[0;34m-\u001b[0m\u001b[0;36m1\u001b[0m\u001b[0;34m,\u001b[0m\u001b[0;36m1\u001b[0m\u001b[0;34m,\u001b[0m\u001b[0;36m28\u001b[0m\u001b[0;34m,\u001b[0m\u001b[0;36m28\u001b[0m\u001b[0;34m)\u001b[0m\u001b[0;34m\u001b[0m\u001b[0;34m\u001b[0m\u001b[0m\n\u001b[0;32m---> 17\u001b[0;31m             \u001b[0mx\u001b[0m \u001b[0;34m=\u001b[0m \u001b[0mF\u001b[0m\u001b[0;34m.\u001b[0m\u001b[0mrelu\u001b[0m\u001b[0;34m(\u001b[0m\u001b[0mF\u001b[0m\u001b[0;34m.\u001b[0m\u001b[0mmax_pool2d\u001b[0m\u001b[0;34m(\u001b[0m\u001b[0mself\u001b[0m\u001b[0;34m.\u001b[0m\u001b[0mconv1\u001b[0m\u001b[0;34m(\u001b[0m\u001b[0mx\u001b[0m\u001b[0;34m)\u001b[0m\u001b[0;34m,\u001b[0m \u001b[0;36m2\u001b[0m\u001b[0;34m)\u001b[0m\u001b[0;34m)\u001b[0m\u001b[0;34m\u001b[0m\u001b[0;34m\u001b[0m\u001b[0m\n\u001b[0m\u001b[1;32m     18\u001b[0m             \u001b[0mx\u001b[0m \u001b[0;34m=\u001b[0m \u001b[0mF\u001b[0m\u001b[0;34m.\u001b[0m\u001b[0mrelu\u001b[0m\u001b[0;34m(\u001b[0m\u001b[0mF\u001b[0m\u001b[0;34m.\u001b[0m\u001b[0mmax_pool2d\u001b[0m\u001b[0;34m(\u001b[0m\u001b[0mself\u001b[0m\u001b[0;34m.\u001b[0m\u001b[0mconv2_drop\u001b[0m\u001b[0;34m(\u001b[0m\u001b[0mself\u001b[0m\u001b[0;34m.\u001b[0m\u001b[0mconv2\u001b[0m\u001b[0;34m(\u001b[0m\u001b[0mx\u001b[0m\u001b[0;34m)\u001b[0m\u001b[0;34m)\u001b[0m\u001b[0;34m,\u001b[0m \u001b[0;36m2\u001b[0m\u001b[0;34m)\u001b[0m\u001b[0;34m)\u001b[0m\u001b[0;34m\u001b[0m\u001b[0;34m\u001b[0m\u001b[0m\n\u001b[1;32m     19\u001b[0m             \u001b[0mx\u001b[0m \u001b[0;34m=\u001b[0m \u001b[0mx\u001b[0m\u001b[0;34m.\u001b[0m\u001b[0mview\u001b[0m\u001b[0;34m(\u001b[0m\u001b[0;34m-\u001b[0m\u001b[0;36m1\u001b[0m\u001b[0;34m,\u001b[0m \u001b[0;36m640\u001b[0m\u001b[0;34m)\u001b[0m\u001b[0;34m\u001b[0m\u001b[0;34m\u001b[0m\u001b[0m\n",
            "\u001b[0;32m/usr/local/lib/python3.9/dist-packages/torch/_jit_internal.py\u001b[0m in \u001b[0;36mfn\u001b[0;34m(*args, **kwargs)\u001b[0m\n\u001b[1;32m    482\u001b[0m             \u001b[0;32mreturn\u001b[0m \u001b[0mif_true\u001b[0m\u001b[0;34m(\u001b[0m\u001b[0;34m*\u001b[0m\u001b[0margs\u001b[0m\u001b[0;34m,\u001b[0m \u001b[0;34m**\u001b[0m\u001b[0mkwargs\u001b[0m\u001b[0;34m)\u001b[0m\u001b[0;34m\u001b[0m\u001b[0;34m\u001b[0m\u001b[0m\n\u001b[1;32m    483\u001b[0m         \u001b[0;32melse\u001b[0m\u001b[0;34m:\u001b[0m\u001b[0;34m\u001b[0m\u001b[0;34m\u001b[0m\u001b[0m\n\u001b[0;32m--> 484\u001b[0;31m             \u001b[0;32mreturn\u001b[0m \u001b[0mif_false\u001b[0m\u001b[0;34m(\u001b[0m\u001b[0;34m*\u001b[0m\u001b[0margs\u001b[0m\u001b[0;34m,\u001b[0m \u001b[0;34m**\u001b[0m\u001b[0mkwargs\u001b[0m\u001b[0;34m)\u001b[0m\u001b[0;34m\u001b[0m\u001b[0;34m\u001b[0m\u001b[0m\n\u001b[0m\u001b[1;32m    485\u001b[0m \u001b[0;34m\u001b[0m\u001b[0m\n\u001b[1;32m    486\u001b[0m     \u001b[0;32mif\u001b[0m \u001b[0mif_true\u001b[0m\u001b[0;34m.\u001b[0m\u001b[0m__doc__\u001b[0m \u001b[0;32mis\u001b[0m \u001b[0;32mNone\u001b[0m \u001b[0;32mand\u001b[0m \u001b[0mif_false\u001b[0m\u001b[0;34m.\u001b[0m\u001b[0m__doc__\u001b[0m \u001b[0;32mis\u001b[0m \u001b[0;32mnot\u001b[0m \u001b[0;32mNone\u001b[0m\u001b[0;34m:\u001b[0m\u001b[0;34m\u001b[0m\u001b[0;34m\u001b[0m\u001b[0m\n",
            "\u001b[0;32m/usr/local/lib/python3.9/dist-packages/torch/nn/functional.py\u001b[0m in \u001b[0;36m_max_pool2d\u001b[0;34m(input, kernel_size, stride, padding, dilation, ceil_mode, return_indices)\u001b[0m\n\u001b[1;32m    780\u001b[0m     \u001b[0;32mif\u001b[0m \u001b[0mstride\u001b[0m \u001b[0;32mis\u001b[0m \u001b[0;32mNone\u001b[0m\u001b[0;34m:\u001b[0m\u001b[0;34m\u001b[0m\u001b[0;34m\u001b[0m\u001b[0m\n\u001b[1;32m    781\u001b[0m         \u001b[0mstride\u001b[0m \u001b[0;34m=\u001b[0m \u001b[0mtorch\u001b[0m\u001b[0;34m.\u001b[0m\u001b[0mjit\u001b[0m\u001b[0;34m.\u001b[0m\u001b[0mannotate\u001b[0m\u001b[0;34m(\u001b[0m\u001b[0mList\u001b[0m\u001b[0;34m[\u001b[0m\u001b[0mint\u001b[0m\u001b[0;34m]\u001b[0m\u001b[0;34m,\u001b[0m \u001b[0;34m[\u001b[0m\u001b[0;34m]\u001b[0m\u001b[0;34m)\u001b[0m\u001b[0;34m\u001b[0m\u001b[0;34m\u001b[0m\u001b[0m\n\u001b[0;32m--> 782\u001b[0;31m     \u001b[0;32mreturn\u001b[0m \u001b[0mtorch\u001b[0m\u001b[0;34m.\u001b[0m\u001b[0mmax_pool2d\u001b[0m\u001b[0;34m(\u001b[0m\u001b[0minput\u001b[0m\u001b[0;34m,\u001b[0m \u001b[0mkernel_size\u001b[0m\u001b[0;34m,\u001b[0m \u001b[0mstride\u001b[0m\u001b[0;34m,\u001b[0m \u001b[0mpadding\u001b[0m\u001b[0;34m,\u001b[0m \u001b[0mdilation\u001b[0m\u001b[0;34m,\u001b[0m \u001b[0mceil_mode\u001b[0m\u001b[0;34m)\u001b[0m\u001b[0;34m\u001b[0m\u001b[0;34m\u001b[0m\u001b[0m\n\u001b[0m\u001b[1;32m    783\u001b[0m \u001b[0;34m\u001b[0m\u001b[0m\n\u001b[1;32m    784\u001b[0m \u001b[0;34m\u001b[0m\u001b[0m\n",
            "\u001b[0;31mKeyboardInterrupt\u001b[0m: "
          ]
        },
        {
          "output_type": "error",
          "ename": "KeyboardInterrupt",
          "evalue": "ignored",
          "traceback": [
            "\u001b[0;31m---------------------------------------------------------------------------\u001b[0m",
            "\u001b[0;31mKeyboardInterrupt\u001b[0m                         Traceback (most recent call last)",
            "\u001b[0;32m<ipython-input-57-7221dae10eff>\u001b[0m in \u001b[0;36m<cell line: 1>\u001b[0;34m()\u001b[0m\n\u001b[0;32m----> 1\u001b[0;31m \u001b[0msemisup_train\u001b[0m\u001b[0;34m(\u001b[0m\u001b[0mnet\u001b[0m\u001b[0;34m,\u001b[0m \u001b[0mtrain_loader\u001b[0m\u001b[0;34m,\u001b[0m \u001b[0munlabeled_loader\u001b[0m\u001b[0;34m,\u001b[0m \u001b[0mtest_loader\u001b[0m\u001b[0;34m)\u001b[0m\u001b[0;34m\u001b[0m\u001b[0;34m\u001b[0m\u001b[0m\n\u001b[0m",
            "\u001b[0;32m<ipython-input-56-e0ab3a72d07f>\u001b[0m in \u001b[0;36msemisup_train\u001b[0;34m(model, train_loader, unlabeled_loader, test_loader)\u001b[0m\n\u001b[1;32m     36\u001b[0m \u001b[0;34m\u001b[0m\u001b[0m\n\u001b[1;32m     37\u001b[0m             \u001b[0;31m# Now calculate the unlabeled loss using the pseudo label\u001b[0m\u001b[0;34m\u001b[0m\u001b[0;34m\u001b[0m\u001b[0m\n\u001b[0;32m---> 38\u001b[0;31m             \u001b[0moutput\u001b[0m \u001b[0;34m=\u001b[0m \u001b[0mmodel\u001b[0m\u001b[0;34m(\u001b[0m\u001b[0mx_unlabeled\u001b[0m\u001b[0;34m)\u001b[0m\u001b[0;34m\u001b[0m\u001b[0;34m\u001b[0m\u001b[0m\n\u001b[0m\u001b[1;32m     39\u001b[0m             \u001b[0munlabeled_loss\u001b[0m \u001b[0;34m=\u001b[0m \u001b[0malpha_weight\u001b[0m\u001b[0;34m(\u001b[0m\u001b[0mstep\u001b[0m\u001b[0;34m)\u001b[0m \u001b[0;34m*\u001b[0m \u001b[0mF\u001b[0m\u001b[0;34m.\u001b[0m\u001b[0mnll_loss\u001b[0m\u001b[0;34m(\u001b[0m\u001b[0moutput\u001b[0m\u001b[0;34m,\u001b[0m \u001b[0mpseudo_labeled\u001b[0m\u001b[0;34m)\u001b[0m\u001b[0;34m\u001b[0m\u001b[0;34m\u001b[0m\u001b[0m\n\u001b[1;32m     40\u001b[0m \u001b[0;34m\u001b[0m\u001b[0m\n",
            "\u001b[0;32m/usr/local/lib/python3.9/dist-packages/torch/nn/modules/module.py\u001b[0m in \u001b[0;36m_call_impl\u001b[0;34m(self, *args, **kwargs)\u001b[0m\n\u001b[1;32m   1499\u001b[0m                 \u001b[0;32mor\u001b[0m \u001b[0m_global_backward_pre_hooks\u001b[0m \u001b[0;32mor\u001b[0m \u001b[0m_global_backward_hooks\u001b[0m\u001b[0;34m\u001b[0m\u001b[0;34m\u001b[0m\u001b[0m\n\u001b[1;32m   1500\u001b[0m                 or _global_forward_hooks or _global_forward_pre_hooks):\n\u001b[0;32m-> 1501\u001b[0;31m             \u001b[0;32mreturn\u001b[0m \u001b[0mforward_call\u001b[0m\u001b[0;34m(\u001b[0m\u001b[0;34m*\u001b[0m\u001b[0margs\u001b[0m\u001b[0;34m,\u001b[0m \u001b[0;34m**\u001b[0m\u001b[0mkwargs\u001b[0m\u001b[0;34m)\u001b[0m\u001b[0;34m\u001b[0m\u001b[0;34m\u001b[0m\u001b[0m\n\u001b[0m\u001b[1;32m   1502\u001b[0m         \u001b[0;31m# Do not call functions when jit is used\u001b[0m\u001b[0;34m\u001b[0m\u001b[0;34m\u001b[0m\u001b[0m\n\u001b[1;32m   1503\u001b[0m         \u001b[0mfull_backward_hooks\u001b[0m\u001b[0;34m,\u001b[0m \u001b[0mnon_full_backward_hooks\u001b[0m \u001b[0;34m=\u001b[0m \u001b[0;34m[\u001b[0m\u001b[0;34m]\u001b[0m\u001b[0;34m,\u001b[0m \u001b[0;34m[\u001b[0m\u001b[0;34m]\u001b[0m\u001b[0;34m\u001b[0m\u001b[0;34m\u001b[0m\u001b[0m\n",
            "\u001b[0;32m<ipython-input-48-4e21dd380561>\u001b[0m in \u001b[0;36mforward\u001b[0;34m(self, x)\u001b[0m\n\u001b[1;32m     15\u001b[0m         \u001b[0;32mdef\u001b[0m \u001b[0mforward\u001b[0m\u001b[0;34m(\u001b[0m\u001b[0mself\u001b[0m\u001b[0;34m,\u001b[0m \u001b[0mx\u001b[0m\u001b[0;34m)\u001b[0m\u001b[0;34m:\u001b[0m\u001b[0;34m\u001b[0m\u001b[0;34m\u001b[0m\u001b[0m\n\u001b[1;32m     16\u001b[0m             \u001b[0mx\u001b[0m \u001b[0;34m=\u001b[0m \u001b[0mx\u001b[0m\u001b[0;34m.\u001b[0m\u001b[0mview\u001b[0m\u001b[0;34m(\u001b[0m\u001b[0;34m-\u001b[0m\u001b[0;36m1\u001b[0m\u001b[0;34m,\u001b[0m\u001b[0;36m1\u001b[0m\u001b[0;34m,\u001b[0m\u001b[0;36m28\u001b[0m\u001b[0;34m,\u001b[0m\u001b[0;36m28\u001b[0m\u001b[0;34m)\u001b[0m\u001b[0;34m\u001b[0m\u001b[0;34m\u001b[0m\u001b[0m\n\u001b[0;32m---> 17\u001b[0;31m             \u001b[0mx\u001b[0m \u001b[0;34m=\u001b[0m \u001b[0mF\u001b[0m\u001b[0;34m.\u001b[0m\u001b[0mrelu\u001b[0m\u001b[0;34m(\u001b[0m\u001b[0mF\u001b[0m\u001b[0;34m.\u001b[0m\u001b[0mmax_pool2d\u001b[0m\u001b[0;34m(\u001b[0m\u001b[0mself\u001b[0m\u001b[0;34m.\u001b[0m\u001b[0mconv1\u001b[0m\u001b[0;34m(\u001b[0m\u001b[0mx\u001b[0m\u001b[0;34m)\u001b[0m\u001b[0;34m,\u001b[0m \u001b[0;36m2\u001b[0m\u001b[0;34m)\u001b[0m\u001b[0;34m)\u001b[0m\u001b[0;34m\u001b[0m\u001b[0;34m\u001b[0m\u001b[0m\n\u001b[0m\u001b[1;32m     18\u001b[0m             \u001b[0mx\u001b[0m \u001b[0;34m=\u001b[0m \u001b[0mF\u001b[0m\u001b[0;34m.\u001b[0m\u001b[0mrelu\u001b[0m\u001b[0;34m(\u001b[0m\u001b[0mF\u001b[0m\u001b[0;34m.\u001b[0m\u001b[0mmax_pool2d\u001b[0m\u001b[0;34m(\u001b[0m\u001b[0mself\u001b[0m\u001b[0;34m.\u001b[0m\u001b[0mconv2_drop\u001b[0m\u001b[0;34m(\u001b[0m\u001b[0mself\u001b[0m\u001b[0;34m.\u001b[0m\u001b[0mconv2\u001b[0m\u001b[0;34m(\u001b[0m\u001b[0mx\u001b[0m\u001b[0;34m)\u001b[0m\u001b[0;34m)\u001b[0m\u001b[0;34m,\u001b[0m \u001b[0;36m2\u001b[0m\u001b[0;34m)\u001b[0m\u001b[0;34m)\u001b[0m\u001b[0;34m\u001b[0m\u001b[0;34m\u001b[0m\u001b[0m\n\u001b[1;32m     19\u001b[0m             \u001b[0mx\u001b[0m \u001b[0;34m=\u001b[0m \u001b[0mx\u001b[0m\u001b[0;34m.\u001b[0m\u001b[0mview\u001b[0m\u001b[0;34m(\u001b[0m\u001b[0;34m-\u001b[0m\u001b[0;36m1\u001b[0m\u001b[0;34m,\u001b[0m \u001b[0;36m640\u001b[0m\u001b[0;34m)\u001b[0m\u001b[0;34m\u001b[0m\u001b[0;34m\u001b[0m\u001b[0m\n",
            "\u001b[0;32m/usr/local/lib/python3.9/dist-packages/torch/_jit_internal.py\u001b[0m in \u001b[0;36mfn\u001b[0;34m(*args, **kwargs)\u001b[0m\n\u001b[1;32m    482\u001b[0m             \u001b[0;32mreturn\u001b[0m \u001b[0mif_true\u001b[0m\u001b[0;34m(\u001b[0m\u001b[0;34m*\u001b[0m\u001b[0margs\u001b[0m\u001b[0;34m,\u001b[0m \u001b[0;34m**\u001b[0m\u001b[0mkwargs\u001b[0m\u001b[0;34m)\u001b[0m\u001b[0;34m\u001b[0m\u001b[0;34m\u001b[0m\u001b[0m\n\u001b[1;32m    483\u001b[0m         \u001b[0;32melse\u001b[0m\u001b[0;34m:\u001b[0m\u001b[0;34m\u001b[0m\u001b[0;34m\u001b[0m\u001b[0m\n\u001b[0;32m--> 484\u001b[0;31m             \u001b[0;32mreturn\u001b[0m \u001b[0mif_false\u001b[0m\u001b[0;34m(\u001b[0m\u001b[0;34m*\u001b[0m\u001b[0margs\u001b[0m\u001b[0;34m,\u001b[0m \u001b[0;34m**\u001b[0m\u001b[0mkwargs\u001b[0m\u001b[0;34m)\u001b[0m\u001b[0;34m\u001b[0m\u001b[0;34m\u001b[0m\u001b[0m\n\u001b[0m\u001b[1;32m    485\u001b[0m \u001b[0;34m\u001b[0m\u001b[0m\n\u001b[1;32m    486\u001b[0m     \u001b[0;32mif\u001b[0m \u001b[0mif_true\u001b[0m\u001b[0;34m.\u001b[0m\u001b[0m__doc__\u001b[0m \u001b[0;32mis\u001b[0m \u001b[0;32mNone\u001b[0m \u001b[0;32mand\u001b[0m \u001b[0mif_false\u001b[0m\u001b[0;34m.\u001b[0m\u001b[0m__doc__\u001b[0m \u001b[0;32mis\u001b[0m \u001b[0;32mnot\u001b[0m \u001b[0;32mNone\u001b[0m\u001b[0;34m:\u001b[0m\u001b[0;34m\u001b[0m\u001b[0;34m\u001b[0m\u001b[0m\n",
            "\u001b[0;32m/usr/local/lib/python3.9/dist-packages/torch/nn/functional.py\u001b[0m in \u001b[0;36m_max_pool2d\u001b[0;34m(input, kernel_size, stride, padding, dilation, ceil_mode, return_indices)\u001b[0m\n\u001b[1;32m    780\u001b[0m     \u001b[0;32mif\u001b[0m \u001b[0mstride\u001b[0m \u001b[0;32mis\u001b[0m \u001b[0;32mNone\u001b[0m\u001b[0;34m:\u001b[0m\u001b[0;34m\u001b[0m\u001b[0;34m\u001b[0m\u001b[0m\n\u001b[1;32m    781\u001b[0m         \u001b[0mstride\u001b[0m \u001b[0;34m=\u001b[0m \u001b[0mtorch\u001b[0m\u001b[0;34m.\u001b[0m\u001b[0mjit\u001b[0m\u001b[0;34m.\u001b[0m\u001b[0mannotate\u001b[0m\u001b[0;34m(\u001b[0m\u001b[0mList\u001b[0m\u001b[0;34m[\u001b[0m\u001b[0mint\u001b[0m\u001b[0;34m]\u001b[0m\u001b[0;34m,\u001b[0m \u001b[0;34m[\u001b[0m\u001b[0;34m]\u001b[0m\u001b[0;34m)\u001b[0m\u001b[0;34m\u001b[0m\u001b[0;34m\u001b[0m\u001b[0m\n\u001b[0;32m--> 782\u001b[0;31m     \u001b[0;32mreturn\u001b[0m \u001b[0mtorch\u001b[0m\u001b[0;34m.\u001b[0m\u001b[0mmax_pool2d\u001b[0m\u001b[0;34m(\u001b[0m\u001b[0minput\u001b[0m\u001b[0;34m,\u001b[0m \u001b[0mkernel_size\u001b[0m\u001b[0;34m,\u001b[0m \u001b[0mstride\u001b[0m\u001b[0;34m,\u001b[0m \u001b[0mpadding\u001b[0m\u001b[0;34m,\u001b[0m \u001b[0mdilation\u001b[0m\u001b[0;34m,\u001b[0m \u001b[0mceil_mode\u001b[0m\u001b[0;34m)\u001b[0m\u001b[0;34m\u001b[0m\u001b[0;34m\u001b[0m\u001b[0m\n\u001b[0m\u001b[1;32m    783\u001b[0m \u001b[0;34m\u001b[0m\u001b[0m\n\u001b[1;32m    784\u001b[0m \u001b[0;34m\u001b[0m\u001b[0m\n",
            "\u001b[0;31mKeyboardInterrupt\u001b[0m: "
          ]
        }
      ]
    },
    {
      "cell_type": "code",
      "source": [
        "test_acc, test_loss = evaluate(net, test_loader)\n",
        "print('Test Acc : {:.5f} | Test Loss : {:.3f} '.format(test_acc, test_loss))"
      ],
      "metadata": {
        "colab": {
          "base_uri": "https://localhost:8080/"
        },
        "id": "CNYa1PaiHVd-",
        "outputId": "5006306a-437d-4c87-aa07-4fe0b701cdb4"
      },
      "execution_count": null,
      "outputs": [
        {
          "output_type": "stream",
          "name": "stdout",
          "text": [
            "Test Acc : 97.34000 | Test Loss : 0.120 \n"
          ]
        }
      ]
    },
    {
      "cell_type": "code",
      "source": [],
      "metadata": {
        "id": "8dQjVa3WHVg4"
      },
      "execution_count": null,
      "outputs": []
    },
    {
      "cell_type": "code",
      "source": [],
      "metadata": {
        "id": "eJJZTXc1HVjN"
      },
      "execution_count": null,
      "outputs": []
    },
    {
      "cell_type": "code",
      "source": [
        "\n",
        "# Based on https://github.com/peimengsui/semi_supervised_mnist\n",
        "from tqdm import tqdm_notebook\n",
        "\n",
        "T1 = 100\n",
        "T2 = 700\n",
        "af = 3\n",
        "\n",
        "def alpha_weight(step):\n",
        "    if step < T1:\n",
        "        return 0.0\n",
        "    elif step > T2:\n",
        "        return af\n",
        "    else:\n",
        "         return ((step-T1) / (T2-T1))*af\n",
        "        \n",
        "\n",
        "def semisup_train(model, train_loader, unlabeled_loader, test_loader):\n",
        "\n",
        "  optimizer = torch.optim.SGD(model.parameters(), lr = 0.1)\n",
        "  EPOCHS = 100\n",
        "  \n",
        "  # Instead of using current epoch we use a \"step\" variable to calculate alpha_weight\n",
        "  # This helps the model converge faster\n",
        "  step = 100 \n",
        "  \n",
        "  model.train()\n",
        "  for epoch in tqdm_notebook(range(EPOCHS)):\n",
        "\n",
        "    for batch_idx, x_unlabeled in enumerate(unlabeled_loader): \n",
        "        \n",
        "      # Forward Pass to get the pseudo labels\n",
        "      x_unlabeled = x_unlabeled.cuda()\n",
        "      model.eval()\n",
        "      output_unlabeled = model(x_unlabeled)\n",
        "      _, pseudo_labeled = torch.max(output_unlabeled, 1)\n",
        "      model.train()          \n",
        "      \n",
        "      # Now calculate the unlabeled loss using the pseudo label\n",
        "      output = model(x_unlabeled)\n",
        "      unlabeled_loss = alpha_weight(step) * F.nll_loss(output, pseudo_labeled)   \n",
        "      \n",
        "      # Backpropogate\n",
        "      optimizer.zero_grad()\n",
        "      unlabeled_loss.backward()\n",
        "      optimizer.step()\n",
        "      \n",
        "      \n",
        "      # For every 50 batches train one epoch on labeled data \n",
        "      if batch_idx % 50 == 0: \n",
        "        # Normal training procedure\n",
        "        for batch_idx, (X_batch, y_batch) in enumerate(train_loader):\n",
        "\n",
        "          X_batch = X_batch.cuda()\n",
        "          y_batch = y_batch.cuda()\n",
        "          output = model(X_batch)\n",
        "          labeled_loss = F.nll_loss(output, y_batch)\n",
        "\n",
        "          optimizer.zero_grad()\n",
        "          labeled_loss.backward()\n",
        "          optimizer.step()\n",
        "        \n",
        "        # Now we increment step by 1\n",
        "        step += 1\n"
      ],
      "metadata": {
        "id": "2ymy-uN49iJK"
      },
      "execution_count": null,
      "outputs": []
    },
    {
      "cell_type": "code",
      "source": [],
      "metadata": {
        "id": "DjPnFn1v-X5K"
      },
      "execution_count": null,
      "outputs": []
    },
    {
      "cell_type": "code",
      "source": [],
      "metadata": {
        "id": "-N88Fdfe9iME"
      },
      "execution_count": null,
      "outputs": []
    },
    {
      "cell_type": "code",
      "source": [],
      "metadata": {
        "id": "W5BYYnFa9iPV"
      },
      "execution_count": null,
      "outputs": []
    },
    {
      "cell_type": "code",
      "source": [
        "\"\"\"Lee mentions a pre-training phase by using DAE to clean noisy data\"\"\"\n",
        "\n",
        "autoencoder = tf.keras.models.Sequential()\n",
        "#autoencoder.add(tf.keras.layers.Flatten())\n",
        "\n",
        "autoencoder.add(tf.keras.layers.Dense(10 , activation = 'relu', input_shape = (784,)))\n",
        "\n",
        "#add 2 conv layers with 20 and 40 nodes each\n",
        "autoencoder.add(tf.keras.layers.Dense(5000, activation = \"relu\",\\\n",
        "                                      activity_regularizer=tf.keras.regularizers.L1(0.0001)))\n",
        "\n",
        "#autoencoder.add(tf.keras.layers.Dropout(0.50))\n",
        "autoencoder.add(tf.keras.layers.BatchNormalization())\n",
        "#output layer\n",
        "autoencoder.add(tf.keras.layers.Dense(784, activation = \"relu\"))\n",
        "\n",
        "#dropout layer Lee drops 50% of the layer's nodes\n",
        "\n",
        "\n",
        "#tf.keras.optimizers.SGD(learning_rate=0.01,momentum=0.0)/ categorical_crossentropy\n",
        "autoencoder.compile(optimizer = \"adam\",\\\n",
        "              loss= 'mse', metrics =[\"accuracy\"])#, \"loss\"])\n",
        "\n",
        "\n",
        "\n",
        "\n",
        "\n",
        "\n",
        "call_b = autoencoder.fit(X_train_noisy, x_train, epochs= 3, batch_size=32, verbose=1, validation_data=(X_test_noisy, x_test))\n",
        "\n",
        "#autoencoder.summary()\n",
        "\n",
        "encoder = tf.keras.models.Sequential()\n",
        "encoder.add(autoencoder.layers[0])\n",
        "\n",
        "#encodings = encoder.predict(x_test[:3])"
      ],
      "metadata": {
        "colab": {
          "base_uri": "https://localhost:8080/"
        },
        "id": "_9wQqjQyMyNc",
        "outputId": "e73fd829-8ff1-417d-9222-fe2be493baa2"
      },
      "execution_count": null,
      "outputs": [
        {
          "output_type": "stream",
          "name": "stdout",
          "text": [
            "Epoch 1/3\n",
            "1875/1875 [==============================] - 120s 64ms/step - loss: 0.0018 - accuracy: 8.3333e-05 - val_loss: 0.0013 - val_accuracy: 0.0000e+00\n",
            "Epoch 2/3\n",
            "1875/1875 [==============================] - 119s 63ms/step - loss: 0.0013 - accuracy: 0.0000e+00 - val_loss: 0.0013 - val_accuracy: 0.0000e+00\n",
            "Epoch 3/3\n",
            "1875/1875 [==============================] - 122s 65ms/step - loss: 0.0013 - accuracy: 0.0000e+00 - val_loss: 0.0013 - val_accuracy: 0.0000e+00\n"
          ]
        }
      ]
    },
    {
      "cell_type": "code",
      "source": [
        "\n",
        "encodings = encoder.predict(X_test_noisy[:3])\n",
        "#X_test_denoised = model.predict(X_test_noisy)"
      ],
      "metadata": {
        "colab": {
          "base_uri": "https://localhost:8080/"
        },
        "id": "uOh9YIIDpZ3k",
        "outputId": "39d6eba9-3c8c-450b-9f02-7c2bbdcea2aa"
      },
      "execution_count": null,
      "outputs": [
        {
          "output_type": "stream",
          "name": "stdout",
          "text": [
            "1/1 [==============================] - 0s 23ms/step\n"
          ]
        }
      ]
    },
    {
      "cell_type": "code",
      "source": [],
      "metadata": {
        "id": "7f303WxOgjI3"
      },
      "execution_count": null,
      "outputs": []
    },
    {
      "cell_type": "code",
      "source": [],
      "metadata": {
        "id": "IFCyrs5gfyAo"
      },
      "execution_count": null,
      "outputs": []
    },
    {
      "cell_type": "code",
      "source": [
        "encodings[np.where(encodings[0].all()> 0 or encodings[0].all() <1)][0]"
      ],
      "metadata": {
        "id": "WYNaSFvpPj1f",
        "outputId": "45672334-7cbf-40f3-ce32-442c30127bd5",
        "colab": {
          "base_uri": "https://localhost:8080/"
        }
      },
      "execution_count": null,
      "outputs": [
        {
          "output_type": "execute_result",
          "data": {
            "text/plain": [
              "array([0.04385457, 0.        , 0.02807328, ..., 0.00175678, 0.06558236,\n",
              "       0.        ], dtype=float32)"
            ]
          },
          "metadata": {},
          "execution_count": 53
        }
      ]
    },
    {
      "cell_type": "code",
      "source": [
        "#defining the alpha function as defined by Lee\n",
        "\n",
        "T1 = 100 #number of epochs\n",
        "T2 = 600 #number of epochs after T1\n",
        "af = 3\n",
        "def alpha_weight(step):\n",
        "  if step < T1: return 0.0\n",
        "  elif step > T2: return af\n",
        "  else: return ((step-T1) / (T2-T1))*af\n",
        "\n",
        "  "
      ],
      "metadata": {
        "id": "Ep3iw7HvO3iv"
      },
      "execution_count": null,
      "outputs": []
    },
    {
      "cell_type": "code",
      "source": [
        "t = np.arange(0,900, 100)\n",
        "alpha = np.array([alpha_weight(i) for i in t])"
      ],
      "metadata": {
        "id": "8y0OCret6RFp"
      },
      "execution_count": null,
      "outputs": []
    },
    {
      "cell_type": "code",
      "source": [],
      "metadata": {
        "id": "YqO0zx_m7NZg"
      },
      "execution_count": null,
      "outputs": []
    },
    {
      "cell_type": "code",
      "source": [
        "plt.plot(t, alpha)\n",
        "plt.show()"
      ],
      "metadata": {
        "colab": {
          "base_uri": "https://localhost:8080/",
          "height": 430
        },
        "id": "qTcaYF0x7Cx2",
        "outputId": "34596b89-207a-4c79-d76c-20f96ceee2e5"
      },
      "execution_count": null,
      "outputs": [
        {
          "output_type": "display_data",
          "data": {
            "text/plain": [
              "<Figure size 640x480 with 1 Axes>"
            ],
            "image/png": "[encoded data removed]"
          },
          "metadata": {}
        }
      ]
    },
    {
      "cell_type": "code",
      "source": [
        "# create sequential\n",
        "model = tf.keras.models.Sequential()\n",
        "model.add(tf.keras.layers.Flatten())\n",
        "\n",
        "#add 2 conv layers with 20 and 40 nodes each\n",
        "model.add(tf.keras.layers.Dense(5000, activation = \"relu\"))\n",
        "\n",
        "#output layer\n",
        "model.add(tf.keras.layers.Dense(10, activation = \"sigmoid\"))\n",
        "\n",
        "#dropout layer Lee drops 50% of the layer's nodes\n",
        "model.add(tf.keras.layers.Dropout(0.50))\n",
        "\n",
        "model.compile(optimizer = tf.keras.optimizers.SGD(learning_rate=0.01,momentum=0.0),\\\n",
        "              loss= 'categorical_crossentropy', metrics =[\"accuracy\", tf.keras.metrics.CategoricalCrossentropy()])\n",
        "\n",
        "\n"
      ],
      "metadata": {
        "id": "ZG-UnrmrD-vy"
      },
      "execution_count": null,
      "outputs": []
    },
    {
      "cell_type": "code",
      "source": [
        "#most common feedforward model for deep learning\n",
        "\n",
        "\n",
        "model = tf.keras.models.Sequential()\n",
        "\n",
        "#Images are 28X28 (matrix) but we want a flat array so we us Flatten(), can also used np.reshape\n",
        "model.add(tf.keras.layers.Flatten())\n",
        "\n",
        "#activation _> what will fire the neuron?\n",
        "model.add(tf.keras.layers.Dense(128, activation = tf.nn.relu))\n",
        "model.add(tf.keras.layers.Dense(128, activation = tf.nn.relu))\n",
        "\n",
        "#softmax is used because of a proability distribution problem\n",
        "\n",
        "\"\"\"The softmax function is a function that turns a vector of K real values into a vector of K real values that sum to 1.\n",
        " The input values can be positive, negative, zero, or greater than one, but the softmax transforms them into \n",
        " values between 0 and 1,so that they can be interpreted as probabilities.\"\"\"\n",
        "model.add(tf.keras.layers.Dense(10, activation = tf.nn.softmax)) #always has the number of classifications for the last layer, in this case 10 labels\n",
        "\n",
        "model.compile(optimizer = \"adam\", loss= 'sparse_categorical_crossentropy', metrics =[\"accuracy\"])\n",
        "\n",
        "\n",
        "model.fit(x_train, y_train, epochs = 3)\n",
        "\n"
      ],
      "metadata": {
        "colab": {
          "base_uri": "https://localhost:8080/"
        },
        "id": "QXeCI60n7GY-",
        "outputId": "8fee2ab0-4913-4b37-9e41-e17499a3115e"
      },
      "execution_count": null,
      "outputs": [
        {
          "output_type": "stream",
          "name": "stdout",
          "text": [
            "Epoch 1/3\n",
            "1875/1875 [==============================] - 13s 6ms/step - loss: 0.2646 - accuracy: 0.9221\n",
            "Epoch 2/3\n",
            "1875/1875 [==============================] - 11s 6ms/step - loss: 0.1078 - accuracy: 0.9668\n",
            "Epoch 3/3\n",
            "1875/1875 [==============================] - 12s 6ms/step - loss: 0.0717 - accuracy: 0.9784\n"
          ]
        },
        {
          "output_type": "execute_result",
          "data": {
            "text/plain": [
              "<keras.callbacks.History at 0x7f5186dddaf0>"
            ]
          },
          "metadata": {},
          "execution_count": 8
        }
      ]
    },
    {
      "cell_type": "code",
      "source": [
        "#hoping that the model generalizes and actually learn to identify the numbers\n",
        "val_loss, val_acc = model.evaluate(x_test, y_test)\n",
        "print(val_loss, val_acc)"
      ],
      "metadata": {
        "colab": {
          "base_uri": "https://localhost:8080/"
        },
        "id": "rt6oU4yT_tg8",
        "outputId": "cd81ed84-7ca3-4995-80a8-91124421fa57"
      },
      "execution_count": null,
      "outputs": [
        {
          "output_type": "stream",
          "name": "stdout",
          "text": [
            "313/313 [==============================] - 1s 3ms/step - loss: 0.0878 - accuracy: 0.9730\n",
            "0.08783037960529327 0.9729999899864197\n"
          ]
        }
      ]
    },
    {
      "cell_type": "code",
      "source": [
        "predictions = model.predict(x_test)"
      ],
      "metadata": {
        "colab": {
          "base_uri": "https://localhost:8080/"
        },
        "id": "b6JxLd_A_uAc",
        "outputId": "a6374d59-e121-4dc6-e6e6-95aaa6001c7f"
      },
      "execution_count": null,
      "outputs": [
        {
          "output_type": "stream",
          "name": "stdout",
          "text": [
            "313/313 [==============================] - 1s 3ms/step\n"
          ]
        }
      ]
    },
    {
      "cell_type": "code",
      "source": [
        "import numpy as np\n",
        "np.argmax(predictions[0])"
      ],
      "metadata": {
        "colab": {
          "base_uri": "https://localhost:8080/"
        },
        "id": "TxoSQ4wqBA9B",
        "outputId": "4bbe6c5b-c783-423c-9a83-429c2ae2be99"
      },
      "execution_count": null,
      "outputs": [
        {
          "output_type": "execute_result",
          "data": {
            "text/plain": [
              "7"
            ]
          },
          "metadata": {},
          "execution_count": 13
        }
      ]
    },
    {
      "cell_type": "code",
      "source": [],
      "metadata": {
        "id": "dtYv5DkYBMi_"
      },
      "execution_count": null,
      "outputs": []
    }
  ]
}